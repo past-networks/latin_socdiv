{
 "cells": [
  {
   "cell_type": "markdown",
   "metadata": {},
   "source": [
    "# Step 6: Temporal simulation of the occupational data\n",
    "\n",
    "*AIM:* Explores the temporal dimension and runs temporal simulation of the occupational data.\n",
    "\n",
    "References:\n",
    "\n",
    "1) `Monte Carlo methods: Crema ER. Modelling Temporal Uncertainty in Archaeological Analysis. J Archaeol Method Theory. 2012;19: 440–461.`\n",
    "\n",
    "2) `Kaše V. tempun. Zenodo; 2021.`\n",
    "\n",
    "3) `Kaše, V., Sobotková, A., Heřmánková, P. (2023). Modeling Temporal Uncertainty in Historical Datasets. Proceedings of the Conference on Computational Humanities Research 2023. CEUR xxx, xx-xx`\n",
    "\n",
    "4) `Waltzing JP. Étude historique sur les corporations professionnelles chez les Romains depuis les origines jusqu’à la chute de l’Empire d’Occident. Louvain: C. Peeters; 1895.`\n",
    "\n",
    "5) `Petrikovits H v. Die Spezialisierung des römischen Handwerks. Handw Vor- Frühgesch Zeit 1 Hist Rechtshistorische Beitr Untersuchungen Zur Frühgesch Gilde Ber Über Kolloquien Komm Für Altertumskunde Mittel- Nordeur Den Jahren 1977 Bis 1980. 1981; 63–132.`\n",
    "\n",
    "6) `Harris EM. Workshop, Marketplace and Household: The Nature of Technical Specialization in Classical Athens and its Influence on Economy and Society. In: Carledge P, Cohen EE, Foxhall L, editors. Money, Labour and Land: Approaches to the Economy of Ancient Greece. London—New York: Routledge; 2001. pp. 67–99.`\n",
    "\n",
    "to do:\n",
    "\n",
    "go through, comment, run\n"
   ]
  },
  {
   "cell_type": "markdown",
   "metadata": {},
   "source": [
    "This script was originally published by `Kaše V, Heřmánková P, Sobotková A (2022) Division of labor, specialization and diversity in the ancient Roman cities: A quantitative approach to Latin epigraphy. PLoS ONE 17(6): e0269869. https://doi.org/10.1371/journal.pone.0269869` under a CC BY-SA 4.0 International License. \n",
    "\n",
    "https://github.com/sdam-au/social_diversity\n",
    "\n",
    "The *Past Social Networks Project* adapted the script to fit the needs of the project research agenda."
   ]
  },
  {
   "cell_type": "markdown",
   "metadata": {},
   "source": [
    "## Data:\n",
    "\n",
    "### IN:\n",
    "\n",
    "1) Inscriptions with occupational data `LIST_occupsorgs_industry.parquet` \n",
    "\n",
    "CONTINUE\n",
    "\n",
    "\n",
    "\n",
    "### OUT: \n",
    "\n",
    "1) Inscriptions with occupational data and random dates `LIST_occupsorgs_temporal.parquet`"
   ]
  },
  {
   "cell_type": "markdown",
   "metadata": {},
   "source": [
    "# Requirements"
   ]
  },
  {
   "cell_type": "code",
   "execution_count": 1,
   "metadata": {},
   "outputs": [
    {
     "name": "stderr",
     "output_type": "stream",
     "text": [
      "<frozen importlib._bootstrap>:219: RuntimeWarning: scipy._lib.messagestream.MessageStream size changed, may indicate binary incompatibility. Expected 56 from C header, got 64 from PyObject\n"
     ]
    }
   ],
   "source": [
    "import pandas as pd\n",
    "import numpy as np\n",
    "import requests\n",
    "import re\n",
    "import json\n",
    "import random\n",
    "import scipy\n",
    "import nltk\n",
    "\n",
    "import geopandas as gpd\n",
    "\n",
    "import matplotlib as mpl\n",
    "import matplotlib.pyplot as plt\n",
    "import matplotlib.colors as mcolors\n",
    "import matplotlib.lines as mlines\n",
    "from matplotlib.patches import Patch\n",
    "import matplotlib.gridspec as gridspec\n",
    "#import proplot as plot\n",
    "from nltk import ngrams\n",
    "from sklearn.feature_extraction.text import CountVectorizer\n",
    "#from gensim import corpora\n",
    "import seaborn as sns\n",
    "#import geoplot as gplt\n",
    "import warnings\n",
    "warnings.filterwarnings('ignore')\n",
    "\n",
    "import sddk\n",
    "import tempun"
   ]
  },
  {
   "cell_type": "code",
   "execution_count": 2,
   "metadata": {},
   "outputs": [
    {
     "name": "stdout",
     "output_type": "stream",
     "text": [
      "Your ScienceData username (e.g. '123456@au.dk'): 648560@au.dk\n",
      "Your ScienceData password: ········\n",
      "connection with shared folder established with you as its owner\n",
      "endpoint variable has been configured to: https://sciencedata.dk/files/./\n"
     ]
    }
   ],
   "source": [
    "# to access gsheet, you need Google Service Account key json file\n",
    "# I have mine located in my personal space on sciencedata.dk, so I read it from there:\n",
    "# but you can have yours stored locally on your computer and read it in directly\n",
    "s = sddk.cloudSession(\"sciencedata.dk\", \".\", \"648560@au.dk\")\n",
    "figpath = \"./PSNP_shared/lat_socdiv/\""
   ]
  },
  {
   "cell_type": "code",
   "execution_count": 3,
   "metadata": {},
   "outputs": [],
   "source": [
    "# global parameters for plots\n",
    "plt.style.use(\"seaborn-white\")\n",
    "#plt.style.use(\"seaborn-v0_8-white\")\n",
    "plt.rcParams['figure.dpi'] = 300\n",
    "plt.rcParams[\"font.family\"] = \"sans-serif\"\n",
    "plt.rcParams['font.size'] = 8\n",
    "\n",
    "def save_figure(fig, fig_name):\n",
    "    #each figure to be saved in four different versions\n",
    "    fig.savefig(\"../figures/\" + fig_name + \".tiff\")\n",
    "    fig.savefig(\"../figures/\" + fig_name + \".svg\")\n",
    "    fig.savefig(\"../figures/\" + fig_name + \".png\")\n",
    "    s.write_file(figpath + fig_name + \".eps\", fig)\n",
    "    s.write_file(figpath + fig_name + \".png\", fig)"
   ]
  },
  {
   "cell_type": "markdown",
   "metadata": {},
   "source": [
    "## Import the dataset"
   ]
  },
  {
   "cell_type": "code",
   "execution_count": 4,
   "metadata": {},
   "outputs": [
    {
     "data": {
      "text/html": [
       "<div>\n",
       "<style scoped>\n",
       "    .dataframe tbody tr th:only-of-type {\n",
       "        vertical-align: middle;\n",
       "    }\n",
       "\n",
       "    .dataframe tbody tr th {\n",
       "        vertical-align: top;\n",
       "    }\n",
       "\n",
       "    .dataframe thead th {\n",
       "        text-align: right;\n",
       "    }\n",
       "</style>\n",
       "<table border=\"1\" class=\"dataframe\">\n",
       "  <thead>\n",
       "    <tr style=\"text-align: right;\">\n",
       "      <th></th>\n",
       "      <th>LIST-ID</th>\n",
       "      <th>EDCS-ID</th>\n",
       "      <th>EDH-ID</th>\n",
       "      <th>trismegistos_uri</th>\n",
       "      <th>pleiades_id</th>\n",
       "      <th>transcription</th>\n",
       "      <th>inscription</th>\n",
       "      <th>clean_text_conservative</th>\n",
       "      <th>clean_text_interpretive_sentence</th>\n",
       "      <th>clean_text_interpretive_word</th>\n",
       "      <th>...</th>\n",
       "      <th>large_city_geo</th>\n",
       "      <th>large_city_dist</th>\n",
       "      <th>medium_city_ID</th>\n",
       "      <th>medium_city_geo</th>\n",
       "      <th>medium_city_dist</th>\n",
       "      <th>small_city_ID</th>\n",
       "      <th>small_city_geo</th>\n",
       "      <th>small_city_dist</th>\n",
       "      <th>urban_context_alt</th>\n",
       "      <th>occups_cats</th>\n",
       "    </tr>\n",
       "  </thead>\n",
       "  <tbody>\n",
       "    <tr>\n",
       "      <th>0</th>\n",
       "      <td>445464</td>\n",
       "      <td>EDCS-24900077</td>\n",
       "      <td>HD056163</td>\n",
       "      <td>https://www.trismegistos.org/text/177366</td>\n",
       "      <td>570485</td>\n",
       "      <td>Q(uinto) Caecilio C(ai) f(ilio) Metelo / imper...</td>\n",
       "      <td>Q(uinto) Caecilio C(ai) f(ilio) Metel(l)o / im...</td>\n",
       "      <td>Q Caecilio C f Metelo imperatori Italici quei ...</td>\n",
       "      <td>Quinto Caecilio Cai filio Metelo imperatori It...</td>\n",
       "      <td>Quinto Caecilio Cai filio Metelo imperatori It...</td>\n",
       "      <td>...</td>\n",
       "      <td>[22.719769, 37.631278]</td>\n",
       "      <td>10912.81</td>\n",
       "      <td>85</td>\n",
       "      <td>[22.641069, 37.831664]</td>\n",
       "      <td>26806.86</td>\n",
       "      <td>36</td>\n",
       "      <td>[23.132244, 37.626573]</td>\n",
       "      <td>25817.21</td>\n",
       "      <td>rural</td>\n",
       "      <td>[]</td>\n",
       "    </tr>\n",
       "    <tr>\n",
       "      <th>1</th>\n",
       "      <td>445465</td>\n",
       "      <td>EDCS-03700724</td>\n",
       "      <td>HD052964</td>\n",
       "      <td>https://www.trismegistos.org/text/121715</td>\n",
       "      <td>531064</td>\n",
       "      <td>Fortissimo et piis/simo Caesari d(omino) n(ost...</td>\n",
       "      <td>Fortissimo et Piis/simo Caesari d(omino) n(ost...</td>\n",
       "      <td>Fortissimo et piissimo Caesari d n Gal Val P F...</td>\n",
       "      <td>Fortissimo et piissimo Caesari domino nostro G...</td>\n",
       "      <td>Fortissimo et piissimo Caesari domino nostro G...</td>\n",
       "      <td>...</td>\n",
       "      <td>[20.733395, 39.026505]</td>\n",
       "      <td>47237.78</td>\n",
       "      <td>7</td>\n",
       "      <td>[20.987, 39.158]</td>\n",
       "      <td>37687.28</td>\n",
       "      <td>31</td>\n",
       "      <td>[20.787767, 39.546432]</td>\n",
       "      <td>10725.84</td>\n",
       "      <td>rural</td>\n",
       "      <td>[]</td>\n",
       "    </tr>\n",
       "    <tr>\n",
       "      <th>2</th>\n",
       "      <td>445466</td>\n",
       "      <td>EDCS-13800065</td>\n",
       "      <td>HD017714</td>\n",
       "      <td>https://www.trismegistos.org/text/177100</td>\n",
       "      <td>570049</td>\n",
       "      <td>Italicei / quei Aegei negotiantur / P(ublium) ...</td>\n",
       "      <td>Italicei / quei Aegei negotiantur / P(ublium) ...</td>\n",
       "      <td>Italicei quei Aegei negotiantur P Rutilium P f...</td>\n",
       "      <td>Italicei quei Aegei negotiantur Publium Rutili...</td>\n",
       "      <td>Italicei quei Aegei negotiantur Publium Rutili...</td>\n",
       "      <td>...</td>\n",
       "      <td>[22.726044, 37.9799]</td>\n",
       "      <td>63682.52</td>\n",
       "      <td>24</td>\n",
       "      <td>[22.044647, 37.885611]</td>\n",
       "      <td>40453.51</td>\n",
       "      <td>6</td>\n",
       "      <td>[22.081952, 38.252707]</td>\n",
       "      <td>497.57</td>\n",
       "      <td>small</td>\n",
       "      <td>[]</td>\n",
       "    </tr>\n",
       "  </tbody>\n",
       "</table>\n",
       "<p>3 rows × 81 columns</p>\n",
       "</div>"
      ],
      "text/plain": [
       "   LIST-ID        EDCS-ID    EDH-ID                          trismegistos_uri  \\\n",
       "0   445464  EDCS-24900077  HD056163  https://www.trismegistos.org/text/177366   \n",
       "1   445465  EDCS-03700724  HD052964  https://www.trismegistos.org/text/121715   \n",
       "2   445466  EDCS-13800065  HD017714  https://www.trismegistos.org/text/177100   \n",
       "\n",
       "  pleiades_id                                      transcription  \\\n",
       "0      570485  Q(uinto) Caecilio C(ai) f(ilio) Metelo / imper...   \n",
       "1      531064  Fortissimo et piis/simo Caesari d(omino) n(ost...   \n",
       "2      570049  Italicei / quei Aegei negotiantur / P(ublium) ...   \n",
       "\n",
       "                                         inscription  \\\n",
       "0  Q(uinto) Caecilio C(ai) f(ilio) Metel(l)o / im...   \n",
       "1  Fortissimo et Piis/simo Caesari d(omino) n(ost...   \n",
       "2  Italicei / quei Aegei negotiantur / P(ublium) ...   \n",
       "\n",
       "                             clean_text_conservative  \\\n",
       "0  Q Caecilio C f Metelo imperatori Italici quei ...   \n",
       "1  Fortissimo et piissimo Caesari d n Gal Val P F...   \n",
       "2  Italicei quei Aegei negotiantur P Rutilium P f...   \n",
       "\n",
       "                    clean_text_interpretive_sentence  \\\n",
       "0  Quinto Caecilio Cai filio Metelo imperatori It...   \n",
       "1  Fortissimo et piissimo Caesari domino nostro G...   \n",
       "2  Italicei quei Aegei negotiantur Publium Rutili...   \n",
       "\n",
       "                        clean_text_interpretive_word  ...  \\\n",
       "0  Quinto Caecilio Cai filio Metelo imperatori It...  ...   \n",
       "1  Fortissimo et piissimo Caesari domino nostro G...  ...   \n",
       "2  Italicei quei Aegei negotiantur Publium Rutili...  ...   \n",
       "\n",
       "           large_city_geo large_city_dist medium_city_ID  \\\n",
       "0  [22.719769, 37.631278]        10912.81             85   \n",
       "1  [20.733395, 39.026505]        47237.78              7   \n",
       "2    [22.726044, 37.9799]        63682.52             24   \n",
       "\n",
       "          medium_city_geo medium_city_dist small_city_ID  \\\n",
       "0  [22.641069, 37.831664]         26806.86            36   \n",
       "1        [20.987, 39.158]         37687.28            31   \n",
       "2  [22.044647, 37.885611]         40453.51             6   \n",
       "\n",
       "           small_city_geo small_city_dist urban_context_alt occups_cats  \n",
       "0  [23.132244, 37.626573]        25817.21             rural          []  \n",
       "1  [20.787767, 39.546432]        10725.84             rural          []  \n",
       "2  [22.081952, 38.252707]          497.57             small          []  \n",
       "\n",
       "[3 rows x 81 columns]"
      ]
     },
     "execution_count": 4,
     "metadata": {},
     "output_type": "execute_result"
    }
   ],
   "source": [
    "# read local version:\n",
    "LIST_all = gpd.read_parquet(\"../../data/large_data/LIST_occupsorgs_industry.parquet\")\n",
    "LIST_all.head(3)"
   ]
  },
  {
   "cell_type": "code",
   "execution_count": 5,
   "metadata": {},
   "outputs": [],
   "source": [
    "# testing consistency of the data\n",
    "def try_eval(cell_value):\n",
    "    try: return eval(cell_value)\n",
    "    except: return cell_value\n",
    "for col in LIST_all.columns:\n",
    "    LIST_all[col] = LIST_all[col].apply(try_eval)"
   ]
  },
  {
   "cell_type": "code",
   "execution_count": 6,
   "metadata": {
    "pycharm": {
     "name": "#%%\n"
    }
   },
   "outputs": [],
   "source": [
    "# testing consistency of the data\n",
    "\n",
    "def proper_nones(type_value):\n",
    "    if not isinstance(type_value, str):\n",
    "        type_value = None\n",
    "    return type_value\n",
    "\n",
    "LIST_all[\"type_of_inscription_auto\"] = LIST_all[\"type_of_inscription_auto\"].apply(proper_nones)"
   ]
  },
  {
   "cell_type": "markdown",
   "metadata": {},
   "source": [
    "# Temporal simulations"
   ]
  },
  {
   "cell_type": "code",
   "execution_count": 5,
   "metadata": {},
   "outputs": [
    {
     "data": {
      "text/plain": [
       "203877"
      ]
     },
     "execution_count": 5,
     "metadata": {},
     "output_type": "execute_result"
    }
   ],
   "source": [
    "# limit to inscriptions with temporal data only\n",
    "\n",
    "LIST = LIST_all[(LIST_all[\"not_before\"].notnull()) | (LIST_all[\"not_after\"].notnull())]\n",
    "len(LIST)"
   ]
  },
  {
   "cell_type": "markdown",
   "metadata": {},
   "source": [
    "## Generating random dates"
   ]
  },
  {
   "cell_type": "code",
   "execution_count": 6,
   "metadata": {},
   "outputs": [
    {
     "name": "stdout",
     "output_type": "stream",
     "text": [
      "CPU times: user 1min 2s, sys: 533 ms, total: 1min 2s\n",
      "Wall time: 1min 2s\n"
     ]
    }
   ],
   "source": [
    "%%time\n",
    "# generate a list of 100 random dates for each inscription in the dataset\n",
    "\n",
    "LIST[\"random_dates\"] = LIST.apply(lambda row: tempun.model_date(row[\"not_before\"], row[\"not_after\"], size=100, seed=row.name), axis=1)"
   ]
  },
  {
   "cell_type": "code",
   "execution_count": 7,
   "metadata": {},
   "outputs": [
    {
     "data": {
      "text/html": [
       "<div>\n",
       "<style scoped>\n",
       "    .dataframe tbody tr th:only-of-type {\n",
       "        vertical-align: middle;\n",
       "    }\n",
       "\n",
       "    .dataframe tbody tr th {\n",
       "        vertical-align: top;\n",
       "    }\n",
       "\n",
       "    .dataframe thead th {\n",
       "        text-align: right;\n",
       "    }\n",
       "</style>\n",
       "<table border=\"1\" class=\"dataframe\">\n",
       "  <thead>\n",
       "    <tr style=\"text-align: right;\">\n",
       "      <th></th>\n",
       "      <th>LIST-ID</th>\n",
       "      <th>EDCS-ID</th>\n",
       "      <th>EDH-ID</th>\n",
       "      <th>trismegistos_uri</th>\n",
       "      <th>pleiades_id</th>\n",
       "      <th>transcription</th>\n",
       "      <th>inscription</th>\n",
       "      <th>clean_text_conservative</th>\n",
       "      <th>clean_text_interpretive_sentence</th>\n",
       "      <th>clean_text_interpretive_word</th>\n",
       "      <th>...</th>\n",
       "      <th>large_city_dist</th>\n",
       "      <th>medium_city_ID</th>\n",
       "      <th>medium_city_geo</th>\n",
       "      <th>medium_city_dist</th>\n",
       "      <th>small_city_ID</th>\n",
       "      <th>small_city_geo</th>\n",
       "      <th>small_city_dist</th>\n",
       "      <th>urban_context_alt</th>\n",
       "      <th>occups_cats</th>\n",
       "      <th>random_dates</th>\n",
       "    </tr>\n",
       "  </thead>\n",
       "  <tbody>\n",
       "    <tr>\n",
       "      <th>0</th>\n",
       "      <td>445464</td>\n",
       "      <td>EDCS-24900077</td>\n",
       "      <td>HD056163</td>\n",
       "      <td>https://www.trismegistos.org/text/177366</td>\n",
       "      <td>570485</td>\n",
       "      <td>Q(uinto) Caecilio C(ai) f(ilio) Metelo / imper...</td>\n",
       "      <td>Q(uinto) Caecilio C(ai) f(ilio) Metel(l)o / im...</td>\n",
       "      <td>Q Caecilio C f Metelo imperatori Italici quei ...</td>\n",
       "      <td>Quinto Caecilio Cai filio Metelo imperatori It...</td>\n",
       "      <td>Quinto Caecilio Cai filio Metelo imperatori It...</td>\n",
       "      <td>...</td>\n",
       "      <td>10912.81</td>\n",
       "      <td>85</td>\n",
       "      <td>[22.641069, 37.831664]</td>\n",
       "      <td>26806.86</td>\n",
       "      <td>36</td>\n",
       "      <td>[23.132244, 37.626573]</td>\n",
       "      <td>25817.21</td>\n",
       "      <td>rural</td>\n",
       "      <td>[]</td>\n",
       "      <td>[-68, -68, -68, -68, -68, -68, -68, -68, -68, ...</td>\n",
       "    </tr>\n",
       "    <tr>\n",
       "      <th>1</th>\n",
       "      <td>445465</td>\n",
       "      <td>EDCS-03700724</td>\n",
       "      <td>HD052964</td>\n",
       "      <td>https://www.trismegistos.org/text/121715</td>\n",
       "      <td>531064</td>\n",
       "      <td>Fortissimo et piis/simo Caesari d(omino) n(ost...</td>\n",
       "      <td>Fortissimo et Piis/simo Caesari d(omino) n(ost...</td>\n",
       "      <td>Fortissimo et piissimo Caesari d n Gal Val P F...</td>\n",
       "      <td>Fortissimo et piissimo Caesari domino nostro G...</td>\n",
       "      <td>Fortissimo et piissimo Caesari domino nostro G...</td>\n",
       "      <td>...</td>\n",
       "      <td>47237.78</td>\n",
       "      <td>7</td>\n",
       "      <td>[20.987, 39.158]</td>\n",
       "      <td>37687.28</td>\n",
       "      <td>31</td>\n",
       "      <td>[20.787767, 39.546432]</td>\n",
       "      <td>10725.84</td>\n",
       "      <td>rural</td>\n",
       "      <td>[]</td>\n",
       "      <td>[311, 312, 309, 310, 310, 309, 310, 310, 311, ...</td>\n",
       "    </tr>\n",
       "    <tr>\n",
       "      <th>2</th>\n",
       "      <td>445466</td>\n",
       "      <td>EDCS-13800065</td>\n",
       "      <td>HD017714</td>\n",
       "      <td>https://www.trismegistos.org/text/177100</td>\n",
       "      <td>570049</td>\n",
       "      <td>Italicei / quei Aegei negotiantur / P(ublium) ...</td>\n",
       "      <td>Italicei / quei Aegei negotiantur / P(ublium) ...</td>\n",
       "      <td>Italicei quei Aegei negotiantur P Rutilium P f...</td>\n",
       "      <td>Italicei quei Aegei negotiantur Publium Rutili...</td>\n",
       "      <td>Italicei quei Aegei negotiantur Publium Rutili...</td>\n",
       "      <td>...</td>\n",
       "      <td>63682.52</td>\n",
       "      <td>24</td>\n",
       "      <td>[22.044647, 37.885611]</td>\n",
       "      <td>40453.51</td>\n",
       "      <td>6</td>\n",
       "      <td>[22.081952, 38.252707]</td>\n",
       "      <td>497.57</td>\n",
       "      <td>small</td>\n",
       "      <td>[]</td>\n",
       "      <td>[-74, -74, -74, -74, -74, -74, -74, -74, -74, ...</td>\n",
       "    </tr>\n",
       "    <tr>\n",
       "      <th>3</th>\n",
       "      <td>445467</td>\n",
       "      <td>EDCS-03300852</td>\n",
       "      <td>HD051000</td>\n",
       "      <td>https://www.trismegistos.org/text/177273</td>\n",
       "      <td>240855</td>\n",
       "      <td>[Imp(eratori) Caes(ari) M(arco)] / An[nio] Flo...</td>\n",
       "      <td>Imp(eratori) / Floriano / P(io) F(elici) Aug(u...</td>\n",
       "      <td>An Floriano P F Aug p p m p III Imp Caes M Aur...</td>\n",
       "      <td>Imperatori Caesari Marco Annio Floriano Pio Fe...</td>\n",
       "      <td>Imperatori Caesari Marco Annio Floriano Pio Fe...</td>\n",
       "      <td>...</td>\n",
       "      <td>471.49</td>\n",
       "      <td>55</td>\n",
       "      <td>[22.405305, 37.642803]</td>\n",
       "      <td>23430.85</td>\n",
       "      <td>73</td>\n",
       "      <td>[22.336587, 37.462155]</td>\n",
       "      <td>7876.09</td>\n",
       "      <td>large</td>\n",
       "      <td>[]</td>\n",
       "      <td>[279, 280, 278, 279, 281, 281, 277, 277, 276, ...</td>\n",
       "    </tr>\n",
       "    <tr>\n",
       "      <th>4</th>\n",
       "      <td>445468</td>\n",
       "      <td>EDCS-28500283</td>\n",
       "      <td>HD021396</td>\n",
       "      <td>https://www.trismegistos.org/text/177131</td>\n",
       "      <td></td>\n",
       "      <td>T[i(berius)] Claudius Caesar Aug(ustus) / G[er...</td>\n",
       "      <td>T[(iberius)] Claudius Caesar Aug(ustus) / G[er...</td>\n",
       "      <td>T Claudius Caesar Aug Ganicus pontif max trib ...</td>\n",
       "      <td>Tiberius Claudius Caesar Augustus Germanicus p...</td>\n",
       "      <td>Tiberius Claudius Caesar Augustus Germanicus p...</td>\n",
       "      <td>...</td>\n",
       "      <td>2997.22</td>\n",
       "      <td>55</td>\n",
       "      <td>[22.405305, 37.642803]</td>\n",
       "      <td>20944.51</td>\n",
       "      <td>73</td>\n",
       "      <td>[22.336587, 37.462155]</td>\n",
       "      <td>7505.76</td>\n",
       "      <td>large</td>\n",
       "      <td>[]</td>\n",
       "      <td>[50, 50, 50, 50, 50, 49, 50, 49, 49, 49, 50, 4...</td>\n",
       "    </tr>\n",
       "  </tbody>\n",
       "</table>\n",
       "<p>5 rows × 82 columns</p>\n",
       "</div>"
      ],
      "text/plain": [
       "   LIST-ID        EDCS-ID    EDH-ID                          trismegistos_uri  \\\n",
       "0   445464  EDCS-24900077  HD056163  https://www.trismegistos.org/text/177366   \n",
       "1   445465  EDCS-03700724  HD052964  https://www.trismegistos.org/text/121715   \n",
       "2   445466  EDCS-13800065  HD017714  https://www.trismegistos.org/text/177100   \n",
       "3   445467  EDCS-03300852  HD051000  https://www.trismegistos.org/text/177273   \n",
       "4   445468  EDCS-28500283  HD021396  https://www.trismegistos.org/text/177131   \n",
       "\n",
       "  pleiades_id                                      transcription  \\\n",
       "0      570485  Q(uinto) Caecilio C(ai) f(ilio) Metelo / imper...   \n",
       "1      531064  Fortissimo et piis/simo Caesari d(omino) n(ost...   \n",
       "2      570049  Italicei / quei Aegei negotiantur / P(ublium) ...   \n",
       "3      240855  [Imp(eratori) Caes(ari) M(arco)] / An[nio] Flo...   \n",
       "4              T[i(berius)] Claudius Caesar Aug(ustus) / G[er...   \n",
       "\n",
       "                                         inscription  \\\n",
       "0  Q(uinto) Caecilio C(ai) f(ilio) Metel(l)o / im...   \n",
       "1  Fortissimo et Piis/simo Caesari d(omino) n(ost...   \n",
       "2  Italicei / quei Aegei negotiantur / P(ublium) ...   \n",
       "3  Imp(eratori) / Floriano / P(io) F(elici) Aug(u...   \n",
       "4  T[(iberius)] Claudius Caesar Aug(ustus) / G[er...   \n",
       "\n",
       "                             clean_text_conservative  \\\n",
       "0  Q Caecilio C f Metelo imperatori Italici quei ...   \n",
       "1  Fortissimo et piissimo Caesari d n Gal Val P F...   \n",
       "2  Italicei quei Aegei negotiantur P Rutilium P f...   \n",
       "3  An Floriano P F Aug p p m p III Imp Caes M Aur...   \n",
       "4  T Claudius Caesar Aug Ganicus pontif max trib ...   \n",
       "\n",
       "                    clean_text_interpretive_sentence  \\\n",
       "0  Quinto Caecilio Cai filio Metelo imperatori It...   \n",
       "1  Fortissimo et piissimo Caesari domino nostro G...   \n",
       "2  Italicei quei Aegei negotiantur Publium Rutili...   \n",
       "3  Imperatori Caesari Marco Annio Floriano Pio Fe...   \n",
       "4  Tiberius Claudius Caesar Augustus Germanicus p...   \n",
       "\n",
       "                        clean_text_interpretive_word  ... large_city_dist  \\\n",
       "0  Quinto Caecilio Cai filio Metelo imperatori It...  ...        10912.81   \n",
       "1  Fortissimo et piissimo Caesari domino nostro G...  ...        47237.78   \n",
       "2  Italicei quei Aegei negotiantur Publium Rutili...  ...        63682.52   \n",
       "3  Imperatori Caesari Marco Annio Floriano Pio Fe...  ...          471.49   \n",
       "4  Tiberius Claudius Caesar Augustus Germanicus p...  ...         2997.22   \n",
       "\n",
       "  medium_city_ID         medium_city_geo medium_city_dist small_city_ID  \\\n",
       "0             85  [22.641069, 37.831664]         26806.86            36   \n",
       "1              7        [20.987, 39.158]         37687.28            31   \n",
       "2             24  [22.044647, 37.885611]         40453.51             6   \n",
       "3             55  [22.405305, 37.642803]         23430.85            73   \n",
       "4             55  [22.405305, 37.642803]         20944.51            73   \n",
       "\n",
       "           small_city_geo small_city_dist urban_context_alt occups_cats  \\\n",
       "0  [23.132244, 37.626573]        25817.21             rural          []   \n",
       "1  [20.787767, 39.546432]        10725.84             rural          []   \n",
       "2  [22.081952, 38.252707]          497.57             small          []   \n",
       "3  [22.336587, 37.462155]         7876.09             large          []   \n",
       "4  [22.336587, 37.462155]         7505.76             large          []   \n",
       "\n",
       "                                        random_dates  \n",
       "0  [-68, -68, -68, -68, -68, -68, -68, -68, -68, ...  \n",
       "1  [311, 312, 309, 310, 310, 309, 310, 310, 311, ...  \n",
       "2  [-74, -74, -74, -74, -74, -74, -74, -74, -74, ...  \n",
       "3  [279, 280, 278, 279, 281, 281, 277, 277, 276, ...  \n",
       "4  [50, 50, 50, 50, 50, 49, 50, 49, 49, 49, 50, 4...  \n",
       "\n",
       "[5 rows x 82 columns]"
      ]
     },
     "execution_count": 7,
     "metadata": {},
     "output_type": "execute_result"
    }
   ],
   "source": [
    "LIST.head(5)"
   ]
  },
  {
   "cell_type": "code",
   "execution_count": 8,
   "metadata": {},
   "outputs": [],
   "source": [
    "# saving the dataset with random dates locally (in case computer crashes)\n",
    "\n",
    "LIST.to_parquet(\"../../data/large_data/LIST_occupsorgs_temporal.parquet\")"
   ]
  },
  {
   "cell_type": "code",
   "execution_count": null,
   "metadata": {},
   "outputs": [],
   "source": [
    "# read local version:\n",
    "LIST = gpd.read_parquet(\"../../data/large_data/LIST_occupsorgs_temporal.parquet\")"
   ]
  },
  {
   "cell_type": "markdown",
   "metadata": {},
   "source": [
    "## Temporal simulation by timeblocks"
   ]
  },
  {
   "cell_type": "code",
   "execution_count": 20,
   "metadata": {},
   "outputs": [
    {
     "ename": "KeyError",
     "evalue": "None",
     "output_type": "error",
     "traceback": [
      "\u001b[0;31m---------------------------------------------------------------------------\u001b[0m",
      "\u001b[0;31mKeyError\u001b[0m                                  Traceback (most recent call last)",
      "\u001b[0;32m~/.local/lib/python3.8/site-packages/pandas/core/indexes/base.py\u001b[0m in \u001b[0;36mget_loc\u001b[0;34m(self, key)\u001b[0m\n\u001b[1;32m   3652\u001b[0m         \u001b[0;32mtry\u001b[0m\u001b[0;34m:\u001b[0m\u001b[0;34m\u001b[0m\u001b[0;34m\u001b[0m\u001b[0m\n\u001b[0;32m-> 3653\u001b[0;31m             \u001b[0;32mreturn\u001b[0m \u001b[0mself\u001b[0m\u001b[0;34m.\u001b[0m\u001b[0m_engine\u001b[0m\u001b[0;34m.\u001b[0m\u001b[0mget_loc\u001b[0m\u001b[0;34m(\u001b[0m\u001b[0mcasted_key\u001b[0m\u001b[0;34m)\u001b[0m\u001b[0;34m\u001b[0m\u001b[0;34m\u001b[0m\u001b[0m\n\u001b[0m\u001b[1;32m   3654\u001b[0m         \u001b[0;32mexcept\u001b[0m \u001b[0mKeyError\u001b[0m \u001b[0;32mas\u001b[0m \u001b[0merr\u001b[0m\u001b[0;34m:\u001b[0m\u001b[0;34m\u001b[0m\u001b[0;34m\u001b[0m\u001b[0m\n",
      "\u001b[0;32m~/.local/lib/python3.8/site-packages/pandas/_libs/index.pyx\u001b[0m in \u001b[0;36mpandas._libs.index.IndexEngine.get_loc\u001b[0;34m()\u001b[0m\n",
      "\u001b[0;32m~/.local/lib/python3.8/site-packages/pandas/_libs/index.pyx\u001b[0m in \u001b[0;36mpandas._libs.index.IndexEngine.get_loc\u001b[0;34m()\u001b[0m\n",
      "\u001b[0;32mpandas/_libs/hashtable_class_helper.pxi\u001b[0m in \u001b[0;36mpandas._libs.hashtable.PyObjectHashTable.get_item\u001b[0;34m()\u001b[0m\n",
      "\u001b[0;32mpandas/_libs/hashtable_class_helper.pxi\u001b[0m in \u001b[0;36mpandas._libs.hashtable.PyObjectHashTable.get_item\u001b[0;34m()\u001b[0m\n",
      "\u001b[0;31mKeyError\u001b[0m: None",
      "\nThe above exception was the direct cause of the following exception:\n",
      "\u001b[0;31mKeyError\u001b[0m                                  Traceback (most recent call last)",
      "\u001b[0;32m<timed exec>\u001b[0m in \u001b[0;36m<module>\u001b[0;34m\u001b[0m\n",
      "\u001b[0;32m~/.local/lib/python3.8/site-packages/tempun/__init__.py\u001b[0m in \u001b[0;36mtimeblocks_from_randoms\u001b[0;34m(random_dates_lists, timeblocks, random_size)\u001b[0m\n\u001b[1;32m    207\u001b[0m   \u001b[0mcombine\u001b[0m \u001b[0mget_simulation_variants\u001b[0m\u001b[0;34m(\u001b[0m\u001b[0;34m)\u001b[0m \u001b[0;32mand\u001b[0m \u001b[0mdates_per_block\u001b[0m\u001b[0;34m(\u001b[0m\u001b[0;34m)\u001b[0m \u001b[0minto\u001b[0m \u001b[0mone\u001b[0m \u001b[0mfunctions\u001b[0m\u001b[0;34m\u001b[0m\u001b[0;34m\u001b[0m\u001b[0m\n\u001b[1;32m    208\u001b[0m   \"\"\"\n\u001b[0;32m--> 209\u001b[0;31m     \u001b[0msimulations_list\u001b[0m \u001b[0;34m=\u001b[0m \u001b[0mget_simulation_variants\u001b[0m\u001b[0;34m(\u001b[0m\u001b[0mrandom_dates_lists\u001b[0m\u001b[0;34m,\u001b[0m \u001b[0mrandom_size\u001b[0m\u001b[0;34m)\u001b[0m\u001b[0;34m\u001b[0m\u001b[0;34m\u001b[0m\u001b[0m\n\u001b[0m\u001b[1;32m    210\u001b[0m     \u001b[0;32mif\u001b[0m \u001b[0mtimeblocks\u001b[0m \u001b[0;34m==\u001b[0m \u001b[0;32mNone\u001b[0m\u001b[0;34m:\u001b[0m\u001b[0;34m\u001b[0m\u001b[0;34m\u001b[0m\u001b[0m\n\u001b[1;32m    211\u001b[0m         \u001b[0;31m# derive the timeblocks automatically:\u001b[0m\u001b[0;34m\u001b[0m\u001b[0;34m\u001b[0m\u001b[0;34m\u001b[0m\u001b[0m\n",
      "\u001b[0;32m~/.local/lib/python3.8/site-packages/tempun/__init__.py\u001b[0m in \u001b[0;36mget_simulation_variants\u001b[0;34m(random_dates_lists, random_size, column)\u001b[0m\n\u001b[1;32m     96\u001b[0m \u001b[0;34m\u001b[0m\u001b[0m\n\u001b[1;32m     97\u001b[0m     \u001b[0;32mif\u001b[0m \u001b[0misinstance\u001b[0m\u001b[0;34m(\u001b[0m\u001b[0mrandom_dates_lists\u001b[0m\u001b[0;34m,\u001b[0m \u001b[0mpd\u001b[0m\u001b[0;34m.\u001b[0m\u001b[0mcore\u001b[0m\u001b[0;34m.\u001b[0m\u001b[0mframe\u001b[0m\u001b[0;34m.\u001b[0m\u001b[0mDataFrame\u001b[0m\u001b[0;34m)\u001b[0m\u001b[0;34m:\u001b[0m\u001b[0;34m\u001b[0m\u001b[0;34m\u001b[0m\u001b[0m\n\u001b[0;32m---> 98\u001b[0;31m         \u001b[0mrandom_dates_lists\u001b[0m \u001b[0;34m=\u001b[0m \u001b[0mrandom_dates_lists\u001b[0m\u001b[0;34m[\u001b[0m\u001b[0mcolumn\u001b[0m\u001b[0;34m]\u001b[0m\u001b[0;34m.\u001b[0m\u001b[0mtolist\u001b[0m\u001b[0;34m(\u001b[0m\u001b[0;34m)\u001b[0m\u001b[0;34m\u001b[0m\u001b[0;34m\u001b[0m\u001b[0m\n\u001b[0m\u001b[1;32m     99\u001b[0m     \u001b[0;32melse\u001b[0m\u001b[0;34m:\u001b[0m\u001b[0;34m\u001b[0m\u001b[0;34m\u001b[0m\u001b[0m\n\u001b[1;32m    100\u001b[0m         \u001b[0;31m# the first argument is actually not a dataframe, but a series of random dates lists...\u001b[0m\u001b[0;34m\u001b[0m\u001b[0;34m\u001b[0m\u001b[0;34m\u001b[0m\u001b[0m\n",
      "\u001b[0;32m~/.local/lib/python3.8/site-packages/geopandas/geodataframe.py\u001b[0m in \u001b[0;36m__getitem__\u001b[0;34m(self, key)\u001b[0m\n\u001b[1;32m   1297\u001b[0m         \u001b[0mGeoDataFrame\u001b[0m\u001b[0;34m.\u001b[0m\u001b[0;34m\u001b[0m\u001b[0;34m\u001b[0m\u001b[0m\n\u001b[1;32m   1298\u001b[0m         \"\"\"\n\u001b[0;32m-> 1299\u001b[0;31m         \u001b[0mresult\u001b[0m \u001b[0;34m=\u001b[0m \u001b[0msuper\u001b[0m\u001b[0;34m(\u001b[0m\u001b[0mGeoDataFrame\u001b[0m\u001b[0;34m,\u001b[0m \u001b[0mself\u001b[0m\u001b[0;34m)\u001b[0m\u001b[0;34m.\u001b[0m\u001b[0m__getitem__\u001b[0m\u001b[0;34m(\u001b[0m\u001b[0mkey\u001b[0m\u001b[0;34m)\u001b[0m\u001b[0;34m\u001b[0m\u001b[0;34m\u001b[0m\u001b[0m\n\u001b[0m\u001b[1;32m   1300\u001b[0m         \u001b[0mgeo_col\u001b[0m \u001b[0;34m=\u001b[0m \u001b[0mself\u001b[0m\u001b[0;34m.\u001b[0m\u001b[0m_geometry_column_name\u001b[0m\u001b[0;34m\u001b[0m\u001b[0;34m\u001b[0m\u001b[0m\n\u001b[1;32m   1301\u001b[0m         \u001b[0;32mif\u001b[0m \u001b[0misinstance\u001b[0m\u001b[0;34m(\u001b[0m\u001b[0mresult\u001b[0m\u001b[0;34m,\u001b[0m \u001b[0mSeries\u001b[0m\u001b[0;34m)\u001b[0m \u001b[0;32mand\u001b[0m \u001b[0misinstance\u001b[0m\u001b[0;34m(\u001b[0m\u001b[0mresult\u001b[0m\u001b[0;34m.\u001b[0m\u001b[0mdtype\u001b[0m\u001b[0;34m,\u001b[0m \u001b[0mGeometryDtype\u001b[0m\u001b[0;34m)\u001b[0m\u001b[0;34m:\u001b[0m\u001b[0;34m\u001b[0m\u001b[0;34m\u001b[0m\u001b[0m\n",
      "\u001b[0;32m~/.local/lib/python3.8/site-packages/pandas/core/frame.py\u001b[0m in \u001b[0;36m__getitem__\u001b[0;34m(self, key)\u001b[0m\n\u001b[1;32m   3759\u001b[0m             \u001b[0;32mif\u001b[0m \u001b[0mself\u001b[0m\u001b[0;34m.\u001b[0m\u001b[0mcolumns\u001b[0m\u001b[0;34m.\u001b[0m\u001b[0mnlevels\u001b[0m \u001b[0;34m>\u001b[0m \u001b[0;36m1\u001b[0m\u001b[0;34m:\u001b[0m\u001b[0;34m\u001b[0m\u001b[0;34m\u001b[0m\u001b[0m\n\u001b[1;32m   3760\u001b[0m                 \u001b[0;32mreturn\u001b[0m \u001b[0mself\u001b[0m\u001b[0;34m.\u001b[0m\u001b[0m_getitem_multilevel\u001b[0m\u001b[0;34m(\u001b[0m\u001b[0mkey\u001b[0m\u001b[0;34m)\u001b[0m\u001b[0;34m\u001b[0m\u001b[0;34m\u001b[0m\u001b[0m\n\u001b[0;32m-> 3761\u001b[0;31m             \u001b[0mindexer\u001b[0m \u001b[0;34m=\u001b[0m \u001b[0mself\u001b[0m\u001b[0;34m.\u001b[0m\u001b[0mcolumns\u001b[0m\u001b[0;34m.\u001b[0m\u001b[0mget_loc\u001b[0m\u001b[0;34m(\u001b[0m\u001b[0mkey\u001b[0m\u001b[0;34m)\u001b[0m\u001b[0;34m\u001b[0m\u001b[0;34m\u001b[0m\u001b[0m\n\u001b[0m\u001b[1;32m   3762\u001b[0m             \u001b[0;32mif\u001b[0m \u001b[0mis_integer\u001b[0m\u001b[0;34m(\u001b[0m\u001b[0mindexer\u001b[0m\u001b[0;34m)\u001b[0m\u001b[0;34m:\u001b[0m\u001b[0;34m\u001b[0m\u001b[0;34m\u001b[0m\u001b[0m\n\u001b[1;32m   3763\u001b[0m                 \u001b[0mindexer\u001b[0m \u001b[0;34m=\u001b[0m \u001b[0;34m[\u001b[0m\u001b[0mindexer\u001b[0m\u001b[0;34m]\u001b[0m\u001b[0;34m\u001b[0m\u001b[0;34m\u001b[0m\u001b[0m\n",
      "\u001b[0;32m~/.local/lib/python3.8/site-packages/pandas/core/indexes/base.py\u001b[0m in \u001b[0;36mget_loc\u001b[0;34m(self, key)\u001b[0m\n\u001b[1;32m   3653\u001b[0m             \u001b[0;32mreturn\u001b[0m \u001b[0mself\u001b[0m\u001b[0;34m.\u001b[0m\u001b[0m_engine\u001b[0m\u001b[0;34m.\u001b[0m\u001b[0mget_loc\u001b[0m\u001b[0;34m(\u001b[0m\u001b[0mcasted_key\u001b[0m\u001b[0;34m)\u001b[0m\u001b[0;34m\u001b[0m\u001b[0;34m\u001b[0m\u001b[0m\n\u001b[1;32m   3654\u001b[0m         \u001b[0;32mexcept\u001b[0m \u001b[0mKeyError\u001b[0m \u001b[0;32mas\u001b[0m \u001b[0merr\u001b[0m\u001b[0;34m:\u001b[0m\u001b[0;34m\u001b[0m\u001b[0;34m\u001b[0m\u001b[0m\n\u001b[0;32m-> 3655\u001b[0;31m             \u001b[0;32mraise\u001b[0m \u001b[0mKeyError\u001b[0m\u001b[0;34m(\u001b[0m\u001b[0mkey\u001b[0m\u001b[0;34m)\u001b[0m \u001b[0;32mfrom\u001b[0m \u001b[0merr\u001b[0m\u001b[0;34m\u001b[0m\u001b[0;34m\u001b[0m\u001b[0m\n\u001b[0m\u001b[1;32m   3656\u001b[0m         \u001b[0;32mexcept\u001b[0m \u001b[0mTypeError\u001b[0m\u001b[0;34m:\u001b[0m\u001b[0;34m\u001b[0m\u001b[0;34m\u001b[0m\u001b[0m\n\u001b[1;32m   3657\u001b[0m             \u001b[0;31m# If we have a listlike key, _check_indexing_error will raise\u001b[0m\u001b[0;34m\u001b[0m\u001b[0;34m\u001b[0m\u001b[0;34m\u001b[0m\u001b[0m\n",
      "\u001b[0;31mKeyError\u001b[0m: None"
     ]
    }
   ],
   "source": [
    "%%time\n",
    "LIST_complete_simulations = tempun.timeblocks_from_randoms(LIST, \"random_dates\", [-200, 600, 50])"
   ]
  },
  {
   "cell_type": "code",
   "execution_count": 21,
   "metadata": {},
   "outputs": [
    {
     "ename": "NameError",
     "evalue": "name 'LIST_complete_simulations' is not defined",
     "output_type": "error",
     "traceback": [
      "\u001b[0;31m---------------------------------------------------------------------------\u001b[0m",
      "\u001b[0;31mNameError\u001b[0m                                 Traceback (most recent call last)",
      "\u001b[0;32m/tmp/ipykernel_6823/2742574598.py\u001b[0m in \u001b[0;36m<module>\u001b[0;34m\u001b[0m\n\u001b[0;32m----> 1\u001b[0;31m \u001b[0mLIST_complete_simulations\u001b[0m\u001b[0;34m[\u001b[0m\u001b[0;36m0\u001b[0m\u001b[0;34m]\u001b[0m\u001b[0;34m\u001b[0m\u001b[0;34m\u001b[0m\u001b[0m\n\u001b[0m",
      "\u001b[0;31mNameError\u001b[0m: name 'LIST_complete_simulations' is not defined"
     ]
    }
   ],
   "source": [
    "LIST_complete_simulations[0]"
   ]
  },
  {
   "cell_type": "code",
   "execution_count": 22,
   "metadata": {},
   "outputs": [
    {
     "ename": "NameError",
     "evalue": "name 'LIST_complete_simulations' is not defined",
     "output_type": "error",
     "traceback": [
      "\u001b[0;31m---------------------------------------------------------------------------\u001b[0m",
      "\u001b[0;31mNameError\u001b[0m                                 Traceback (most recent call last)",
      "\u001b[0;32m/tmp/ipykernel_6823/3696732886.py\u001b[0m in \u001b[0;36m<module>\u001b[0;34m\u001b[0m\n\u001b[0;32m----> 1\u001b[0;31m \u001b[0mLIST_complete_merged\u001b[0m \u001b[0;34m=\u001b[0m \u001b[0mtempun\u001b[0m\u001b[0;34m.\u001b[0m\u001b[0msimulations_merged\u001b[0m\u001b[0;34m(\u001b[0m\u001b[0mLIST_complete_simulations\u001b[0m\u001b[0;34m)\u001b[0m\u001b[0;34m\u001b[0m\u001b[0;34m\u001b[0m\u001b[0m\n\u001b[0m",
      "\u001b[0;31mNameError\u001b[0m: name 'LIST_complete_simulations' is not defined"
     ]
    }
   ],
   "source": [
    "LIST_complete_merged = tempun.simulations_merged(LIST_complete_simulations)"
   ]
  },
  {
   "cell_type": "code",
   "execution_count": 10,
   "metadata": {},
   "outputs": [
    {
     "data": {
      "text/plain": [
       "[(-200, -26),\n",
       " (-27, 68),\n",
       " (69, 96),\n",
       " (97, 192),\n",
       " (193, 235),\n",
       " (236, 284),\n",
       " (285, 337),\n",
       " (338, 600)]"
      ]
     },
     "execution_count": 10,
     "metadata": {},
     "output_type": "execute_result"
    }
   ],
   "source": [
    "# periods definitions\n",
    "\n",
    "periods = { # to avoid overlaps, startdates are postponed by one year, when needed\n",
    "    \"Late Republic\" : {\"startdate\": -200, \"enddate\" : -26},\n",
    "    \"Julio-Claudian\" : {\"startdate\": -27, \"enddate\" : 68},\n",
    "    \"Flavian\" : {\"startdate\": 69, \"enddate\": 96},\n",
    "    \"Nerva-Antonine\" : {\"startdate\" : 97, \"enddate\" : 192},\n",
    "    \"Severan\" : {\"startdate\": 193, \"enddate\": 235},\n",
    "    \"Military emperors\" : {\"startdate\" : 236, \"enddate\" : 284},\n",
    "    \"Tetrarchy\\n& Constantine I\" : {\"startdate\" : 285, \"enddate\" : 337},\n",
    "    \"Late Antiquity\" : {\"startdate\" : 338, \"enddate\" : 600}\n",
    "    }\n",
    "timeblocks_periods = [(periods[period][\"startdate\"], periods[period][\"enddate\"]) for period in periods]\n",
    "timeblocks_periods"
   ]
  },
  {
   "cell_type": "markdown",
   "metadata": {},
   "source": [
    "# Overview of occupations and organizations over time"
   ]
  },
  {
   "cell_type": "code",
   "execution_count": 13,
   "metadata": {},
   "outputs": [],
   "source": [
    "var_data_occups = []\n",
    "for var_n in range(100):\n",
    "    var_data_occups.append([var[var_n] for var in LIST[LIST[\"occups_N\"] > 0][\"random_dates\"] if var !=None])"
   ]
  },
  {
   "cell_type": "code",
   "execution_count": 14,
   "metadata": {},
   "outputs": [
    {
     "name": "stdout",
     "output_type": "stream",
     "text": [
      "5745\n"
     ]
    }
   ],
   "source": [
    "print(len(var_data_occups[0]))"
   ]
  },
  {
   "cell_type": "code",
   "execution_count": 15,
   "metadata": {},
   "outputs": [
    {
     "name": "stdout",
     "output_type": "stream",
     "text": [
      "CPU times: user 3.64 s, sys: 55.5 ms, total: 3.69 s\n",
      "Wall time: 3.69 s\n"
     ]
    }
   ],
   "source": [
    "%%time\n",
    "var_data_lire = []\n",
    "for var_n in range(100):\n",
    "    var_data_lire.append([var[var_n] for var in LIST[\"random_dates\"] if var !=None])"
   ]
  },
  {
   "cell_type": "code",
   "execution_count": 16,
   "metadata": {},
   "outputs": [
    {
     "data": {
      "text/plain": [
       "5745"
      ]
     },
     "execution_count": 16,
     "metadata": {},
     "output_type": "execute_result"
    }
   ],
   "source": [
    "sample_size = len(var_data_occups[0]) # + len(var_data_orgs[0])\n",
    "sample_size"
   ]
  },
  {
   "cell_type": "code",
   "execution_count": 17,
   "metadata": {},
   "outputs": [
    {
     "data": {
      "text/plain": [
       "['lightcyan',\n",
       " 'lightgoldenrodyellow',\n",
       " 'lightgray',\n",
       " 'lightgreen',\n",
       " 'lightgrey',\n",
       " 'lightpink',\n",
       " 'lightsalmon',\n",
       " 'lightseagreen',\n",
       " 'lightskyblue',\n",
       " 'lightslategray',\n",
       " 'lightslategrey',\n",
       " 'lightsteelblue',\n",
       " 'lightyellow']"
      ]
     },
     "execution_count": 17,
     "metadata": {},
     "output_type": "execute_result"
    }
   ],
   "source": [
    "colors_list = [color for color in list(mcolors.CSS4_COLORS.keys()) if \"light\" in color][2:]\n",
    "colors_list"
   ]
  },
  {
   "cell_type": "code",
   "execution_count": null,
   "metadata": {},
   "outputs": [],
   "source": [
    "%%time \n",
    "# timeconsuming, because of the KDE involved\n",
    "\n",
    "n_sim = 100\n",
    "\n",
    "labels=[key for key in periods.keys()]\n",
    "positions = [np.mean(tup) for tup in timeblocks_periods]\n",
    "\n",
    "#positions = [np.mean(tup[0]) for tup in occups_ratios_merged]\n",
    "\n",
    "fig, ax = plt.subplots(figsize=[5.2, 3], tight_layout=True)\n",
    "\n",
    "for period, color in zip(periods.keys(), colors_list):\n",
    "    ax.axvspan(periods[period][\"startdate\"], periods[period][\"enddate\"], color=color)#, linestyles=\"dashed\", color=\"red\")\n",
    "\n",
    "\n",
    "for data in var_data_lire[:n_sim]:\n",
    "    # to be based on sample or not... \n",
    "    data = random.sample(data, k=sample_size)\n",
    "    sns.kdeplot(data, ax=ax, color=\"black\") #, alpha=0.5)   \n",
    "    \n",
    "for data in var_data_occups[:n_sim]:\n",
    "    sns.kdeplot(data, ax=ax, color=\"darkgreen\") #, alpha=0.5)\n",
    "\n",
    "ax.set_xlim(-200,600)\n",
    "\n",
    "ax.set_ylabel(\"KDE\")\n",
    "\n",
    "# period labels\n",
    "ax.set_xticks(positions)\n",
    "ax.set_xticklabels(labels)\n",
    "ax.xaxis.set_tick_params(rotation=90)\n",
    "ax.xaxis.tick_top()\n",
    "\n",
    "# time ticks\n",
    "ax.secondary_xaxis(\"bottom\")\n",
    "\n",
    "\n",
    "markers = [plt.Line2D([0,0],[0,0],color=color, lw=4) for color in [\"black\", \"darkgreen\", \"darkblue\"]]\n",
    "plt.legend(markers, [\"Ins. - random\\nsample (N={0})\".format(str(sample_size)), \"Ins. mentioning\\noccupations\", \"Ins. mentioning\\norganizations\"], bbox_to_anchor=(1, 1), loc='upper left')\n"
   ]
  },
  {
   "cell_type": "code",
   "execution_count": null,
   "metadata": {
    "pycharm": {
     "name": "#%%\n"
    }
   },
   "outputs": [],
   "source": [
    "save_figure(fig, \"occups_vs_sample_tempdist_kde\")"
   ]
  },
  {
   "cell_type": "markdown",
   "metadata": {
    "pycharm": {
     "name": "#%% md\n"
    }
   },
   "source": [
    "## Compare temporal distributions of occupations by urban contexts"
   ]
  },
  {
   "cell_type": "code",
   "execution_count": null,
   "metadata": {
    "pycharm": {
     "name": "#%%\n"
    }
   },
   "outputs": [],
   "source": [
    "def get_vars(df_whole, context, n_sim=1000):\n",
    "    df_context = df_whole[df_whole[\"urban_context_alt\"]==context]\n",
    "    df_context_occup = df_context[df_context[\"occups_N\"]>0]\n",
    "    type_dict = dict(df_context_occup.groupby(\"type_of_inscription_auto\", dropna=False).size()) # groups, including Nones\n",
    "    var_data_context, var_data_context_control, tb_data, tb_data_control = [], [], [], []\n",
    "    timeblocks = tempun.get_timeblocks(-50, 350, 50)\n",
    "    for var_n in range(n_sim):\n",
    "        var_data = [var[var_n] for var in df_context_occup[\"random_dates\"] if var !=None]\n",
    "        var_data_context.append(var_data)\n",
    "        tb_var_data = tempun.dates_per_block(var_data, timeblocks)\n",
    "        tb_data.append(tb_var_data)\n",
    "        df_sample = pd.DataFrame()\n",
    "        for key in type_dict.keys():\n",
    "            if isinstance(key, float): # if nan\n",
    "                df_type = df_context[df_context[\"type_of_inscription_auto\"].isnull()].sample(type_dict[key], random_state=var_n)\n",
    "            else:\n",
    "                df_type = df_context[df_context[\"type_of_inscription_auto\"]==key].sample(type_dict[key], random_state=var_n)\n",
    "            df_sample = pd.concat([df_sample, df_type])\n",
    "        var_data_control = [var[var_n] for var in df_sample[\"random_dates\"] if var !=None]\n",
    "        var_data_context_control.append(var_data_control)\n",
    "        tb_var_data_control = tempun.dates_per_block(var_data_control, timeblocks)\n",
    "        tb_data_control.append(tb_var_data_control)\n",
    "    return var_data_context, var_data_context_control, tb_data, tb_data_control"
   ]
  },
  {
   "cell_type": "code",
   "execution_count": null,
   "metadata": {
    "pycharm": {
     "name": "#%%\n"
    }
   },
   "outputs": [],
   "source": [
    "%%time\n",
    "var_data_large, var_data_large_control, tb_data_large, tb_data_large_control = get_vars(LIST, \"large\", 1000)\n",
    "var_data_medium, var_data_medium_control, tb_data_medium, tb_data_medium_control = get_vars(LIST, \"medium\", 1000)\n",
    "var_data_small, var_data_small_control, tb_data_small, tb_data_small_control = get_vars(LIST, \"small\", 1000)\n",
    "var_data_rural, var_data_rural_control, tb_data_rural, tb_data_rural_control = get_vars(LIST, \"rural\", 1000)"
   ]
  },
  {
   "cell_type": "code",
   "execution_count": null,
   "metadata": {
    "pycharm": {
     "name": "#%%\n"
    }
   },
   "outputs": [],
   "source": [
    "%%time\n",
    "# timeconsuming, because of the KDE involved\n",
    "n_sims = 1000\n",
    "ylim_val = 0.0065\n",
    "\n",
    "labels=[key for key in periods.keys()]\n",
    "positions = [np.mean(tup) for tup in timeblocks_periods]\n",
    "#positions = [np.mean(tup[0]) for tup in occups_ratios_merged]\n",
    "\n",
    "fig, [ax1,ax2,ax3,ax4] = plt.subplots(4,1, figsize=[5.2, 4.4], tight_layout=True)\n",
    "\n",
    "### ax1 - large\n",
    "for period, color in zip(periods.keys(), colors_list):\n",
    "    ax1.axvspan(periods[period][\"startdate\"], periods[period][\"enddate\"], color=color)#, linestyles=\"dashed\", color=\"red\")\n",
    "# period labels\n",
    "ax1.set_xticks(positions)\n",
    "ax1.set_xticklabels(labels)\n",
    "ax1.xaxis.set_tick_params(rotation=90)\n",
    "ax1.xaxis.tick_top()\n",
    "\n",
    "for data in var_data_large_control[:n_sims]:\n",
    "    sns.kdeplot(data, ax=ax1, color=\"black\", alpha=0.5)\n",
    "for data in var_data_large[:n_sims]:\n",
    "    sns.kdeplot(data, ax=ax1, color=\"darkred\", alpha=0.5)\n",
    "\n",
    "ax1.set_xlim(-50,350)\n",
    "ax1.set_ylabel(\"KDE\")\n",
    "ax1.set_ylim(0, ylim_val)\n",
    "\n",
    "### ax2 - medium\n",
    "for period, color in zip(periods.keys(), colors_list):\n",
    "    ax2.axvspan(periods[period][\"startdate\"], periods[period][\"enddate\"], color=color)#, linestyles=\"dashed\", color=\"red\")\n",
    "\n",
    "for data in var_data_medium_control[:n_sims]:\n",
    "    sns.kdeplot(data, ax=ax2, color=\"black\", alpha=0.5)\n",
    "for data in var_data_medium[:n_sims]:\n",
    "    sns.kdeplot(data, ax=ax2, color=\"darkgreen\", alpha=0.5)\n",
    "\n",
    "ax2.set_xlim(-50,350)\n",
    "ax2.set_ylabel(\"KDE\")\n",
    "ax2.set_ylim(0, ylim_val)\n",
    "ax2.set_xticks([])\n",
    "\n",
    "### ax3 - small\n",
    "for period, color in zip(periods.keys(), colors_list):\n",
    "    ax3.axvspan(periods[period][\"startdate\"], periods[period][\"enddate\"], color=color)\n",
    "\n",
    "for data in var_data_small_control[:n_sims]:\n",
    "    sns.kdeplot(data, ax=ax3, color=\"black\", alpha=0.5)\n",
    "for data in var_data_small[:n_sims]:\n",
    "    sns.kdeplot(data, ax=ax3, color=\"darkblue\", alpha=0.5)\n",
    "ax3.set_xlim(-50,350)\n",
    "ax3.set_ylabel(\"KDE\")\n",
    "ax3.set_ylim(0, ylim_val)\n",
    "ax3.set_xticks([])\n",
    "\n",
    "### ax4 - rural\n",
    "for period, color in zip(periods.keys(), colors_list):\n",
    "    ax4.axvspan(periods[period][\"startdate\"], periods[period][\"enddate\"], color=color)\n",
    "\n",
    "for data in var_data_rural_control[:n_sims]:\n",
    "    sns.kdeplot(data, ax=ax4, color=\"black\", alpha=0.5)\n",
    "for data in var_data_rural[:n_sims]:\n",
    "    sns.kdeplot(data, ax=ax4, color=\"purple\", alpha=0.5)\n",
    "ax4.set_xlim(-50,350)\n",
    "ax4.set_ylabel(\"KDE\")\n",
    "ax4.set_ylim(0, ylim_val)\n",
    "\n",
    "ax1.set_title(\"A\", x=0.025, y=0.65)\n",
    "ax2.set_title(\"B\", x=0.025, y=0.65)\n",
    "ax3.set_title(\"C\", x=0.025, y=0.65)\n",
    "ax4.set_title(\"D\", x=0.025, y=0.65)\n",
    "\n",
    "markers = [plt.Line2D([0,0],[0,0],color=color, lw=4) for color in [\"black\", \"darkred\", \"darkgreen\", \"darkblue\", \"purple\"]]\n",
    "ax1.legend(markers, [\"Random sample\", \"Occups. large cities\", \"Occups. medium cities\", \"Occups. small cities\", \"Occups. rural areas\"], bbox_to_anchor=(1, 1.4), loc='upper left')"
   ]
  },
  {
   "cell_type": "code",
   "execution_count": null,
   "metadata": {
    "pycharm": {
     "name": "#%%\n"
    }
   },
   "outputs": [],
   "source": [
    "save_figure(fig, \"occups_vs_sample_by_context_tempdist_kde\")"
   ]
  },
  {
   "cell_type": "code",
   "execution_count": null,
   "metadata": {
    "pycharm": {
     "name": "#%%\n"
    }
   },
   "outputs": [],
   "source": [
    "LIST_large = LIST[LIST[\"urban_context_alt\"]==\"large\"]"
   ]
  },
  {
   "cell_type": "code",
   "execution_count": null,
   "metadata": {
    "pycharm": {
     "name": "#%%\n"
    }
   },
   "outputs": [],
   "source": [
    "len(LIST_large[LIST_large[\"occups_N\"]>0])"
   ]
  },
  {
   "cell_type": "code",
   "execution_count": null,
   "metadata": {
    "pycharm": {
     "name": "#%%\n"
    }
   },
   "outputs": [],
   "source": [
    "len(LIST_large[(LIST_large[\"occups_N\"]>0) & (LIST_large[\"type_of_inscription_auto\"]==\"epitaph\")])"
   ]
  },
  {
   "cell_type": "markdown",
   "metadata": {},
   "source": [
    "### Statistical comparison\n",
    "\n",
    "\n",
    "We use two-sample Kolmogorov-Smirnov test, which checks whether  two data samples come from the same distribution. This does not specify what that common distribution is (e.g. whether it's normal or not normal).  \n",
    "\n",
    "We employ it to compare distribution of all iscriptions mentioning an occupation/organization against a distribution based on a random sample of inscriptions of the same length. We repeat this procedure for all dating simulations and evaluate the consinstency of the findings."
   ]
  },
  {
   "cell_type": "code",
   "execution_count": 23,
   "metadata": {
    "pycharm": {
     "name": "#%%\n"
    }
   },
   "outputs": [],
   "source": [
    "def ks_per_samplesets(sampleset, sampleset_control, subsample_len=None):\n",
    "    if subsample_len == None:\n",
    "        subsample_len = len(sampleset[0])\n",
    "    KS_statistic = np.round(np.mean([scipy.stats.ks_2samp(sampleset[n][:subsample_len], sampleset_control[n][:subsample_len]).statistic for n in range(0,1000)]), 4)\n",
    "    p_values = np.round(np.mean([scipy.stats.ks_2samp(sampleset[n][:subsample_len], sampleset_control[n][:subsample_len]).pvalue for n in range(0,1000)]), 10)\n",
    "    return KS_statistic, p_values"
   ]
  },
  {
   "cell_type": "code",
   "execution_count": 24,
   "metadata": {
    "pycharm": {
     "name": "#%%\n"
    }
   },
   "outputs": [
    {
     "ename": "NameError",
     "evalue": "name 'var_data_large' is not defined",
     "output_type": "error",
     "traceback": [
      "\u001b[0;31m---------------------------------------------------------------------------\u001b[0m",
      "\u001b[0;31mNameError\u001b[0m                                 Traceback (most recent call last)",
      "\u001b[0;32m/tmp/ipykernel_6823/2258310454.py\u001b[0m in \u001b[0;36m<module>\u001b[0;34m\u001b[0m\n\u001b[1;32m      1\u001b[0m for sample_data, sample_control in (\n\u001b[0;32m----> 2\u001b[0;31m         \u001b[0;34m(\u001b[0m\u001b[0mvar_data_large\u001b[0m\u001b[0;34m,\u001b[0m \u001b[0mvar_data_large_control\u001b[0m\u001b[0;34m)\u001b[0m\u001b[0;34m,\u001b[0m\u001b[0;34m\u001b[0m\u001b[0;34m\u001b[0m\u001b[0m\n\u001b[0m\u001b[1;32m      3\u001b[0m         \u001b[0;34m(\u001b[0m\u001b[0mvar_data_medium\u001b[0m\u001b[0;34m,\u001b[0m \u001b[0mvar_data_medium_control\u001b[0m\u001b[0;34m)\u001b[0m\u001b[0;34m,\u001b[0m\u001b[0;34m\u001b[0m\u001b[0;34m\u001b[0m\u001b[0m\n\u001b[1;32m      4\u001b[0m         \u001b[0;34m(\u001b[0m\u001b[0mvar_data_small\u001b[0m\u001b[0;34m,\u001b[0m \u001b[0mvar_data_small_control\u001b[0m\u001b[0;34m)\u001b[0m\u001b[0;34m,\u001b[0m\u001b[0;34m\u001b[0m\u001b[0;34m\u001b[0m\u001b[0m\n\u001b[1;32m      5\u001b[0m         (var_data_rural, var_data_rural_control)):\n",
      "\u001b[0;31mNameError\u001b[0m: name 'var_data_large' is not defined"
     ]
    }
   ],
   "source": [
    "for sample_data, sample_control in (\n",
    "        (var_data_large, var_data_large_control),\n",
    "        (var_data_medium, var_data_medium_control),\n",
    "        (var_data_small, var_data_small_control),\n",
    "        (var_data_rural, var_data_rural_control)):\n",
    "    print(ks_per_samplesets(sample_data, sample_control))"
   ]
  },
  {
   "cell_type": "markdown",
   "metadata": {
    "pycharm": {
     "name": "#%% md\n"
    }
   },
   "source": [
    "### Case-study: Rome in the first half of the 1st century"
   ]
  },
  {
   "cell_type": "code",
   "execution_count": 25,
   "metadata": {
    "pycharm": {
     "name": "#%%\n"
    }
   },
   "outputs": [
    {
     "ename": "NameError",
     "evalue": "name 'LIST_large' is not defined",
     "output_type": "error",
     "traceback": [
      "\u001b[0;31m---------------------------------------------------------------------------\u001b[0m",
      "\u001b[0;31mNameError\u001b[0m                                 Traceback (most recent call last)",
      "\u001b[0;32m/tmp/ipykernel_6823/3887340745.py\u001b[0m in \u001b[0;36m<module>\u001b[0;34m\u001b[0m\n\u001b[0;32m----> 1\u001b[0;31m \u001b[0mLIST_rome\u001b[0m \u001b[0;34m=\u001b[0m \u001b[0mLIST_large\u001b[0m\u001b[0;34m[\u001b[0m\u001b[0mLIST_large\u001b[0m\u001b[0;34m[\u001b[0m\u001b[0;34m\"large_city_ID\"\u001b[0m\u001b[0;34m]\u001b[0m\u001b[0;34m==\u001b[0m\u001b[0;36m992\u001b[0m\u001b[0;34m]\u001b[0m\u001b[0;34m\u001b[0m\u001b[0;34m\u001b[0m\u001b[0m\n\u001b[0m\u001b[1;32m      2\u001b[0m \u001b[0mlen\u001b[0m\u001b[0;34m(\u001b[0m\u001b[0mLIST_rome\u001b[0m\u001b[0;34m)\u001b[0m\u001b[0;34m\u001b[0m\u001b[0;34m\u001b[0m\u001b[0m\n",
      "\u001b[0;31mNameError\u001b[0m: name 'LIST_large' is not defined"
     ]
    }
   ],
   "source": [
    "LIST_rome = LIST_large[LIST_large[\"large_city_ID\"]==992]\n",
    "len(LIST_rome)"
   ]
  },
  {
   "cell_type": "code",
   "execution_count": null,
   "metadata": {
    "pycharm": {
     "name": "#%%\n"
    }
   },
   "outputs": [],
   "source": [
    "n_sim = 1000\n",
    "period_start = 1\n",
    "period_end = 50\n",
    "lire_1_50_Ns, lire_1_50_occups_Ns, lire_large_1_50_Ns, lire_large_1_50_occups_Ns, rome_1_50_Ns, rome_1_50_occups_Ns = [], [], [], [], [], []\n",
    "for n in range(n_sim):\n",
    "    # LIST as a whole in the first half of the 1st century\n",
    "    dates_var = LIST[\"random_dates\"].apply(lambda x: x[n])\n",
    "    df_sub = LIST[dates_var.between(period_start,period_end)]\n",
    "    lire_1_50_Ns.append(len(df_sub))\n",
    "    lire_1_50_occups_Ns.append(df_sub[\"occups_N\"].sum())\n",
    "    # LIST large in the first half of the 1st century\n",
    "    dates_var = LIST_large[\"random_dates\"].apply(lambda x: x[n])\n",
    "    df_sub = LIST_large[dates_var.between(period_start,period_end)]\n",
    "    lire_large_1_50_Ns.append(len(df_sub))\n",
    "    rome_1_50_occups_Ns.append(df_sub[\"occups_N\"].sum())\n",
    "    # Rome alone in the first half of the 1st century\n",
    "    dates_var = LIST_rome[\"random_dates\"].apply(lambda x: x[n])\n",
    "    df_sub = LIST_rome[dates_var.between(period_start,period_end)]\n",
    "    rome_1_50_Ns.append(len(df_sub))\n",
    "    rome_1_50_occups_Ns.append(df_sub[\"occups_N\"].sum())"
   ]
  },
  {
   "cell_type": "code",
   "execution_count": null,
   "metadata": {
    "pycharm": {
     "name": "#%%\n"
    }
   },
   "outputs": [],
   "source": [
    "print(pd.Series(lire_1_50_Ns).describe())\n",
    "print(pd.Series(lire_1_50_occups_Ns).describe())\n",
    "print(pd.Series(lire_large_1_50_Ns).describe())\n",
    "print(pd.Series(lire_large_1_50_occups_Ns).describe())\n",
    "print(pd.Series(rome_1_50_Ns).describe())\n",
    "print(pd.Series(rome_1_50_occups_Ns).describe())"
   ]
  },
  {
   "cell_type": "code",
   "execution_count": null,
   "metadata": {
    "pycharm": {
     "name": "#%%\n"
    }
   },
   "outputs": [],
   "source": [
    "6695.775000 / 20292.573000"
   ]
  },
  {
   "cell_type": "code",
   "execution_count": null,
   "metadata": {
    "pycharm": {
     "is_executing": true,
     "name": "#%%\n"
    }
   },
   "outputs": [],
   "source": [
    "7157.305 / 20292.573000"
   ]
  },
  {
   "cell_type": "code",
   "execution_count": null,
   "metadata": {
    "pycharm": {
     "name": "#%%\n"
    }
   },
   "outputs": [],
   "source": [
    "7051.422000 / 20292.573000"
   ]
  },
  {
   "cell_type": "code",
   "execution_count": null,
   "metadata": {
    "pycharm": {
     "name": "#%%\n"
    }
   },
   "outputs": [],
   "source": [
    "8142.367899 / 20292.573000"
   ]
  },
  {
   "cell_type": "code",
   "execution_count": null,
   "metadata": {
    "pycharm": {
     "name": "#%%\n"
    }
   },
   "outputs": [],
   "source": [
    "7051.422000 / len(LIST)"
   ]
  },
  {
   "cell_type": "code",
   "execution_count": null,
   "metadata": {
    "pycharm": {
     "name": "#%%\n"
    }
   },
   "outputs": [],
   "source": [
    "546.259000 / LIST[\"occups_N\"].sum()"
   ]
  },
  {
   "cell_type": "markdown",
   "metadata": {},
   "source": [
    "# Temporal exploration of occupational data"
   ]
  },
  {
   "cell_type": "markdown",
   "metadata": {},
   "source": [
    "## Occupations & organizations over inscription types"
   ]
  },
  {
   "cell_type": "code",
   "execution_count": 26,
   "metadata": {},
   "outputs": [
    {
     "data": {
      "text/plain": [
       "[('epitaph', 115286),\n",
       " ('votive inscription', 17550),\n",
       " ('identification inscription', 13894),\n",
       " ('owner/artist inscription', 11133),\n",
       " ('honorific inscription', 6973),\n",
       " ('building/dedicatory inscription', 3936),\n",
       " ('mile-/leaguestone', 2943),\n",
       " ('boundary inscription', 511),\n",
       " ('military diploma', 454),\n",
       " ('acclamation', 447),\n",
       " ('defixio', 429),\n",
       " ('list', 302),\n",
       " ('label', 234),\n",
       " ('public legal inscription', 173),\n",
       " ('elogium', 137),\n",
       " ('letter', 124),\n",
       " ('seat inscription', 68),\n",
       " ('prayer', 41),\n",
       " ('private legal inscription', 38),\n",
       " ('assignation inscription', 14),\n",
       " ('calendar', 11),\n",
       " ('adnuntiatio', 1),\n",
       " (None, 0)]"
      ]
     },
     "execution_count": 26,
     "metadata": {},
     "output_type": "execute_result"
    }
   ],
   "source": [
    "simulations_by_type_len = []\n",
    "\n",
    "for ins_type in LIST[\"type_of_inscription_auto\"].unique():\n",
    "    if ins_type != \"NULL\":\n",
    "        subset_df = LIST[LIST[\"type_of_inscription_auto\"]==ins_type]\n",
    "        simulations_by_type_len.append((ins_type, len(subset_df)))\n",
    "simulations_by_type_len = sorted(simulations_by_type_len, key = lambda x: x[1], reverse=True)\n",
    "simulations_by_type_len"
   ]
  },
  {
   "cell_type": "code",
   "execution_count": 27,
   "metadata": {},
   "outputs": [
    {
     "name": "stdout",
     "output_type": "stream",
     "text": [
      "inscription type: epitaph, N of occupations: 662\n",
      "inscription type: votive inscription, N of occupations: 407\n",
      "inscription type: identification inscription, N of occupations: 16\n",
      "inscription type: owner/artist inscription, N of occupations: 41\n",
      "inscription type: honorific inscription, N of occupations: 408\n",
      "inscription type: building/dedicatory inscription, N of occupations: 130\n",
      "inscription type: mile-/leaguestone, N of occupations: 0\n",
      "inscription type: boundary inscription, N of occupations: 9\n",
      "inscription type: military diploma, N of occupations: 52\n",
      "inscription type: acclamation, N of occupations: 3\n",
      "inscription type: defixio, N of occupations: 6\n",
      "inscription type: list, N of occupations: 53\n",
      "inscription type: label, N of occupations: 0\n",
      "inscription type: public legal inscription, N of occupations: 59\n",
      "inscription type: elogium, N of occupations: 2\n",
      "inscription type: letter, N of occupations: 10\n",
      "inscription type: seat inscription, N of occupations: 0\n",
      "inscription type: prayer, N of occupations: 1\n",
      "inscription type: private legal inscription, N of occupations: 20\n",
      "inscription type: assignation inscription, N of occupations: 8\n",
      "inscription type: calendar, N of occupations: 0\n",
      "inscription type: adnuntiatio, N of occupations: 0\n"
     ]
    }
   ],
   "source": [
    "# N of occuptions and N of organization per inscription category\n",
    "ins_types_occs_orgs = []\n",
    "for ins_type_tup in simulations_by_type_len[:-1]:\n",
    "    subset_df = LIST[LIST[\"type_of_inscription_clean\"]==ins_type_tup[0]]\n",
    "    occ_N = subset_df[\"occups_N\"].sum()\n",
    "    ins_types_occs_orgs.append([ins_type_tup[0] + \" (N={0})\".format(len(subset_df)), occ_N])\n",
    "    print(\"inscription type: {0}, N of occupations: {1}\".format(ins_type_tup[0], str(occ_N)))"
   ]
  },
  {
   "cell_type": "code",
   "execution_count": 28,
   "metadata": {},
   "outputs": [
    {
     "data": {
      "text/html": [
       "<div>\n",
       "<style scoped>\n",
       "    .dataframe tbody tr th:only-of-type {\n",
       "        vertical-align: middle;\n",
       "    }\n",
       "\n",
       "    .dataframe tbody tr th {\n",
       "        vertical-align: top;\n",
       "    }\n",
       "\n",
       "    .dataframe thead th {\n",
       "        text-align: right;\n",
       "    }\n",
       "</style>\n",
       "<table border=\"1\" class=\"dataframe\">\n",
       "  <thead>\n",
       "    <tr style=\"text-align: right;\">\n",
       "      <th></th>\n",
       "      <th>inscription type</th>\n",
       "      <th>occupations</th>\n",
       "    </tr>\n",
       "  </thead>\n",
       "  <tbody>\n",
       "    <tr>\n",
       "      <th>0</th>\n",
       "      <td>epitaph (N=25285)</td>\n",
       "      <td>662</td>\n",
       "    </tr>\n",
       "    <tr>\n",
       "      <th>1</th>\n",
       "      <td>votive inscription (N=12948)</td>\n",
       "      <td>407</td>\n",
       "    </tr>\n",
       "    <tr>\n",
       "      <th>2</th>\n",
       "      <td>identification inscription (N=1218)</td>\n",
       "      <td>16</td>\n",
       "    </tr>\n",
       "    <tr>\n",
       "      <th>3</th>\n",
       "      <td>owner/artist inscription (N=4307)</td>\n",
       "      <td>41</td>\n",
       "    </tr>\n",
       "    <tr>\n",
       "      <th>4</th>\n",
       "      <td>honorific inscription (N=3467)</td>\n",
       "      <td>408</td>\n",
       "    </tr>\n",
       "    <tr>\n",
       "      <th>5</th>\n",
       "      <td>building/dedicatory inscription (N=3037)</td>\n",
       "      <td>130</td>\n",
       "    </tr>\n",
       "    <tr>\n",
       "      <th>6</th>\n",
       "      <td>mile-/leaguestone (N=1491)</td>\n",
       "      <td>0</td>\n",
       "    </tr>\n",
       "    <tr>\n",
       "      <th>7</th>\n",
       "      <td>boundary inscription (N=202)</td>\n",
       "      <td>9</td>\n",
       "    </tr>\n",
       "    <tr>\n",
       "      <th>8</th>\n",
       "      <td>military diploma (N=290)</td>\n",
       "      <td>52</td>\n",
       "    </tr>\n",
       "    <tr>\n",
       "      <th>9</th>\n",
       "      <td>acclamation (N=434)</td>\n",
       "      <td>3</td>\n",
       "    </tr>\n",
       "    <tr>\n",
       "      <th>10</th>\n",
       "      <td>defixio (N=271)</td>\n",
       "      <td>6</td>\n",
       "    </tr>\n",
       "    <tr>\n",
       "      <th>11</th>\n",
       "      <td>list (N=295)</td>\n",
       "      <td>53</td>\n",
       "    </tr>\n",
       "    <tr>\n",
       "      <th>12</th>\n",
       "      <td>label (N=234)</td>\n",
       "      <td>0</td>\n",
       "    </tr>\n",
       "    <tr>\n",
       "      <th>13</th>\n",
       "      <td>public legal inscription (N=131)</td>\n",
       "      <td>59</td>\n",
       "    </tr>\n",
       "    <tr>\n",
       "      <th>14</th>\n",
       "      <td>elogium (N=137)</td>\n",
       "      <td>2</td>\n",
       "    </tr>\n",
       "    <tr>\n",
       "      <th>15</th>\n",
       "      <td>letter (N=124)</td>\n",
       "      <td>10</td>\n",
       "    </tr>\n",
       "    <tr>\n",
       "      <th>16</th>\n",
       "      <td>seat inscription (N=68)</td>\n",
       "      <td>0</td>\n",
       "    </tr>\n",
       "    <tr>\n",
       "      <th>17</th>\n",
       "      <td>prayer (N=41)</td>\n",
       "      <td>1</td>\n",
       "    </tr>\n",
       "    <tr>\n",
       "      <th>18</th>\n",
       "      <td>private legal inscription (N=38)</td>\n",
       "      <td>20</td>\n",
       "    </tr>\n",
       "    <tr>\n",
       "      <th>19</th>\n",
       "      <td>assignation inscription (N=14)</td>\n",
       "      <td>8</td>\n",
       "    </tr>\n",
       "    <tr>\n",
       "      <th>20</th>\n",
       "      <td>calendar (N=11)</td>\n",
       "      <td>0</td>\n",
       "    </tr>\n",
       "    <tr>\n",
       "      <th>21</th>\n",
       "      <td>adnuntiatio (N=1)</td>\n",
       "      <td>0</td>\n",
       "    </tr>\n",
       "  </tbody>\n",
       "</table>\n",
       "</div>"
      ],
      "text/plain": [
       "                            inscription type  occupations\n",
       "0                          epitaph (N=25285)          662\n",
       "1               votive inscription (N=12948)          407\n",
       "2        identification inscription (N=1218)           16\n",
       "3          owner/artist inscription (N=4307)           41\n",
       "4             honorific inscription (N=3467)          408\n",
       "5   building/dedicatory inscription (N=3037)          130\n",
       "6                 mile-/leaguestone (N=1491)            0\n",
       "7               boundary inscription (N=202)            9\n",
       "8                   military diploma (N=290)           52\n",
       "9                        acclamation (N=434)            3\n",
       "10                           defixio (N=271)            6\n",
       "11                              list (N=295)           53\n",
       "12                             label (N=234)            0\n",
       "13          public legal inscription (N=131)           59\n",
       "14                           elogium (N=137)            2\n",
       "15                            letter (N=124)           10\n",
       "16                   seat inscription (N=68)            0\n",
       "17                             prayer (N=41)            1\n",
       "18          private legal inscription (N=38)           20\n",
       "19            assignation inscription (N=14)            8\n",
       "20                           calendar (N=11)            0\n",
       "21                         adnuntiatio (N=1)            0"
      ]
     },
     "execution_count": 28,
     "metadata": {},
     "output_type": "execute_result"
    }
   ],
   "source": [
    "pd.DataFrame(ins_types_occs_orgs, columns=[\"inscription type\", \"occupations\"])"
   ]
  },
  {
   "cell_type": "code",
   "execution_count": 29,
   "metadata": {},
   "outputs": [],
   "source": [
    "def wordcount(timeblock_df, column=\"clean_text_interpretive_word\"):\n",
    "    \"\"\"number of words in inscriptions within timeblock\"\"\"\n",
    "    return timeblock_df[column].astype(str).apply(lambda x: len(x.split())).sum()"
   ]
  },
  {
   "cell_type": "code",
   "execution_count": 30,
   "metadata": {},
   "outputs": [],
   "source": [
    "types, occups_freqs = [], []\n",
    "\n",
    "for ins_type_tup in simulations_by_type_len[:10][::-1]: # for horizontal bar below, we need the list in reverse order, therefore: [::-1]\n",
    "    subset_df = LIST[LIST[\"type_of_inscription_clean\"]==ins_type_tup[0]]\n",
    "    subset_wordcount = wordcount(subset_df).sum()\n",
    "    types.append(ins_type_tup[0])\n",
    "    occups_freqs.append(subset_df[\"occups_N\"].sum() / subset_wordcount * 1000)"
   ]
  },
  {
   "cell_type": "code",
   "execution_count": 33,
   "metadata": {},
   "outputs": [
    {
     "data": {
      "text/plain": [
       "<matplotlib.legend.Legend at 0x7fbe93c57850>"
      ]
     },
     "execution_count": 33,
     "metadata": {},
     "output_type": "execute_result"
    },
    {
     "data": {
      "image/png": "[encoded data removed]",
      "text/plain": [
       "<Figure size 374.4x144 with 1 Axes>"
      ]
     },
     "metadata": {
      "needs_background": "light"
     },
     "output_type": "display_data"
    }
   ],
   "source": [
    "fig, ax  = plt.subplots(figsize=(5.2, 2), tight_layout=True)\n",
    "\n",
    "y = np.arange(len(types))\n",
    "height = 0.48\n",
    "\n",
    "ax.barh(y, occups_freqs, height, label=\"occupations\", color=\"tab:blue\") #, color=tab_colors_list[:len(simulations_by_type)])\n",
    "\n",
    "ax.set_yticks(y) #y_pos, types)\n",
    "ax.set_yticklabels(types) #, rotation=\"vertical\")\n",
    "ax.set_xlabel(\"occupations mentioned per 1,000 words\")\n",
    "ax.set_ylabel(\"inscription type\")\n",
    "ax.legend()"
   ]
  },
  {
   "cell_type": "code",
   "execution_count": 32,
   "metadata": {
    "pycharm": {
     "name": "#%%\n"
    }
   },
   "outputs": [
    {
     "ename": "FileNotFoundError",
     "evalue": "[Errno 2] No such file or directory: '../figures/LIST_occups_by_inscrtypes.tiff'",
     "output_type": "error",
     "traceback": [
      "\u001b[0;31m---------------------------------------------------------------------------\u001b[0m",
      "\u001b[0;31mFileNotFoundError\u001b[0m                         Traceback (most recent call last)",
      "\u001b[0;32m/tmp/ipykernel_6823/773659885.py\u001b[0m in \u001b[0;36m<module>\u001b[0;34m\u001b[0m\n\u001b[0;32m----> 1\u001b[0;31m \u001b[0msave_figure\u001b[0m\u001b[0;34m(\u001b[0m\u001b[0mfig\u001b[0m\u001b[0;34m,\u001b[0m \u001b[0;34m\"LIST_occups_by_inscrtypes\"\u001b[0m\u001b[0;34m)\u001b[0m\u001b[0;34m\u001b[0m\u001b[0;34m\u001b[0m\u001b[0m\n\u001b[0m",
      "\u001b[0;32m/tmp/ipykernel_6823/3588247264.py\u001b[0m in \u001b[0;36msave_figure\u001b[0;34m(fig, fig_name)\u001b[0m\n\u001b[1;32m      8\u001b[0m \u001b[0;32mdef\u001b[0m \u001b[0msave_figure\u001b[0m\u001b[0;34m(\u001b[0m\u001b[0mfig\u001b[0m\u001b[0;34m,\u001b[0m \u001b[0mfig_name\u001b[0m\u001b[0;34m)\u001b[0m\u001b[0;34m:\u001b[0m\u001b[0;34m\u001b[0m\u001b[0;34m\u001b[0m\u001b[0m\n\u001b[1;32m      9\u001b[0m     \u001b[0;31m#each figure to be saved in four different versions\u001b[0m\u001b[0;34m\u001b[0m\u001b[0;34m\u001b[0m\u001b[0;34m\u001b[0m\u001b[0m\n\u001b[0;32m---> 10\u001b[0;31m     \u001b[0mfig\u001b[0m\u001b[0;34m.\u001b[0m\u001b[0msavefig\u001b[0m\u001b[0;34m(\u001b[0m\u001b[0;34m\"../figures/\"\u001b[0m \u001b[0;34m+\u001b[0m \u001b[0mfig_name\u001b[0m \u001b[0;34m+\u001b[0m \u001b[0;34m\".tiff\"\u001b[0m\u001b[0;34m)\u001b[0m\u001b[0;34m\u001b[0m\u001b[0;34m\u001b[0m\u001b[0m\n\u001b[0m\u001b[1;32m     11\u001b[0m     \u001b[0mfig\u001b[0m\u001b[0;34m.\u001b[0m\u001b[0msavefig\u001b[0m\u001b[0;34m(\u001b[0m\u001b[0;34m\"../figures/\"\u001b[0m \u001b[0;34m+\u001b[0m \u001b[0mfig_name\u001b[0m \u001b[0;34m+\u001b[0m \u001b[0;34m\".svg\"\u001b[0m\u001b[0;34m)\u001b[0m\u001b[0;34m\u001b[0m\u001b[0;34m\u001b[0m\u001b[0m\n\u001b[1;32m     12\u001b[0m     \u001b[0mfig\u001b[0m\u001b[0;34m.\u001b[0m\u001b[0msavefig\u001b[0m\u001b[0;34m(\u001b[0m\u001b[0;34m\"../figures/\"\u001b[0m \u001b[0;34m+\u001b[0m \u001b[0mfig_name\u001b[0m \u001b[0;34m+\u001b[0m \u001b[0;34m\".png\"\u001b[0m\u001b[0;34m)\u001b[0m\u001b[0;34m\u001b[0m\u001b[0;34m\u001b[0m\u001b[0m\n",
      "\u001b[0;32m~/.local/lib/python3.8/site-packages/matplotlib/figure.py\u001b[0m in \u001b[0;36msavefig\u001b[0;34m(self, fname, transparent, **kwargs)\u001b[0m\n\u001b[1;32m   3376\u001b[0m                         ax.patch._cm_set(facecolor='none', edgecolor='none'))\n\u001b[1;32m   3377\u001b[0m \u001b[0;34m\u001b[0m\u001b[0m\n\u001b[0;32m-> 3378\u001b[0;31m             \u001b[0mself\u001b[0m\u001b[0;34m.\u001b[0m\u001b[0mcanvas\u001b[0m\u001b[0;34m.\u001b[0m\u001b[0mprint_figure\u001b[0m\u001b[0;34m(\u001b[0m\u001b[0mfname\u001b[0m\u001b[0;34m,\u001b[0m \u001b[0;34m**\u001b[0m\u001b[0mkwargs\u001b[0m\u001b[0;34m)\u001b[0m\u001b[0;34m\u001b[0m\u001b[0;34m\u001b[0m\u001b[0m\n\u001b[0m\u001b[1;32m   3379\u001b[0m \u001b[0;34m\u001b[0m\u001b[0m\n\u001b[1;32m   3380\u001b[0m     def ginput(self, n=1, timeout=30, show_clicks=True,\n",
      "\u001b[0;32m~/.local/lib/python3.8/site-packages/matplotlib/backend_bases.py\u001b[0m in \u001b[0;36mprint_figure\u001b[0;34m(self, filename, dpi, facecolor, edgecolor, orientation, format, bbox_inches, pad_inches, bbox_extra_artists, backend, **kwargs)\u001b[0m\n\u001b[1;32m   2364\u001b[0m                 \u001b[0;31m# force the figure dpi to 72), so we need to set it again here.\u001b[0m\u001b[0;34m\u001b[0m\u001b[0;34m\u001b[0m\u001b[0;34m\u001b[0m\u001b[0m\n\u001b[1;32m   2365\u001b[0m                 \u001b[0;32mwith\u001b[0m \u001b[0mcbook\u001b[0m\u001b[0;34m.\u001b[0m\u001b[0m_setattr_cm\u001b[0m\u001b[0;34m(\u001b[0m\u001b[0mself\u001b[0m\u001b[0;34m.\u001b[0m\u001b[0mfigure\u001b[0m\u001b[0;34m,\u001b[0m \u001b[0mdpi\u001b[0m\u001b[0;34m=\u001b[0m\u001b[0mdpi\u001b[0m\u001b[0;34m)\u001b[0m\u001b[0;34m:\u001b[0m\u001b[0;34m\u001b[0m\u001b[0;34m\u001b[0m\u001b[0m\n\u001b[0;32m-> 2366\u001b[0;31m                     result = print_method(\n\u001b[0m\u001b[1;32m   2367\u001b[0m                         \u001b[0mfilename\u001b[0m\u001b[0;34m,\u001b[0m\u001b[0;34m\u001b[0m\u001b[0;34m\u001b[0m\u001b[0m\n\u001b[1;32m   2368\u001b[0m                         \u001b[0mfacecolor\u001b[0m\u001b[0;34m=\u001b[0m\u001b[0mfacecolor\u001b[0m\u001b[0;34m,\u001b[0m\u001b[0;34m\u001b[0m\u001b[0;34m\u001b[0m\u001b[0m\n",
      "\u001b[0;32m~/.local/lib/python3.8/site-packages/matplotlib/backend_bases.py\u001b[0m in \u001b[0;36m<lambda>\u001b[0;34m(*args, **kwargs)\u001b[0m\n\u001b[1;32m   2230\u001b[0m                 \"bbox_inches_restore\"}\n\u001b[1;32m   2231\u001b[0m             \u001b[0mskip\u001b[0m \u001b[0;34m=\u001b[0m \u001b[0moptional_kws\u001b[0m \u001b[0;34m-\u001b[0m \u001b[0;34m{\u001b[0m\u001b[0;34m*\u001b[0m\u001b[0minspect\u001b[0m\u001b[0;34m.\u001b[0m\u001b[0msignature\u001b[0m\u001b[0;34m(\u001b[0m\u001b[0mmeth\u001b[0m\u001b[0;34m)\u001b[0m\u001b[0;34m.\u001b[0m\u001b[0mparameters\u001b[0m\u001b[0;34m}\u001b[0m\u001b[0;34m\u001b[0m\u001b[0;34m\u001b[0m\u001b[0m\n\u001b[0;32m-> 2232\u001b[0;31m             print_method = functools.wraps(meth)(lambda *args, **kwargs: meth(\n\u001b[0m\u001b[1;32m   2233\u001b[0m                 *args, **{k: v for k, v in kwargs.items() if k not in skip}))\n\u001b[1;32m   2234\u001b[0m         \u001b[0;32melse\u001b[0m\u001b[0;34m:\u001b[0m  \u001b[0;31m# Let third-parties do as they see fit.\u001b[0m\u001b[0;34m\u001b[0m\u001b[0;34m\u001b[0m\u001b[0m\n",
      "\u001b[0;32m~/.local/lib/python3.8/site-packages/matplotlib/backends/backend_agg.py\u001b[0m in \u001b[0;36mprint_tif\u001b[0;34m(self, filename_or_obj, pil_kwargs)\u001b[0m\n\u001b[1;32m    529\u001b[0m \u001b[0;34m\u001b[0m\u001b[0m\n\u001b[1;32m    530\u001b[0m     \u001b[0;32mdef\u001b[0m \u001b[0mprint_tif\u001b[0m\u001b[0;34m(\u001b[0m\u001b[0mself\u001b[0m\u001b[0;34m,\u001b[0m \u001b[0mfilename_or_obj\u001b[0m\u001b[0;34m,\u001b[0m \u001b[0;34m*\u001b[0m\u001b[0;34m,\u001b[0m \u001b[0mpil_kwargs\u001b[0m\u001b[0;34m=\u001b[0m\u001b[0;32mNone\u001b[0m\u001b[0;34m)\u001b[0m\u001b[0;34m:\u001b[0m\u001b[0;34m\u001b[0m\u001b[0;34m\u001b[0m\u001b[0m\n\u001b[0;32m--> 531\u001b[0;31m         \u001b[0mself\u001b[0m\u001b[0;34m.\u001b[0m\u001b[0m_print_pil\u001b[0m\u001b[0;34m(\u001b[0m\u001b[0mfilename_or_obj\u001b[0m\u001b[0;34m,\u001b[0m \u001b[0;34m\"tiff\"\u001b[0m\u001b[0;34m,\u001b[0m \u001b[0mpil_kwargs\u001b[0m\u001b[0;34m)\u001b[0m\u001b[0;34m\u001b[0m\u001b[0;34m\u001b[0m\u001b[0m\n\u001b[0m\u001b[1;32m    532\u001b[0m \u001b[0;34m\u001b[0m\u001b[0m\n\u001b[1;32m    533\u001b[0m     \u001b[0mprint_tiff\u001b[0m \u001b[0;34m=\u001b[0m \u001b[0mprint_tif\u001b[0m\u001b[0;34m\u001b[0m\u001b[0;34m\u001b[0m\u001b[0m\n",
      "\u001b[0;32m~/.local/lib/python3.8/site-packages/matplotlib/backends/backend_agg.py\u001b[0m in \u001b[0;36m_print_pil\u001b[0;34m(self, filename_or_obj, fmt, pil_kwargs, metadata)\u001b[0m\n\u001b[1;32m    456\u001b[0m         \"\"\"\n\u001b[1;32m    457\u001b[0m         \u001b[0mFigureCanvasAgg\u001b[0m\u001b[0;34m.\u001b[0m\u001b[0mdraw\u001b[0m\u001b[0;34m(\u001b[0m\u001b[0mself\u001b[0m\u001b[0;34m)\u001b[0m\u001b[0;34m\u001b[0m\u001b[0;34m\u001b[0m\u001b[0m\n\u001b[0;32m--> 458\u001b[0;31m         mpl.image.imsave(\n\u001b[0m\u001b[1;32m    459\u001b[0m             \u001b[0mfilename_or_obj\u001b[0m\u001b[0;34m,\u001b[0m \u001b[0mself\u001b[0m\u001b[0;34m.\u001b[0m\u001b[0mbuffer_rgba\u001b[0m\u001b[0;34m(\u001b[0m\u001b[0;34m)\u001b[0m\u001b[0;34m,\u001b[0m \u001b[0mformat\u001b[0m\u001b[0;34m=\u001b[0m\u001b[0mfmt\u001b[0m\u001b[0;34m,\u001b[0m \u001b[0morigin\u001b[0m\u001b[0;34m=\u001b[0m\u001b[0;34m\"upper\"\u001b[0m\u001b[0;34m,\u001b[0m\u001b[0;34m\u001b[0m\u001b[0;34m\u001b[0m\u001b[0m\n\u001b[1;32m    460\u001b[0m             dpi=self.figure.dpi, metadata=metadata, pil_kwargs=pil_kwargs)\n",
      "\u001b[0;32m~/.local/lib/python3.8/site-packages/matplotlib/image.py\u001b[0m in \u001b[0;36mimsave\u001b[0;34m(fname, arr, vmin, vmax, cmap, format, origin, dpi, metadata, pil_kwargs)\u001b[0m\n\u001b[1;32m   1687\u001b[0m         \u001b[0mpil_kwargs\u001b[0m\u001b[0;34m.\u001b[0m\u001b[0msetdefault\u001b[0m\u001b[0;34m(\u001b[0m\u001b[0;34m\"format\"\u001b[0m\u001b[0;34m,\u001b[0m \u001b[0mformat\u001b[0m\u001b[0;34m)\u001b[0m\u001b[0;34m\u001b[0m\u001b[0;34m\u001b[0m\u001b[0m\n\u001b[1;32m   1688\u001b[0m         \u001b[0mpil_kwargs\u001b[0m\u001b[0;34m.\u001b[0m\u001b[0msetdefault\u001b[0m\u001b[0;34m(\u001b[0m\u001b[0;34m\"dpi\"\u001b[0m\u001b[0;34m,\u001b[0m \u001b[0;34m(\u001b[0m\u001b[0mdpi\u001b[0m\u001b[0;34m,\u001b[0m \u001b[0mdpi\u001b[0m\u001b[0;34m)\u001b[0m\u001b[0;34m)\u001b[0m\u001b[0;34m\u001b[0m\u001b[0;34m\u001b[0m\u001b[0m\n\u001b[0;32m-> 1689\u001b[0;31m         \u001b[0mimage\u001b[0m\u001b[0;34m.\u001b[0m\u001b[0msave\u001b[0m\u001b[0;34m(\u001b[0m\u001b[0mfname\u001b[0m\u001b[0;34m,\u001b[0m \u001b[0;34m**\u001b[0m\u001b[0mpil_kwargs\u001b[0m\u001b[0;34m)\u001b[0m\u001b[0;34m\u001b[0m\u001b[0;34m\u001b[0m\u001b[0m\n\u001b[0m\u001b[1;32m   1690\u001b[0m \u001b[0;34m\u001b[0m\u001b[0m\n\u001b[1;32m   1691\u001b[0m \u001b[0;34m\u001b[0m\u001b[0m\n",
      "\u001b[0;32m~/.local/lib/python3.8/site-packages/PIL/Image.py\u001b[0m in \u001b[0;36msave\u001b[0;34m(self, fp, format, **params)\u001b[0m\n\u001b[1;32m   2433\u001b[0m                 \u001b[0mfp\u001b[0m \u001b[0;34m=\u001b[0m \u001b[0mbuiltins\u001b[0m\u001b[0;34m.\u001b[0m\u001b[0mopen\u001b[0m\u001b[0;34m(\u001b[0m\u001b[0mfilename\u001b[0m\u001b[0;34m,\u001b[0m \u001b[0;34m\"r+b\"\u001b[0m\u001b[0;34m)\u001b[0m\u001b[0;34m\u001b[0m\u001b[0;34m\u001b[0m\u001b[0m\n\u001b[1;32m   2434\u001b[0m             \u001b[0;32melse\u001b[0m\u001b[0;34m:\u001b[0m\u001b[0;34m\u001b[0m\u001b[0;34m\u001b[0m\u001b[0m\n\u001b[0;32m-> 2435\u001b[0;31m                 \u001b[0mfp\u001b[0m \u001b[0;34m=\u001b[0m \u001b[0mbuiltins\u001b[0m\u001b[0;34m.\u001b[0m\u001b[0mopen\u001b[0m\u001b[0;34m(\u001b[0m\u001b[0mfilename\u001b[0m\u001b[0;34m,\u001b[0m \u001b[0;34m\"w+b\"\u001b[0m\u001b[0;34m)\u001b[0m\u001b[0;34m\u001b[0m\u001b[0;34m\u001b[0m\u001b[0m\n\u001b[0m\u001b[1;32m   2436\u001b[0m \u001b[0;34m\u001b[0m\u001b[0m\n\u001b[1;32m   2437\u001b[0m         \u001b[0;32mtry\u001b[0m\u001b[0;34m:\u001b[0m\u001b[0;34m\u001b[0m\u001b[0;34m\u001b[0m\u001b[0m\n",
      "\u001b[0;31mFileNotFoundError\u001b[0m: [Errno 2] No such file or directory: '../figures/LIST_occups_by_inscrtypes.tiff'"
     ]
    }
   ],
   "source": [
    "save_figure(fig, \"LIST_occups_by_inscrtypes\")"
   ]
  },
  {
   "cell_type": "markdown",
   "metadata": {},
   "source": [
    "## Occupations & organizations together\n",
    "(not used now...)"
   ]
  },
  {
   "cell_type": "code",
   "execution_count": 37,
   "metadata": {},
   "outputs": [
    {
     "data": {
      "text/plain": [
       "1736"
      ]
     },
     "execution_count": 37,
     "metadata": {},
     "output_type": "execute_result"
    }
   ],
   "source": [
    "len(LIST[LIST[\"organizations_N\"]>0])"
   ]
  },
  {
   "cell_type": "code",
   "execution_count": 38,
   "metadata": {},
   "outputs": [
    {
     "data": {
      "text/plain": [
       "5745"
      ]
     },
     "execution_count": 38,
     "metadata": {},
     "output_type": "execute_result"
    }
   ],
   "source": [
    "len(LIST[LIST[\"occups_N\"]>0])"
   ]
  },
  {
   "cell_type": "code",
   "execution_count": 39,
   "metadata": {},
   "outputs": [
    {
     "data": {
      "text/plain": [
       "689"
      ]
     },
     "execution_count": 39,
     "metadata": {},
     "output_type": "execute_result"
    }
   ],
   "source": [
    "len(LIST[(LIST[\"occups_N\"]>0) & (LIST[\"organizations_N\"]>0)])"
   ]
  },
  {
   "cell_type": "code",
   "execution_count": null,
   "metadata": {},
   "outputs": [],
   "source": [
    "# does not work... see previous versions....\n",
    "#LIST[\"occupsorgs\"] = LIST.apply(lambda row: eval(row[\"occups\"]) + eval(row[\"organizations\"]), axis=1)"
   ]
  },
  {
   "cell_type": "markdown",
   "metadata": {},
   "source": [
    "## Occupations & Organizations over centuries"
   ]
  },
  {
   "cell_type": "code",
   "execution_count": 40,
   "metadata": {},
   "outputs": [],
   "source": [
    "# various metrics on the level of timeblocks\n",
    "def occups_count(timeblock_df):\n",
    "    return timeblock_df[\"occups_N\"].sum()\n",
    "\n",
    "def orgs_count(timeblock_df):\n",
    "    return timeblock_df[\"organizations_N\"].sum()\n",
    "\n",
    "def occups_inscriptions_ratio(timeblock_df):\n",
    "    occups_N_sum = len(timeblock_df[timeblock_df[\"occups_N\"] > 0])\n",
    "    return (occups_N_sum / len(timeblock_df)) * 100\n",
    "\n",
    "def orgs_inscriptions_ratio(timeblock_df):\n",
    "    occups_N_sum = len(timeblock_df[timeblock_df[\"organizations_N\"] > 0])\n",
    "    return (occups_N_sum / len(timeblock_df)) * 100\n",
    "\n",
    "# various metrics on the level of timeblocks\n",
    "def occups_cumulTF(timeblock_df):\n",
    "    occups_N_sum = timeblock_df[\"occups_N\"].sum()\n",
    "    wordcount = timeblock_df[\"clean_text_interpretive_word\"].apply(lambda x: len(str(x).split())).sum()\n",
    "    return (occups_N_sum / wordcount) * 1000\n",
    "\n",
    "def orgs_cumulTF(timeblock_df):\n",
    "    occups_N_sum = timeblock_df[\"organizations_N\"].sum()\n",
    "    wordcount = timeblock_df[\"clean_text_interpretive_word\"].apply(lambda x: len(str(x).split())).sum()\n",
    "    return (occups_N_sum / wordcount) * 1000\n",
    "\n",
    "# various metrics on the level of timeblocks\n",
    "def unique_occups(timeblock_df):\n",
    "    unique_occups = len(set([el for sublist in timeblock_df[\"occups\"].tolist() for el in sublist]))\n",
    "    inscriptions_list = timeblock_df[\"clean_text_interpretive_word\"].astype(str).tolist()\n",
    "    return unique_occups\n",
    "\n",
    "# unique occups / inscriptions\n",
    "def unique_occups_ins_ratio(timeblock_df):\n",
    "    unique_occups = len(set([el for sublist in timeblock_df[\"occups\"].tolist() for el in sublist]))\n",
    "    return unique_occups / len(timeblock_df)\n",
    "\n",
    "\n",
    "# various metrics on the level of timeblocks\n",
    "def unique_occups_ratio(timeblock_df):\n",
    "    unique_occups = len(set([el for sublist in timeblock_df[\"occups\"].tolist() for el in sublist]))\n",
    "    inscriptions_list = timeblock_df[\"clean_text_interpretive_word\"].astype(str).tolist()\n",
    "    unique_words = len(set(\" \".join(inscriptions_list).split()))\n",
    "    return unique_occups / unique_words"
   ]
  },
  {
   "cell_type": "code",
   "execution_count": null,
   "metadata": {},
   "outputs": [],
   "source": [
    "%%time\n",
    "occups_counts = tempun.sim_data_by_function(LIST, 100, [-50, 350, 50], occups_count)\n",
    "occups_ins_ratio = tempun.sim_data_by_function(LIST, 100, [-50, 350, 50], occups_inscriptions_ratio)\n",
    "occups_TF_data = tempun.sim_data_by_function(LIST, 100, [-50, 350, 50], occups_cumulTF)\n",
    "unique_occups_data = tempun.sim_data_by_function(LIST, 100, [-50, 350, 50], unique_occups)\n",
    "unique_occups_ratio_data = tempun.sim_data_by_function(LIST, 100, [-50, 350, 50], unique_occups_ratio)\n",
    "unique_occups_ins_ratio_data = tempun.sim_data_by_function(LIST, 100, [-50, 350, 50], unique_occups_ins_ratio)"
   ]
  },
  {
   "cell_type": "code",
   "execution_count": null,
   "metadata": {},
   "outputs": [],
   "source": [
    "sim_data_list = [\n",
    "    (occups_counts, \"(A) occups count\", \"occups mentions count\"),\n",
    "    (occups_ins_ratio, \"(B) occups per 100 inscrs\", \"occups\"),\n",
    "    (occups_TF_data, \"(C) occups per 1000 words\", \"occups\"),\n",
    "    (unique_occups_data, \"(D) unique occups\", \"unique occups\"),\n",
    "    (unique_occups_ratio_data, \"(E) unique occups\\nper 1000 unique words\", \"unique occups\"),\n",
    "    (unique_occups_ins_ratio_data, \"(F) unique occups\\nper 100 inscrs\", \"unique occups\")\n",
    "]"
   ]
  },
  {
   "cell_type": "code",
   "execution_count": null,
   "metadata": {},
   "outputs": [],
   "source": [
    "unique_occups_data[0]"
   ]
  },
  {
   "cell_type": "code",
   "execution_count": null,
   "metadata": {},
   "outputs": [],
   "source": [
    "colors_base_list = list(mcolors.BASE_COLORS)"
   ]
  },
  {
   "cell_type": "code",
   "execution_count": null,
   "metadata": {},
   "outputs": [],
   "source": [
    "#plt.style.use(\"seaborn-white\")\n",
    "\n",
    "fig, axs  = plt.subplots(3, 2, figsize=(5.2, 4), tight_layout=True)\n",
    "n = 0\n",
    "for sim_data, ax in zip(sim_data_list, axs.ravel()):\n",
    "        tempun.plot_timeblocks_data(sim_data[0], ax, \"blue\", label=\"occups\", alpha=0.8)\n",
    "        n += 1\n",
    "        ax.set_title(sim_data[1])\n",
    "        ax.set_ylabel(sim_data[2])\n",
    "        if sim_data[1] == \"(A) occups count\":\n",
    "            ax.legend(ncol=2, bbox_to_anchor=(0, 1.2), loc=\"lower left\")"
   ]
  },
  {
   "cell_type": "code",
   "execution_count": null,
   "metadata": {
    "pycharm": {
     "name": "#%%\n"
    }
   },
   "outputs": [],
   "source": [
    "save_figure(fig, \"occups_temporal_various_metrics\")"
   ]
  },
  {
   "cell_type": "code",
   "execution_count": null,
   "metadata": {
    "pycharm": {
     "name": "#%%\n"
    }
   },
   "outputs": [],
   "source": [
    "%%time\n",
    "sim_large  = tempun.timeblocks_from_randoms(LIST[LIST[\"urban_context_alt\"]==\"large\"], \"random_dates\", [-50, 350, 50])\n",
    "sim_medium = tempun.timeblocks_from_randoms(LIST[LIST[\"urban_context_alt\"]==\"medium\"], \"random_dates\", [-50, 350, 50])\n",
    "sim_small =  tempun.timeblocks_from_randoms(LIST[LIST[\"urban_context_alt\"]==\"small\"], \"random_dates\", [-50, 350, 50])\n",
    "sim_rural = tempun.timeblocks_from_randoms(LIST[LIST[\"urban_context_alt\"]==\"rural\"], \"random_dates\", [-50, 350, 50])"
   ]
  },
  {
   "cell_type": "code",
   "execution_count": null,
   "metadata": {
    "pycharm": {
     "name": "#%%\n"
    }
   },
   "outputs": [],
   "source": [
    "def get_occups_per_1000inscr(timeblock_df):\n",
    "    occups_N_sum = timeblock_df[\"occups_N\"].sum()\n",
    "    return (occups_N_sum / len(timeblock_df)) * 1000\n",
    "\n",
    "occups_per_1000inscr_large = tempun.sim_data_by_function(LIST[LIST[\"urban_context_alt\"]==\"large\"], 1000, [-50, 350, 50], get_occups_per_1000inscr)\n",
    "occups_per_1000inscr_medium = tempun.sim_data_by_function(LIST[LIST[\"urban_context_alt\"]==\"medium\"], 1000, [-50, 350, 50], get_occups_per_1000inscr)\n",
    "occups_per_1000inscr_small = tempun.sim_data_by_function(LIST[LIST[\"urban_context_alt\"]==\"small\"], 1000, [-50, 350, 50], get_occups_per_1000inscr)\n",
    "occups_per_1000inscr_rural = tempun.sim_data_by_function(LIST[LIST[\"urban_context_alt\"]==\"rural\"], 1000, [-50, 350, 50], get_occups_per_1000inscr)"
   ]
  },
  {
   "cell_type": "code",
   "execution_count": null,
   "metadata": {
    "pycharm": {
     "name": "#%%\n"
    }
   },
   "outputs": [],
   "source": [
    "occups_per_1000inscr = tempun.sim_data_by_function(LIST, 1000, [-50, 350, 50], get_occups_per_1000inscr)"
   ]
  },
  {
   "cell_type": "code",
   "execution_count": null,
   "metadata": {
    "pycharm": {
     "name": "#%%\n"
    }
   },
   "outputs": [],
   "source": [
    "%%time\n",
    "labels=[key for key in periods.keys()]\n",
    "positions = [np.mean(tup) for tup in timeblocks_periods]\n",
    "\n",
    "fig, [ax1, ax2, ax3] = plt.subplots(3,1, figsize=[5.2, 3.6], tight_layout=True)\n",
    "\n",
    "# ax1 - timeblocks\n",
    "tempun.plot_timeblocks_data(sim_large, color=\"darkred\", ax=ax1)\n",
    "tempun.plot_timeblocks_data(sim_medium, color=\"darkgreen\", ax=ax1)\n",
    "tempun.plot_timeblocks_data(sim_small, color=\"darkblue\", ax=ax1)\n",
    "tempun.plot_timeblocks_data(sim_rural, color=\"purple\", ax=ax1)\n",
    "ax1.set_ylabel(\"N of inscriptions\")\n",
    "ax1.set_xlim(-50,350)\n",
    "ax1.xaxis.grid()\n",
    "ax1.set_xticklabels([])\n",
    "ax1.set_title(\"A\", x=0.02, y=0.75)\n",
    "\n",
    "tempun.plot_timeblocks_data(tb_data_large, color=\"darkred\", ax=ax2)\n",
    "tempun.plot_timeblocks_data(tb_data_medium, color=\"darkgreen\", ax=ax2)\n",
    "tempun.plot_timeblocks_data(tb_data_small, color=\"darkblue\", ax=ax2)\n",
    "tempun.plot_timeblocks_data(tb_data_rural, color=\"purple\", ax=ax2)\n",
    "ax2.set_ylabel(\"N of occcupations\")\n",
    "ax2.set_xlim(-50,350)\n",
    "ax2.xaxis.grid()\n",
    "ax2.set_xticklabels([])\n",
    "ax2.set_title(\"B\", x=0.02, y=0.75)\n",
    "\n",
    "tempun.plot_timeblocks_data(occups_per_1000inscr_large, color=\"darkred\", ax=ax3)\n",
    "tempun.plot_timeblocks_data(occups_per_1000inscr_medium, color=\"darkgreen\", ax=ax3)\n",
    "tempun.plot_timeblocks_data(occups_per_1000inscr_small, color=\"darkblue\", ax=ax3)\n",
    "tempun.plot_timeblocks_data(occups_per_1000inscr_rural, color=\"purple\", ax=ax3)\n",
    "ax3.set_ylabel(\"N of occcupations\\nper 1,000 inscriptions\")\n",
    "ax3.set_xlim(-50,350)\n",
    "ax3.xaxis.grid()\n",
    "ax3.set_title(\"C\", x=0.02, y=0.75)\n",
    "\n",
    "legend_labels=[\n",
    "    \"large cities\",\n",
    "    \"medium cities\",\n",
    "    \"small cities\",\n",
    "    \"rural areas\"]\n",
    "\n",
    "colors=[\"darkred\", \"darkgreen\", \"darkblue\", \"purple\"]\n",
    "markers = [plt.Line2D([0,0],[0,0],color=color, lw=2) for color in colors]\n",
    "ax3.legend(markers, legend_labels, numpoints=1,  title=\"Legend\", bbox_to_anchor=(1, 0), loc='lower left')"
   ]
  },
  {
   "cell_type": "code",
   "execution_count": null,
   "metadata": {
    "pycharm": {
     "name": "#%%\n"
    }
   },
   "outputs": [],
   "source": [
    "save_figure(fig, \"occups_vs_inscrs_tempdist_timeblocks\")"
   ]
  },
  {
   "cell_type": "code",
   "execution_count": null,
   "metadata": {
    "pycharm": {
     "name": "#%%\n"
    }
   },
   "outputs": [],
   "source": [
    "def get_bootstrap(df, timeblock, n_of_bootstraps, bootstrap_size, column, row_function=None):\n",
    "    bootstrap_values = []\n",
    "    for n in range(n_of_bootstraps):\n",
    "        dates_var_series = df[\"random_dates\"].apply(lambda x: x[n])\n",
    "        df_timeblock = df[dates_var_series.between(timeblock[0], timeblock[1])]\n",
    "        sample_df = df_timeblock.sample(bootstrap_size, replace=True)\n",
    "        if row_function == None:\n",
    "            bootstrap_values.append(sample_df[column].sum())\n",
    "        else:\n",
    "            bootstrap_values.append(sample_df[column].apply(row_function).mean())\n",
    "    return bootstrap_values\n",
    "\n",
    "\n",
    "def get_statistics(df, timeblock1, timeblock2, n_of_bootstraps, bootstrap_size, column, row_function=None):\n",
    "    bootstrap_test_values = []\n",
    "    df1_values = get_bootstrap(df, timeblock1, n_of_bootstraps, bootstrap_size, column, row_function)\n",
    "    df2_values = get_bootstrap(df, timeblock2, n_of_bootstraps, bootstrap_size, column, row_function)\n",
    "    # H values\n",
    "    H_list = []\n",
    "    for n in range(n_of_bootstraps):\n",
    "        if df1_values[n] == df2_values[n]:\n",
    "            H_list.append(0.5)\n",
    "        else:\n",
    "            if df1_values[n] > df2_values[n]:\n",
    "                H_list.append(1)\n",
    "            else:\n",
    "                H_list.append(0)\n",
    "    # CONFIDENCE INTERVAL (950) for the difference\n",
    "    difference = np.array(df1_values) - np.array(df2_values)\n",
    "    CI95 = (np.percentile(difference, 2.5), np.percentile(difference, 97.5))\n",
    "    # COHENS DELTA\n",
    "    pooled_sd = np.sqrt(\n",
    "        ((len(df1_values) - 1) * ((np.std(df1_values) ** 2))) + ((len(df2_values) - 1) * (np.std(df2_values) ** 2)) / (\n",
    "                    len(df1_values) + len(df2_values) + 2))\n",
    "    cohens_delta = (np.mean(df1_values) - np.mean(df2_values)) / pooled_sd\n",
    "    return H_list, cohens_delta, CI95, [df1_values, df2_values]\n",
    "\n",
    "\n",
    "def bootstrap_test(df, timeblock1, timeblock2, column, row_function=None):\n",
    "    H_values, cohens_delta, CI95, data = get_statistics(df, timeblock1, timeblock2, 1000, 1000, column, row_function)\n",
    "    p1 = sum(H_values) / len(H_values)\n",
    "    p = (1 + (2 * len(H_values) * np.min((p1, 1 - p1)))) / (1 + len(H_values))\n",
    "    return p, cohens_delta, CI95, data"
   ]
  },
  {
   "cell_type": "code",
   "execution_count": null,
   "metadata": {
    "pycharm": {
     "name": "#%%\n"
    }
   },
   "outputs": [],
   "source": [
    "p, cohens_delta, CI95, data = bootstrap_test(LIST[LIST[\"urban_context_alt\"]==\"small\"], (101,150), (51, 100), \"occups_N\")\n",
    "p, cohens_delta"
   ]
  },
  {
   "cell_type": "code",
   "execution_count": null,
   "metadata": {
    "pycharm": {
     "name": "#%%\n"
    }
   },
   "outputs": [],
   "source": [
    "print(pd.Series(data[0]).describe())\n",
    "print(pd.Series(data[1]).describe())"
   ]
  },
  {
   "cell_type": "code",
   "execution_count": null,
   "metadata": {
    "pycharm": {
     "name": "#%%\n"
    }
   },
   "outputs": [],
   "source": [
    "third_century_bootsraps = {}\n",
    "for context in [\"large\", \"medium\", \"small\", \"rural\"]:\n",
    "    p, cohens_delta, CI95, data = bootstrap_test(LIST[LIST[\"urban_context_alt\"] == context], (201, 250), (251, 300),\n",
    "                                                 \"occups_N\")\n",
    "    third_century_bootsraps[context] = {\n",
    "        \"p\": p,\n",
    "        \"cohens_delta\": cohens_delta,\n",
    "        \"CI95\": CI95,\n",
    "        \"data\": data}\n",
    "    print(p, cohens_delta)"
   ]
  },
  {
   "cell_type": "code",
   "execution_count": null,
   "metadata": {
    "pycharm": {
     "name": "#%%\n"
    }
   },
   "outputs": [],
   "source": []
  },
  {
   "cell_type": "markdown",
   "metadata": {},
   "source": [
    "## Occupations & organizations by periods\n",
    "\n",
    "(no used in the current version of the article...)"
   ]
  },
  {
   "cell_type": "code",
   "execution_count": null,
   "metadata": {},
   "outputs": [],
   "source": [
    "# various metrics on the level of timeblocks\n",
    "def occups_count(timeblock_df):\n",
    "    return timeblock_df[\"occups_N\"].sum()\n",
    "\n",
    "def orgs_count(timeblock_df):\n",
    "    return timeblock_df[\"organizations_N\"].sum()\n",
    "\n",
    "def occups_per_1K_ins(timeblock_df):\n",
    "    timeblock_sample = timeblock_df.sample(1000, replace=True)\n",
    "    occups_N_sum = timeblock_sample[\"occups_N\"].sum()\n",
    "    return occups_N_sum\n",
    "\n",
    "def orgs_per_1K_ins(timeblock_df):\n",
    "    timeblock_sample = timeblock_df.sample(1000, replace=True)\n",
    "    occups_N_sum = timeblock_sample[\"organizations_N\"].sum()\n",
    "    return occups_N_sum"
   ]
  },
  {
   "cell_type": "code",
   "execution_count": null,
   "metadata": {},
   "outputs": [],
   "source": [
    "%%time\n",
    "\n",
    "# time consuming, apply carefully\n",
    "#occups_counts = sim_data_by_function(EDH, 1000, timeblocks_periods, occups_count) \n",
    "occups_ins_ratio = tempun.sim_data_by_function(LIST, 1000, timeblocks_periods, occups_per_1K_ins)"
   ]
  },
  {
   "cell_type": "code",
   "execution_count": null,
   "metadata": {
    "pycharm": {
     "name": "#%%\n"
    }
   },
   "outputs": [],
   "source": [
    "occups_ins_ratio_large = tempun.sim_data_by_function(LIST[LIST[\"urban_context_alt\"]==\"large\"], 1000, timeblocks_periods, occups_per_1K_ins)\n",
    "occups_ins_ratio_medium = tempun.sim_data_by_function(LIST[LIST[\"urban_context_alt\"]==\"medium\"], 1000, timeblocks_periods, occups_per_1K_ins)\n",
    "occups_ins_ratio_small = tempun.sim_data_by_function(LIST[LIST[\"urban_context_alt\"]==\"small\"], 1000, timeblocks_periods, occups_per_1K_ins)\n",
    "occups_ins_ratio_rural = tempun.sim_data_by_function(LIST[LIST[\"urban_context_alt\"]==\"rural\"], 1000, timeblocks_periods, occups_per_1K_ins)"
   ]
  },
  {
   "cell_type": "code",
   "execution_count": null,
   "metadata": {
    "pycharm": {
     "name": "#%%\n"
    }
   },
   "outputs": [],
   "source": [
    "occups_ins_ratio_rome = tempun.sim_data_by_function(LIST_rome, 1000, timeblocks_periods, occups_per_1K_ins)"
   ]
  },
  {
   "cell_type": "code",
   "execution_count": null,
   "metadata": {},
   "outputs": [],
   "source": [
    "occups_ins_ratio[2]"
   ]
  },
  {
   "cell_type": "code",
   "execution_count": null,
   "metadata": {},
   "outputs": [],
   "source": [
    "def simulations_merged(simulation_data):\n",
    "    merged_data = []\n",
    "    for n in range(len(simulation_data[0])): # choose the first simulation to get the length \n",
    "        merged_data.append((simulation_data[0][n][0], [sim[n][1] for sim in simulation_data]))\n",
    "    return merged_data\n",
    "\n",
    "\n",
    "occups_ratios_merged = simulations_merged(occups_ins_ratio)\n",
    "\n",
    "occups_ratios_merged_large = simulations_merged(occups_ins_ratio_large)\n",
    "occups_ratios_merged_medium = simulations_merged(occups_ins_ratio_medium)\n",
    "occups_ratios_merged_small = simulations_merged(occups_ins_ratio_small)\n",
    "occups_ratios_merged_rural = simulations_merged(occups_ins_ratio_rural)\n",
    "\n",
    "occups_ratios_merged_rome = simulations_merged(occups_ins_ratio_rome)"
   ]
  },
  {
   "cell_type": "code",
   "execution_count": null,
   "metadata": {
    "scrolled": true
   },
   "outputs": [],
   "source": [
    "# number of occupations/organizizations per 1,000 randomly sampled inscriptions. The samples are with replacement. Each sample is based on different dating simulation. \n",
    "\n",
    "labels=[key for key in periods.keys()]\n",
    "widths = [abs(tup[0][1] - tup[0][0]) for tup in occups_ratios_merged]\n",
    "positions = [np.mean(tup[0]) for tup in occups_ratios_merged]\n",
    "\n",
    "fig, ax1 = plt.subplots(1,1, figsize=[5.2,3], tight_layout=True)\n",
    "\n",
    "data1 = [tup[1] for tup in occups_ratios_merged]\n",
    "means1 = [np.mean(tup[1]) for tup in occups_ratios_merged]\n",
    "\n",
    "bplot1 = ax1.boxplot(data1, positions=positions, widths=widths, whis=[2.5, 97.5], labels=labels, patch_artist=True)\n",
    "ax1.plot(positions, means1, color=\"black\", linestyle=\"dashed\", zorder=10)\n",
    "\n",
    "ax1.set_ylabel(\"Number of occupations\\nper 1,000 inscriptions\")\n",
    "ax1.set_ylim(0, 88)\n",
    "ax1.xaxis.set_tick_params(rotation=90)\n",
    "ax1.xaxis.tick_top()\n",
    "ax1.secondary_xaxis(\"bottom\")\n",
    "ax1.set_xlim(-50, 350)\n",
    "\n",
    "\n",
    "# fill with colors\n",
    "colors =tab_colors_list[:len(labels)]\n",
    "for patch, color in zip(bplot1['boxes'], colors):\n",
    "    patch.set_facecolor(color)"
   ]
  },
  {
   "cell_type": "code",
   "execution_count": null,
   "metadata": {
    "pycharm": {
     "name": "#%%\n"
    }
   },
   "outputs": [],
   "source": [
    "save_figure(fig, \"occups_by_periods_bar\")"
   ]
  },
  {
   "cell_type": "code",
   "execution_count": null,
   "metadata": {
    "pycharm": {
     "name": "#%%\n"
    }
   },
   "outputs": [],
   "source": [
    "# number of occupations/organizizations per 1,000 randomly sampled inscriptions. The samples are with replacement. Each sample is based on different dating simulation.\n",
    "\n",
    "labels=[key for key in periods.keys()]\n",
    "widths = [abs(tup[0][1] - tup[0][0]) for tup in occups_ratios_merged]\n",
    "positions = [np.mean(tup[0]) for tup in occups_ratios_merged]\n",
    "\n",
    "fig, [ax1, ax2] = plt.subplots(2,1, figsize=[5.2,4], tight_layout=True)\n",
    "\n",
    "data1 = [tup[1] for tup in occups_ratios_merged]\n",
    "means1 = [np.mean(tup[1]) for tup in occups_ratios_merged]\n",
    "\n",
    "bplot1 = ax1.boxplot(data1, positions=positions, widths=widths, whis=[2.5, 97.5], labels=labels, patch_artist=True)\n",
    "ax1.plot(positions, means1, color=\"black\", linestyle=\"dashed\", zorder=10)\n",
    "\n",
    "ax1.set_title(\"A - all inscriptions\")\n",
    "ax1.set_ylabel(\"Number of occupations\\nper 1,000 inscriptions\")\n",
    "ax1.set_ylim(0, 100)\n",
    "ax1.xaxis.set_tick_params(rotation=90)\n",
    "ax1.xaxis.tick_top()\n",
    "ax1.set_xticks([])\n",
    "#ax1.secondary_xaxis(\"bottom\")\n",
    "#ax1.set_xlim(-50, 350)\n",
    "\n",
    "data2 = [tup[1] for tup in occups_ratios_merged_rome]\n",
    "means2 = [np.mean(tup[1]) for tup in occups_ratios_merged_rome]\n",
    "\n",
    "bplot2 = ax2.boxplot(data2, positions=positions, widths=widths, whis=[2.5, 97.5], labels=labels, patch_artist=True)\n",
    "ax2.plot(positions, means2, color=\"black\", linestyle=\"dashed\", zorder=10)\n",
    "\n",
    "ax2.set_title(\"B - rome\")\n",
    "ax2.set_ylabel(\"Number of occupations\\nper 1,000 inscriptions\")\n",
    "ax2.set_ylim(0, 100)\n",
    "ax2.xaxis.tick_top()\n",
    "ax2.set_xticks([])\n",
    "ax2.secondary_xaxis(\"bottom\")\n",
    "\n",
    "ax2.set_xlim(-50, 350)\n",
    "\n",
    "\n",
    "\n",
    "# fill with colors\n",
    "colors =tab_colors_list[:len(labels)]\n",
    "for bplot in (bplot1, bplot2):\n",
    "    for patch, color in zip(bplot['boxes'], colors):\n",
    "        patch.set_facecolor(color)"
   ]
  },
  {
   "cell_type": "code",
   "execution_count": null,
   "metadata": {
    "pycharm": {
     "name": "#%%\n"
    }
   },
   "outputs": [],
   "source": [
    " [np.mean(tup[1]) for tup in occups_ratios_merged_large]"
   ]
  },
  {
   "cell_type": "code",
   "execution_count": null,
   "metadata": {
    "pycharm": {
     "name": "#%%\n"
    }
   },
   "outputs": [],
   "source": [
    "# number of occupations/organizizations per 1,000 randomly sampled inscriptions. The samples are with replacement. Each sample is based on different dating simulation.\n",
    "\n",
    "labels=[key for key in periods.keys()]\n",
    "widths = [abs(tup[0][1] - tup[0][0]) for tup in occups_ratios_merged]\n",
    "positions = [np.mean(tup[0]) for tup in occups_ratios_merged]\n",
    "\n",
    "fig, [ax1, ax2, ax3, ax4] = plt.subplots(4,1, figsize=[5.2,5.2], tight_layout=True)\n",
    "\n",
    "x_title = 0.02\n",
    "y_title = 0.8\n",
    "ax1.set_title(\"A\", x=x_title, y=y_title)\n",
    "ax2.set_title(\"B\", x=x_title, y=y_title)\n",
    "ax3.set_title(\"C\", x=x_title, y=y_title)\n",
    "ax4.set_title(\"D\", x=x_title, y=y_title)\n",
    "\n",
    "# A - large cities\n",
    "data1 = [tup[1] for tup in occups_ratios_merged_large]\n",
    "means1 = [np.mean(tup[1]) for tup in occups_ratios_merged_large]\n",
    "bplot1 = ax1.boxplot(data1, positions=positions, widths=widths, whis=[2.5, 97.5], labels=labels, patch_artist=True)\n",
    "ax1.plot(positions, means1, color=\"black\", linestyle=\"dashed\", zorder=10)\n",
    "\n",
    "ax1.set_ylabel(\"N of occups\\nper 1,000 inscr.\")\n",
    "ax1.set_ylim(0, 130)\n",
    "ax1.xaxis.set_tick_params(rotation=90)\n",
    "ax1.xaxis.tick_top()\n",
    "#ax1.set_xticks([])\n",
    "#ax1.secondary_xaxis(\"bottom\")\n",
    "#ax1.set_xlim(-50, 350)\n",
    "\n",
    "# B - medium cities\n",
    "data2 = [tup[1] for tup in occups_ratios_merged_medium]\n",
    "means2 = [np.mean(tup[1]) for tup in occups_ratios_merged_medium]\n",
    "bplot2 = ax2.boxplot(data2, positions=positions, widths=widths, whis=[2.5, 97.5], labels=labels, patch_artist=True)\n",
    "ax2.plot(positions, means2, color=\"black\", linestyle=\"dashed\", zorder=10)\n",
    "\n",
    "ax2.set_ylabel(\"N of occups\\nper 1,000 inscr.\")\n",
    "ax2.set_ylim(0, 100)\n",
    "ax2.xaxis.tick_top()\n",
    "ax2.set_xticks([])\n",
    "#ax2.secondary_xaxis(\"bottom\")\n",
    "ax2.set_xlim(-50, 350)\n",
    "\n",
    "# C - small cities\n",
    "data3 = [tup[1] for tup in occups_ratios_merged_small]\n",
    "means3 = [np.mean(tup[1]) for tup in occups_ratios_merged_small]\n",
    "\n",
    "bplot3 = ax3.boxplot(data3, positions=positions, widths=widths, whis=[2.5, 97.5], labels=labels, patch_artist=True)\n",
    "ax3.plot(positions, means3, color=\"black\", linestyle=\"dashed\", zorder=10)\n",
    "\n",
    "ax3.set_ylabel(\"N of occups\\nper 1,000 inscr.\")\n",
    "ax3.set_ylim(0, 100)\n",
    "ax3.xaxis.tick_top()\n",
    "ax3.set_xticks([])\n",
    "#ax3.secondary_xaxis(\"bottom\")\n",
    "ax3.set_xlim(-50, 350)\n",
    "\n",
    "# D - rural areas\n",
    "data4 = [tup[1] for tup in occups_ratios_merged_rural]\n",
    "means4 = [np.mean(tup[1]) for tup in occups_ratios_merged_rural]\n",
    "bplot4 = ax4.boxplot(data4, positions=positions, widths=widths, whis=[2.5, 97.5], labels=labels, patch_artist=True)\n",
    "ax4.plot(positions, means4, color=\"black\", linestyle=\"dashed\", zorder=10)\n",
    "\n",
    "ax4.set_ylabel(\"N of occups\\nper 1,000 inscr.\")\n",
    "ax4.set_ylim(0, 50)\n",
    "ax4.xaxis.tick_top()\n",
    "ax4.set_xticks([])\n",
    "ax4.secondary_xaxis(\"bottom\")\n",
    "ax4.set_xlim(-50, 350)\n",
    "\n",
    "\n",
    "# fill with colors\n",
    "colors = tab_colors_list[:len(labels)]\n",
    "for bplot in (bplot1, bplot2, bplot3, bplot4):\n",
    "    for patch, color in zip(bplot['boxes'], colors):\n",
    "        patch.set_facecolor(color)"
   ]
  },
  {
   "cell_type": "code",
   "execution_count": null,
   "metadata": {
    "pycharm": {
     "name": "#%%\n"
    }
   },
   "outputs": [],
   "source": [
    "# bootstrap test?"
   ]
  },
  {
   "cell_type": "code",
   "execution_count": null,
   "metadata": {
    "pycharm": {
     "name": "#%%\n"
    }
   },
   "outputs": [],
   "source": []
  }
 ],
 "metadata": {
  "colab": {
   "authorship_tag": "ABX9TyOKWnvxv3tTbNERCRAysPtc",
   "include_colab_link": true,
   "name": "WORKING_WITH_CLEANED_TEXTS.ipynb",
   "provenance": []
  },
  "kernelspec": {
   "display_name": "Python 3 (ipykernel)",
   "language": "python",
   "name": "python3"
  },
  "language_info": {
   "codemirror_mode": {
    "name": "ipython",
    "version": 3
   },
   "file_extension": ".py",
   "mimetype": "text/x-python",
   "name": "python",
   "nbconvert_exporter": "python",
   "pygments_lexer": "ipython3",
   "version": "3.8.10"
  }
 },
 "nbformat": 4,
 "nbformat_minor": 4
}

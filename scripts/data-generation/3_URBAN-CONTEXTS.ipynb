{
 "cells": [
  {
   "cell_type": "markdown",
   "metadata": {},
   "source": [
    "# Step 3: Asigning urban contexts to inscriptions\n",
    "\n",
    "*AIM*: Assign each inscription an urban context, depending on the available spatio-temporal data.\n",
    "\n",
    "References: \n",
    "\n",
    "1) `Hanson J. W., An urban geography of the Roman world, 100 BC to AD 300. Oxford: Archaeopress; 2016. http://oxrep.classics.ox.ac.uk/oxrep/docs/Hanson2016/Hanson2016_Cities_OxREP.csv`\n",
    "2) `Hanson J. W, Ortman S. G., A systematic method for estimating the populations of Greek and Roman settlements. J Roman Archaeol. 2017;30: 301–324.`\n"
   ]
  },
  {
   "cell_type": "markdown",
   "metadata": {},
   "source": [
    "This script was originally published by `Kaše V, Heřmánková P, Sobotková A (2022) Division of labor, specialization and diversity in the ancient Roman cities: A quantitative approach to Latin epigraphy. PLoS ONE 17(6): e0269869. https://doi.org/10.1371/journal.pone.0269869` under a CC BY-SA 4.0 International License. \n",
    "\n",
    "https://github.com/sdam-au/social_diversity\n",
    "\n",
    "The *Past Social Networks Project* adapted the script to fit the needs of the project research agenda."
   ]
  },
  {
   "cell_type": "markdown",
   "metadata": {},
   "source": [
    "## Data:\n",
    "\n",
    "### IN:\n",
    "\n",
    "1) Inscriptions `LIST_occupsorgs.parquet`\n",
    "\n",
    "2) Roman cities `roman_cities_pop.parquet`\n",
    "\n",
    "3) Roman provinces `pleiades_regions.geojson`\n",
    "\n",
    "4) Western Roman provinces `pleiades_regions_west.geojson`\n",
    "\n",
    "\n",
    "### OUT: \n",
    "\n",
    "1) Inscriptions with occupational data and urban contexts `LIST_contexts.parquet`"
   ]
  },
  {
   "cell_type": "markdown",
   "metadata": {},
   "source": [
    "# Requirements"
   ]
  },
  {
   "cell_type": "code",
   "execution_count": 1,
   "metadata": {
    "pycharm": {
     "name": "#%%\n"
    }
   },
   "outputs": [],
   "source": [
    "import re\n",
    "import pandas as pd\n",
    "pd.set_option('display.max_columns', 200)\n",
    "import numpy as np\n",
    "import geopandas as gpd\n",
    "import matplotlib.pyplot as plt\n",
    "from scipy.spatial import cKDTree\n",
    "from pyproj import Geod\n",
    "from shapely.geometry import LineString\n",
    "\n",
    "import seaborn as sns\n",
    "import gspread\n",
    "from gspread_dataframe import get_as_dataframe, set_with_dataframe\n",
    "from google.oauth2 import service_account # based on google-auth library\n",
    "import sddk\n",
    "import os\n"
   ]
  },
  {
   "cell_type": "code",
   "execution_count": 2,
   "metadata": {
    "pycharm": {
     "name": "#%%\n"
    }
   },
   "outputs": [
    {
     "name": "stdout",
     "output_type": "stream",
     "text": [
      "Your ScienceData username (e.g. '123456@au.dk'): 648560@au.dk\n",
      "Your ScienceData password: ········\n",
      "connection with shared folder established with you as its owner\n",
      "endpoint variable has been configured to: https://sciencedata.dk/files/./\n"
     ]
    }
   ],
   "source": [
    "# to access gsheet, you need Google Service Account key json file\n",
    "# I have mine located in my personal space on sciencedata.dk, so I read it from there:\n",
    "# but you can have yours stored locally on your computer and read it in directly\n",
    "s = sddk.cloudSession(\"sciencedata.dk\", \".\", \"648560@au.dk\")\n",
    "figpath = \"./Petra_credentials/\"\n",
    "PSNP_figs = \"./PSNP_shared/lat_socdiv/figures\""
   ]
  },
  {
   "cell_type": "code",
   "execution_count": 3,
   "metadata": {
    "pycharm": {
     "name": "#%%\n"
    }
   },
   "outputs": [],
   "source": [
    "# global parameters for plots\n",
    "plt.style.use(\"fast\")\n",
    "plt.rcParams['figure.dpi'] = 300\n",
    "plt.rcParams[\"font.family\"] = \"sans-serif\"\n",
    "plt.rcParams['font.size'] = 8\n",
    "\n",
    "def save_figure(fig, fig_name):\n",
    "    fig.savefig(\"../../figures/\" + fig_name + \".eps\") # saves locally\n",
    "    fig.savefig(\"../../figures/\" + fig_name + \".png\")\n",
    "    s.write_file(PSNP_figs + fig_name + \".eps\", fig) # saves to Sciencedata \n",
    "    s.write_file(PSNP_figs + fig_name + \".png\", fig)"
   ]
  },
  {
   "cell_type": "code",
   "execution_count": 4,
   "metadata": {
    "pycharm": {
     "name": "#%%\n"
    }
   },
   "outputs": [],
   "source": [
    "file_data = s.read_file(\"https://sciencedata.dk/files/ServiceAccountsKey.json\", \"dict\")\n",
    "credentials = service_account.Credentials.from_service_account_info(file_data)\n",
    "gc = gspread.Client(auth=credentials.with_scopes(['https://spreadsheets.google.com/feeds', 'https://www.googleapis.com/auth/drive']))\n",
    "socdiv_results = gc.open_by_url(\"https://docs.google.com/spreadsheets/d/1kACGBS9Xdno7FL2fPZ-vCOu4SSh9uUaZmGvnEghVs_A/edit?usp=sharing\")"
   ]
  },
  {
   "cell_type": "markdown",
   "metadata": {},
   "source": [
    "## Import the epigraphic dataset"
   ]
  },
  {
   "cell_type": "code",
   "execution_count": 5,
   "metadata": {
    "pycharm": {
     "name": "#%%\n"
    }
   },
   "outputs": [
    {
     "name": "stdout",
     "output_type": "stream",
     "text": [
      "['/home/petra/Github/latin_socdiv/data/large_data/LIST_occupsorgs.parquet']\n"
     ]
    }
   ],
   "source": [
    "# find local version of the input dataset\n",
    "local_paths = !find ~/Github -name \"LIST_occupsorgs.parquet\"\n",
    "print(local_paths)"
   ]
  },
  {
   "cell_type": "code",
   "execution_count": 6,
   "metadata": {
    "pycharm": {
     "name": "#%%\n"
    }
   },
   "outputs": [
    {
     "name": "stdout",
     "output_type": "stream",
     "text": [
      "local copy found and loaded\n"
     ]
    }
   ],
   "source": [
    "# read LIST dataset from zenodo or locally, if already available on your computer. \n",
    "###   WARNING - if there is no local copy this will load the raw data from Zenodo without any occupational \n",
    "#and organizational data, generated in the script no. 2\n",
    "\n",
    "try:\n",
    "    LIST = gpd.read_parquet(local_paths[0])\n",
    "    print(\"local copy found and loaded\")\n",
    "except:# !!! use carefully - takes time\n",
    "    q = input(\"local file not found, try another put, or input 'y' for download\")\n",
    "    if q == \"y\":\n",
    "        LIST = gpd.read_file(\"https://zenodo.org/record/8431323/files/LIST_v1-0.geojson?download=1\", driver=\"geoJSON\")\n",
    "        print(\"file downloaded from zenodo\")\n",
    "        LIST.to_parquet(\"../../data/large_data/LISTg.parquet\")"
   ]
  },
  {
   "cell_type": "code",
   "execution_count": 7,
   "metadata": {
    "pycharm": {
     "name": "#%%\n"
    }
   },
   "outputs": [
    {
     "name": "stdout",
     "output_type": "stream",
     "text": [
      "['LIST-ID', 'EDCS-ID', 'EDH-ID', 'trismegistos_uri', 'pleiades_id', 'transcription', 'inscription', 'clean_text_conservative', 'clean_text_interpretive_sentence', 'clean_text_interpretive_word', 'clean_text_interpretive_word_EDCS', 'diplomatic_text', 'province', 'place', 'inscr_type', 'status_notation', 'inscr_process', 'status', 'partner_link', 'last_update', 'letter_size', 'type_of_inscription', 'work_status', 'year_of_find', 'present_location', 'text_edition', 'support_objecttype', 'support_material', 'support_decoration', 'keywords_term', 'people', 'type_of_inscription_clean', 'type_of_inscription_certainty', 'height_cm', 'width_cm', 'depth_cm', 'material_clean', 'type_of_monument_clean', 'type_of_monument_certainty', 'province_label_clean', 'province_label_certainty', 'country_clean', 'country_certainty', 'findspot_ancient_clean', 'findspot_ancient_certainty', 'modern_region_clean', 'modern_region_certainty', 'findspot_modern_clean', 'findspot_modern_certainty', 'findspot_clean', 'findspot_certainty', 'language_EDCS', 'raw_dating', 'not_after', 'not_before', 'Longitude', 'Latitude', 'is_geotemporal', 'geometry', 'is_within_RE', 'urban_context', 'urban_context_city', 'urban_context_pop_est', 'type_of_inscription_auto', 'type_of_inscription_auto_prob', 'occups', 'occups_N', 'organizations', 'organizations_N']\n"
     ]
    }
   ],
   "source": [
    "# making sure the data exists and loaded properly, printing out all the attribute names\n",
    "print(LIST.columns.tolist())"
   ]
  },
  {
   "cell_type": "markdown",
   "metadata": {},
   "source": [
    "\n",
    "# Cities and population estimates of the western Roman provinces"
   ]
  },
  {
   "cell_type": "code",
   "execution_count": 8,
   "metadata": {
    "pycharm": {
     "name": "#%%\n"
    }
   },
   "outputs": [],
   "source": [
    "#roman_cities = gpd.read_file(\"../../data/roman_cities_pop.geojson\")\n",
    "roman_cities = gpd.read_parquet(\"../../data/roman_cities_pop.parquet\")\n",
    "pleiades_regions = gpd.read_file(\"../../data/pleiades_regions.geojson\")\n",
    "pleiades_regions_west = gpd.read_file(\"../../data/pleiades_regions_west.geojson\")"
   ]
  },
  {
   "cell_type": "code",
   "execution_count": 9,
   "metadata": {
    "pycharm": {
     "name": "#%%\n"
    }
   },
   "outputs": [
    {
     "data": {
      "text/plain": [
       "10214337.0"
      ]
     },
     "execution_count": 9,
     "metadata": {},
     "output_type": "execute_result"
    }
   ],
   "source": [
    "# total population estimate based on calculations from Hanson and Ortman 2017\n",
    "roman_cities[\"pop_est\"].sum()"
   ]
  },
  {
   "cell_type": "code",
   "execution_count": 10,
   "metadata": {
    "pycharm": {
     "name": "#%%\n"
    }
   },
   "outputs": [
    {
     "data": {
      "text/plain": [
       "68"
      ]
     },
     "execution_count": 10,
     "metadata": {},
     "output_type": "execute_result"
    }
   ],
   "source": [
    "# how many cities have the population estimate larger than 30,000\n",
    "(roman_cities[\"pop_est\"] >= 30000).sum()"
   ]
  },
  {
   "cell_type": "code",
   "execution_count": 11,
   "metadata": {},
   "outputs": [
    {
     "name": "stdout",
     "output_type": "stream",
     "text": [
      "['Primary Key', 'Ancient Toponym', 'Modern Toponym', 'Province', 'Country', 'Barrington Atlas Rank', 'Barrington Atlas Reference', 'Start Date', 'End Date', 'Select Bibliography', 'Area', 'Estimate Basis', 'Civic Status', 'Structure', 'num_of_structures', 'geometry', 'ID', 'level_0', 'Unnamed: 0_y', 'index', 'pop_sample', 'pop_est', 'pop_diff', 'western_province']\n"
     ]
    }
   ],
   "source": [
    "# printing attribute names\n",
    "print(roman_cities.columns.tolist())"
   ]
  },
  {
   "cell_type": "code",
   "execution_count": 12,
   "metadata": {
    "pycharm": {
     "name": "#%%\n"
    }
   },
   "outputs": [
    {
     "data": {
      "text/plain": [
       "889"
      ]
     },
     "execution_count": 12,
     "metadata": {},
     "output_type": "execute_result"
    }
   ],
   "source": [
    "# how many cities belong to the western part of the Roman Empire (defined by the Jirecek line, running in the mid-Balkans)\n",
    "roman_cities[\"western_province\"].sum()"
   ]
  },
  {
   "cell_type": "code",
   "execution_count": 13,
   "metadata": {
    "pycharm": {
     "name": "#%%\n"
    }
   },
   "outputs": [
    {
     "data": {
      "text/plain": [
       "0.6404899135446686"
      ]
     },
     "execution_count": 13,
     "metadata": {},
     "output_type": "execute_result"
    }
   ],
   "source": [
    "# proportion of all Hanson's cities belonging to the western empire\n",
    "roman_cities[\"western_province\"].sum() / len(roman_cities)"
   ]
  },
  {
   "cell_type": "code",
   "execution_count": 14,
   "metadata": {
    "pycharm": {
     "name": "#%%\n"
    }
   },
   "outputs": [
    {
     "data": {
      "text/plain": [
       "5368578.0"
      ]
     },
     "execution_count": 14,
     "metadata": {},
     "output_type": "execute_result"
    }
   ],
   "source": [
    "# population estimate for the western empire, based on Hanson and Ortman's 2017 formula\n",
    "roman_cities[roman_cities[\"western_province\"]][\"pop_est\"].sum()"
   ]
  },
  {
   "cell_type": "markdown",
   "metadata": {},
   "source": [
    " # Latin inscriptions in the western provinces"
   ]
  },
  {
   "cell_type": "code",
   "execution_count": 15,
   "metadata": {
    "pycharm": {
     "name": "#%%\n"
    }
   },
   "outputs": [],
   "source": [
    "regions_west_union = pleiades_regions_west.unary_union"
   ]
  },
  {
   "cell_type": "code",
   "execution_count": 16,
   "metadata": {
    "pycharm": {
     "name": "#%%\n"
    }
   },
   "outputs": [
    {
     "data": {
      "text/plain": [
       "525870"
      ]
     },
     "execution_count": 16,
     "metadata": {},
     "output_type": "execute_result"
    }
   ],
   "source": [
    "# total size of the dataset, including the Roman East\n",
    "len(LIST)"
   ]
  },
  {
   "cell_type": "code",
   "execution_count": 18,
   "metadata": {
    "pycharm": {
     "name": "#%%\n"
    }
   },
   "outputs": [
    {
     "name": "stdout",
     "output_type": "stream",
     "text": [
      "CPU times: user 2 µs, sys: 0 ns, total: 2 µs\n",
      "Wall time: 3.81 µs\n"
     ]
    }
   ],
   "source": [
    "%%time\n",
    "\n",
    "# generates attribute with only inscriptions from the western provinces (true or false)\n",
    "\n",
    "LIST[\"is_western\"] = LIST.within(regions_west_union)"
   ]
  },
  {
   "cell_type": "code",
   "execution_count": 19,
   "metadata": {
    "pycharm": {
     "name": "#%%\n"
    }
   },
   "outputs": [
    {
     "data": {
      "text/plain": [
       "471044"
      ]
     },
     "execution_count": 19,
     "metadata": {},
     "output_type": "execute_result"
    }
   ],
   "source": [
    "# how many inscriptions come from the Roman West\n",
    "LIST[\"is_western\"].sum()"
   ]
  },
  {
   "cell_type": "code",
   "execution_count": 20,
   "metadata": {
    "pycharm": {
     "name": "#%%\n"
    }
   },
   "outputs": [
    {
     "data": {
      "text/plain": [
       "0.8957422937227832"
      ]
     },
     "execution_count": 20,
     "metadata": {},
     "output_type": "execute_result"
    }
   ],
   "source": [
    "# proportion of inscriptions belonging to the western part of the empire\n",
    "LIST[\"is_western\"].mean()"
   ]
  },
  {
   "cell_type": "code",
   "execution_count": 21,
   "metadata": {
    "pycharm": {
     "name": "#%%\n"
    }
   },
   "outputs": [
    {
     "data": {
      "image/png": "[encoded data removed]",
      "text/plain": [
       "<Figure size 1560x960 with 1 Axes>"
      ]
     },
     "metadata": {
      "needs_background": "light"
     },
     "output_type": "display_data"
    }
   ],
   "source": [
    "# plot of inscriptions in the western provinces\n",
    "\n",
    "fig, ax = plt.subplots(figsize=[5.2, 3.2])\n",
    "pleiades_regions.plot(ax=ax, color=\"lightgray\")\n",
    "pleiades_regions_west.plot(ax=ax, color=\"darkgray\")\n",
    "#roman_cities[roman_cities[\"western_province\"]].plot(ax=ax, color=\"green\", markersize=0.5)\n",
    "LIST[LIST[\"is_western\"]].plot(ax=ax, color=\"darkblue\", markersize=0.1)\n",
    "ax.set_axis_off()\n",
    "ax.set_xlim(-10, 41)\n",
    "ax.set_ylim(23, 55.5)\n",
    "plt.show()"
   ]
  },
  {
   "cell_type": "code",
   "execution_count": 23,
   "metadata": {
    "pycharm": {
     "name": "#%%\n"
    }
   },
   "outputs": [
    {
     "name": "stdout",
     "output_type": "stream",
     "text": [
      "A file with the same name (\"figuresLIST_western_spatial.eps\") already exists in this location.\n",
      "Press Enter to overwrite it or choose different path and filename: \n",
      "Your <class 'matplotlib.figure.Figure'> object has been succefully written as \"https://sciencedata.dk/files/././PSNP_shared/lat_socdiv/figuresLIST_western_spatial.eps\"\n",
      "A file with the same name (\"figuresLIST_western_spatial.png\") already exists in this location.\n",
      "Press Enter to overwrite it or choose different path and filename: \n",
      "Your <class 'matplotlib.figure.Figure'> object has been succefully written as \"https://sciencedata.dk/files/././PSNP_shared/lat_socdiv/figuresLIST_western_spatial.png\"\n"
     ]
    }
   ],
   "source": [
    "save_figure(fig, \"LIST_western_spatial\") \n"
   ]
  },
  {
   "cell_type": "markdown",
   "metadata": {},
   "source": [
    " # Compute distance to settlement based on the size of its population estimate"
   ]
  },
  {
   "cell_type": "code",
   "execution_count": 24,
   "metadata": {
    "pycharm": {
     "name": "#%%\n"
    }
   },
   "outputs": [],
   "source": [
    "# defines the size of urban context based on the population estimates from Hansen and Ortman 2017\n",
    "\n",
    "\n",
    "masks_dict = {}\n",
    "masks_dict[\"large\"] = roman_cities[\"pop_est\"] >= 30000\n",
    "masks_dict[\"medium\"] = (roman_cities[\"pop_est\"] >= 5000) & (roman_cities[\"pop_est\"] < 30000)\n",
    "masks_dict[\"small\"] = small_cities_mask = roman_cities[\"pop_est\"] < 5000"
   ]
  },
  {
   "cell_type": "code",
   "execution_count": 25,
   "metadata": {
    "pycharm": {
     "name": "#%%\n"
    }
   },
   "outputs": [
    {
     "name": "stdout",
     "output_type": "stream",
     "text": [
      "large 68 4641352.0\n",
      "medium 337 4005250.0\n",
      "small 983 1567735.0\n"
     ]
    }
   ],
   "source": [
    "# overview: how many cities per rank and their population estimates\n",
    "\n",
    "for mask in masks_dict.keys():\n",
    "    print(mask, len(roman_cities[masks_dict[mask]]), roman_cities[masks_dict[mask]][\"pop_est\"].sum())"
   ]
  },
  {
   "cell_type": "code",
   "execution_count": 26,
   "metadata": {
    "pycharm": {
     "name": "#%%\n"
    }
   },
   "outputs": [],
   "source": [
    "# custom function assigning each inscription the nearest city\n",
    "\n",
    "geod = Geod(ellps=\"WGS84\")\n",
    "def get_dist_m(inscr_geo, city_geo):\n",
    "    line_string = LineString([inscr_geo, city_geo])\n",
    "    return np.round(geod.geometry_length(line_string), 2)\n",
    "\n",
    "def ckdnearest(inscriptions, cities, city_type):\n",
    "    cities = cities[masks_dict[city_type]]\n",
    "    cities = cities[['ID', 'geometry']]\n",
    "    cities.rename(columns={\"ID\" : city_type + \"_city_ID\"}, inplace=True)\n",
    "    insr_geometries = np.array(list(inscriptions.geometry.apply(lambda x: (x.x, x.y))))\n",
    "    cities_geometries = np.array(list(cities.geometry.apply(lambda x: (x.x, x.y))))\n",
    "    btree = cKDTree(cities_geometries)\n",
    "    dist, idx = btree.query(insr_geometries, k=1)\n",
    "    nearest_cities_df = cities.iloc[idx].rename(columns={\"geometry\": city_type +\"_city_geo\"}).reset_index(drop=True)\n",
    "    nearest_cities_df[city_type + \"_city_geo\"] = [[geom.x, geom.y] for geom in nearest_cities_df[city_type + \"_city_geo\"]]\n",
    "\n",
    "    merge_gdf = pd.concat(\n",
    "        [\n",
    "            inscriptions.reset_index(drop=True),\n",
    "            nearest_cities_df,\n",
    "            pd.Series(dist, name=city_type + \"_city_dist\")\n",
    "        ],\n",
    "        axis=1)\n",
    "    merge_gdf[city_type + \"_city_dist\"] = merge_gdf.apply(lambda row: get_dist_m(row.geometry, row[city_type + \"_city_geo\"]), axis=1)\n",
    "    return merge_gdf"
   ]
  },
  {
   "cell_type": "code",
   "execution_count": 27,
   "metadata": {},
   "outputs": [
    {
     "data": {
      "text/html": [
       "<div>\n",
       "<style scoped>\n",
       "    .dataframe tbody tr th:only-of-type {\n",
       "        vertical-align: middle;\n",
       "    }\n",
       "\n",
       "    .dataframe tbody tr th {\n",
       "        vertical-align: top;\n",
       "    }\n",
       "\n",
       "    .dataframe thead th {\n",
       "        text-align: right;\n",
       "    }\n",
       "</style>\n",
       "<table border=\"1\" class=\"dataframe\">\n",
       "  <thead>\n",
       "    <tr style=\"text-align: right;\">\n",
       "      <th></th>\n",
       "      <th>LIST-ID</th>\n",
       "      <th>EDCS-ID</th>\n",
       "      <th>EDH-ID</th>\n",
       "      <th>trismegistos_uri</th>\n",
       "      <th>pleiades_id</th>\n",
       "      <th>transcription</th>\n",
       "      <th>inscription</th>\n",
       "      <th>clean_text_conservative</th>\n",
       "      <th>clean_text_interpretive_sentence</th>\n",
       "      <th>clean_text_interpretive_word</th>\n",
       "      <th>clean_text_interpretive_word_EDCS</th>\n",
       "      <th>diplomatic_text</th>\n",
       "      <th>province</th>\n",
       "      <th>place</th>\n",
       "      <th>inscr_type</th>\n",
       "      <th>status_notation</th>\n",
       "      <th>inscr_process</th>\n",
       "      <th>status</th>\n",
       "      <th>partner_link</th>\n",
       "      <th>last_update</th>\n",
       "      <th>letter_size</th>\n",
       "      <th>type_of_inscription</th>\n",
       "      <th>work_status</th>\n",
       "      <th>year_of_find</th>\n",
       "      <th>present_location</th>\n",
       "      <th>text_edition</th>\n",
       "      <th>support_objecttype</th>\n",
       "      <th>support_material</th>\n",
       "      <th>support_decoration</th>\n",
       "      <th>keywords_term</th>\n",
       "      <th>people</th>\n",
       "      <th>type_of_inscription_clean</th>\n",
       "      <th>type_of_inscription_certainty</th>\n",
       "      <th>height_cm</th>\n",
       "      <th>width_cm</th>\n",
       "      <th>depth_cm</th>\n",
       "      <th>material_clean</th>\n",
       "      <th>type_of_monument_clean</th>\n",
       "      <th>type_of_monument_certainty</th>\n",
       "      <th>province_label_clean</th>\n",
       "      <th>province_label_certainty</th>\n",
       "      <th>country_clean</th>\n",
       "      <th>country_certainty</th>\n",
       "      <th>findspot_ancient_clean</th>\n",
       "      <th>findspot_ancient_certainty</th>\n",
       "      <th>modern_region_clean</th>\n",
       "      <th>modern_region_certainty</th>\n",
       "      <th>findspot_modern_clean</th>\n",
       "      <th>findspot_modern_certainty</th>\n",
       "      <th>findspot_clean</th>\n",
       "      <th>findspot_certainty</th>\n",
       "      <th>language_EDCS</th>\n",
       "      <th>raw_dating</th>\n",
       "      <th>not_after</th>\n",
       "      <th>not_before</th>\n",
       "      <th>Longitude</th>\n",
       "      <th>Latitude</th>\n",
       "      <th>is_geotemporal</th>\n",
       "      <th>geometry</th>\n",
       "      <th>is_within_RE</th>\n",
       "      <th>urban_context</th>\n",
       "      <th>urban_context_city</th>\n",
       "      <th>urban_context_pop_est</th>\n",
       "      <th>type_of_inscription_auto</th>\n",
       "      <th>type_of_inscription_auto_prob</th>\n",
       "      <th>occups</th>\n",
       "      <th>occups_N</th>\n",
       "      <th>organizations</th>\n",
       "      <th>organizations_N</th>\n",
       "      <th>is_western</th>\n",
       "    </tr>\n",
       "  </thead>\n",
       "  <tbody>\n",
       "    <tr>\n",
       "      <th>445463</th>\n",
       "      <td>445464</td>\n",
       "      <td>EDCS-24900077</td>\n",
       "      <td>HD056163</td>\n",
       "      <td>https://www.trismegistos.org/text/177366</td>\n",
       "      <td>570485</td>\n",
       "      <td>Q(uinto) Caecilio C(ai) f(ilio) Metelo / imper...</td>\n",
       "      <td>Q(uinto) Caecilio C(ai) f(ilio) Metel(l)o / im...</td>\n",
       "      <td>Q Caecilio C f Metelo imperatori Italici quei ...</td>\n",
       "      <td>Quinto Caecilio Cai filio Metelo imperatori It...</td>\n",
       "      <td>Quinto Caecilio Cai filio Metelo imperatori It...</td>\n",
       "      <td>Quinto Caecilio Cai filio Metello imperatori I...</td>\n",
       "      <td>Q CAECILIO C F METELO / IMPERATORI ITALICI / Q...</td>\n",
       "      <td>Achaia</td>\n",
       "      <td>Agia Triada / Merbaka / Midea</td>\n",
       "      <td>tituli honorarii</td>\n",
       "      <td>officium/professio, ordo senatorius, tria nomi...</td>\n",
       "      <td>None</td>\n",
       "      <td>officium/professio;  ordo senatorius;  tituli ...</td>\n",
       "      <td>http://db.edcs.eu/epigr/partner.php?s_language...</td>\n",
       "      <td>2011-11-11</td>\n",
       "      <td>None</td>\n",
       "      <td>honorific inscription</td>\n",
       "      <td>no image</td>\n",
       "      <td>NaN</td>\n",
       "      <td>None</td>\n",
       "      <td>\\n Quinto Caecilio Cai filio Metelo imperatori...</td>\n",
       "      <td>None</td>\n",
       "      <td>None</td>\n",
       "      <td>1000</td>\n",
       "      <td>69</td>\n",
       "      <td>[{'age: days': None, 'age: hours': None, 'age:...</td>\n",
       "      <td>honorific inscription</td>\n",
       "      <td>False</td>\n",
       "      <td>NaN</td>\n",
       "      <td>NaN</td>\n",
       "      <td>NaN</td>\n",
       "      <td>NULL</td>\n",
       "      <td>NULL</td>\n",
       "      <td>False</td>\n",
       "      <td>Achaia</td>\n",
       "      <td>False</td>\n",
       "      <td>Greece</td>\n",
       "      <td>False</td>\n",
       "      <td>Midea</td>\n",
       "      <td>False</td>\n",
       "      <td>Pelopónissos</td>\n",
       "      <td>False</td>\n",
       "      <td>Midhéa</td>\n",
       "      <td>False</td>\n",
       "      <td>NULL</td>\n",
       "      <td>False</td>\n",
       "      <td>None</td>\n",
       "      <td>-68 to -68</td>\n",
       "      <td>-68.0</td>\n",
       "      <td>-68.0</td>\n",
       "      <td>22.841200</td>\n",
       "      <td>37.649800</td>\n",
       "      <td>True</td>\n",
       "      <td>POINT (22.84120 37.64980)</td>\n",
       "      <td>True</td>\n",
       "      <td>rural</td>\n",
       "      <td>None</td>\n",
       "      <td>NaN</td>\n",
       "      <td>honorific inscription</td>\n",
       "      <td>1.0</td>\n",
       "      <td>[]</td>\n",
       "      <td>0</td>\n",
       "      <td>[]</td>\n",
       "      <td>0</td>\n",
       "      <td>False</td>\n",
       "    </tr>\n",
       "    <tr>\n",
       "      <th>445464</th>\n",
       "      <td>445465</td>\n",
       "      <td>EDCS-03700724</td>\n",
       "      <td>HD052964</td>\n",
       "      <td>https://www.trismegistos.org/text/121715</td>\n",
       "      <td>531064</td>\n",
       "      <td>Fortissimo et piis/simo Caesari d(omino) n(ost...</td>\n",
       "      <td>Fortissimo et Piis/simo Caesari d(omino) n(ost...</td>\n",
       "      <td>Fortissimo et piissimo Caesari d n Gal Val P F...</td>\n",
       "      <td>Fortissimo et piissimo Caesari domino nostro G...</td>\n",
       "      <td>Fortissimo et piissimo Caesari domino nostro G...</td>\n",
       "      <td>Fortissimo et Piissimo Caesari domino nostro G...</td>\n",
       "      <td>FORTISSIMO ET PIIS / SIMO CAESARI D N / GAL VA...</td>\n",
       "      <td>Achaia</td>\n",
       "      <td>Agios Athanasios / Photike</td>\n",
       "      <td>tituli honorarii</td>\n",
       "      <td>Augusti/Augustae, ordo equester, tria nomina</td>\n",
       "      <td>litterae erasae</td>\n",
       "      <td>Augusti/Augustae;  litterae erasae;  ordo eque...</td>\n",
       "      <td>http://db.edcs.eu/epigr/partner.php?s_language...</td>\n",
       "      <td>2014-09-16</td>\n",
       "      <td>3-5.3 cm</td>\n",
       "      <td>honorific inscription</td>\n",
       "      <td>checked with photo</td>\n",
       "      <td>NaN</td>\n",
       "      <td>Fragma Kalama</td>\n",
       "      <td>\\n Fortissimo et piissimo Caesari domino nostr...</td>\n",
       "      <td>57</td>\n",
       "      <td>None</td>\n",
       "      <td>1000</td>\n",
       "      <td>69</td>\n",
       "      <td>[{'age: days': None, 'age: hours': None, 'age:...</td>\n",
       "      <td>honorific inscription</td>\n",
       "      <td>False</td>\n",
       "      <td>99.0</td>\n",
       "      <td>67.0</td>\n",
       "      <td>67.0</td>\n",
       "      <td>NULL</td>\n",
       "      <td>statue base</td>\n",
       "      <td>False</td>\n",
       "      <td>Epirus</td>\n",
       "      <td>False</td>\n",
       "      <td>Greece</td>\n",
       "      <td>False</td>\n",
       "      <td>Photike</td>\n",
       "      <td>False</td>\n",
       "      <td>Ípeiros</td>\n",
       "      <td>False</td>\n",
       "      <td>Paramythía</td>\n",
       "      <td>False</td>\n",
       "      <td>{Agios Athanasios}</td>\n",
       "      <td>False</td>\n",
       "      <td>None</td>\n",
       "      <td>309 to 313</td>\n",
       "      <td>313.0</td>\n",
       "      <td>309.0</td>\n",
       "      <td>20.766800</td>\n",
       "      <td>39.451200</td>\n",
       "      <td>True</td>\n",
       "      <td>POINT (20.76680 39.45120)</td>\n",
       "      <td>True</td>\n",
       "      <td>rural</td>\n",
       "      <td>None</td>\n",
       "      <td>NaN</td>\n",
       "      <td>honorific inscription</td>\n",
       "      <td>1.0</td>\n",
       "      <td>[]</td>\n",
       "      <td>0</td>\n",
       "      <td>[]</td>\n",
       "      <td>0</td>\n",
       "      <td>False</td>\n",
       "    </tr>\n",
       "    <tr>\n",
       "      <th>445465</th>\n",
       "      <td>445466</td>\n",
       "      <td>EDCS-13800065</td>\n",
       "      <td>HD017714</td>\n",
       "      <td>https://www.trismegistos.org/text/177100</td>\n",
       "      <td>570049</td>\n",
       "      <td>Italicei / quei Aegei negotiantur / P(ublium) ...</td>\n",
       "      <td>Italicei / quei Aegei negotiantur / P(ublium) ...</td>\n",
       "      <td>Italicei quei Aegei negotiantur P Rutilium P f...</td>\n",
       "      <td>Italicei quei Aegei negotiantur Publium Rutili...</td>\n",
       "      <td>Italicei quei Aegei negotiantur Publium Rutili...</td>\n",
       "      <td>Italicei quei Aegei negotiantur Publium Rutili...</td>\n",
       "      <td>ITALICEI / QVEI AEGEI NEGOTIANTVR / P RVTILIVM...</td>\n",
       "      <td>Achaia</td>\n",
       "      <td>Aigio / Egio / Aiyion / Aegeum</td>\n",
       "      <td>tituli honorarii</td>\n",
       "      <td>officium/professio, ordo senatorius, tria nomi...</td>\n",
       "      <td>None</td>\n",
       "      <td>officium/professio;  ordo senatorius;  tituli ...</td>\n",
       "      <td>http://db.edcs.eu/epigr/partner.php?s_language...</td>\n",
       "      <td>2011-03-29</td>\n",
       "      <td>3.5-3.7 cm</td>\n",
       "      <td>votive inscription</td>\n",
       "      <td>checked with photo</td>\n",
       "      <td>NaN</td>\n",
       "      <td>None</td>\n",
       "      <td>\\n Italicei quei Aegei negotiantur Publium Rut...</td>\n",
       "      <td>257</td>\n",
       "      <td>None</td>\n",
       "      <td>1000</td>\n",
       "      <td>372</td>\n",
       "      <td>[{'age: days': None, 'age: hours': None, 'age:...</td>\n",
       "      <td>votive inscription</td>\n",
       "      <td>False</td>\n",
       "      <td>58.0</td>\n",
       "      <td>61.0</td>\n",
       "      <td>16.0</td>\n",
       "      <td>NULL</td>\n",
       "      <td>tabula</td>\n",
       "      <td>False</td>\n",
       "      <td>Achaia</td>\n",
       "      <td>False</td>\n",
       "      <td>Greece</td>\n",
       "      <td>False</td>\n",
       "      <td>Aegeum</td>\n",
       "      <td>False</td>\n",
       "      <td>Dytikí Elláda</td>\n",
       "      <td>False</td>\n",
       "      <td>Aígion</td>\n",
       "      <td>False</td>\n",
       "      <td>NULL</td>\n",
       "      <td>False</td>\n",
       "      <td>None</td>\n",
       "      <td>-74 to -74</td>\n",
       "      <td>-74.0</td>\n",
       "      <td>-74.0</td>\n",
       "      <td>22.084500</td>\n",
       "      <td>38.248700</td>\n",
       "      <td>True</td>\n",
       "      <td>POINT (22.08450 38.24870)</td>\n",
       "      <td>True</td>\n",
       "      <td>small</td>\n",
       "      <td>Aegium</td>\n",
       "      <td>1000.0</td>\n",
       "      <td>votive inscription</td>\n",
       "      <td>1.0</td>\n",
       "      <td>[]</td>\n",
       "      <td>0</td>\n",
       "      <td>[]</td>\n",
       "      <td>0</td>\n",
       "      <td>False</td>\n",
       "    </tr>\n",
       "    <tr>\n",
       "      <th>445466</th>\n",
       "      <td>445467</td>\n",
       "      <td>EDCS-03300852</td>\n",
       "      <td>HD051000</td>\n",
       "      <td>https://www.trismegistos.org/text/177273</td>\n",
       "      <td>240855</td>\n",
       "      <td>[Imp(eratori) Caes(ari) M(arco)] / An[nio] Flo...</td>\n",
       "      <td>Imp(eratori) / Floriano / P(io) F(elici) Aug(u...</td>\n",
       "      <td>An Floriano P F Aug p p m p III Imp Caes M Aur...</td>\n",
       "      <td>Imperatori Caesari Marco Annio Floriano Pio Fe...</td>\n",
       "      <td>Imperatori Caesari Marco Annio Floriano Pio Fe...</td>\n",
       "      <td>Imperatori Floriano Pio Felici Augusto patri p...</td>\n",
       "      <td>[ ] / AN[ ] FLORIANO / P F AVG / P P / M P III...</td>\n",
       "      <td>Achaia</td>\n",
       "      <td>Alea / Tegea</td>\n",
       "      <td>miliaria</td>\n",
       "      <td>Augusti/Augustae, viri</td>\n",
       "      <td>None</td>\n",
       "      <td>Augusti/Augustae;  miliaria;  viri</td>\n",
       "      <td>http://db.edcs.eu/epigr/partner.php?s_language...</td>\n",
       "      <td>2011-05-24</td>\n",
       "      <td>3.3-6 cm</td>\n",
       "      <td>mile-/leaguestone</td>\n",
       "      <td>checked with photo</td>\n",
       "      <td>NaN</td>\n",
       "      <td>Tegea, Mus.</td>\n",
       "      <td>\\n Imperatori Caesari Marco Annio Floriano Pio...</td>\n",
       "      <td>89</td>\n",
       "      <td>None</td>\n",
       "      <td>1000</td>\n",
       "      <td>None</td>\n",
       "      <td>[{'age: days': None, 'age: hours': None, 'age:...</td>\n",
       "      <td>mile-/leaguestone</td>\n",
       "      <td>False</td>\n",
       "      <td>44.0</td>\n",
       "      <td>24.0</td>\n",
       "      <td>NaN</td>\n",
       "      <td>NULL</td>\n",
       "      <td>mile-/leaguestone</td>\n",
       "      <td>False</td>\n",
       "      <td>Achaia</td>\n",
       "      <td>False</td>\n",
       "      <td>Greece</td>\n",
       "      <td>False</td>\n",
       "      <td>Tegea</td>\n",
       "      <td>False</td>\n",
       "      <td>Pelopónissos</td>\n",
       "      <td>False</td>\n",
       "      <td>Alea</td>\n",
       "      <td>False</td>\n",
       "      <td>Stringu, bei</td>\n",
       "      <td>False</td>\n",
       "      <td>None</td>\n",
       "      <td>a:  276 to 276;   b:  276 to 282</td>\n",
       "      <td>282.0</td>\n",
       "      <td>276.0</td>\n",
       "      <td>22.417100</td>\n",
       "      <td>37.431900</td>\n",
       "      <td>True</td>\n",
       "      <td>POINT (22.41710 37.43190)</td>\n",
       "      <td>True</td>\n",
       "      <td>large</td>\n",
       "      <td>Tegea</td>\n",
       "      <td>46362.0</td>\n",
       "      <td>mile-/leaguestone</td>\n",
       "      <td>1.0</td>\n",
       "      <td>[]</td>\n",
       "      <td>0</td>\n",
       "      <td>[]</td>\n",
       "      <td>0</td>\n",
       "      <td>False</td>\n",
       "    </tr>\n",
       "    <tr>\n",
       "      <th>445467</th>\n",
       "      <td>445468</td>\n",
       "      <td>EDCS-28500283</td>\n",
       "      <td>HD021396</td>\n",
       "      <td>https://www.trismegistos.org/text/177131</td>\n",
       "      <td></td>\n",
       "      <td>T[i(berius)] Claudius Caesar Aug(ustus) / G[er...</td>\n",
       "      <td>T[(iberius)] Claudius Caesar Aug(ustus) / G[er...</td>\n",
       "      <td>T Claudius Caesar Aug Ganicus pontif max trib ...</td>\n",
       "      <td>Tiberius Claudius Caesar Augustus Germanicus p...</td>\n",
       "      <td>Tiberius Claudius Caesar Augustus Germanicus p...</td>\n",
       "      <td>Tiberius Claudius Caesar Augustus Germanicus p...</td>\n",
       "      <td>T[ ] CLAVDIVS CAESAR AVG / G[ ]ANICVS PONTIF M...</td>\n",
       "      <td>Achaia</td>\n",
       "      <td>Alea / Tegea</td>\n",
       "      <td>leges</td>\n",
       "      <td>Augusti/Augustae, viri</td>\n",
       "      <td>None</td>\n",
       "      <td>Augusti/Augustae;  leges;  viri</td>\n",
       "      <td>http://db.edcs.eu/epigr/partner.php?s_language...</td>\n",
       "      <td>2011-05-10</td>\n",
       "      <td>None</td>\n",
       "      <td>public legal inscription</td>\n",
       "      <td>checked with photo</td>\n",
       "      <td>NaN</td>\n",
       "      <td>None</td>\n",
       "      <td>\\n Tiberius Claudius Caesar Augustus Germanicu...</td>\n",
       "      <td>257</td>\n",
       "      <td>None</td>\n",
       "      <td>1000</td>\n",
       "      <td>5</td>\n",
       "      <td>[{'age: days': None, 'age: hours': None, 'age:...</td>\n",
       "      <td>public legal inscription</td>\n",
       "      <td>False</td>\n",
       "      <td>160.0</td>\n",
       "      <td>58.0</td>\n",
       "      <td>17.0</td>\n",
       "      <td>NULL</td>\n",
       "      <td>tabula</td>\n",
       "      <td>False</td>\n",
       "      <td>Achaia</td>\n",
       "      <td>False</td>\n",
       "      <td>Greece</td>\n",
       "      <td>False</td>\n",
       "      <td>Tegea</td>\n",
       "      <td>False</td>\n",
       "      <td>Pelopónissos</td>\n",
       "      <td>False</td>\n",
       "      <td>Alea</td>\n",
       "      <td>False</td>\n",
       "      <td>NULL</td>\n",
       "      <td>False</td>\n",
       "      <td>None</td>\n",
       "      <td>49 to 50</td>\n",
       "      <td>50.0</td>\n",
       "      <td>49.0</td>\n",
       "      <td>22.420877</td>\n",
       "      <td>37.454501</td>\n",
       "      <td>True</td>\n",
       "      <td>POINT (22.42088 37.45450)</td>\n",
       "      <td>True</td>\n",
       "      <td>large</td>\n",
       "      <td>Tegea</td>\n",
       "      <td>46362.0</td>\n",
       "      <td>public legal inscription</td>\n",
       "      <td>1.0</td>\n",
       "      <td>[]</td>\n",
       "      <td>0</td>\n",
       "      <td>[]</td>\n",
       "      <td>0</td>\n",
       "      <td>False</td>\n",
       "    </tr>\n",
       "  </tbody>\n",
       "</table>\n",
       "</div>"
      ],
      "text/plain": [
       "        LIST-ID        EDCS-ID    EDH-ID  \\\n",
       "445463   445464  EDCS-24900077  HD056163   \n",
       "445464   445465  EDCS-03700724  HD052964   \n",
       "445465   445466  EDCS-13800065  HD017714   \n",
       "445466   445467  EDCS-03300852  HD051000   \n",
       "445467   445468  EDCS-28500283  HD021396   \n",
       "\n",
       "                                trismegistos_uri pleiades_id  \\\n",
       "445463  https://www.trismegistos.org/text/177366      570485   \n",
       "445464  https://www.trismegistos.org/text/121715      531064   \n",
       "445465  https://www.trismegistos.org/text/177100      570049   \n",
       "445466  https://www.trismegistos.org/text/177273      240855   \n",
       "445467  https://www.trismegistos.org/text/177131               \n",
       "\n",
       "                                            transcription  \\\n",
       "445463  Q(uinto) Caecilio C(ai) f(ilio) Metelo / imper...   \n",
       "445464  Fortissimo et piis/simo Caesari d(omino) n(ost...   \n",
       "445465  Italicei / quei Aegei negotiantur / P(ublium) ...   \n",
       "445466  [Imp(eratori) Caes(ari) M(arco)] / An[nio] Flo...   \n",
       "445467  T[i(berius)] Claudius Caesar Aug(ustus) / G[er...   \n",
       "\n",
       "                                              inscription  \\\n",
       "445463  Q(uinto) Caecilio C(ai) f(ilio) Metel(l)o / im...   \n",
       "445464  Fortissimo et Piis/simo Caesari d(omino) n(ost...   \n",
       "445465  Italicei / quei Aegei negotiantur / P(ublium) ...   \n",
       "445466  Imp(eratori) / Floriano / P(io) F(elici) Aug(u...   \n",
       "445467  T[(iberius)] Claudius Caesar Aug(ustus) / G[er...   \n",
       "\n",
       "                                  clean_text_conservative  \\\n",
       "445463  Q Caecilio C f Metelo imperatori Italici quei ...   \n",
       "445464  Fortissimo et piissimo Caesari d n Gal Val P F...   \n",
       "445465  Italicei quei Aegei negotiantur P Rutilium P f...   \n",
       "445466  An Floriano P F Aug p p m p III Imp Caes M Aur...   \n",
       "445467  T Claudius Caesar Aug Ganicus pontif max trib ...   \n",
       "\n",
       "                         clean_text_interpretive_sentence  \\\n",
       "445463  Quinto Caecilio Cai filio Metelo imperatori It...   \n",
       "445464  Fortissimo et piissimo Caesari domino nostro G...   \n",
       "445465  Italicei quei Aegei negotiantur Publium Rutili...   \n",
       "445466  Imperatori Caesari Marco Annio Floriano Pio Fe...   \n",
       "445467  Tiberius Claudius Caesar Augustus Germanicus p...   \n",
       "\n",
       "                             clean_text_interpretive_word  \\\n",
       "445463  Quinto Caecilio Cai filio Metelo imperatori It...   \n",
       "445464  Fortissimo et piissimo Caesari domino nostro G...   \n",
       "445465  Italicei quei Aegei negotiantur Publium Rutili...   \n",
       "445466  Imperatori Caesari Marco Annio Floriano Pio Fe...   \n",
       "445467  Tiberius Claudius Caesar Augustus Germanicus p...   \n",
       "\n",
       "                        clean_text_interpretive_word_EDCS  \\\n",
       "445463  Quinto Caecilio Cai filio Metello imperatori I...   \n",
       "445464  Fortissimo et Piissimo Caesari domino nostro G...   \n",
       "445465  Italicei quei Aegei negotiantur Publium Rutili...   \n",
       "445466  Imperatori Floriano Pio Felici Augusto patri p...   \n",
       "445467  Tiberius Claudius Caesar Augustus Germanicus p...   \n",
       "\n",
       "                                          diplomatic_text province  \\\n",
       "445463  Q CAECILIO C F METELO / IMPERATORI ITALICI / Q...   Achaia   \n",
       "445464  FORTISSIMO ET PIIS / SIMO CAESARI D N / GAL VA...   Achaia   \n",
       "445465  ITALICEI / QVEI AEGEI NEGOTIANTVR / P RVTILIVM...   Achaia   \n",
       "445466  [ ] / AN[ ] FLORIANO / P F AVG / P P / M P III...   Achaia   \n",
       "445467  T[ ] CLAVDIVS CAESAR AVG / G[ ]ANICVS PONTIF M...   Achaia   \n",
       "\n",
       "                                 place        inscr_type  \\\n",
       "445463   Agia Triada / Merbaka / Midea  tituli honorarii   \n",
       "445464      Agios Athanasios / Photike  tituli honorarii   \n",
       "445465  Aigio / Egio / Aiyion / Aegeum  tituli honorarii   \n",
       "445466                    Alea / Tegea          miliaria   \n",
       "445467                    Alea / Tegea             leges   \n",
       "\n",
       "                                          status_notation    inscr_process  \\\n",
       "445463  officium/professio, ordo senatorius, tria nomi...             None   \n",
       "445464       Augusti/Augustae, ordo equester, tria nomina  litterae erasae   \n",
       "445465  officium/professio, ordo senatorius, tria nomi...             None   \n",
       "445466                             Augusti/Augustae, viri             None   \n",
       "445467                             Augusti/Augustae, viri             None   \n",
       "\n",
       "                                                   status  \\\n",
       "445463  officium/professio;  ordo senatorius;  tituli ...   \n",
       "445464  Augusti/Augustae;  litterae erasae;  ordo eque...   \n",
       "445465  officium/professio;  ordo senatorius;  tituli ...   \n",
       "445466                 Augusti/Augustae;  miliaria;  viri   \n",
       "445467                    Augusti/Augustae;  leges;  viri   \n",
       "\n",
       "                                             partner_link last_update  \\\n",
       "445463  http://db.edcs.eu/epigr/partner.php?s_language...  2011-11-11   \n",
       "445464  http://db.edcs.eu/epigr/partner.php?s_language...  2014-09-16   \n",
       "445465  http://db.edcs.eu/epigr/partner.php?s_language...  2011-03-29   \n",
       "445466  http://db.edcs.eu/epigr/partner.php?s_language...  2011-05-24   \n",
       "445467  http://db.edcs.eu/epigr/partner.php?s_language...  2011-05-10   \n",
       "\n",
       "       letter_size       type_of_inscription         work_status  \\\n",
       "445463        None     honorific inscription            no image   \n",
       "445464    3-5.3 cm     honorific inscription  checked with photo   \n",
       "445465  3.5-3.7 cm        votive inscription  checked with photo   \n",
       "445466    3.3-6 cm         mile-/leaguestone  checked with photo   \n",
       "445467        None  public legal inscription  checked with photo   \n",
       "\n",
       "        year_of_find present_location  \\\n",
       "445463           NaN             None   \n",
       "445464           NaN    Fragma Kalama   \n",
       "445465           NaN             None   \n",
       "445466           NaN      Tegea, Mus.   \n",
       "445467           NaN             None   \n",
       "\n",
       "                                             text_edition support_objecttype  \\\n",
       "445463  \\n Quinto Caecilio Cai filio Metelo imperatori...               None   \n",
       "445464  \\n Fortissimo et piissimo Caesari domino nostr...                 57   \n",
       "445465  \\n Italicei quei Aegei negotiantur Publium Rut...                257   \n",
       "445466  \\n Imperatori Caesari Marco Annio Floriano Pio...                 89   \n",
       "445467  \\n Tiberius Claudius Caesar Augustus Germanicu...                257   \n",
       "\n",
       "       support_material support_decoration keywords_term  \\\n",
       "445463             None               1000            69   \n",
       "445464             None               1000            69   \n",
       "445465             None               1000           372   \n",
       "445466             None               1000          None   \n",
       "445467             None               1000             5   \n",
       "\n",
       "                                                   people  \\\n",
       "445463  [{'age: days': None, 'age: hours': None, 'age:...   \n",
       "445464  [{'age: days': None, 'age: hours': None, 'age:...   \n",
       "445465  [{'age: days': None, 'age: hours': None, 'age:...   \n",
       "445466  [{'age: days': None, 'age: hours': None, 'age:...   \n",
       "445467  [{'age: days': None, 'age: hours': None, 'age:...   \n",
       "\n",
       "       type_of_inscription_clean  type_of_inscription_certainty  height_cm  \\\n",
       "445463     honorific inscription                          False        NaN   \n",
       "445464     honorific inscription                          False       99.0   \n",
       "445465        votive inscription                          False       58.0   \n",
       "445466         mile-/leaguestone                          False       44.0   \n",
       "445467  public legal inscription                          False      160.0   \n",
       "\n",
       "        width_cm  depth_cm material_clean type_of_monument_clean  \\\n",
       "445463       NaN       NaN           NULL                   NULL   \n",
       "445464      67.0      67.0           NULL            statue base   \n",
       "445465      61.0      16.0           NULL                 tabula   \n",
       "445466      24.0       NaN           NULL      mile-/leaguestone   \n",
       "445467      58.0      17.0           NULL                 tabula   \n",
       "\n",
       "        type_of_monument_certainty province_label_clean  \\\n",
       "445463                       False               Achaia   \n",
       "445464                       False               Epirus   \n",
       "445465                       False               Achaia   \n",
       "445466                       False               Achaia   \n",
       "445467                       False               Achaia   \n",
       "\n",
       "        province_label_certainty country_clean  country_certainty  \\\n",
       "445463                     False        Greece              False   \n",
       "445464                     False        Greece              False   \n",
       "445465                     False        Greece              False   \n",
       "445466                     False        Greece              False   \n",
       "445467                     False        Greece              False   \n",
       "\n",
       "       findspot_ancient_clean  findspot_ancient_certainty modern_region_clean  \\\n",
       "445463                  Midea                       False        Pelopónissos   \n",
       "445464                Photike                       False             Ípeiros   \n",
       "445465                 Aegeum                       False       Dytikí Elláda   \n",
       "445466                  Tegea                       False        Pelopónissos   \n",
       "445467                  Tegea                       False        Pelopónissos   \n",
       "\n",
       "        modern_region_certainty findspot_modern_clean  \\\n",
       "445463                    False                Midhéa   \n",
       "445464                    False            Paramythía   \n",
       "445465                    False                Aígion   \n",
       "445466                    False                  Alea   \n",
       "445467                    False                  Alea   \n",
       "\n",
       "        findspot_modern_certainty      findspot_clean  findspot_certainty  \\\n",
       "445463                      False                NULL               False   \n",
       "445464                      False  {Agios Athanasios}               False   \n",
       "445465                      False                NULL               False   \n",
       "445466                      False        Stringu, bei               False   \n",
       "445467                      False                NULL               False   \n",
       "\n",
       "       language_EDCS                        raw_dating  not_after  not_before  \\\n",
       "445463          None                        -68 to -68      -68.0       -68.0   \n",
       "445464          None                        309 to 313      313.0       309.0   \n",
       "445465          None                        -74 to -74      -74.0       -74.0   \n",
       "445466          None  a:  276 to 276;   b:  276 to 282      282.0       276.0   \n",
       "445467          None                          49 to 50       50.0        49.0   \n",
       "\n",
       "        Longitude   Latitude  is_geotemporal                   geometry  \\\n",
       "445463  22.841200  37.649800            True  POINT (22.84120 37.64980)   \n",
       "445464  20.766800  39.451200            True  POINT (20.76680 39.45120)   \n",
       "445465  22.084500  38.248700            True  POINT (22.08450 38.24870)   \n",
       "445466  22.417100  37.431900            True  POINT (22.41710 37.43190)   \n",
       "445467  22.420877  37.454501            True  POINT (22.42088 37.45450)   \n",
       "\n",
       "        is_within_RE urban_context urban_context_city  urban_context_pop_est  \\\n",
       "445463          True         rural               None                    NaN   \n",
       "445464          True         rural               None                    NaN   \n",
       "445465          True         small             Aegium                 1000.0   \n",
       "445466          True         large              Tegea                46362.0   \n",
       "445467          True         large              Tegea                46362.0   \n",
       "\n",
       "        type_of_inscription_auto  type_of_inscription_auto_prob occups  \\\n",
       "445463     honorific inscription                            1.0     []   \n",
       "445464     honorific inscription                            1.0     []   \n",
       "445465        votive inscription                            1.0     []   \n",
       "445466         mile-/leaguestone                            1.0     []   \n",
       "445467  public legal inscription                            1.0     []   \n",
       "\n",
       "        occups_N organizations  organizations_N  is_western  \n",
       "445463         0            []                0       False  \n",
       "445464         0            []                0       False  \n",
       "445465         0            []                0       False  \n",
       "445466         0            []                0       False  \n",
       "445467         0            []                0       False  "
      ]
     },
     "execution_count": 27,
     "metadata": {},
     "output_type": "execute_result"
    }
   ],
   "source": [
    "LIST.head(5)"
   ]
  },
  {
   "cell_type": "code",
   "execution_count": 28,
   "metadata": {},
   "outputs": [],
   "source": [
    "# filter dataset to contain only inscriptions with geometry \n",
    "\n",
    "LISTgeo = LIST[~LIST[\"geometry\"].is_empty]"
   ]
  },
  {
   "cell_type": "code",
   "execution_count": 29,
   "metadata": {},
   "outputs": [
    {
     "data": {
      "text/plain": [
       "511973"
      ]
     },
     "execution_count": 29,
     "metadata": {},
     "output_type": "execute_result"
    }
   ],
   "source": [
    "# how big is the geolocated dataset\n",
    "len(LISTgeo)"
   ]
  },
  {
   "cell_type": "code",
   "execution_count": 30,
   "metadata": {
    "pycharm": {
     "name": "#%%\n"
    }
   },
   "outputs": [
    {
     "name": "stdout",
     "output_type": "stream",
     "text": [
      "CPU times: user 1min 59s, sys: 1.92 s, total: 2min 1s\n",
      "Wall time: 2min 1s\n"
     ]
    }
   ],
   "source": [
    "%%time\n",
    "\n",
    "# computes the nearest urban context for a given inscription (point to point)\n",
    "\n",
    "LISTgeo = ckdnearest(LISTgeo, roman_cities, \"large\")\n",
    "LISTgeo = ckdnearest(LISTgeo, roman_cities, \"medium\")\n",
    "LISTgeo = ckdnearest(LISTgeo, roman_cities, \"small\")"
   ]
  },
  {
   "cell_type": "code",
   "execution_count": 31,
   "metadata": {
    "pycharm": {
     "name": "#%%\n"
    }
   },
   "outputs": [
    {
     "data": {
      "text/html": [
       "<div>\n",
       "<style scoped>\n",
       "    .dataframe tbody tr th:only-of-type {\n",
       "        vertical-align: middle;\n",
       "    }\n",
       "\n",
       "    .dataframe tbody tr th {\n",
       "        vertical-align: top;\n",
       "    }\n",
       "\n",
       "    .dataframe thead th {\n",
       "        text-align: right;\n",
       "    }\n",
       "</style>\n",
       "<table border=\"1\" class=\"dataframe\">\n",
       "  <thead>\n",
       "    <tr style=\"text-align: right;\">\n",
       "      <th></th>\n",
       "      <th>LIST-ID</th>\n",
       "      <th>EDCS-ID</th>\n",
       "      <th>EDH-ID</th>\n",
       "      <th>trismegistos_uri</th>\n",
       "      <th>pleiades_id</th>\n",
       "      <th>transcription</th>\n",
       "      <th>inscription</th>\n",
       "      <th>clean_text_conservative</th>\n",
       "      <th>clean_text_interpretive_sentence</th>\n",
       "      <th>clean_text_interpretive_word</th>\n",
       "      <th>clean_text_interpretive_word_EDCS</th>\n",
       "      <th>diplomatic_text</th>\n",
       "      <th>province</th>\n",
       "      <th>place</th>\n",
       "      <th>inscr_type</th>\n",
       "      <th>status_notation</th>\n",
       "      <th>inscr_process</th>\n",
       "      <th>status</th>\n",
       "      <th>partner_link</th>\n",
       "      <th>last_update</th>\n",
       "      <th>letter_size</th>\n",
       "      <th>type_of_inscription</th>\n",
       "      <th>work_status</th>\n",
       "      <th>year_of_find</th>\n",
       "      <th>present_location</th>\n",
       "      <th>text_edition</th>\n",
       "      <th>support_objecttype</th>\n",
       "      <th>support_material</th>\n",
       "      <th>support_decoration</th>\n",
       "      <th>keywords_term</th>\n",
       "      <th>people</th>\n",
       "      <th>type_of_inscription_clean</th>\n",
       "      <th>type_of_inscription_certainty</th>\n",
       "      <th>height_cm</th>\n",
       "      <th>width_cm</th>\n",
       "      <th>depth_cm</th>\n",
       "      <th>material_clean</th>\n",
       "      <th>type_of_monument_clean</th>\n",
       "      <th>type_of_monument_certainty</th>\n",
       "      <th>province_label_clean</th>\n",
       "      <th>province_label_certainty</th>\n",
       "      <th>country_clean</th>\n",
       "      <th>country_certainty</th>\n",
       "      <th>findspot_ancient_clean</th>\n",
       "      <th>findspot_ancient_certainty</th>\n",
       "      <th>modern_region_clean</th>\n",
       "      <th>modern_region_certainty</th>\n",
       "      <th>findspot_modern_clean</th>\n",
       "      <th>findspot_modern_certainty</th>\n",
       "      <th>findspot_clean</th>\n",
       "      <th>findspot_certainty</th>\n",
       "      <th>language_EDCS</th>\n",
       "      <th>raw_dating</th>\n",
       "      <th>not_after</th>\n",
       "      <th>not_before</th>\n",
       "      <th>Longitude</th>\n",
       "      <th>Latitude</th>\n",
       "      <th>is_geotemporal</th>\n",
       "      <th>geometry</th>\n",
       "      <th>is_within_RE</th>\n",
       "      <th>urban_context</th>\n",
       "      <th>urban_context_city</th>\n",
       "      <th>urban_context_pop_est</th>\n",
       "      <th>type_of_inscription_auto</th>\n",
       "      <th>type_of_inscription_auto_prob</th>\n",
       "      <th>occups</th>\n",
       "      <th>occups_N</th>\n",
       "      <th>organizations</th>\n",
       "      <th>organizations_N</th>\n",
       "      <th>is_western</th>\n",
       "      <th>large_city_ID</th>\n",
       "      <th>large_city_geo</th>\n",
       "      <th>large_city_dist</th>\n",
       "      <th>medium_city_ID</th>\n",
       "      <th>medium_city_geo</th>\n",
       "      <th>medium_city_dist</th>\n",
       "      <th>small_city_ID</th>\n",
       "      <th>small_city_geo</th>\n",
       "      <th>small_city_dist</th>\n",
       "    </tr>\n",
       "  </thead>\n",
       "  <tbody>\n",
       "    <tr>\n",
       "      <th>0</th>\n",
       "      <td>445464</td>\n",
       "      <td>EDCS-24900077</td>\n",
       "      <td>HD056163</td>\n",
       "      <td>https://www.trismegistos.org/text/177366</td>\n",
       "      <td>570485</td>\n",
       "      <td>Q(uinto) Caecilio C(ai) f(ilio) Metelo / imper...</td>\n",
       "      <td>Q(uinto) Caecilio C(ai) f(ilio) Metel(l)o / im...</td>\n",
       "      <td>Q Caecilio C f Metelo imperatori Italici quei ...</td>\n",
       "      <td>Quinto Caecilio Cai filio Metelo imperatori It...</td>\n",
       "      <td>Quinto Caecilio Cai filio Metelo imperatori It...</td>\n",
       "      <td>Quinto Caecilio Cai filio Metello imperatori I...</td>\n",
       "      <td>Q CAECILIO C F METELO / IMPERATORI ITALICI / Q...</td>\n",
       "      <td>Achaia</td>\n",
       "      <td>Agia Triada / Merbaka / Midea</td>\n",
       "      <td>tituli honorarii</td>\n",
       "      <td>officium/professio, ordo senatorius, tria nomi...</td>\n",
       "      <td>None</td>\n",
       "      <td>officium/professio;  ordo senatorius;  tituli ...</td>\n",
       "      <td>http://db.edcs.eu/epigr/partner.php?s_language...</td>\n",
       "      <td>2011-11-11</td>\n",
       "      <td>None</td>\n",
       "      <td>honorific inscription</td>\n",
       "      <td>no image</td>\n",
       "      <td>NaN</td>\n",
       "      <td>None</td>\n",
       "      <td>\\n Quinto Caecilio Cai filio Metelo imperatori...</td>\n",
       "      <td>None</td>\n",
       "      <td>None</td>\n",
       "      <td>1000</td>\n",
       "      <td>69</td>\n",
       "      <td>[{'age: days': None, 'age: hours': None, 'age:...</td>\n",
       "      <td>honorific inscription</td>\n",
       "      <td>False</td>\n",
       "      <td>NaN</td>\n",
       "      <td>NaN</td>\n",
       "      <td>NaN</td>\n",
       "      <td>NULL</td>\n",
       "      <td>NULL</td>\n",
       "      <td>False</td>\n",
       "      <td>Achaia</td>\n",
       "      <td>False</td>\n",
       "      <td>Greece</td>\n",
       "      <td>False</td>\n",
       "      <td>Midea</td>\n",
       "      <td>False</td>\n",
       "      <td>Pelopónissos</td>\n",
       "      <td>False</td>\n",
       "      <td>Midhéa</td>\n",
       "      <td>False</td>\n",
       "      <td>NULL</td>\n",
       "      <td>False</td>\n",
       "      <td>None</td>\n",
       "      <td>-68 to -68</td>\n",
       "      <td>-68.0</td>\n",
       "      <td>-68.0</td>\n",
       "      <td>22.8412</td>\n",
       "      <td>37.6498</td>\n",
       "      <td>True</td>\n",
       "      <td>POINT (22.84120 37.64980)</td>\n",
       "      <td>True</td>\n",
       "      <td>rural</td>\n",
       "      <td>None</td>\n",
       "      <td>NaN</td>\n",
       "      <td>honorific inscription</td>\n",
       "      <td>1.0</td>\n",
       "      <td>[]</td>\n",
       "      <td>0</td>\n",
       "      <td>[]</td>\n",
       "      <td>0</td>\n",
       "      <td>False</td>\n",
       "      <td>13</td>\n",
       "      <td>[22.719769, 37.631278]</td>\n",
       "      <td>10912.81</td>\n",
       "      <td>85</td>\n",
       "      <td>[22.641069, 37.831664]</td>\n",
       "      <td>26806.86</td>\n",
       "      <td>36</td>\n",
       "      <td>[23.132244, 37.626573]</td>\n",
       "      <td>25817.21</td>\n",
       "    </tr>\n",
       "    <tr>\n",
       "      <th>1</th>\n",
       "      <td>445465</td>\n",
       "      <td>EDCS-03700724</td>\n",
       "      <td>HD052964</td>\n",
       "      <td>https://www.trismegistos.org/text/121715</td>\n",
       "      <td>531064</td>\n",
       "      <td>Fortissimo et piis/simo Caesari d(omino) n(ost...</td>\n",
       "      <td>Fortissimo et Piis/simo Caesari d(omino) n(ost...</td>\n",
       "      <td>Fortissimo et piissimo Caesari d n Gal Val P F...</td>\n",
       "      <td>Fortissimo et piissimo Caesari domino nostro G...</td>\n",
       "      <td>Fortissimo et piissimo Caesari domino nostro G...</td>\n",
       "      <td>Fortissimo et Piissimo Caesari domino nostro G...</td>\n",
       "      <td>FORTISSIMO ET PIIS / SIMO CAESARI D N / GAL VA...</td>\n",
       "      <td>Achaia</td>\n",
       "      <td>Agios Athanasios / Photike</td>\n",
       "      <td>tituli honorarii</td>\n",
       "      <td>Augusti/Augustae, ordo equester, tria nomina</td>\n",
       "      <td>litterae erasae</td>\n",
       "      <td>Augusti/Augustae;  litterae erasae;  ordo eque...</td>\n",
       "      <td>http://db.edcs.eu/epigr/partner.php?s_language...</td>\n",
       "      <td>2014-09-16</td>\n",
       "      <td>3-5.3 cm</td>\n",
       "      <td>honorific inscription</td>\n",
       "      <td>checked with photo</td>\n",
       "      <td>NaN</td>\n",
       "      <td>Fragma Kalama</td>\n",
       "      <td>\\n Fortissimo et piissimo Caesari domino nostr...</td>\n",
       "      <td>57</td>\n",
       "      <td>None</td>\n",
       "      <td>1000</td>\n",
       "      <td>69</td>\n",
       "      <td>[{'age: days': None, 'age: hours': None, 'age:...</td>\n",
       "      <td>honorific inscription</td>\n",
       "      <td>False</td>\n",
       "      <td>99.0</td>\n",
       "      <td>67.0</td>\n",
       "      <td>67.0</td>\n",
       "      <td>NULL</td>\n",
       "      <td>statue base</td>\n",
       "      <td>False</td>\n",
       "      <td>Epirus</td>\n",
       "      <td>False</td>\n",
       "      <td>Greece</td>\n",
       "      <td>False</td>\n",
       "      <td>Photike</td>\n",
       "      <td>False</td>\n",
       "      <td>Ípeiros</td>\n",
       "      <td>False</td>\n",
       "      <td>Paramythía</td>\n",
       "      <td>False</td>\n",
       "      <td>{Agios Athanasios}</td>\n",
       "      <td>False</td>\n",
       "      <td>None</td>\n",
       "      <td>309 to 313</td>\n",
       "      <td>313.0</td>\n",
       "      <td>309.0</td>\n",
       "      <td>20.7668</td>\n",
       "      <td>39.4512</td>\n",
       "      <td>True</td>\n",
       "      <td>POINT (20.76680 39.45120)</td>\n",
       "      <td>True</td>\n",
       "      <td>rural</td>\n",
       "      <td>None</td>\n",
       "      <td>NaN</td>\n",
       "      <td>honorific inscription</td>\n",
       "      <td>1.0</td>\n",
       "      <td>[]</td>\n",
       "      <td>0</td>\n",
       "      <td>[]</td>\n",
       "      <td>0</td>\n",
       "      <td>False</td>\n",
       "      <td>65</td>\n",
       "      <td>[20.733395, 39.026505]</td>\n",
       "      <td>47237.78</td>\n",
       "      <td>7</td>\n",
       "      <td>[20.987, 39.158]</td>\n",
       "      <td>37687.28</td>\n",
       "      <td>31</td>\n",
       "      <td>[20.787767, 39.546432]</td>\n",
       "      <td>10725.84</td>\n",
       "    </tr>\n",
       "    <tr>\n",
       "      <th>2</th>\n",
       "      <td>445466</td>\n",
       "      <td>EDCS-13800065</td>\n",
       "      <td>HD017714</td>\n",
       "      <td>https://www.trismegistos.org/text/177100</td>\n",
       "      <td>570049</td>\n",
       "      <td>Italicei / quei Aegei negotiantur / P(ublium) ...</td>\n",
       "      <td>Italicei / quei Aegei negotiantur / P(ublium) ...</td>\n",
       "      <td>Italicei quei Aegei negotiantur P Rutilium P f...</td>\n",
       "      <td>Italicei quei Aegei negotiantur Publium Rutili...</td>\n",
       "      <td>Italicei quei Aegei negotiantur Publium Rutili...</td>\n",
       "      <td>Italicei quei Aegei negotiantur Publium Rutili...</td>\n",
       "      <td>ITALICEI / QVEI AEGEI NEGOTIANTVR / P RVTILIVM...</td>\n",
       "      <td>Achaia</td>\n",
       "      <td>Aigio / Egio / Aiyion / Aegeum</td>\n",
       "      <td>tituli honorarii</td>\n",
       "      <td>officium/professio, ordo senatorius, tria nomi...</td>\n",
       "      <td>None</td>\n",
       "      <td>officium/professio;  ordo senatorius;  tituli ...</td>\n",
       "      <td>http://db.edcs.eu/epigr/partner.php?s_language...</td>\n",
       "      <td>2011-03-29</td>\n",
       "      <td>3.5-3.7 cm</td>\n",
       "      <td>votive inscription</td>\n",
       "      <td>checked with photo</td>\n",
       "      <td>NaN</td>\n",
       "      <td>None</td>\n",
       "      <td>\\n Italicei quei Aegei negotiantur Publium Rut...</td>\n",
       "      <td>257</td>\n",
       "      <td>None</td>\n",
       "      <td>1000</td>\n",
       "      <td>372</td>\n",
       "      <td>[{'age: days': None, 'age: hours': None, 'age:...</td>\n",
       "      <td>votive inscription</td>\n",
       "      <td>False</td>\n",
       "      <td>58.0</td>\n",
       "      <td>61.0</td>\n",
       "      <td>16.0</td>\n",
       "      <td>NULL</td>\n",
       "      <td>tabula</td>\n",
       "      <td>False</td>\n",
       "      <td>Achaia</td>\n",
       "      <td>False</td>\n",
       "      <td>Greece</td>\n",
       "      <td>False</td>\n",
       "      <td>Aegeum</td>\n",
       "      <td>False</td>\n",
       "      <td>Dytikí Elláda</td>\n",
       "      <td>False</td>\n",
       "      <td>Aígion</td>\n",
       "      <td>False</td>\n",
       "      <td>NULL</td>\n",
       "      <td>False</td>\n",
       "      <td>None</td>\n",
       "      <td>-74 to -74</td>\n",
       "      <td>-74.0</td>\n",
       "      <td>-74.0</td>\n",
       "      <td>22.0845</td>\n",
       "      <td>38.2487</td>\n",
       "      <td>True</td>\n",
       "      <td>POINT (22.08450 38.24870)</td>\n",
       "      <td>True</td>\n",
       "      <td>small</td>\n",
       "      <td>Aegium</td>\n",
       "      <td>1000.0</td>\n",
       "      <td>votive inscription</td>\n",
       "      <td>1.0</td>\n",
       "      <td>[]</td>\n",
       "      <td>0</td>\n",
       "      <td>[]</td>\n",
       "      <td>0</td>\n",
       "      <td>False</td>\n",
       "      <td>92</td>\n",
       "      <td>[22.726044, 37.9799]</td>\n",
       "      <td>63682.52</td>\n",
       "      <td>24</td>\n",
       "      <td>[22.044647, 37.885611]</td>\n",
       "      <td>40453.51</td>\n",
       "      <td>6</td>\n",
       "      <td>[22.081952, 38.252707]</td>\n",
       "      <td>497.57</td>\n",
       "    </tr>\n",
       "  </tbody>\n",
       "</table>\n",
       "</div>"
      ],
      "text/plain": [
       "   LIST-ID        EDCS-ID    EDH-ID                          trismegistos_uri  \\\n",
       "0   445464  EDCS-24900077  HD056163  https://www.trismegistos.org/text/177366   \n",
       "1   445465  EDCS-03700724  HD052964  https://www.trismegistos.org/text/121715   \n",
       "2   445466  EDCS-13800065  HD017714  https://www.trismegistos.org/text/177100   \n",
       "\n",
       "  pleiades_id                                      transcription  \\\n",
       "0      570485  Q(uinto) Caecilio C(ai) f(ilio) Metelo / imper...   \n",
       "1      531064  Fortissimo et piis/simo Caesari d(omino) n(ost...   \n",
       "2      570049  Italicei / quei Aegei negotiantur / P(ublium) ...   \n",
       "\n",
       "                                         inscription  \\\n",
       "0  Q(uinto) Caecilio C(ai) f(ilio) Metel(l)o / im...   \n",
       "1  Fortissimo et Piis/simo Caesari d(omino) n(ost...   \n",
       "2  Italicei / quei Aegei negotiantur / P(ublium) ...   \n",
       "\n",
       "                             clean_text_conservative  \\\n",
       "0  Q Caecilio C f Metelo imperatori Italici quei ...   \n",
       "1  Fortissimo et piissimo Caesari d n Gal Val P F...   \n",
       "2  Italicei quei Aegei negotiantur P Rutilium P f...   \n",
       "\n",
       "                    clean_text_interpretive_sentence  \\\n",
       "0  Quinto Caecilio Cai filio Metelo imperatori It...   \n",
       "1  Fortissimo et piissimo Caesari domino nostro G...   \n",
       "2  Italicei quei Aegei negotiantur Publium Rutili...   \n",
       "\n",
       "                        clean_text_interpretive_word  \\\n",
       "0  Quinto Caecilio Cai filio Metelo imperatori It...   \n",
       "1  Fortissimo et piissimo Caesari domino nostro G...   \n",
       "2  Italicei quei Aegei negotiantur Publium Rutili...   \n",
       "\n",
       "                   clean_text_interpretive_word_EDCS  \\\n",
       "0  Quinto Caecilio Cai filio Metello imperatori I...   \n",
       "1  Fortissimo et Piissimo Caesari domino nostro G...   \n",
       "2  Italicei quei Aegei negotiantur Publium Rutili...   \n",
       "\n",
       "                                     diplomatic_text province  \\\n",
       "0  Q CAECILIO C F METELO / IMPERATORI ITALICI / Q...   Achaia   \n",
       "1  FORTISSIMO ET PIIS / SIMO CAESARI D N / GAL VA...   Achaia   \n",
       "2  ITALICEI / QVEI AEGEI NEGOTIANTVR / P RVTILIVM...   Achaia   \n",
       "\n",
       "                            place        inscr_type  \\\n",
       "0   Agia Triada / Merbaka / Midea  tituli honorarii   \n",
       "1      Agios Athanasios / Photike  tituli honorarii   \n",
       "2  Aigio / Egio / Aiyion / Aegeum  tituli honorarii   \n",
       "\n",
       "                                     status_notation    inscr_process  \\\n",
       "0  officium/professio, ordo senatorius, tria nomi...             None   \n",
       "1       Augusti/Augustae, ordo equester, tria nomina  litterae erasae   \n",
       "2  officium/professio, ordo senatorius, tria nomi...             None   \n",
       "\n",
       "                                              status  \\\n",
       "0  officium/professio;  ordo senatorius;  tituli ...   \n",
       "1  Augusti/Augustae;  litterae erasae;  ordo eque...   \n",
       "2  officium/professio;  ordo senatorius;  tituli ...   \n",
       "\n",
       "                                        partner_link last_update letter_size  \\\n",
       "0  http://db.edcs.eu/epigr/partner.php?s_language...  2011-11-11        None   \n",
       "1  http://db.edcs.eu/epigr/partner.php?s_language...  2014-09-16    3-5.3 cm   \n",
       "2  http://db.edcs.eu/epigr/partner.php?s_language...  2011-03-29  3.5-3.7 cm   \n",
       "\n",
       "     type_of_inscription         work_status  year_of_find present_location  \\\n",
       "0  honorific inscription            no image           NaN             None   \n",
       "1  honorific inscription  checked with photo           NaN    Fragma Kalama   \n",
       "2     votive inscription  checked with photo           NaN             None   \n",
       "\n",
       "                                        text_edition support_objecttype  \\\n",
       "0  \\n Quinto Caecilio Cai filio Metelo imperatori...               None   \n",
       "1  \\n Fortissimo et piissimo Caesari domino nostr...                 57   \n",
       "2  \\n Italicei quei Aegei negotiantur Publium Rut...                257   \n",
       "\n",
       "  support_material support_decoration keywords_term  \\\n",
       "0             None               1000            69   \n",
       "1             None               1000            69   \n",
       "2             None               1000           372   \n",
       "\n",
       "                                              people  \\\n",
       "0  [{'age: days': None, 'age: hours': None, 'age:...   \n",
       "1  [{'age: days': None, 'age: hours': None, 'age:...   \n",
       "2  [{'age: days': None, 'age: hours': None, 'age:...   \n",
       "\n",
       "  type_of_inscription_clean  type_of_inscription_certainty  height_cm  \\\n",
       "0     honorific inscription                          False        NaN   \n",
       "1     honorific inscription                          False       99.0   \n",
       "2        votive inscription                          False       58.0   \n",
       "\n",
       "   width_cm  depth_cm material_clean type_of_monument_clean  \\\n",
       "0       NaN       NaN           NULL                   NULL   \n",
       "1      67.0      67.0           NULL            statue base   \n",
       "2      61.0      16.0           NULL                 tabula   \n",
       "\n",
       "   type_of_monument_certainty province_label_clean  province_label_certainty  \\\n",
       "0                       False               Achaia                     False   \n",
       "1                       False               Epirus                     False   \n",
       "2                       False               Achaia                     False   \n",
       "\n",
       "  country_clean  country_certainty findspot_ancient_clean  \\\n",
       "0        Greece              False                  Midea   \n",
       "1        Greece              False                Photike   \n",
       "2        Greece              False                 Aegeum   \n",
       "\n",
       "   findspot_ancient_certainty modern_region_clean  modern_region_certainty  \\\n",
       "0                       False        Pelopónissos                    False   \n",
       "1                       False             Ípeiros                    False   \n",
       "2                       False       Dytikí Elláda                    False   \n",
       "\n",
       "  findspot_modern_clean  findspot_modern_certainty      findspot_clean  \\\n",
       "0                Midhéa                      False                NULL   \n",
       "1            Paramythía                      False  {Agios Athanasios}   \n",
       "2                Aígion                      False                NULL   \n",
       "\n",
       "   findspot_certainty language_EDCS  raw_dating  not_after  not_before  \\\n",
       "0               False          None  -68 to -68      -68.0       -68.0   \n",
       "1               False          None  309 to 313      313.0       309.0   \n",
       "2               False          None  -74 to -74      -74.0       -74.0   \n",
       "\n",
       "   Longitude  Latitude  is_geotemporal                   geometry  \\\n",
       "0    22.8412   37.6498            True  POINT (22.84120 37.64980)   \n",
       "1    20.7668   39.4512            True  POINT (20.76680 39.45120)   \n",
       "2    22.0845   38.2487            True  POINT (22.08450 38.24870)   \n",
       "\n",
       "   is_within_RE urban_context urban_context_city  urban_context_pop_est  \\\n",
       "0          True         rural               None                    NaN   \n",
       "1          True         rural               None                    NaN   \n",
       "2          True         small             Aegium                 1000.0   \n",
       "\n",
       "  type_of_inscription_auto  type_of_inscription_auto_prob occups  occups_N  \\\n",
       "0    honorific inscription                            1.0     []         0   \n",
       "1    honorific inscription                            1.0     []         0   \n",
       "2       votive inscription                            1.0     []         0   \n",
       "\n",
       "  organizations  organizations_N  is_western large_city_ID  \\\n",
       "0            []                0       False            13   \n",
       "1            []                0       False            65   \n",
       "2            []                0       False            92   \n",
       "\n",
       "           large_city_geo  large_city_dist medium_city_ID  \\\n",
       "0  [22.719769, 37.631278]         10912.81             85   \n",
       "1  [20.733395, 39.026505]         47237.78              7   \n",
       "2    [22.726044, 37.9799]         63682.52             24   \n",
       "\n",
       "          medium_city_geo  medium_city_dist small_city_ID  \\\n",
       "0  [22.641069, 37.831664]          26806.86            36   \n",
       "1        [20.987, 39.158]          37687.28            31   \n",
       "2  [22.044647, 37.885611]          40453.51             6   \n",
       "\n",
       "           small_city_geo  small_city_dist  \n",
       "0  [23.132244, 37.626573]         25817.21  \n",
       "1  [20.787767, 39.546432]         10725.84  \n",
       "2  [22.081952, 38.252707]           497.57  "
      ]
     },
     "execution_count": 31,
     "metadata": {},
     "output_type": "execute_result"
    }
   ],
   "source": [
    "LISTgeo.head(3)"
   ]
  },
  {
   "cell_type": "code",
   "execution_count": 32,
   "metadata": {
    "pycharm": {
     "name": "#%%\n"
    }
   },
   "outputs": [
    {
     "data": {
      "image/png": "[encoded data removed]",
      "text/plain": [
       "<Figure size 1560x960 with 3 Axes>"
      ]
     },
     "metadata": {
      "needs_background": "light"
     },
     "output_type": "display_data"
    }
   ],
   "source": [
    "# plot the distance to nearest city for a given urban context type\n",
    "\n",
    "fig, [ax1, ax2, ax3]=plt.subplots(3, 1, figsize=(5.2, 3.2), tight_layout=True)\n",
    "\n",
    "for ax, label, color in zip([ax1, ax2, ax3], [\"large\", \"medium\", \"small\"], [\"blue\", \"green\", \"red\"]):\n",
    "    sns.kdeplot(label + \"_city_dist\", color=color, data=LISTgeo, ax=ax)\n",
    "    ax.set_title(label)\n",
    "    ax.set_xlim(0, 1000000)\n",
    "    ax.set_xticks([0, 250000, 500000, 750000, 1000000])\n",
    "    ax.set_xticklabels([\"0\", \"250km\", \"500km\", \"750km\", \"1000km\"])\n",
    "    ax.set_yticklabels([])\n",
    "    if label in [\"large\", \"medium\"]:\n",
    "        ax.set_xticklabels([])\n",
    "        ax.set_xlabel(\"\")\n",
    "    else:\n",
    "        ax.set_xlabel(\"LIST: distance to nearest city for a given urban context type\")"
   ]
  },
  {
   "cell_type": "code",
   "execution_count": 34,
   "metadata": {
    "pycharm": {
     "name": "#%%\n"
    }
   },
   "outputs": [
    {
     "name": "stdout",
     "output_type": "stream",
     "text": [
      "Your <class 'matplotlib.figure.Figure'> object has been succefully written as \"https://sciencedata.dk/files/././PSNP_shared/lat_socdiv/figuresdist_to_nearest_by_type.eps\"\n",
      "Your <class 'matplotlib.figure.Figure'> object has been succefully written as \"https://sciencedata.dk/files/././PSNP_shared/lat_socdiv/figuresdist_to_nearest_by_type.png\"\n"
     ]
    }
   ],
   "source": [
    "save_figure(fig, \"dist_to_nearest_by_type\")"
   ]
  },
  {
   "cell_type": "markdown",
   "metadata": {
    "pycharm": {
     "name": "#%% md\n"
    }
   },
   "source": [
    "# Urban contexts and clustering of inscriptions"
   ]
  },
  {
   "cell_type": "code",
   "execution_count": 35,
   "metadata": {
    "pycharm": {
     "name": "#%%\n"
    }
   },
   "outputs": [
    {
     "data": {
      "text/plain": [
       "3.0901936161855166"
      ]
     },
     "execution_count": 35,
     "metadata": {},
     "output_type": "execute_result"
    }
   ],
   "source": [
    "# Bodel claims that Roman inscriptions are dispersed over an area of about 30 square km. Bodel 2001?\n",
    "np.sqrt(30 / np.pi)"
   ]
  },
  {
   "cell_type": "code",
   "execution_count": 36,
   "metadata": {
    "pycharm": {
     "name": "#%%\n"
    }
   },
   "outputs": [],
   "source": [
    "# custom function creating a 5km buffer zone around each settlement/urban context\n",
    "\n",
    "\n",
    "def get_urban_context(row):\n",
    "    buffer=5000\n",
    "    urban_context = \"rural\"\n",
    "    if row[\"large_city_dist\"] <= buffer:\n",
    "        urban_context = \"large\"\n",
    "    else:\n",
    "        if row[\"medium_city_dist\"] <= buffer:\n",
    "            urban_context = \"medium\"\n",
    "        else:\n",
    "            if row[\"small_city_dist\"] <= buffer:\n",
    "                urban_context = \"small\"\n",
    "    return urban_context\n",
    "\n"
   ]
  },
  {
   "cell_type": "code",
   "execution_count": 37,
   "metadata": {},
   "outputs": [],
   "source": [
    "# assigning inscriptions to the urban context within their 5 km buffer zone\n",
    "urban_contexts_alt = LISTgeo.apply(lambda row: get_urban_context(row), axis=1)"
   ]
  },
  {
   "cell_type": "markdown",
   "metadata": {
    "pycharm": {
     "name": "#%% md\n"
    }
   },
   "source": [
    "Original results, with big buffers: From the 136,190 inscriptions in the LIRE dataset, 48,799 have been mapped on a large city, 37,734 inscriptions on a medium city, and 26,836 inscriptions on a small city. The remaining 22,866 inscriptions have been classified as rural, since they are located out of the buffers of all cities.\n"
   ]
  },
  {
   "cell_type": "code",
   "execution_count": 38,
   "metadata": {
    "pycharm": {
     "name": "#%%\n"
    }
   },
   "outputs": [
    {
     "data": {
      "text/html": [
       "<div>\n",
       "<style scoped>\n",
       "    .dataframe tbody tr th:only-of-type {\n",
       "        vertical-align: middle;\n",
       "    }\n",
       "\n",
       "    .dataframe tbody tr th {\n",
       "        vertical-align: top;\n",
       "    }\n",
       "\n",
       "    .dataframe thead th {\n",
       "        text-align: right;\n",
       "    }\n",
       "</style>\n",
       "<table border=\"1\" class=\"dataframe\">\n",
       "  <thead>\n",
       "    <tr style=\"text-align: right;\">\n",
       "      <th></th>\n",
       "      <th>0</th>\n",
       "    </tr>\n",
       "    <tr>\n",
       "      <th>0</th>\n",
       "      <th></th>\n",
       "    </tr>\n",
       "  </thead>\n",
       "  <tbody>\n",
       "    <tr>\n",
       "      <th>large</th>\n",
       "      <td>156892</td>\n",
       "    </tr>\n",
       "    <tr>\n",
       "      <th>medium</th>\n",
       "      <td>131430</td>\n",
       "    </tr>\n",
       "    <tr>\n",
       "      <th>rural</th>\n",
       "      <td>142124</td>\n",
       "    </tr>\n",
       "    <tr>\n",
       "      <th>small</th>\n",
       "      <td>81527</td>\n",
       "    </tr>\n",
       "  </tbody>\n",
       "</table>\n",
       "</div>"
      ],
      "text/plain": [
       "             0\n",
       "0             \n",
       "large   156892\n",
       "medium  131430\n",
       "rural   142124\n",
       "small    81527"
      ]
     },
     "execution_count": 38,
     "metadata": {},
     "output_type": "execute_result"
    }
   ],
   "source": [
    "# overview of contexts\n",
    "pd.DataFrame(pd.DataFrame(urban_contexts_alt).groupby(0).size())"
   ]
  },
  {
   "cell_type": "code",
   "execution_count": 39,
   "metadata": {
    "pycharm": {
     "name": "#%%\n"
    }
   },
   "outputs": [],
   "source": [
    "# add urban contexts to the dataset\n",
    "\n",
    "LISTgeo[\"urban_context_alt\"] = urban_contexts_alt"
   ]
  },
  {
   "cell_type": "code",
   "execution_count": 40,
   "metadata": {},
   "outputs": [
    {
     "data": {
      "text/plain": [
       "'/home/petra/Github/latin_socdiv/scripts/data-generation'"
      ]
     },
     "execution_count": 40,
     "metadata": {},
     "output_type": "execute_result"
    }
   ],
   "source": [
    "# get working directory\n",
    "os.getcwd()"
   ]
  },
  {
   "cell_type": "code",
   "execution_count": 41,
   "metadata": {
    "pycharm": {
     "name": "#%%\n"
    }
   },
   "outputs": [],
   "source": [
    "# Save locally\n",
    "LISTgeo.to_parquet(\"../../data/large_data/LIST_contexts.parquet\")"
   ]
  },
  {
   "cell_type": "code",
   "execution_count": null,
   "metadata": {
    "pycharm": {
     "name": "#%%\n"
    }
   },
   "outputs": [],
   "source": []
  }
 ],
 "metadata": {
  "kernelspec": {
   "display_name": "Python 3 (ipykernel)",
   "language": "python",
   "name": "python3"
  },
  "language_info": {
   "codemirror_mode": {
    "name": "ipython",
    "version": 3
   },
   "file_extension": ".py",
   "mimetype": "text/x-python",
   "name": "python",
   "nbconvert_exporter": "python",
   "pygments_lexer": "ipython3",
   "version": "3.8.10"
  }
 },
 "nbformat": 4,
 "nbformat_minor": 4
}

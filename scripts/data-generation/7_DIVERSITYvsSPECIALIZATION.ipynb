{
 "cells": [
  {
   "cell_type": "markdown",
   "metadata": {},
   "source": [
    "# 7. Analysis of occupational diversity and specialization of labour\n",
    "\n",
    "*AIM:*\n",
    "\n",
    "References:\n",
    "\n",
    "1) `Harris EM. Workshop, Marketplace and Household: The Nature of Technical Specialization in Classical Athens and its Influence on Economy and Society. In: Carledge P, Cohen EE, Foxhall L, editors. Money, Labour and Land: Approaches to the Economy of Ancient Greece. London—New York: Routledge; 2001. pp. 67–99.`\n",
    "2) `Duranton G, Puga D. Diversity and Specialisation in Cities: Why, Where and When Does it Matter? Urban Stud. 2000;37: 533–555.`\n",
    "\n",
    "\n",
    "\n",
    "\n",
    "to do:\n",
    "\n",
    "Petra needs to go through, comment, run, debug\n"
   ]
  },
  {
   "cell_type": "markdown",
   "metadata": {},
   "source": [
    "This script was originally published by `Kaše V, Heřmánková P, Sobotková A (2022) Division of labor, specialization and diversity in the ancient Roman cities: A quantitative approach to Latin epigraphy. PLoS ONE 17(6): e0269869. https://doi.org/10.1371/journal.pone.0269869` under a CC BY-SA 4.0 International License. \n",
    "\n",
    "https://github.com/sdam-au/social_diversity\n",
    "\n",
    "The *Past Social Networks Project* adapted the script to fit the needs of the project research agenda."
   ]
  },
  {
   "cell_type": "markdown",
   "metadata": {
    "pycharm": {
     "name": "#%% md\n"
    }
   },
   "source": [
    "# Requirements"
   ]
  },
  {
   "cell_type": "code",
   "execution_count": 1,
   "metadata": {},
   "outputs": [],
   "source": [
    "import json\n",
    "import pandas as pd\n",
    "import numpy as np\n",
    "import geopandas as gpd\n",
    "from scipy.stats import pearsonr\n",
    "\n",
    "import nltk\n",
    "\n",
    "import sddk\n",
    "import gspread\n",
    "from gspread_dataframe import get_as_dataframe, set_with_dataframe\n",
    "from google.oauth2 import service_account # based on google-auth library\n",
    "\n",
    "# PLOTTING\n",
    "import seaborn as sns\n",
    "import matplotlib.pyplot as plt"
   ]
  },
  {
   "cell_type": "code",
   "execution_count": null,
   "metadata": {},
   "outputs": [],
   "source": [
    "# to access gsheet, you need Google Service Account key json file\n",
    "# I have mine located in my personal space on sciencedata.dk, so I read it from there:\n",
    "# but you can have yours stored locally on your computer and read it in directly\n",
    "s = sddk.cloudSession(\"sciencedata.dk\", \".\", \"648560@au.dk\")\n",
    "figpath = \"./PSNP_shared/lat_socdiv/\""
   ]
  },
  {
   "cell_type": "code",
   "execution_count": 4,
   "metadata": {
    "pycharm": {
     "name": "#%%\n"
    }
   },
   "outputs": [],
   "source": [
    "# global parameters for plots\n",
    "#plt.style.use(\"seaborn-white\")\n",
    "plt.style.use(\"seaborn-v0_8-white\")\n",
    "plt.rcParams['figure.dpi'] = 300\n",
    "plt.rcParams[\"font.family\"] = \"sans-serif\"\n",
    "plt.rcParams['font.size'] = 8\n",
    "\n",
    "def save_figure(fig, fig_name):\n",
    "    #each figure to be saved in four different versions\n",
    "    fig.savefig(\"../../figures/\" + fig_name + \".tiff\")\n",
    "    fig.savefig(\"../../figures/\" + fig_name + \".svg\")\n",
    "    fig.savefig(\"../../figures/\" + fig_name + \".png\")\n",
    "    s.write_file(figpath + fig_name + \".eps\", fig)\n",
    "    s.write_file(figpath + fig_name + \".png\", fig)"
   ]
  },
  {
   "cell_type": "code",
   "execution_count": 5,
   "metadata": {
    "pycharm": {
     "name": "#%%\n"
    }
   },
   "outputs": [],
   "source": [
    "# establish connection with gogglesheets...\n",
    "file_data = s.read_file(\"https://sciencedata.dk/files/ServiceAccountsKey.json\", \"dict\") # or load it from a local storage: json.load(open(\"../../ServiceAccountsKey.json\", \"r\"))\n",
    "credentials = service_account.Credentials.from_service_account_info(file_data)\n",
    "gc = gspread.Client(auth=credentials.with_scopes(['https://spreadsheets.google.com/feeds', 'https://www.googleapis.com/auth/drive']))\n",
    "socdiv_results = gc.open_by_url(\"https://docs.google.com/spreadsheets/d/1kACGBS9Xdno7FL2fPZ-vCOu4SSh9uUaZmGvnEghVs_A/edit?usp=sharing\")"
   ]
  },
  {
   "cell_type": "markdown",
   "metadata": {},
   "source": [
    "# Import datasets"
   ]
  },
  {
   "cell_type": "code",
   "execution_count": 7,
   "metadata": {
    "pycharm": {
     "name": "#%%\n"
    }
   },
   "outputs": [],
   "source": [
    "LIST = gpd.read_parquet(\"../../data/large_data/LIST_occupsorgs_industry.parquet\")"
   ]
  },
  {
   "cell_type": "code",
   "execution_count": 5,
   "metadata": {
    "pycharm": {
     "name": "#%%\n"
    }
   },
   "outputs": [],
   "source": [
    "def proper_nones(type_value):\n",
    "    if not isinstance(type_value, str):\n",
    "        type_value = None\n",
    "    return type_value\n",
    "\n",
    "LIST[\"type_of_inscription_auto\"] = LIST[\"type_of_inscription_auto\"].apply(proper_nones)"
   ]
  },
  {
   "cell_type": "code",
   "execution_count": 8,
   "metadata": {
    "pycharm": {
     "name": "#%%\n"
    }
   },
   "outputs": [
    {
     "data": {
      "text/html": [
       "<div>\n",
       "<style scoped>\n",
       "    .dataframe tbody tr th:only-of-type {\n",
       "        vertical-align: middle;\n",
       "    }\n",
       "\n",
       "    .dataframe tbody tr th {\n",
       "        vertical-align: top;\n",
       "    }\n",
       "\n",
       "    .dataframe thead th {\n",
       "        text-align: right;\n",
       "    }\n",
       "</style>\n",
       "<table border=\"1\" class=\"dataframe\">\n",
       "  <thead>\n",
       "    <tr style=\"text-align: right;\">\n",
       "      <th></th>\n",
       "      <th>LIST-ID</th>\n",
       "      <th>EDCS-ID</th>\n",
       "      <th>EDH-ID</th>\n",
       "      <th>trismegistos_uri</th>\n",
       "      <th>pleiades_id</th>\n",
       "      <th>transcription</th>\n",
       "      <th>inscription</th>\n",
       "      <th>clean_text_conservative</th>\n",
       "      <th>clean_text_interpretive_sentence</th>\n",
       "      <th>clean_text_interpretive_word</th>\n",
       "      <th>...</th>\n",
       "      <th>large_city_geo</th>\n",
       "      <th>large_city_dist</th>\n",
       "      <th>medium_city_ID</th>\n",
       "      <th>medium_city_geo</th>\n",
       "      <th>medium_city_dist</th>\n",
       "      <th>small_city_ID</th>\n",
       "      <th>small_city_geo</th>\n",
       "      <th>small_city_dist</th>\n",
       "      <th>urban_context_alt</th>\n",
       "      <th>occups_cats</th>\n",
       "    </tr>\n",
       "  </thead>\n",
       "  <tbody>\n",
       "    <tr>\n",
       "      <th>0</th>\n",
       "      <td>445464</td>\n",
       "      <td>EDCS-24900077</td>\n",
       "      <td>HD056163</td>\n",
       "      <td>https://www.trismegistos.org/text/177366</td>\n",
       "      <td>570485</td>\n",
       "      <td>Q(uinto) Caecilio C(ai) f(ilio) Metelo / imper...</td>\n",
       "      <td>Q(uinto) Caecilio C(ai) f(ilio) Metel(l)o / im...</td>\n",
       "      <td>Q Caecilio C f Metelo imperatori Italici quei ...</td>\n",
       "      <td>Quinto Caecilio Cai filio Metelo imperatori It...</td>\n",
       "      <td>Quinto Caecilio Cai filio Metelo imperatori It...</td>\n",
       "      <td>...</td>\n",
       "      <td>[22.719769, 37.631278]</td>\n",
       "      <td>10912.81</td>\n",
       "      <td>85</td>\n",
       "      <td>[22.641069, 37.831664]</td>\n",
       "      <td>26806.86</td>\n",
       "      <td>36</td>\n",
       "      <td>[23.132244, 37.626573]</td>\n",
       "      <td>25817.21</td>\n",
       "      <td>rural</td>\n",
       "      <td>[]</td>\n",
       "    </tr>\n",
       "    <tr>\n",
       "      <th>1</th>\n",
       "      <td>445465</td>\n",
       "      <td>EDCS-03700724</td>\n",
       "      <td>HD052964</td>\n",
       "      <td>https://www.trismegistos.org/text/121715</td>\n",
       "      <td>531064</td>\n",
       "      <td>Fortissimo et piis/simo Caesari d(omino) n(ost...</td>\n",
       "      <td>Fortissimo et Piis/simo Caesari d(omino) n(ost...</td>\n",
       "      <td>Fortissimo et piissimo Caesari d n Gal Val P F...</td>\n",
       "      <td>Fortissimo et piissimo Caesari domino nostro G...</td>\n",
       "      <td>Fortissimo et piissimo Caesari domino nostro G...</td>\n",
       "      <td>...</td>\n",
       "      <td>[20.733395, 39.026505]</td>\n",
       "      <td>47237.78</td>\n",
       "      <td>7</td>\n",
       "      <td>[20.987, 39.158]</td>\n",
       "      <td>37687.28</td>\n",
       "      <td>31</td>\n",
       "      <td>[20.787767, 39.546432]</td>\n",
       "      <td>10725.84</td>\n",
       "      <td>rural</td>\n",
       "      <td>[]</td>\n",
       "    </tr>\n",
       "    <tr>\n",
       "      <th>2</th>\n",
       "      <td>445466</td>\n",
       "      <td>EDCS-13800065</td>\n",
       "      <td>HD017714</td>\n",
       "      <td>https://www.trismegistos.org/text/177100</td>\n",
       "      <td>570049</td>\n",
       "      <td>Italicei / quei Aegei negotiantur / P(ublium) ...</td>\n",
       "      <td>Italicei / quei Aegei negotiantur / P(ublium) ...</td>\n",
       "      <td>Italicei quei Aegei negotiantur P Rutilium P f...</td>\n",
       "      <td>Italicei quei Aegei negotiantur Publium Rutili...</td>\n",
       "      <td>Italicei quei Aegei negotiantur Publium Rutili...</td>\n",
       "      <td>...</td>\n",
       "      <td>[22.726044, 37.9799]</td>\n",
       "      <td>63682.52</td>\n",
       "      <td>24</td>\n",
       "      <td>[22.044647, 37.885611]</td>\n",
       "      <td>40453.51</td>\n",
       "      <td>6</td>\n",
       "      <td>[22.081952, 38.252707]</td>\n",
       "      <td>497.57</td>\n",
       "      <td>small</td>\n",
       "      <td>[]</td>\n",
       "    </tr>\n",
       "  </tbody>\n",
       "</table>\n",
       "<p>3 rows × 81 columns</p>\n",
       "</div>"
      ],
      "text/plain": [
       "   LIST-ID        EDCS-ID    EDH-ID                          trismegistos_uri  \\\n",
       "0   445464  EDCS-24900077  HD056163  https://www.trismegistos.org/text/177366   \n",
       "1   445465  EDCS-03700724  HD052964  https://www.trismegistos.org/text/121715   \n",
       "2   445466  EDCS-13800065  HD017714  https://www.trismegistos.org/text/177100   \n",
       "\n",
       "  pleiades_id                                      transcription  \\\n",
       "0      570485  Q(uinto) Caecilio C(ai) f(ilio) Metelo / imper...   \n",
       "1      531064  Fortissimo et piis/simo Caesari d(omino) n(ost...   \n",
       "2      570049  Italicei / quei Aegei negotiantur / P(ublium) ...   \n",
       "\n",
       "                                         inscription  \\\n",
       "0  Q(uinto) Caecilio C(ai) f(ilio) Metel(l)o / im...   \n",
       "1  Fortissimo et Piis/simo Caesari d(omino) n(ost...   \n",
       "2  Italicei / quei Aegei negotiantur / P(ublium) ...   \n",
       "\n",
       "                             clean_text_conservative  \\\n",
       "0  Q Caecilio C f Metelo imperatori Italici quei ...   \n",
       "1  Fortissimo et piissimo Caesari d n Gal Val P F...   \n",
       "2  Italicei quei Aegei negotiantur P Rutilium P f...   \n",
       "\n",
       "                    clean_text_interpretive_sentence  \\\n",
       "0  Quinto Caecilio Cai filio Metelo imperatori It...   \n",
       "1  Fortissimo et piissimo Caesari domino nostro G...   \n",
       "2  Italicei quei Aegei negotiantur Publium Rutili...   \n",
       "\n",
       "                        clean_text_interpretive_word  ...  \\\n",
       "0  Quinto Caecilio Cai filio Metelo imperatori It...  ...   \n",
       "1  Fortissimo et piissimo Caesari domino nostro G...  ...   \n",
       "2  Italicei quei Aegei negotiantur Publium Rutili...  ...   \n",
       "\n",
       "           large_city_geo large_city_dist medium_city_ID  \\\n",
       "0  [22.719769, 37.631278]        10912.81             85   \n",
       "1  [20.733395, 39.026505]        47237.78              7   \n",
       "2    [22.726044, 37.9799]        63682.52             24   \n",
       "\n",
       "          medium_city_geo medium_city_dist small_city_ID  \\\n",
       "0  [22.641069, 37.831664]         26806.86            36   \n",
       "1        [20.987, 39.158]         37687.28            31   \n",
       "2  [22.044647, 37.885611]         40453.51             6   \n",
       "\n",
       "           small_city_geo small_city_dist urban_context_alt occups_cats  \n",
       "0  [23.132244, 37.626573]        25817.21             rural          []  \n",
       "1  [20.787767, 39.546432]        10725.84             rural          []  \n",
       "2  [22.081952, 38.252707]          497.57             small          []  \n",
       "\n",
       "[3 rows x 81 columns]"
      ]
     },
     "execution_count": 8,
     "metadata": {},
     "output_type": "execute_result"
    }
   ],
   "source": [
    "LIST.head(3)"
   ]
  },
  {
   "cell_type": "code",
   "execution_count": 9,
   "metadata": {
    "pycharm": {
     "name": "#%%\n"
    }
   },
   "outputs": [],
   "source": [
    "# mask\n",
    "before235 = LIST[\"not_before\"] < 235\n",
    "after235 = LIST[\"not_before\"]>=235"
   ]
  },
  {
   "cell_type": "code",
   "execution_count": 10,
   "metadata": {
    "pycharm": {
     "name": "#%%\n"
    }
   },
   "outputs": [
    {
     "data": {
      "text/plain": [
       "147050"
      ]
     },
     "execution_count": 10,
     "metadata": {},
     "output_type": "execute_result"
    }
   ],
   "source": [
    "len(LIST[before235])"
   ]
  },
  {
   "cell_type": "code",
   "execution_count": 11,
   "metadata": {
    "pycharm": {
     "name": "#%%\n"
    }
   },
   "outputs": [
    {
     "data": {
      "text/plain": [
       "6337"
      ]
     },
     "execution_count": 11,
     "metadata": {},
     "output_type": "execute_result"
    }
   ],
   "source": [
    "LIST[before235][\"occups_N\"].sum()"
   ]
  },
  {
   "cell_type": "code",
   "execution_count": 12,
   "metadata": {
    "pycharm": {
     "name": "#%%\n"
    }
   },
   "outputs": [
    {
     "data": {
      "text/plain": [
       "0.6121522411128284"
      ]
     },
     "execution_count": 12,
     "metadata": {},
     "output_type": "execute_result"
    }
   ],
   "source": [
    "LIST[before235][\"occups_N\"].sum() / LIST[\"occups_N\"].sum()"
   ]
  },
  {
   "cell_type": "code",
   "execution_count": 14,
   "metadata": {
    "pycharm": {
     "name": "#%%\n"
    }
   },
   "outputs": [],
   "source": [
    "roman_cities = gpd.read_parquet(\"../../data/roman_cities_pop.parquet\")\n",
    "pleiades_regions = gpd.read_file(\"../../data/pleiades_regions.geojson\")\n",
    "pleiades_regions_west = gpd.read_file(\"../../data/pleiades_regions_west.geojson\")"
   ]
  },
  {
   "cell_type": "markdown",
   "metadata": {
    "pycharm": {
     "name": "#%% md\n"
    }
   },
   "source": [
    "# Map inscriptions on cities"
   ]
  },
  {
   "cell_type": "code",
   "execution_count": 15,
   "metadata": {
    "pycharm": {
     "name": "#%%\n"
    }
   },
   "outputs": [],
   "source": [
    "def get_my_city(row):\n",
    "    context = row[\"urban_context_alt\"]\n",
    "    try:\n",
    "        ID = row[context + \"_city_ID\"]\n",
    "    except:\n",
    "        ID = None\n",
    "    return ID\n",
    "    \n",
    "LIST[\"city_ID\"] = LIST.apply(lambda row: get_my_city(row), axis=1)"
   ]
  },
  {
   "cell_type": "code",
   "execution_count": 16,
   "metadata": {
    "pycharm": {
     "name": "#%%\n"
    }
   },
   "outputs": [],
   "source": [
    "def get_inscriptions(ID):\n",
    "    city_dict = {}\n",
    "    city_data = LIST[LIST[\"city_ID\"]==str(ID)]\n",
    "    city_data_post235 = LIST[(LIST[\"city_ID\"]==str(ID)) & (after235)]\n",
    "    if len(city_data) > 0:\n",
    "        # all inscriptions\n",
    "        city_dict[\"inscr_N\"] = len(city_data)\n",
    "        city_dict[\"occups_list\"] = [el for sublist in city_data[\"occups\"] for el in sublist]\n",
    "        city_dict[\"occups_N\"] = city_data[\"occups_N\"].sum()\n",
    "        city_dict[\"occups_unique_N\"] = len(set(city_dict[\"occups_list\"]))\n",
    "    # inscriptions pre AD235 and post AD235\n",
    "        city_dict[\"inscr_N_post235\"] = len(city_data_post235)\n",
    "        city_dict[\"occups_N_post235\"] = city_data_post235[\"occups_N\"].sum()\n",
    "        city_dict[\"ratio_post235\"] = len(city_data_post235) / len(city_data)\n",
    "    return city_dict\n",
    "\n",
    "cities_dict_data = roman_cities[\"ID\"].apply(get_inscriptions)"
   ]
  },
  {
   "cell_type": "code",
   "execution_count": 17,
   "metadata": {
    "pycharm": {
     "name": "#%%\n"
    }
   },
   "outputs": [
    {
     "data": {
      "text/html": [
       "<div>\n",
       "<style scoped>\n",
       "    .dataframe tbody tr th:only-of-type {\n",
       "        vertical-align: middle;\n",
       "    }\n",
       "\n",
       "    .dataframe tbody tr th {\n",
       "        vertical-align: top;\n",
       "    }\n",
       "\n",
       "    .dataframe thead th {\n",
       "        text-align: right;\n",
       "    }\n",
       "</style>\n",
       "<table border=\"1\" class=\"dataframe\">\n",
       "  <thead>\n",
       "    <tr style=\"text-align: right;\">\n",
       "      <th></th>\n",
       "      <th>inscr_N</th>\n",
       "      <th>occups_list</th>\n",
       "      <th>occups_N</th>\n",
       "      <th>occups_unique_N</th>\n",
       "      <th>inscr_N_post235</th>\n",
       "      <th>occups_N_post235</th>\n",
       "      <th>ratio_post235</th>\n",
       "    </tr>\n",
       "  </thead>\n",
       "  <tbody>\n",
       "    <tr>\n",
       "      <th>0</th>\n",
       "      <td>NaN</td>\n",
       "      <td>NaN</td>\n",
       "      <td>NaN</td>\n",
       "      <td>NaN</td>\n",
       "      <td>NaN</td>\n",
       "      <td>NaN</td>\n",
       "      <td>NaN</td>\n",
       "    </tr>\n",
       "    <tr>\n",
       "      <th>1</th>\n",
       "      <td>NaN</td>\n",
       "      <td>NaN</td>\n",
       "      <td>NaN</td>\n",
       "      <td>NaN</td>\n",
       "      <td>NaN</td>\n",
       "      <td>NaN</td>\n",
       "      <td>NaN</td>\n",
       "    </tr>\n",
       "    <tr>\n",
       "      <th>2</th>\n",
       "      <td>2.0</td>\n",
       "      <td>[]</td>\n",
       "      <td>0.0</td>\n",
       "      <td>0.0</td>\n",
       "      <td>0.0</td>\n",
       "      <td>0.0</td>\n",
       "      <td>0.0</td>\n",
       "    </tr>\n",
       "    <tr>\n",
       "      <th>3</th>\n",
       "      <td>1.0</td>\n",
       "      <td>[curator]</td>\n",
       "      <td>1.0</td>\n",
       "      <td>1.0</td>\n",
       "      <td>0.0</td>\n",
       "      <td>0.0</td>\n",
       "      <td>0.0</td>\n",
       "    </tr>\n",
       "    <tr>\n",
       "      <th>4</th>\n",
       "      <td>NaN</td>\n",
       "      <td>NaN</td>\n",
       "      <td>NaN</td>\n",
       "      <td>NaN</td>\n",
       "      <td>NaN</td>\n",
       "      <td>NaN</td>\n",
       "      <td>NaN</td>\n",
       "    </tr>\n",
       "  </tbody>\n",
       "</table>\n",
       "</div>"
      ],
      "text/plain": [
       "   inscr_N occups_list  occups_N  occups_unique_N  inscr_N_post235  \\\n",
       "0      NaN         NaN       NaN              NaN              NaN   \n",
       "1      NaN         NaN       NaN              NaN              NaN   \n",
       "2      2.0          []       0.0              0.0              0.0   \n",
       "3      1.0   [curator]       1.0              1.0              0.0   \n",
       "4      NaN         NaN       NaN              NaN              NaN   \n",
       "\n",
       "   occups_N_post235  ratio_post235  \n",
       "0               NaN            NaN  \n",
       "1               NaN            NaN  \n",
       "2               0.0            0.0  \n",
       "3               0.0            0.0  \n",
       "4               NaN            NaN  "
      ]
     },
     "execution_count": 17,
     "metadata": {},
     "output_type": "execute_result"
    }
   ],
   "source": [
    "cities_inscr_data = pd.DataFrame(cities_dict_data.tolist())\n",
    "cities_inscr_data.head(5)"
   ]
  },
  {
   "cell_type": "code",
   "execution_count": 18,
   "metadata": {
    "pycharm": {
     "name": "#%%\n"
    }
   },
   "outputs": [],
   "source": [
    "roman_cities = pd.concat([roman_cities, cities_inscr_data], axis=1)"
   ]
  },
  {
   "cell_type": "code",
   "execution_count": 19,
   "metadata": {
    "pycharm": {
     "name": "#%%\n"
    }
   },
   "outputs": [],
   "source": [
    "del cities_inscr_data\n",
    "del cities_dict_data"
   ]
  },
  {
   "cell_type": "markdown",
   "metadata": {
    "pycharm": {
     "name": "#%% md\n"
    }
   },
   "source": [
    "# Explore inscriptions within cities"
   ]
  },
  {
   "cell_type": "code",
   "execution_count": 21,
   "metadata": {
    "pycharm": {
     "name": "#%%\n"
    }
   },
   "outputs": [
    {
     "data": {
      "text/html": [
       "<div>\n",
       "<style scoped>\n",
       "    .dataframe tbody tr th:only-of-type {\n",
       "        vertical-align: middle;\n",
       "    }\n",
       "\n",
       "    .dataframe tbody tr th {\n",
       "        vertical-align: top;\n",
       "    }\n",
       "\n",
       "    .dataframe thead th {\n",
       "        text-align: right;\n",
       "    }\n",
       "</style>\n",
       "<table border=\"1\" class=\"dataframe\">\n",
       "  <thead>\n",
       "    <tr style=\"text-align: right;\">\n",
       "      <th></th>\n",
       "      <th>Primary Key</th>\n",
       "      <th>Ancient Toponym</th>\n",
       "      <th>Modern Toponym</th>\n",
       "      <th>Province</th>\n",
       "      <th>Country</th>\n",
       "      <th>Barrington Atlas Rank</th>\n",
       "      <th>Barrington Atlas Reference</th>\n",
       "      <th>Start Date</th>\n",
       "      <th>End Date</th>\n",
       "      <th>Select Bibliography</th>\n",
       "      <th>...</th>\n",
       "      <th>pop_est</th>\n",
       "      <th>pop_diff</th>\n",
       "      <th>western_province</th>\n",
       "      <th>inscr_N</th>\n",
       "      <th>occups_list</th>\n",
       "      <th>occups_N</th>\n",
       "      <th>occups_unique_N</th>\n",
       "      <th>inscr_N_post235</th>\n",
       "      <th>occups_N_post235</th>\n",
       "      <th>ratio_post235</th>\n",
       "    </tr>\n",
       "  </thead>\n",
       "  <tbody>\n",
       "    <tr>\n",
       "      <th>0</th>\n",
       "      <td>Hanson2016_1</td>\n",
       "      <td>Abae</td>\n",
       "      <td>Kalapodi</td>\n",
       "      <td>Achaea</td>\n",
       "      <td>Greece</td>\n",
       "      <td>4 or 5</td>\n",
       "      <td>55 D3</td>\n",
       "      <td>-600</td>\n",
       "      <td>NaN</td>\n",
       "      <td>BNP; Hansen 2006; Hansen and Nielsen 2004; PEC...</td>\n",
       "      <td>...</td>\n",
       "      <td>1700.0</td>\n",
       "      <td>NaN</td>\n",
       "      <td>False</td>\n",
       "      <td>NaN</td>\n",
       "      <td>NaN</td>\n",
       "      <td>NaN</td>\n",
       "      <td>NaN</td>\n",
       "      <td>NaN</td>\n",
       "      <td>NaN</td>\n",
       "      <td>NaN</td>\n",
       "    </tr>\n",
       "    <tr>\n",
       "      <th>1</th>\n",
       "      <td>Hanson2016_2</td>\n",
       "      <td>Acharnae</td>\n",
       "      <td>Acharnes</td>\n",
       "      <td>Achaea</td>\n",
       "      <td>Greece</td>\n",
       "      <td>3</td>\n",
       "      <td>59 B2</td>\n",
       "      <td>-600</td>\n",
       "      <td>NaN</td>\n",
       "      <td>BNP; DGRG; PECS; Sear 2006.</td>\n",
       "      <td>...</td>\n",
       "      <td>1000.0</td>\n",
       "      <td>NaN</td>\n",
       "      <td>False</td>\n",
       "      <td>NaN</td>\n",
       "      <td>NaN</td>\n",
       "      <td>NaN</td>\n",
       "      <td>NaN</td>\n",
       "      <td>NaN</td>\n",
       "      <td>NaN</td>\n",
       "      <td>NaN</td>\n",
       "    </tr>\n",
       "    <tr>\n",
       "      <th>2</th>\n",
       "      <td>Hanson2016_3</td>\n",
       "      <td>Acraephia</td>\n",
       "      <td>Akraifnio</td>\n",
       "      <td>Achaea</td>\n",
       "      <td>Greece</td>\n",
       "      <td>3</td>\n",
       "      <td>55 E4</td>\n",
       "      <td>-600</td>\n",
       "      <td>NaN</td>\n",
       "      <td>BNP; DGRG; Hansen and Nielsen 2004; PECS; Sear...</td>\n",
       "      <td>...</td>\n",
       "      <td>1000.0</td>\n",
       "      <td>NaN</td>\n",
       "      <td>False</td>\n",
       "      <td>2.0</td>\n",
       "      <td>[]</td>\n",
       "      <td>0.0</td>\n",
       "      <td>0.0</td>\n",
       "      <td>0.0</td>\n",
       "      <td>0.0</td>\n",
       "      <td>0.0</td>\n",
       "    </tr>\n",
       "  </tbody>\n",
       "</table>\n",
       "<p>3 rows × 31 columns</p>\n",
       "</div>"
      ],
      "text/plain": [
       "    Primary Key Ancient Toponym Modern Toponym Province Country  \\\n",
       "0  Hanson2016_1            Abae       Kalapodi   Achaea  Greece   \n",
       "1  Hanson2016_2        Acharnae       Acharnes   Achaea  Greece   \n",
       "2  Hanson2016_3       Acraephia      Akraifnio   Achaea  Greece   \n",
       "\n",
       "  Barrington Atlas Rank Barrington Atlas Reference  Start Date  End Date  \\\n",
       "0                4 or 5                      55 D3        -600       NaN   \n",
       "1                     3                      59 B2        -600       NaN   \n",
       "2                     3                      55 E4        -600       NaN   \n",
       "\n",
       "                                 Select Bibliography  ...  pop_est pop_diff  \\\n",
       "0  BNP; Hansen 2006; Hansen and Nielsen 2004; PEC...  ...   1700.0      NaN   \n",
       "1                        BNP; DGRG; PECS; Sear 2006.  ...   1000.0      NaN   \n",
       "2  BNP; DGRG; Hansen and Nielsen 2004; PECS; Sear...  ...   1000.0      NaN   \n",
       "\n",
       "  western_province inscr_N  occups_list occups_N occups_unique_N  \\\n",
       "0            False     NaN          NaN      NaN             NaN   \n",
       "1            False     NaN          NaN      NaN             NaN   \n",
       "2            False     2.0           []      0.0             0.0   \n",
       "\n",
       "   inscr_N_post235  occups_N_post235  ratio_post235  \n",
       "0              NaN               NaN            NaN  \n",
       "1              NaN               NaN            NaN  \n",
       "2              0.0               0.0            0.0  \n",
       "\n",
       "[3 rows x 31 columns]"
      ]
     },
     "execution_count": 21,
     "metadata": {},
     "output_type": "execute_result"
    }
   ],
   "source": [
    "roman_cities.head(3)"
   ]
  },
  {
   "cell_type": "code",
   "execution_count": 22,
   "metadata": {
    "pycharm": {
     "name": "#%%\n"
    }
   },
   "outputs": [
    {
     "data": {
      "text/plain": [
       "1388"
      ]
     },
     "execution_count": 22,
     "metadata": {},
     "output_type": "execute_result"
    }
   ],
   "source": [
    "# all cities\n",
    "len(roman_cities)"
   ]
  },
  {
   "cell_type": "code",
   "execution_count": 23,
   "metadata": {
    "pycharm": {
     "name": "#%%\n"
    }
   },
   "outputs": [
    {
     "data": {
      "text/plain": [
       "10214337.0"
      ]
     },
     "execution_count": 23,
     "metadata": {},
     "output_type": "execute_result"
    }
   ],
   "source": [
    "roman_cities[\"pop_est\"].sum()"
   ]
  },
  {
   "cell_type": "code",
   "execution_count": 24,
   "metadata": {
    "pycharm": {
     "name": "#%%\n"
    }
   },
   "outputs": [
    {
     "data": {
      "text/plain": [
       "369849.0"
      ]
     },
     "execution_count": 24,
     "metadata": {},
     "output_type": "execute_result"
    }
   ],
   "source": [
    "roman_cities[\"inscr_N\"].sum()"
   ]
  },
  {
   "cell_type": "code",
   "execution_count": 25,
   "metadata": {
    "pycharm": {
     "name": "#%%\n"
    }
   },
   "outputs": [
    {
     "data": {
      "text/plain": [
       "1176"
      ]
     },
     "execution_count": 25,
     "metadata": {},
     "output_type": "execute_result"
    }
   ],
   "source": [
    "# cities with at least one inscription\n",
    "(roman_cities[\"inscr_N\"]>0).sum()"
   ]
  },
  {
   "cell_type": "code",
   "execution_count": 26,
   "metadata": {
    "pycharm": {
     "name": "#%%\n"
    }
   },
   "outputs": [
    {
     "data": {
      "text/plain": [
       "0.8472622478386167"
      ]
     },
     "execution_count": 26,
     "metadata": {},
     "output_type": "execute_result"
    }
   ],
   "source": [
    "# proportion of cities with at least one inscription\n",
    "(roman_cities[\"inscr_N\"]>0).mean()"
   ]
  },
  {
   "cell_type": "code",
   "execution_count": 27,
   "metadata": {
    "pycharm": {
     "name": "#%%\n"
    }
   },
   "outputs": [
    {
     "data": {
      "text/plain": [
       "889"
      ]
     },
     "execution_count": 27,
     "metadata": {},
     "output_type": "execute_result"
    }
   ],
   "source": [
    "# N western cities\n",
    "(roman_cities[\"western_province\"]).sum()"
   ]
  },
  {
   "cell_type": "code",
   "execution_count": 28,
   "metadata": {
    "pycharm": {
     "name": "#%%\n"
    }
   },
   "outputs": [
    {
     "data": {
      "text/plain": [
       "850"
      ]
     },
     "execution_count": 28,
     "metadata": {},
     "output_type": "execute_result"
    }
   ],
   "source": [
    "((roman_cities[\"western_province\"]) & (roman_cities[\"inscr_N\"]>0)).sum()"
   ]
  },
  {
   "cell_type": "code",
   "execution_count": 29,
   "metadata": {
    "pycharm": {
     "name": "#%%\n"
    }
   },
   "outputs": [
    {
     "data": {
      "text/plain": [
       "0.9561304836895388"
      ]
     },
     "execution_count": 29,
     "metadata": {},
     "output_type": "execute_result"
    }
   ],
   "source": [
    "((roman_cities[\"western_province\"]) & (roman_cities[\"inscr_N\"]>0)).sum() / (roman_cities[\"western_province\"]).sum()"
   ]
  },
  {
   "cell_type": "code",
   "execution_count": 30,
   "metadata": {
    "pycharm": {
     "name": "#%%\n"
    }
   },
   "outputs": [
    {
     "data": {
      "text/plain": [
       "471044"
      ]
     },
     "execution_count": 30,
     "metadata": {},
     "output_type": "execute_result"
    }
   ],
   "source": [
    "LIST[\"is_western\"].sum()"
   ]
  },
  {
   "cell_type": "code",
   "execution_count": 31,
   "metadata": {
    "pycharm": {
     "name": "#%%\n"
    }
   },
   "outputs": [
    {
     "data": {
      "text/plain": [
       "0.9200563310955852"
      ]
     },
     "execution_count": 31,
     "metadata": {},
     "output_type": "execute_result"
    }
   ],
   "source": [
    "LIST[\"is_western\"].sum() / len(LIST)"
   ]
  },
  {
   "cell_type": "markdown",
   "metadata": {
    "pycharm": {
     "name": "#%% md\n"
    }
   },
   "source": [
    "# Measuring Specialization and Diversity"
   ]
  },
  {
   "cell_type": "code",
   "execution_count": 37,
   "metadata": {
    "pycharm": {
     "name": "#%%\n"
    }
   },
   "outputs": [
    {
     "data": {
      "text/plain": [
       "889"
      ]
     },
     "execution_count": 37,
     "metadata": {},
     "output_type": "execute_result"
    }
   ],
   "source": [
    "len(roman_cities)"
   ]
  },
  {
   "cell_type": "code",
   "execution_count": 38,
   "metadata": {
    "pycharm": {
     "name": "#%%\n"
    }
   },
   "outputs": [
    {
     "data": {
      "text/plain": [
       "355242.0"
      ]
     },
     "execution_count": 38,
     "metadata": {},
     "output_type": "execute_result"
    }
   ],
   "source": [
    "roman_cities[\"inscr_N\"].sum()"
   ]
  },
  {
   "cell_type": "code",
   "execution_count": 41,
   "metadata": {
    "pycharm": {
     "name": "#%%\n"
    }
   },
   "outputs": [
    {
     "data": {
      "text/plain": [
       "506"
      ]
     },
     "execution_count": 41,
     "metadata": {},
     "output_type": "execute_result"
    }
   ],
   "source": [
    "(roman_cities[\"occups_N\"]>0).sum()"
   ]
  },
  {
   "cell_type": "code",
   "execution_count": 42,
   "metadata": {
    "pycharm": {
     "name": "#%%\n"
    }
   },
   "outputs": [
    {
     "data": {
      "text/plain": [
       "335027.0"
      ]
     },
     "execution_count": 42,
     "metadata": {},
     "output_type": "execute_result"
    }
   ],
   "source": [
    "roman_cities[roman_cities[\"occups_N\"]>0][\"inscr_N\"].sum()"
   ]
  },
  {
   "cell_type": "code",
   "execution_count": 44,
   "metadata": {
    "pycharm": {
     "name": "#%%\n"
    }
   },
   "outputs": [
    {
     "data": {
      "text/plain": [
       "0.6543841179124681"
      ]
     },
     "execution_count": 44,
     "metadata": {},
     "output_type": "execute_result"
    }
   ],
   "source": [
    "roman_cities[roman_cities[\"occups_N\"]>0][\"inscr_N\"].sum() / len(LIST)"
   ]
  },
  {
   "cell_type": "code",
   "execution_count": 45,
   "metadata": {
    "pycharm": {
     "name": "#%%\n"
    }
   },
   "outputs": [
    {
     "data": {
      "text/plain": [
       "4214228.0"
      ]
     },
     "execution_count": 45,
     "metadata": {},
     "output_type": "execute_result"
    }
   ],
   "source": [
    "roman_cities[roman_cities[\"occups_N\"]>0][\"pop_est\"].sum()"
   ]
  },
  {
   "cell_type": "code",
   "execution_count": 47,
   "metadata": {
    "pycharm": {
     "name": "#%%\n"
    }
   },
   "outputs": [
    {
     "data": {
      "text/plain": [
       "0.6054914355346984"
      ]
     },
     "execution_count": 47,
     "metadata": {},
     "output_type": "execute_result"
    }
   ],
   "source": [
    "3250628.0 / 5368578.0"
   ]
  },
  {
   "cell_type": "code",
   "execution_count": 48,
   "metadata": {
    "pycharm": {
     "name": "#%%\n"
    }
   },
   "outputs": [
    {
     "data": {
      "text/plain": [
       "0.3182417028143873"
      ]
     },
     "execution_count": 48,
     "metadata": {},
     "output_type": "execute_result"
    }
   ],
   "source": [
    "3250628.0 / 10214337.0"
   ]
  },
  {
   "cell_type": "code",
   "execution_count": 49,
   "metadata": {
    "pycharm": {
     "name": "#%%\n"
    }
   },
   "outputs": [
    {
     "data": {
      "text/plain": [
       "0.18988501346750708"
      ]
     },
     "execution_count": 49,
     "metadata": {},
     "output_type": "execute_result"
    }
   ],
   "source": [
    "97216 / len(LIST)"
   ]
  },
  {
   "cell_type": "markdown",
   "metadata": {
    "pycharm": {
     "name": "#%% md\n"
    }
   },
   "source": [
    "# Western cities with inscriptions (roman_cities_wo)"
   ]
  },
  {
   "cell_type": "code",
   "execution_count": 50,
   "metadata": {
    "pycharm": {
     "name": "#%%\n"
    }
   },
   "outputs": [],
   "source": [
    "# roman cities western with at least one occupations\n",
    "roman_cities_wo = roman_cities[roman_cities[\"occups_N\"]>0].copy()"
   ]
  },
  {
   "cell_type": "code",
   "execution_count": 52,
   "metadata": {
    "pycharm": {
     "name": "#%%\n"
    }
   },
   "outputs": [],
   "source": [
    "roman_cities_wo[\"city_province\"] = roman_cities_wo.apply(lambda row: row[\"Ancient Toponym\"] + \" (\" + row[\"Province\"] + \")\", axis=1)"
   ]
  },
  {
   "cell_type": "code",
   "execution_count": 53,
   "metadata": {
    "pycharm": {
     "name": "#%%\n"
    }
   },
   "outputs": [
    {
     "data": {
      "text/plain": [
       "8326.0"
      ]
     },
     "execution_count": 53,
     "metadata": {},
     "output_type": "execute_result"
    }
   ],
   "source": [
    "roman_cities_wo[\"occups_N\"].sum()"
   ]
  },
  {
   "cell_type": "code",
   "execution_count": 54,
   "metadata": {
    "pycharm": {
     "name": "#%%\n"
    }
   },
   "outputs": [
    {
     "data": {
      "text/plain": [
       "0.8042890262751159"
      ]
     },
     "execution_count": 54,
     "metadata": {},
     "output_type": "execute_result"
    }
   ],
   "source": [
    "roman_cities_wo[\"occups_N\"].sum() / LIST[\"occups_N\"].sum()"
   ]
  },
  {
   "cell_type": "code",
   "execution_count": 55,
   "metadata": {
    "pycharm": {
     "name": "#%%\n"
    }
   },
   "outputs": [
    {
     "data": {
      "text/plain": [
       "10352"
      ]
     },
     "execution_count": 55,
     "metadata": {},
     "output_type": "execute_result"
    }
   ],
   "source": [
    "LIST[\"occups_N\"].sum()"
   ]
  },
  {
   "cell_type": "code",
   "execution_count": 56,
   "metadata": {
    "pycharm": {
     "name": "#%%\n"
    }
   },
   "outputs": [
    {
     "data": {
      "text/html": [
       "<div>\n",
       "<style scoped>\n",
       "    .dataframe tbody tr th:only-of-type {\n",
       "        vertical-align: middle;\n",
       "    }\n",
       "\n",
       "    .dataframe tbody tr th {\n",
       "        vertical-align: top;\n",
       "    }\n",
       "\n",
       "    .dataframe thead th {\n",
       "        text-align: right;\n",
       "    }\n",
       "</style>\n",
       "<table border=\"1\" class=\"dataframe\">\n",
       "  <thead>\n",
       "    <tr style=\"text-align: right;\">\n",
       "      <th></th>\n",
       "      <th>Primary Key</th>\n",
       "      <th>Ancient Toponym</th>\n",
       "      <th>Modern Toponym</th>\n",
       "      <th>Province</th>\n",
       "      <th>Country</th>\n",
       "      <th>Barrington Atlas Rank</th>\n",
       "      <th>Barrington Atlas Reference</th>\n",
       "      <th>Start Date</th>\n",
       "      <th>End Date</th>\n",
       "      <th>Select Bibliography</th>\n",
       "      <th>...</th>\n",
       "      <th>pop_diff</th>\n",
       "      <th>western_province</th>\n",
       "      <th>inscr_N</th>\n",
       "      <th>occups_list</th>\n",
       "      <th>occups_N</th>\n",
       "      <th>occups_unique_N</th>\n",
       "      <th>inscr_N_post235</th>\n",
       "      <th>occups_N_post235</th>\n",
       "      <th>ratio_post235</th>\n",
       "      <th>city_province</th>\n",
       "    </tr>\n",
       "  </thead>\n",
       "  <tbody>\n",
       "    <tr>\n",
       "      <th>156</th>\n",
       "      <td>Hanson2016_157</td>\n",
       "      <td>Abbir Maius</td>\n",
       "      <td>Henchir en Naam</td>\n",
       "      <td>Africa Proconsularis</td>\n",
       "      <td>Tunisia</td>\n",
       "      <td>3</td>\n",
       "      <td>32 F4</td>\n",
       "      <td>100</td>\n",
       "      <td>NaN</td>\n",
       "      <td>BNP; Lepelley 1979-1981.</td>\n",
       "      <td>...</td>\n",
       "      <td>NaN</td>\n",
       "      <td>True</td>\n",
       "      <td>12.0</td>\n",
       "      <td>[curator]</td>\n",
       "      <td>1.0</td>\n",
       "      <td>1.0</td>\n",
       "      <td>0.0</td>\n",
       "      <td>0.0</td>\n",
       "      <td>0.000000</td>\n",
       "      <td>Abbir Maius (Africa Proconsularis)</td>\n",
       "    </tr>\n",
       "    <tr>\n",
       "      <th>158</th>\n",
       "      <td>Hanson2016_159</td>\n",
       "      <td>Abthungi</td>\n",
       "      <td>Henchir es Souar</td>\n",
       "      <td>Africa Proconsularis</td>\n",
       "      <td>Tunisia</td>\n",
       "      <td>3</td>\n",
       "      <td>32 E4</td>\n",
       "      <td>-50</td>\n",
       "      <td>NaN</td>\n",
       "      <td>Boatwright 2000; Lepelley 1979-1981; Quinn and...</td>\n",
       "      <td>...</td>\n",
       "      <td>NaN</td>\n",
       "      <td>True</td>\n",
       "      <td>36.0</td>\n",
       "      <td>[curator, curator, curator, curator, curator, ...</td>\n",
       "      <td>6.0</td>\n",
       "      <td>2.0</td>\n",
       "      <td>6.0</td>\n",
       "      <td>4.0</td>\n",
       "      <td>0.166667</td>\n",
       "      <td>Abthungi (Africa Proconsularis)</td>\n",
       "    </tr>\n",
       "    <tr>\n",
       "      <th>159</th>\n",
       "      <td>Hanson2016_160</td>\n",
       "      <td>Acholla</td>\n",
       "      <td>Henchir Bou Tria</td>\n",
       "      <td>Africa Proconsularis</td>\n",
       "      <td>Tunisia</td>\n",
       "      <td>4 or 5</td>\n",
       "      <td>33 H2</td>\n",
       "      <td>-200</td>\n",
       "      <td>NaN</td>\n",
       "      <td>BNP; Boatwright 2000; Bomgardner 2000; DGRG; G...</td>\n",
       "      <td>...</td>\n",
       "      <td>NaN</td>\n",
       "      <td>True</td>\n",
       "      <td>17.0</td>\n",
       "      <td>[curator, curator, curator]</td>\n",
       "      <td>3.0</td>\n",
       "      <td>1.0</td>\n",
       "      <td>1.0</td>\n",
       "      <td>1.0</td>\n",
       "      <td>0.058824</td>\n",
       "      <td>Acholla (Africa Proconsularis)</td>\n",
       "    </tr>\n",
       "    <tr>\n",
       "      <th>160</th>\n",
       "      <td>Hanson2016_161</td>\n",
       "      <td>Agbia</td>\n",
       "      <td>Henchir Ain Hedja</td>\n",
       "      <td>Africa Proconsularis</td>\n",
       "      <td>Tunisia</td>\n",
       "      <td>3</td>\n",
       "      <td>32 D4</td>\n",
       "      <td>100</td>\n",
       "      <td>NaN</td>\n",
       "      <td>BNP; Bomgardner 2000; Lepelley 1979-1981; McEv...</td>\n",
       "      <td>...</td>\n",
       "      <td>NaN</td>\n",
       "      <td>True</td>\n",
       "      <td>141.0</td>\n",
       "      <td>[curator, artifex]</td>\n",
       "      <td>2.0</td>\n",
       "      <td>2.0</td>\n",
       "      <td>7.0</td>\n",
       "      <td>0.0</td>\n",
       "      <td>0.049645</td>\n",
       "      <td>Agbia (Africa Proconsularis)</td>\n",
       "    </tr>\n",
       "    <tr>\n",
       "      <th>162</th>\n",
       "      <td>Hanson2016_163</td>\n",
       "      <td>Apisa Maius</td>\n",
       "      <td>Tarf ech Chena</td>\n",
       "      <td>Africa Proconsularis</td>\n",
       "      <td>Tunisia</td>\n",
       "      <td>3</td>\n",
       "      <td>32 E4</td>\n",
       "      <td>200</td>\n",
       "      <td>NaN</td>\n",
       "      <td>BNP; Lepelley 1979-1981.</td>\n",
       "      <td>...</td>\n",
       "      <td>NaN</td>\n",
       "      <td>True</td>\n",
       "      <td>51.0</td>\n",
       "      <td>[curator, curator, columnarius, curator, curat...</td>\n",
       "      <td>6.0</td>\n",
       "      <td>2.0</td>\n",
       "      <td>0.0</td>\n",
       "      <td>0.0</td>\n",
       "      <td>0.000000</td>\n",
       "      <td>Apisa Maius (Africa Proconsularis)</td>\n",
       "    </tr>\n",
       "    <tr>\n",
       "      <th>...</th>\n",
       "      <td>...</td>\n",
       "      <td>...</td>\n",
       "      <td>...</td>\n",
       "      <td>...</td>\n",
       "      <td>...</td>\n",
       "      <td>...</td>\n",
       "      <td>...</td>\n",
       "      <td>...</td>\n",
       "      <td>...</td>\n",
       "      <td>...</td>\n",
       "      <td>...</td>\n",
       "      <td>...</td>\n",
       "      <td>...</td>\n",
       "      <td>...</td>\n",
       "      <td>...</td>\n",
       "      <td>...</td>\n",
       "      <td>...</td>\n",
       "      <td>...</td>\n",
       "      <td>...</td>\n",
       "      <td>...</td>\n",
       "      <td>...</td>\n",
       "    </tr>\n",
       "    <tr>\n",
       "      <th>1311</th>\n",
       "      <td>Hanson2016_1312</td>\n",
       "      <td>Messana</td>\n",
       "      <td>Messina</td>\n",
       "      <td>Sicilia</td>\n",
       "      <td>Italy</td>\n",
       "      <td>3</td>\n",
       "      <td>47 H2</td>\n",
       "      <td>-730</td>\n",
       "      <td>NaN</td>\n",
       "      <td>Brunt 1971; Cornell and Mathews 1982; Hansen 2...</td>\n",
       "      <td>...</td>\n",
       "      <td>NaN</td>\n",
       "      <td>True</td>\n",
       "      <td>164.0</td>\n",
       "      <td>[medicus, faber, arcarius, scriba]</td>\n",
       "      <td>4.0</td>\n",
       "      <td>4.0</td>\n",
       "      <td>2.0</td>\n",
       "      <td>0.0</td>\n",
       "      <td>0.012195</td>\n",
       "      <td>Messana (Sicilia)</td>\n",
       "    </tr>\n",
       "    <tr>\n",
       "      <th>1315</th>\n",
       "      <td>Hanson2016_1316</td>\n",
       "      <td>Panormus</td>\n",
       "      <td>Palermo</td>\n",
       "      <td>Sicilia</td>\n",
       "      <td>Italy</td>\n",
       "      <td>2</td>\n",
       "      <td>47 C2</td>\n",
       "      <td>-700</td>\n",
       "      <td>NaN</td>\n",
       "      <td>Beloch 1886; BNP; Brunt 1971; Cornell and Math...</td>\n",
       "      <td>...</td>\n",
       "      <td>NaN</td>\n",
       "      <td>True</td>\n",
       "      <td>221.0</td>\n",
       "      <td>[curator, curator, negotians]</td>\n",
       "      <td>3.0</td>\n",
       "      <td>2.0</td>\n",
       "      <td>11.0</td>\n",
       "      <td>1.0</td>\n",
       "      <td>0.049774</td>\n",
       "      <td>Panormus (Sicilia)</td>\n",
       "    </tr>\n",
       "    <tr>\n",
       "      <th>1317</th>\n",
       "      <td>Hanson2016_1318</td>\n",
       "      <td>Segesta</td>\n",
       "      <td>Segesta</td>\n",
       "      <td>Sicilia</td>\n",
       "      <td>Italy</td>\n",
       "      <td>3</td>\n",
       "      <td>47 B3</td>\n",
       "      <td>-600</td>\n",
       "      <td>NaN</td>\n",
       "      <td>McEvedy 2011; PECS; Sear 2006; Woloch 1983.</td>\n",
       "      <td>...</td>\n",
       "      <td>NaN</td>\n",
       "      <td>True</td>\n",
       "      <td>113.0</td>\n",
       "      <td>[forensis]</td>\n",
       "      <td>1.0</td>\n",
       "      <td>1.0</td>\n",
       "      <td>1.0</td>\n",
       "      <td>0.0</td>\n",
       "      <td>0.008850</td>\n",
       "      <td>Segesta (Sicilia)</td>\n",
       "    </tr>\n",
       "    <tr>\n",
       "      <th>1319</th>\n",
       "      <td>Hanson2016_1320</td>\n",
       "      <td>Syracusae</td>\n",
       "      <td>Syracuse</td>\n",
       "      <td>Sicilia</td>\n",
       "      <td>Italy</td>\n",
       "      <td>2</td>\n",
       "      <td>47 G4</td>\n",
       "      <td>-733</td>\n",
       "      <td>NaN</td>\n",
       "      <td>Beloch 1886; Benario 1981; Brunt 1971; Cornell...</td>\n",
       "      <td>...</td>\n",
       "      <td>NaN</td>\n",
       "      <td>True</td>\n",
       "      <td>627.0</td>\n",
       "      <td>[medicus, fullo, trapezita]</td>\n",
       "      <td>3.0</td>\n",
       "      <td>3.0</td>\n",
       "      <td>14.0</td>\n",
       "      <td>1.0</td>\n",
       "      <td>0.022329</td>\n",
       "      <td>Syracusae (Sicilia)</td>\n",
       "    </tr>\n",
       "    <tr>\n",
       "      <th>1321</th>\n",
       "      <td>Hanson2016_1322</td>\n",
       "      <td>Tyndaris</td>\n",
       "      <td>Tindari</td>\n",
       "      <td>Sicilia</td>\n",
       "      <td>Italy</td>\n",
       "      <td>3</td>\n",
       "      <td>47 G2</td>\n",
       "      <td>-396</td>\n",
       "      <td>NaN</td>\n",
       "      <td>Brunt 1971; Cornell and Mathews 1982; Hansen 2...</td>\n",
       "      <td>...</td>\n",
       "      <td>1.0</td>\n",
       "      <td>True</td>\n",
       "      <td>66.0</td>\n",
       "      <td>[curator, curator]</td>\n",
       "      <td>2.0</td>\n",
       "      <td>1.0</td>\n",
       "      <td>3.0</td>\n",
       "      <td>0.0</td>\n",
       "      <td>0.045455</td>\n",
       "      <td>Tyndaris (Sicilia)</td>\n",
       "    </tr>\n",
       "  </tbody>\n",
       "</table>\n",
       "<p>506 rows × 32 columns</p>\n",
       "</div>"
      ],
      "text/plain": [
       "          Primary Key Ancient Toponym     Modern Toponym  \\\n",
       "156    Hanson2016_157     Abbir Maius    Henchir en Naam   \n",
       "158    Hanson2016_159        Abthungi   Henchir es Souar   \n",
       "159    Hanson2016_160         Acholla   Henchir Bou Tria   \n",
       "160    Hanson2016_161           Agbia  Henchir Ain Hedja   \n",
       "162    Hanson2016_163     Apisa Maius     Tarf ech Chena   \n",
       "...               ...             ...                ...   \n",
       "1311  Hanson2016_1312         Messana            Messina   \n",
       "1315  Hanson2016_1316        Panormus            Palermo   \n",
       "1317  Hanson2016_1318         Segesta            Segesta   \n",
       "1319  Hanson2016_1320       Syracusae           Syracuse   \n",
       "1321  Hanson2016_1322        Tyndaris            Tindari   \n",
       "\n",
       "                  Province  Country Barrington Atlas Rank  \\\n",
       "156   Africa Proconsularis  Tunisia                     3   \n",
       "158   Africa Proconsularis  Tunisia                     3   \n",
       "159   Africa Proconsularis  Tunisia                4 or 5   \n",
       "160   Africa Proconsularis  Tunisia                     3   \n",
       "162   Africa Proconsularis  Tunisia                     3   \n",
       "...                    ...      ...                   ...   \n",
       "1311               Sicilia    Italy                     3   \n",
       "1315               Sicilia    Italy                     2   \n",
       "1317               Sicilia    Italy                     3   \n",
       "1319               Sicilia    Italy                     2   \n",
       "1321               Sicilia    Italy                     3   \n",
       "\n",
       "     Barrington Atlas Reference  Start Date  End Date  \\\n",
       "156                       32 F4         100       NaN   \n",
       "158                       32 E4         -50       NaN   \n",
       "159                       33 H2        -200       NaN   \n",
       "160                       32 D4         100       NaN   \n",
       "162                       32 E4         200       NaN   \n",
       "...                         ...         ...       ...   \n",
       "1311                      47 H2        -730       NaN   \n",
       "1315                      47 C2        -700       NaN   \n",
       "1317                      47 B3        -600       NaN   \n",
       "1319                      47 G4        -733       NaN   \n",
       "1321                      47 G2        -396       NaN   \n",
       "\n",
       "                                    Select Bibliography  ...  pop_diff  \\\n",
       "156                            BNP; Lepelley 1979-1981.  ...       NaN   \n",
       "158   Boatwright 2000; Lepelley 1979-1981; Quinn and...  ...       NaN   \n",
       "159   BNP; Boatwright 2000; Bomgardner 2000; DGRG; G...  ...       NaN   \n",
       "160   BNP; Bomgardner 2000; Lepelley 1979-1981; McEv...  ...       NaN   \n",
       "162                            BNP; Lepelley 1979-1981.  ...       NaN   \n",
       "...                                                 ...  ...       ...   \n",
       "1311  Brunt 1971; Cornell and Mathews 1982; Hansen 2...  ...       NaN   \n",
       "1315  Beloch 1886; BNP; Brunt 1971; Cornell and Math...  ...       NaN   \n",
       "1317        McEvedy 2011; PECS; Sear 2006; Woloch 1983.  ...       NaN   \n",
       "1319  Beloch 1886; Benario 1981; Brunt 1971; Cornell...  ...       NaN   \n",
       "1321  Brunt 1971; Cornell and Mathews 1982; Hansen 2...  ...       1.0   \n",
       "\n",
       "     western_province inscr_N  \\\n",
       "156              True    12.0   \n",
       "158              True    36.0   \n",
       "159              True    17.0   \n",
       "160              True   141.0   \n",
       "162              True    51.0   \n",
       "...               ...     ...   \n",
       "1311             True   164.0   \n",
       "1315             True   221.0   \n",
       "1317             True   113.0   \n",
       "1319             True   627.0   \n",
       "1321             True    66.0   \n",
       "\n",
       "                                            occups_list  occups_N  \\\n",
       "156                                           [curator]       1.0   \n",
       "158   [curator, curator, curator, curator, curator, ...       6.0   \n",
       "159                         [curator, curator, curator]       3.0   \n",
       "160                                  [curator, artifex]       2.0   \n",
       "162   [curator, curator, columnarius, curator, curat...       6.0   \n",
       "...                                                 ...       ...   \n",
       "1311                 [medicus, faber, arcarius, scriba]       4.0   \n",
       "1315                      [curator, curator, negotians]       3.0   \n",
       "1317                                         [forensis]       1.0   \n",
       "1319                        [medicus, fullo, trapezita]       3.0   \n",
       "1321                                 [curator, curator]       2.0   \n",
       "\n",
       "     occups_unique_N inscr_N_post235  occups_N_post235  ratio_post235  \\\n",
       "156              1.0             0.0               0.0       0.000000   \n",
       "158              2.0             6.0               4.0       0.166667   \n",
       "159              1.0             1.0               1.0       0.058824   \n",
       "160              2.0             7.0               0.0       0.049645   \n",
       "162              2.0             0.0               0.0       0.000000   \n",
       "...              ...             ...               ...            ...   \n",
       "1311             4.0             2.0               0.0       0.012195   \n",
       "1315             2.0            11.0               1.0       0.049774   \n",
       "1317             1.0             1.0               0.0       0.008850   \n",
       "1319             3.0            14.0               1.0       0.022329   \n",
       "1321             1.0             3.0               0.0       0.045455   \n",
       "\n",
       "                           city_province  \n",
       "156   Abbir Maius (Africa Proconsularis)  \n",
       "158      Abthungi (Africa Proconsularis)  \n",
       "159       Acholla (Africa Proconsularis)  \n",
       "160         Agbia (Africa Proconsularis)  \n",
       "162   Apisa Maius (Africa Proconsularis)  \n",
       "...                                  ...  \n",
       "1311                   Messana (Sicilia)  \n",
       "1315                  Panormus (Sicilia)  \n",
       "1317                   Segesta (Sicilia)  \n",
       "1319                 Syracusae (Sicilia)  \n",
       "1321                  Tyndaris (Sicilia)  \n",
       "\n",
       "[506 rows x 32 columns]"
      ]
     },
     "execution_count": 56,
     "metadata": {},
     "output_type": "execute_result"
    }
   ],
   "source": [
    "roman_cities_wo"
   ]
  },
  {
   "cell_type": "code",
   "execution_count": 58,
   "metadata": {
    "pycharm": {
     "name": "#%%\n"
    }
   },
   "outputs": [],
   "source": [
    "# generate a dictionary of occupations by type\n",
    "occupations_df = pd.read_csv(\"../../data/occupations_list_hisco.csv\")\n",
    "\n",
    "def term1_plus_term2(row):\n",
    "    term1_2 = row[\"Term\"]\n",
    "    if isinstance(row[\"Term2\"], str):\n",
    "        term1_2 += \" \" + row[\"Term2\"]\n",
    "    return term1_2\n",
    "\n",
    "occupations_df[\"Term\"] = occupations_df.apply(lambda row: term1_plus_term2(row), axis=1)\n",
    "\n",
    "occups_cats_dict = dict(zip(occupations_df[\"Term\"], occupations_df[\"Harris_Category\"]))"
   ]
  },
  {
   "cell_type": "code",
   "execution_count": 59,
   "metadata": {
    "pycharm": {
     "name": "#%%\n"
    }
   },
   "outputs": [
    {
     "name": "stdout",
     "output_type": "stream",
     "text": [
      "19\n"
     ]
    },
    {
     "data": {
      "text/plain": [
       "{'Building',\n",
       " 'Clothing',\n",
       " 'Death-care sector',\n",
       " 'Education',\n",
       " 'Finance',\n",
       " 'Food-Production',\n",
       " 'Food-Retail',\n",
       " 'Fuel / Raw material',\n",
       " 'Glass-Working',\n",
       " 'Household Goods',\n",
       " 'Managerial',\n",
       " 'Metal-Working',\n",
       " 'Miscellaneous Services',\n",
       " 'Performing Arts',\n",
       " 'Plastic Arts',\n",
       " 'Retail',\n",
       " 'Transport',\n",
       " 'Unclassified',\n",
       " 'Water-Management'}"
      ]
     },
     "execution_count": 59,
     "metadata": {},
     "output_type": "execute_result"
    }
   ],
   "source": [
    "print(len(set(occups_cats_dict.values())))\n",
    "set(occups_cats_dict.values())"
   ]
  },
  {
   "cell_type": "code",
   "execution_count": 60,
   "metadata": {
    "pycharm": {
     "name": "#%%\n"
    }
   },
   "outputs": [
    {
     "data": {
      "text/plain": [
       "['Food-Production',\n",
       " 'Retail',\n",
       " 'Metal-Working',\n",
       " 'Death-care sector',\n",
       " 'Glass-Working',\n",
       " 'Household Goods',\n",
       " 'Transport',\n",
       " 'Plastic Arts',\n",
       " 'Education',\n",
       " 'Fuel / Raw material',\n",
       " 'Food-Retail',\n",
       " 'Managerial',\n",
       " 'Clothing',\n",
       " 'Water-Management',\n",
       " 'Performing Arts',\n",
       " 'Unclassified',\n",
       " 'Finance',\n",
       " 'Building',\n",
       " 'Miscellaneous Services']"
      ]
     },
     "execution_count": 60,
     "metadata": {},
     "output_type": "execute_result"
    }
   ],
   "source": [
    "occups_cats_labels = list(set(occups_cats_dict.values()))\n",
    "occups_cats_labels"
   ]
  },
  {
   "cell_type": "code",
   "execution_count": 61,
   "metadata": {
    "pycharm": {
     "name": "#%%\n"
    }
   },
   "outputs": [],
   "source": [
    "def cat_for_occup(list_of_occups):\n",
    "    try:\n",
    "        return [occups_cats_dict[occup] for occup in list_of_occups]\n",
    "    except:\n",
    "        return []\n",
    "roman_cities_wo[\"occups_cats_list\"] = roman_cities_wo[\"occups_list\"].apply(cat_for_occup)"
   ]
  },
  {
   "cell_type": "code",
   "execution_count": 62,
   "metadata": {
    "pycharm": {
     "name": "#%%\n"
    }
   },
   "outputs": [],
   "source": [
    "LIST[\"occups_cats_list\"] = LIST[\"occups\"].apply(cat_for_occup)"
   ]
  },
  {
   "cell_type": "code",
   "execution_count": 63,
   "metadata": {
    "pycharm": {
     "name": "#%%\n"
    }
   },
   "outputs": [
    {
     "data": {
      "text/plain": [
       "991    [Unclassified, Managerial, Education, Manageri...\n",
       "Name: occups_cats_list, dtype: object"
      ]
     },
     "execution_count": 63,
     "metadata": {},
     "output_type": "execute_result"
    }
   ],
   "source": [
    "roman_cities_wo[roman_cities_wo[\"Ancient Toponym\"]==\"Roma\"][\"occups_cats_list\"]"
   ]
  },
  {
   "cell_type": "code",
   "execution_count": 64,
   "metadata": {
    "pycharm": {
     "name": "#%%\n"
    }
   },
   "outputs": [
    {
     "data": {
      "text/plain": [
       "156     1\n",
       "158     2\n",
       "159     1\n",
       "160     2\n",
       "162     2\n",
       "       ..\n",
       "1311    4\n",
       "1315    2\n",
       "1317    1\n",
       "1319    3\n",
       "1321    1\n",
       "Name: occups_cats_unique_N, Length: 506, dtype: int64"
      ]
     },
     "execution_count": 64,
     "metadata": {},
     "output_type": "execute_result"
    }
   ],
   "source": [
    "roman_cities_wo[\"occups_cats_unique_N\"] = roman_cities_wo[\"occups_cats_list\"].apply(lambda x: len(set(x)))\n",
    "roman_cities_wo[\"occups_cats_unique_N\"]"
   ]
  },
  {
   "cell_type": "code",
   "execution_count": 65,
   "metadata": {
    "pycharm": {
     "name": "#%%\n"
    }
   },
   "outputs": [
    {
     "data": {
      "text/plain": [
       "107"
      ]
     },
     "execution_count": 65,
     "metadata": {},
     "output_type": "execute_result"
    }
   ],
   "source": [
    "len(roman_cities_wo[roman_cities_wo[\"occups_N\"]==1])"
   ]
  },
  {
   "cell_type": "code",
   "execution_count": 66,
   "metadata": {
    "pycharm": {
     "name": "#%%\n"
    }
   },
   "outputs": [
    {
     "data": {
      "text/plain": [
       "0.2715654952076677"
      ]
     },
     "execution_count": 66,
     "metadata": {},
     "output_type": "execute_result"
    }
   ],
   "source": [
    "85 / 313"
   ]
  },
  {
   "cell_type": "code",
   "execution_count": 67,
   "metadata": {
    "pycharm": {
     "name": "#%%\n"
    }
   },
   "outputs": [
    {
     "data": {
      "text/plain": [
       "Text(0, 0.5, 'N cities')"
      ]
     },
     "execution_count": 67,
     "metadata": {},
     "output_type": "execute_result"
    },
    {
     "data": {
      "image/png": "[encoded data removed]",
      "text/plain": [
       "<Figure size 780x540 with 1 Axes>"
      ]
     },
     "metadata": {},
     "output_type": "display_data"
    }
   ],
   "source": [
    "fig, ax = plt.subplots(figsize=(2.6, 1.8), tight_layout=True)\n",
    "bins = [n+0.5 for n in range(0,20)]\n",
    "roman_cities_wo[\"occups_N\"].hist(ax=ax, edgecolor=\"black\", color=\"green\", bins=bins)\n",
    "ax.set_xticks(range(1,20, 2))\n",
    "ax.grid(False)\n",
    "ax.set_xlabel(\"N occupations\")\n",
    "ax.set_ylabel(\"N cities\")"
   ]
  },
  {
   "cell_type": "code",
   "execution_count": 68,
   "metadata": {
    "pycharm": {
     "name": "#%%\n"
    }
   },
   "outputs": [
    {
     "data": {
      "text/plain": [
       "Text(0, 0.5, 'N cities')"
      ]
     },
     "execution_count": 68,
     "metadata": {},
     "output_type": "execute_result"
    },
    {
     "data": {
      "image/png": "[encoded data removed]",
      "text/plain": [
       "<Figure size 780x540 with 1 Axes>"
      ]
     },
     "metadata": {},
     "output_type": "display_data"
    }
   ],
   "source": [
    "fig, ax = plt.subplots(figsize=(2.6, 1.8), tight_layout=True)\n",
    "bins = [n+0.5 for n in range(0,20)]\n",
    "roman_cities_wo[\"occups_N\"].hist(ax=ax, edgecolor=\"black\", color=\"green\", bins=bins)\n",
    "ax.set_xticks(range(1,20, 2))\n",
    "ax.grid(False)\n",
    "ax.set_xlabel(\"N occupations\")\n",
    "ax.set_ylabel(\"N cities\")"
   ]
  },
  {
   "cell_type": "code",
   "execution_count": 69,
   "metadata": {
    "pycharm": {
     "name": "#%%\n"
    }
   },
   "outputs": [
    {
     "data": {
      "text/plain": [
       "Text(0, 0.5, 'N cities')"
      ]
     },
     "execution_count": 69,
     "metadata": {},
     "output_type": "execute_result"
    },
    {
     "data": {
      "image/png": "[encoded data removed]",
      "text/plain": [
       "<Figure size 780x540 with 1 Axes>"
      ]
     },
     "metadata": {},
     "output_type": "display_data"
    }
   ],
   "source": [
    "fig, ax = plt.subplots(figsize=(2.6, 1.8), tight_layout=True)\n",
    "bins = [n+0.5 for n in range(0,20)]\n",
    "roman_cities_wo[\"occups_cats_unique_N\"].hist(ax=ax, edgecolor=\"black\", bins=bins)\n",
    "ax.set_xticks(range(1,20, 2))\n",
    "ax.grid(False)\n",
    "ax.set_xlabel(\"unique occups. cats.\")\n",
    "ax.set_ylabel(\"N cities\")"
   ]
  },
  {
   "cell_type": "code",
   "execution_count": 70,
   "metadata": {
    "pycharm": {
     "name": "#%%\n"
    }
   },
   "outputs": [
    {
     "name": "stdout",
     "output_type": "stream",
     "text": [
      "A file with the same name (\"unique_cats_per_cities_hist.eps\") already exists in this location.\n"
     ]
    },
    {
     "name": "stdin",
     "output_type": "stream",
     "text": [
      "Press Enter to overwrite it or choose different path and filename:  \n",
      "Unsupported file format. Type either \"txt\", \"csv\", \"json\", \"geojson\", \"feather\", or \"png\":  \n"
     ]
    },
    {
     "name": "stdout",
     "output_type": "stream",
     "text": [
      "Your <class 'matplotlib.figure.Figure'> object has been succesfully written as \"https://sciencedata.dk/sharingout/648597%40au.dk/SDAM_root/SDAM_data/social_diversity/socdiv_figures/unique_cats_per_cities_hist.\"\n",
      "A file with the same name (\"unique_cats_per_cities_hist.png\") already exists in this location.\n"
     ]
    },
    {
     "name": "stdin",
     "output_type": "stream",
     "text": [
      "Press Enter to overwrite it or choose different path and filename:  \n"
     ]
    },
    {
     "name": "stdout",
     "output_type": "stream",
     "text": [
      "Your <class 'matplotlib.figure.Figure'> object has been succesfully written as \"https://sciencedata.dk/sharingout/648597%40au.dk/SDAM_root/SDAM_data/social_diversity/socdiv_figures/unique_cats_per_cities_hist.png\"\n"
     ]
    }
   ],
   "source": [
    "save_figure(fig, \"LIST_unique_cats_per_cities_hist\")"
   ]
  },
  {
   "cell_type": "code",
   "execution_count": 71,
   "metadata": {
    "pycharm": {
     "name": "#%%\n"
    }
   },
   "outputs": [
    {
     "data": {
      "text/plain": [
       "156                                          [Managerial]\n",
       "158     [Managerial, Managerial, Managerial, Manageria...\n",
       "159                  [Managerial, Managerial, Managerial]\n",
       "160                            [Managerial, Plastic Arts]\n",
       "162     [Managerial, Managerial, Building, Managerial,...\n",
       "                              ...                        \n",
       "1311    [Miscellaneous Services, Unclassified, Finance...\n",
       "1315                     [Managerial, Managerial, Retail]\n",
       "1317                                         [Managerial]\n",
       "1319          [Miscellaneous Services, Clothing, Finance]\n",
       "1321                             [Managerial, Managerial]\n",
       "Name: occups_cats_list, Length: 506, dtype: object"
      ]
     },
     "execution_count": 71,
     "metadata": {},
     "output_type": "execute_result"
    }
   ],
   "source": [
    "roman_cities_wo[\"occups_cats_list\"]"
   ]
  },
  {
   "cell_type": "markdown",
   "metadata": {},
   "source": [
    "# Specialization"
   ]
  },
  {
   "cell_type": "code",
   "execution_count": 72,
   "metadata": {
    "pycharm": {
     "name": "#%%\n"
    }
   },
   "outputs": [],
   "source": [
    "def get_cat_row_vec(cat_list):\n",
    "    cat_row_vec = []\n",
    "    for cat in occups_cats_labels:\n",
    "        cat_row_vec.append(cat_list.count(cat))\n",
    "    return np.array(cat_row_vec)\n"
   ]
  },
  {
   "cell_type": "code",
   "execution_count": 73,
   "metadata": {
    "pycharm": {
     "name": "#%%\n"
    }
   },
   "outputs": [
    {
     "data": {
      "text/plain": [
       "156     [0, 0, 0, 0, 0, 0, 0, 0, 0, 0, 0, 1, 0, 0, 0, ...\n",
       "158     [0, 0, 0, 0, 0, 0, 0, 0, 0, 0, 0, 5, 0, 0, 1, ...\n",
       "159     [0, 0, 0, 0, 0, 0, 0, 0, 0, 0, 0, 3, 0, 0, 0, ...\n",
       "160     [0, 0, 0, 0, 0, 0, 0, 1, 0, 0, 0, 1, 0, 0, 0, ...\n",
       "162     [0, 0, 0, 0, 0, 0, 0, 0, 0, 0, 0, 5, 0, 0, 0, ...\n",
       "                              ...                        \n",
       "1311    [0, 0, 0, 0, 0, 0, 0, 0, 1, 0, 0, 0, 0, 0, 0, ...\n",
       "1315    [0, 1, 0, 0, 0, 0, 0, 0, 0, 0, 0, 2, 0, 0, 0, ...\n",
       "1317    [0, 0, 0, 0, 0, 0, 0, 0, 0, 0, 0, 1, 0, 0, 0, ...\n",
       "1319    [0, 0, 0, 0, 0, 0, 0, 0, 0, 0, 0, 0, 1, 0, 0, ...\n",
       "1321    [0, 0, 0, 0, 0, 0, 0, 0, 0, 0, 0, 2, 0, 0, 0, ...\n",
       "Name: occups_cats_vec, Length: 506, dtype: object"
      ]
     },
     "execution_count": 73,
     "metadata": {},
     "output_type": "execute_result"
    }
   ],
   "source": [
    "roman_cities_wo[\"occups_cats_vec\"] = roman_cities_wo[\"occups_cats_list\"].apply(get_cat_row_vec)\n",
    "roman_cities_wo[\"occups_cats_vec\"]"
   ]
  },
  {
   "cell_type": "code",
   "execution_count": 74,
   "metadata": {
    "pycharm": {
     "name": "#%%\n"
    }
   },
   "outputs": [
    {
     "data": {
      "text/plain": [
       "156     [0.0, 0.0, 0.0, 0.0, 0.0, 0.0, 0.0, 0.0, 0.0, ...\n",
       "158     [0.0, 0.0, 0.0, 0.0, 0.0, 0.0, 0.0, 0.0, 0.0, ...\n",
       "159     [0.0, 0.0, 0.0, 0.0, 0.0, 0.0, 0.0, 0.0, 0.0, ...\n",
       "160     [0.0, 0.0, 0.0, 0.0, 0.0, 0.0, 0.0, 0.5, 0.0, ...\n",
       "162     [0.0, 0.0, 0.0, 0.0, 0.0, 0.0, 0.0, 0.0, 0.0, ...\n",
       "                              ...                        \n",
       "1311    [0.0, 0.0, 0.0, 0.0, 0.0, 0.0, 0.0, 0.0, 0.25,...\n",
       "1315    [0.0, 0.3333333333333333, 0.0, 0.0, 0.0, 0.0, ...\n",
       "1317    [0.0, 0.0, 0.0, 0.0, 0.0, 0.0, 0.0, 0.0, 0.0, ...\n",
       "1319    [0.0, 0.0, 0.0, 0.0, 0.0, 0.0, 0.0, 0.0, 0.0, ...\n",
       "1321    [0.0, 0.0, 0.0, 0.0, 0.0, 0.0, 0.0, 0.0, 0.0, ...\n",
       "Name: shares_vec, Length: 506, dtype: object"
      ]
     },
     "execution_count": 74,
     "metadata": {},
     "output_type": "execute_result"
    }
   ],
   "source": [
    "def occups_cats_vec_weighted(occups_cat_vec):\n",
    "    a = np.array(occups_cat_vec, dtype=float)\n",
    "    a = a / sum(a)\n",
    "    return a\n",
    "roman_cities_wo[\"shares_vec\"] = roman_cities_wo[\"occups_cats_vec\"].apply(occups_cats_vec_weighted)\n",
    "roman_cities_wo[\"shares_vec\"]"
   ]
  },
  {
   "cell_type": "code",
   "execution_count": 75,
   "metadata": {
    "pycharm": {
     "name": "#%%\n"
    }
   },
   "outputs": [
    {
     "data": {
      "text/plain": [
       "156     1.000000\n",
       "158     0.833333\n",
       "159     1.000000\n",
       "160     0.500000\n",
       "162     0.833333\n",
       "          ...   \n",
       "1311    0.250000\n",
       "1315    0.666667\n",
       "1317    1.000000\n",
       "1319    0.333333\n",
       "1321    1.000000\n",
       "Name: ZI, Length: 506, dtype: float64"
      ]
     },
     "execution_count": 75,
     "metadata": {},
     "output_type": "execute_result"
    }
   ],
   "source": [
    "roman_cities_wo[\"ZI\"] = roman_cities_wo[\"shares_vec\"].apply(max)\n",
    "roman_cities_wo[\"ZI\"]"
   ]
  },
  {
   "cell_type": "code",
   "execution_count": 77,
   "metadata": {
    "pycharm": {
     "name": "#%%\n"
    }
   },
   "outputs": [],
   "source": [
    "roman_cities_wo[\"largest_cat\"] = roman_cities_wo[\"occups_cats_vec\"].apply(max)"
   ]
  },
  {
   "cell_type": "code",
   "execution_count": 78,
   "metadata": {
    "pycharm": {
     "name": "#%%\n"
    }
   },
   "outputs": [
    {
     "data": {
      "text/html": [
       "<div>\n",
       "<style scoped>\n",
       "    .dataframe tbody tr th:only-of-type {\n",
       "        vertical-align: middle;\n",
       "    }\n",
       "\n",
       "    .dataframe tbody tr th {\n",
       "        vertical-align: top;\n",
       "    }\n",
       "\n",
       "    .dataframe thead th {\n",
       "        text-align: right;\n",
       "    }\n",
       "</style>\n",
       "<table border=\"1\" class=\"dataframe\">\n",
       "  <thead>\n",
       "    <tr style=\"text-align: right;\">\n",
       "      <th></th>\n",
       "      <th>Primary Key</th>\n",
       "      <th>Ancient Toponym</th>\n",
       "      <th>Modern Toponym</th>\n",
       "      <th>Province</th>\n",
       "      <th>Country</th>\n",
       "      <th>Barrington Atlas Rank</th>\n",
       "      <th>Barrington Atlas Reference</th>\n",
       "      <th>Start Date</th>\n",
       "      <th>End Date</th>\n",
       "      <th>Select Bibliography</th>\n",
       "      <th>...</th>\n",
       "      <th>inscr_N_post235</th>\n",
       "      <th>occups_N_post235</th>\n",
       "      <th>ratio_post235</th>\n",
       "      <th>city_province</th>\n",
       "      <th>occups_cats_list</th>\n",
       "      <th>occups_cats_unique_N</th>\n",
       "      <th>occups_cats_vec</th>\n",
       "      <th>shares_vec</th>\n",
       "      <th>ZI</th>\n",
       "      <th>largest_cat</th>\n",
       "    </tr>\n",
       "  </thead>\n",
       "  <tbody>\n",
       "    <tr>\n",
       "      <th>156</th>\n",
       "      <td>Hanson2016_157</td>\n",
       "      <td>Abbir Maius</td>\n",
       "      <td>Henchir en Naam</td>\n",
       "      <td>Africa Proconsularis</td>\n",
       "      <td>Tunisia</td>\n",
       "      <td>3</td>\n",
       "      <td>32 F4</td>\n",
       "      <td>100</td>\n",
       "      <td>NaN</td>\n",
       "      <td>BNP; Lepelley 1979-1981.</td>\n",
       "      <td>...</td>\n",
       "      <td>0.0</td>\n",
       "      <td>0.0</td>\n",
       "      <td>0.000000</td>\n",
       "      <td>Abbir Maius (Africa Proconsularis)</td>\n",
       "      <td>[Managerial]</td>\n",
       "      <td>1</td>\n",
       "      <td>[0, 0, 0, 0, 0, 0, 0, 0, 0, 0, 0, 1, 0, 0, 0, ...</td>\n",
       "      <td>[0.0, 0.0, 0.0, 0.0, 0.0, 0.0, 0.0, 0.0, 0.0, ...</td>\n",
       "      <td>1.000000</td>\n",
       "      <td>1</td>\n",
       "    </tr>\n",
       "    <tr>\n",
       "      <th>158</th>\n",
       "      <td>Hanson2016_159</td>\n",
       "      <td>Abthungi</td>\n",
       "      <td>Henchir es Souar</td>\n",
       "      <td>Africa Proconsularis</td>\n",
       "      <td>Tunisia</td>\n",
       "      <td>3</td>\n",
       "      <td>32 E4</td>\n",
       "      <td>-50</td>\n",
       "      <td>NaN</td>\n",
       "      <td>Boatwright 2000; Lepelley 1979-1981; Quinn and...</td>\n",
       "      <td>...</td>\n",
       "      <td>6.0</td>\n",
       "      <td>4.0</td>\n",
       "      <td>0.166667</td>\n",
       "      <td>Abthungi (Africa Proconsularis)</td>\n",
       "      <td>[Managerial, Managerial, Managerial, Manageria...</td>\n",
       "      <td>2</td>\n",
       "      <td>[0, 0, 0, 0, 0, 0, 0, 0, 0, 0, 0, 5, 0, 0, 1, ...</td>\n",
       "      <td>[0.0, 0.0, 0.0, 0.0, 0.0, 0.0, 0.0, 0.0, 0.0, ...</td>\n",
       "      <td>0.833333</td>\n",
       "      <td>5</td>\n",
       "    </tr>\n",
       "    <tr>\n",
       "      <th>159</th>\n",
       "      <td>Hanson2016_160</td>\n",
       "      <td>Acholla</td>\n",
       "      <td>Henchir Bou Tria</td>\n",
       "      <td>Africa Proconsularis</td>\n",
       "      <td>Tunisia</td>\n",
       "      <td>4 or 5</td>\n",
       "      <td>33 H2</td>\n",
       "      <td>-200</td>\n",
       "      <td>NaN</td>\n",
       "      <td>BNP; Boatwright 2000; Bomgardner 2000; DGRG; G...</td>\n",
       "      <td>...</td>\n",
       "      <td>1.0</td>\n",
       "      <td>1.0</td>\n",
       "      <td>0.058824</td>\n",
       "      <td>Acholla (Africa Proconsularis)</td>\n",
       "      <td>[Managerial, Managerial, Managerial]</td>\n",
       "      <td>1</td>\n",
       "      <td>[0, 0, 0, 0, 0, 0, 0, 0, 0, 0, 0, 3, 0, 0, 0, ...</td>\n",
       "      <td>[0.0, 0.0, 0.0, 0.0, 0.0, 0.0, 0.0, 0.0, 0.0, ...</td>\n",
       "      <td>1.000000</td>\n",
       "      <td>3</td>\n",
       "    </tr>\n",
       "    <tr>\n",
       "      <th>160</th>\n",
       "      <td>Hanson2016_161</td>\n",
       "      <td>Agbia</td>\n",
       "      <td>Henchir Ain Hedja</td>\n",
       "      <td>Africa Proconsularis</td>\n",
       "      <td>Tunisia</td>\n",
       "      <td>3</td>\n",
       "      <td>32 D4</td>\n",
       "      <td>100</td>\n",
       "      <td>NaN</td>\n",
       "      <td>BNP; Bomgardner 2000; Lepelley 1979-1981; McEv...</td>\n",
       "      <td>...</td>\n",
       "      <td>7.0</td>\n",
       "      <td>0.0</td>\n",
       "      <td>0.049645</td>\n",
       "      <td>Agbia (Africa Proconsularis)</td>\n",
       "      <td>[Managerial, Plastic Arts]</td>\n",
       "      <td>2</td>\n",
       "      <td>[0, 0, 0, 0, 0, 0, 0, 1, 0, 0, 0, 1, 0, 0, 0, ...</td>\n",
       "      <td>[0.0, 0.0, 0.0, 0.0, 0.0, 0.0, 0.0, 0.5, 0.0, ...</td>\n",
       "      <td>0.500000</td>\n",
       "      <td>1</td>\n",
       "    </tr>\n",
       "    <tr>\n",
       "      <th>162</th>\n",
       "      <td>Hanson2016_163</td>\n",
       "      <td>Apisa Maius</td>\n",
       "      <td>Tarf ech Chena</td>\n",
       "      <td>Africa Proconsularis</td>\n",
       "      <td>Tunisia</td>\n",
       "      <td>3</td>\n",
       "      <td>32 E4</td>\n",
       "      <td>200</td>\n",
       "      <td>NaN</td>\n",
       "      <td>BNP; Lepelley 1979-1981.</td>\n",
       "      <td>...</td>\n",
       "      <td>0.0</td>\n",
       "      <td>0.0</td>\n",
       "      <td>0.000000</td>\n",
       "      <td>Apisa Maius (Africa Proconsularis)</td>\n",
       "      <td>[Managerial, Managerial, Building, Managerial,...</td>\n",
       "      <td>2</td>\n",
       "      <td>[0, 0, 0, 0, 0, 0, 0, 0, 0, 0, 0, 5, 0, 0, 0, ...</td>\n",
       "      <td>[0.0, 0.0, 0.0, 0.0, 0.0, 0.0, 0.0, 0.0, 0.0, ...</td>\n",
       "      <td>0.833333</td>\n",
       "      <td>5</td>\n",
       "    </tr>\n",
       "    <tr>\n",
       "      <th>...</th>\n",
       "      <td>...</td>\n",
       "      <td>...</td>\n",
       "      <td>...</td>\n",
       "      <td>...</td>\n",
       "      <td>...</td>\n",
       "      <td>...</td>\n",
       "      <td>...</td>\n",
       "      <td>...</td>\n",
       "      <td>...</td>\n",
       "      <td>...</td>\n",
       "      <td>...</td>\n",
       "      <td>...</td>\n",
       "      <td>...</td>\n",
       "      <td>...</td>\n",
       "      <td>...</td>\n",
       "      <td>...</td>\n",
       "      <td>...</td>\n",
       "      <td>...</td>\n",
       "      <td>...</td>\n",
       "      <td>...</td>\n",
       "      <td>...</td>\n",
       "    </tr>\n",
       "    <tr>\n",
       "      <th>1311</th>\n",
       "      <td>Hanson2016_1312</td>\n",
       "      <td>Messana</td>\n",
       "      <td>Messina</td>\n",
       "      <td>Sicilia</td>\n",
       "      <td>Italy</td>\n",
       "      <td>3</td>\n",
       "      <td>47 H2</td>\n",
       "      <td>-730</td>\n",
       "      <td>NaN</td>\n",
       "      <td>Brunt 1971; Cornell and Mathews 1982; Hansen 2...</td>\n",
       "      <td>...</td>\n",
       "      <td>2.0</td>\n",
       "      <td>0.0</td>\n",
       "      <td>0.012195</td>\n",
       "      <td>Messana (Sicilia)</td>\n",
       "      <td>[Miscellaneous Services, Unclassified, Finance...</td>\n",
       "      <td>4</td>\n",
       "      <td>[0, 0, 0, 0, 0, 0, 0, 0, 1, 0, 0, 0, 0, 0, 0, ...</td>\n",
       "      <td>[0.0, 0.0, 0.0, 0.0, 0.0, 0.0, 0.0, 0.0, 0.25,...</td>\n",
       "      <td>0.250000</td>\n",
       "      <td>1</td>\n",
       "    </tr>\n",
       "    <tr>\n",
       "      <th>1315</th>\n",
       "      <td>Hanson2016_1316</td>\n",
       "      <td>Panormus</td>\n",
       "      <td>Palermo</td>\n",
       "      <td>Sicilia</td>\n",
       "      <td>Italy</td>\n",
       "      <td>2</td>\n",
       "      <td>47 C2</td>\n",
       "      <td>-700</td>\n",
       "      <td>NaN</td>\n",
       "      <td>Beloch 1886; BNP; Brunt 1971; Cornell and Math...</td>\n",
       "      <td>...</td>\n",
       "      <td>11.0</td>\n",
       "      <td>1.0</td>\n",
       "      <td>0.049774</td>\n",
       "      <td>Panormus (Sicilia)</td>\n",
       "      <td>[Managerial, Managerial, Retail]</td>\n",
       "      <td>2</td>\n",
       "      <td>[0, 1, 0, 0, 0, 0, 0, 0, 0, 0, 0, 2, 0, 0, 0, ...</td>\n",
       "      <td>[0.0, 0.3333333333333333, 0.0, 0.0, 0.0, 0.0, ...</td>\n",
       "      <td>0.666667</td>\n",
       "      <td>2</td>\n",
       "    </tr>\n",
       "    <tr>\n",
       "      <th>1317</th>\n",
       "      <td>Hanson2016_1318</td>\n",
       "      <td>Segesta</td>\n",
       "      <td>Segesta</td>\n",
       "      <td>Sicilia</td>\n",
       "      <td>Italy</td>\n",
       "      <td>3</td>\n",
       "      <td>47 B3</td>\n",
       "      <td>-600</td>\n",
       "      <td>NaN</td>\n",
       "      <td>McEvedy 2011; PECS; Sear 2006; Woloch 1983.</td>\n",
       "      <td>...</td>\n",
       "      <td>1.0</td>\n",
       "      <td>0.0</td>\n",
       "      <td>0.008850</td>\n",
       "      <td>Segesta (Sicilia)</td>\n",
       "      <td>[Managerial]</td>\n",
       "      <td>1</td>\n",
       "      <td>[0, 0, 0, 0, 0, 0, 0, 0, 0, 0, 0, 1, 0, 0, 0, ...</td>\n",
       "      <td>[0.0, 0.0, 0.0, 0.0, 0.0, 0.0, 0.0, 0.0, 0.0, ...</td>\n",
       "      <td>1.000000</td>\n",
       "      <td>1</td>\n",
       "    </tr>\n",
       "    <tr>\n",
       "      <th>1319</th>\n",
       "      <td>Hanson2016_1320</td>\n",
       "      <td>Syracusae</td>\n",
       "      <td>Syracuse</td>\n",
       "      <td>Sicilia</td>\n",
       "      <td>Italy</td>\n",
       "      <td>2</td>\n",
       "      <td>47 G4</td>\n",
       "      <td>-733</td>\n",
       "      <td>NaN</td>\n",
       "      <td>Beloch 1886; Benario 1981; Brunt 1971; Cornell...</td>\n",
       "      <td>...</td>\n",
       "      <td>14.0</td>\n",
       "      <td>1.0</td>\n",
       "      <td>0.022329</td>\n",
       "      <td>Syracusae (Sicilia)</td>\n",
       "      <td>[Miscellaneous Services, Clothing, Finance]</td>\n",
       "      <td>3</td>\n",
       "      <td>[0, 0, 0, 0, 0, 0, 0, 0, 0, 0, 0, 0, 1, 0, 0, ...</td>\n",
       "      <td>[0.0, 0.0, 0.0, 0.0, 0.0, 0.0, 0.0, 0.0, 0.0, ...</td>\n",
       "      <td>0.333333</td>\n",
       "      <td>1</td>\n",
       "    </tr>\n",
       "    <tr>\n",
       "      <th>1321</th>\n",
       "      <td>Hanson2016_1322</td>\n",
       "      <td>Tyndaris</td>\n",
       "      <td>Tindari</td>\n",
       "      <td>Sicilia</td>\n",
       "      <td>Italy</td>\n",
       "      <td>3</td>\n",
       "      <td>47 G2</td>\n",
       "      <td>-396</td>\n",
       "      <td>NaN</td>\n",
       "      <td>Brunt 1971; Cornell and Mathews 1982; Hansen 2...</td>\n",
       "      <td>...</td>\n",
       "      <td>3.0</td>\n",
       "      <td>0.0</td>\n",
       "      <td>0.045455</td>\n",
       "      <td>Tyndaris (Sicilia)</td>\n",
       "      <td>[Managerial, Managerial]</td>\n",
       "      <td>1</td>\n",
       "      <td>[0, 0, 0, 0, 0, 0, 0, 0, 0, 0, 0, 2, 0, 0, 0, ...</td>\n",
       "      <td>[0.0, 0.0, 0.0, 0.0, 0.0, 0.0, 0.0, 0.0, 0.0, ...</td>\n",
       "      <td>1.000000</td>\n",
       "      <td>2</td>\n",
       "    </tr>\n",
       "  </tbody>\n",
       "</table>\n",
       "<p>506 rows × 38 columns</p>\n",
       "</div>"
      ],
      "text/plain": [
       "          Primary Key Ancient Toponym     Modern Toponym  \\\n",
       "156    Hanson2016_157     Abbir Maius    Henchir en Naam   \n",
       "158    Hanson2016_159        Abthungi   Henchir es Souar   \n",
       "159    Hanson2016_160         Acholla   Henchir Bou Tria   \n",
       "160    Hanson2016_161           Agbia  Henchir Ain Hedja   \n",
       "162    Hanson2016_163     Apisa Maius     Tarf ech Chena   \n",
       "...               ...             ...                ...   \n",
       "1311  Hanson2016_1312         Messana            Messina   \n",
       "1315  Hanson2016_1316        Panormus            Palermo   \n",
       "1317  Hanson2016_1318         Segesta            Segesta   \n",
       "1319  Hanson2016_1320       Syracusae           Syracuse   \n",
       "1321  Hanson2016_1322        Tyndaris            Tindari   \n",
       "\n",
       "                  Province  Country Barrington Atlas Rank  \\\n",
       "156   Africa Proconsularis  Tunisia                     3   \n",
       "158   Africa Proconsularis  Tunisia                     3   \n",
       "159   Africa Proconsularis  Tunisia                4 or 5   \n",
       "160   Africa Proconsularis  Tunisia                     3   \n",
       "162   Africa Proconsularis  Tunisia                     3   \n",
       "...                    ...      ...                   ...   \n",
       "1311               Sicilia    Italy                     3   \n",
       "1315               Sicilia    Italy                     2   \n",
       "1317               Sicilia    Italy                     3   \n",
       "1319               Sicilia    Italy                     2   \n",
       "1321               Sicilia    Italy                     3   \n",
       "\n",
       "     Barrington Atlas Reference  Start Date  End Date  \\\n",
       "156                       32 F4         100       NaN   \n",
       "158                       32 E4         -50       NaN   \n",
       "159                       33 H2        -200       NaN   \n",
       "160                       32 D4         100       NaN   \n",
       "162                       32 E4         200       NaN   \n",
       "...                         ...         ...       ...   \n",
       "1311                      47 H2        -730       NaN   \n",
       "1315                      47 C2        -700       NaN   \n",
       "1317                      47 B3        -600       NaN   \n",
       "1319                      47 G4        -733       NaN   \n",
       "1321                      47 G2        -396       NaN   \n",
       "\n",
       "                                    Select Bibliography  ...  inscr_N_post235  \\\n",
       "156                            BNP; Lepelley 1979-1981.  ...              0.0   \n",
       "158   Boatwright 2000; Lepelley 1979-1981; Quinn and...  ...              6.0   \n",
       "159   BNP; Boatwright 2000; Bomgardner 2000; DGRG; G...  ...              1.0   \n",
       "160   BNP; Bomgardner 2000; Lepelley 1979-1981; McEv...  ...              7.0   \n",
       "162                            BNP; Lepelley 1979-1981.  ...              0.0   \n",
       "...                                                 ...  ...              ...   \n",
       "1311  Brunt 1971; Cornell and Mathews 1982; Hansen 2...  ...              2.0   \n",
       "1315  Beloch 1886; BNP; Brunt 1971; Cornell and Math...  ...             11.0   \n",
       "1317        McEvedy 2011; PECS; Sear 2006; Woloch 1983.  ...              1.0   \n",
       "1319  Beloch 1886; Benario 1981; Brunt 1971; Cornell...  ...             14.0   \n",
       "1321  Brunt 1971; Cornell and Mathews 1982; Hansen 2...  ...              3.0   \n",
       "\n",
       "     occups_N_post235 ratio_post235                       city_province  \\\n",
       "156               0.0      0.000000  Abbir Maius (Africa Proconsularis)   \n",
       "158               4.0      0.166667     Abthungi (Africa Proconsularis)   \n",
       "159               1.0      0.058824      Acholla (Africa Proconsularis)   \n",
       "160               0.0      0.049645        Agbia (Africa Proconsularis)   \n",
       "162               0.0      0.000000  Apisa Maius (Africa Proconsularis)   \n",
       "...               ...           ...                                 ...   \n",
       "1311              0.0      0.012195                   Messana (Sicilia)   \n",
       "1315              1.0      0.049774                  Panormus (Sicilia)   \n",
       "1317              0.0      0.008850                   Segesta (Sicilia)   \n",
       "1319              1.0      0.022329                 Syracusae (Sicilia)   \n",
       "1321              0.0      0.045455                  Tyndaris (Sicilia)   \n",
       "\n",
       "                                       occups_cats_list occups_cats_unique_N  \\\n",
       "156                                        [Managerial]                    1   \n",
       "158   [Managerial, Managerial, Managerial, Manageria...                    2   \n",
       "159                [Managerial, Managerial, Managerial]                    1   \n",
       "160                          [Managerial, Plastic Arts]                    2   \n",
       "162   [Managerial, Managerial, Building, Managerial,...                    2   \n",
       "...                                                 ...                  ...   \n",
       "1311  [Miscellaneous Services, Unclassified, Finance...                    4   \n",
       "1315                   [Managerial, Managerial, Retail]                    2   \n",
       "1317                                       [Managerial]                    1   \n",
       "1319        [Miscellaneous Services, Clothing, Finance]                    3   \n",
       "1321                           [Managerial, Managerial]                    1   \n",
       "\n",
       "                                        occups_cats_vec  \\\n",
       "156   [0, 0, 0, 0, 0, 0, 0, 0, 0, 0, 0, 1, 0, 0, 0, ...   \n",
       "158   [0, 0, 0, 0, 0, 0, 0, 0, 0, 0, 0, 5, 0, 0, 1, ...   \n",
       "159   [0, 0, 0, 0, 0, 0, 0, 0, 0, 0, 0, 3, 0, 0, 0, ...   \n",
       "160   [0, 0, 0, 0, 0, 0, 0, 1, 0, 0, 0, 1, 0, 0, 0, ...   \n",
       "162   [0, 0, 0, 0, 0, 0, 0, 0, 0, 0, 0, 5, 0, 0, 0, ...   \n",
       "...                                                 ...   \n",
       "1311  [0, 0, 0, 0, 0, 0, 0, 0, 1, 0, 0, 0, 0, 0, 0, ...   \n",
       "1315  [0, 1, 0, 0, 0, 0, 0, 0, 0, 0, 0, 2, 0, 0, 0, ...   \n",
       "1317  [0, 0, 0, 0, 0, 0, 0, 0, 0, 0, 0, 1, 0, 0, 0, ...   \n",
       "1319  [0, 0, 0, 0, 0, 0, 0, 0, 0, 0, 0, 0, 1, 0, 0, ...   \n",
       "1321  [0, 0, 0, 0, 0, 0, 0, 0, 0, 0, 0, 2, 0, 0, 0, ...   \n",
       "\n",
       "                                             shares_vec        ZI  largest_cat  \n",
       "156   [0.0, 0.0, 0.0, 0.0, 0.0, 0.0, 0.0, 0.0, 0.0, ...  1.000000            1  \n",
       "158   [0.0, 0.0, 0.0, 0.0, 0.0, 0.0, 0.0, 0.0, 0.0, ...  0.833333            5  \n",
       "159   [0.0, 0.0, 0.0, 0.0, 0.0, 0.0, 0.0, 0.0, 0.0, ...  1.000000            3  \n",
       "160   [0.0, 0.0, 0.0, 0.0, 0.0, 0.0, 0.0, 0.5, 0.0, ...  0.500000            1  \n",
       "162   [0.0, 0.0, 0.0, 0.0, 0.0, 0.0, 0.0, 0.0, 0.0, ...  0.833333            5  \n",
       "...                                                 ...       ...          ...  \n",
       "1311  [0.0, 0.0, 0.0, 0.0, 0.0, 0.0, 0.0, 0.0, 0.25,...  0.250000            1  \n",
       "1315  [0.0, 0.3333333333333333, 0.0, 0.0, 0.0, 0.0, ...  0.666667            2  \n",
       "1317  [0.0, 0.0, 0.0, 0.0, 0.0, 0.0, 0.0, 0.0, 0.0, ...  1.000000            1  \n",
       "1319  [0.0, 0.0, 0.0, 0.0, 0.0, 0.0, 0.0, 0.0, 0.0, ...  0.333333            1  \n",
       "1321  [0.0, 0.0, 0.0, 0.0, 0.0, 0.0, 0.0, 0.0, 0.0, ...  1.000000            2  \n",
       "\n",
       "[506 rows x 38 columns]"
      ]
     },
     "execution_count": 78,
     "metadata": {},
     "output_type": "execute_result"
    }
   ],
   "source": [
    "roman_cities_wo"
   ]
  },
  {
   "cell_type": "code",
   "execution_count": 79,
   "metadata": {
    "pycharm": {
     "name": "#%%\n"
    }
   },
   "outputs": [],
   "source": [
    "roman_cities_wo[\"ZI_cat\"] = roman_cities_wo[\"shares_vec\"].apply(lambda x: occups_cats_labels[np.argmax(x)])"
   ]
  },
  {
   "cell_type": "code",
   "execution_count": 80,
   "metadata": {
    "pycharm": {
     "name": "#%%\n"
    }
   },
   "outputs": [
    {
     "data": {
      "text/html": [
       "<div>\n",
       "<style scoped>\n",
       "    .dataframe tbody tr th:only-of-type {\n",
       "        vertical-align: middle;\n",
       "    }\n",
       "\n",
       "    .dataframe tbody tr th {\n",
       "        vertical-align: top;\n",
       "    }\n",
       "\n",
       "    .dataframe thead th {\n",
       "        text-align: right;\n",
       "    }\n",
       "</style>\n",
       "<table border=\"1\" class=\"dataframe\">\n",
       "  <thead>\n",
       "    <tr style=\"text-align: right;\">\n",
       "      <th></th>\n",
       "      <th>Ancient Toponym</th>\n",
       "      <th>inscr_N</th>\n",
       "      <th>occups_N</th>\n",
       "      <th>occups_cats_unique_N</th>\n",
       "      <th>occups_cats_vec</th>\n",
       "      <th>ZI</th>\n",
       "      <th>ZI_cat</th>\n",
       "    </tr>\n",
       "  </thead>\n",
       "  <tbody>\n",
       "    <tr>\n",
       "      <th>156</th>\n",
       "      <td>Abbir Maius</td>\n",
       "      <td>12.0</td>\n",
       "      <td>1.0</td>\n",
       "      <td>1</td>\n",
       "      <td>[0, 0, 0, 0, 0, 0, 0, 0, 0, 0, 0, 1, 0, 0, 0, ...</td>\n",
       "      <td>1.000000</td>\n",
       "      <td>Managerial</td>\n",
       "    </tr>\n",
       "    <tr>\n",
       "      <th>682</th>\n",
       "      <td>Aquae Flaviae</td>\n",
       "      <td>117.0</td>\n",
       "      <td>1.0</td>\n",
       "      <td>1</td>\n",
       "      <td>[0, 0, 0, 0, 0, 0, 0, 0, 0, 0, 0, 0, 0, 0, 1, ...</td>\n",
       "      <td>1.000000</td>\n",
       "      <td>Performing Arts</td>\n",
       "    </tr>\n",
       "    <tr>\n",
       "      <th>685</th>\n",
       "      <td>Baetulo</td>\n",
       "      <td>51.0</td>\n",
       "      <td>1.0</td>\n",
       "      <td>1</td>\n",
       "      <td>[0, 0, 0, 0, 0, 0, 0, 0, 0, 0, 0, 1, 0, 0, 0, ...</td>\n",
       "      <td>1.000000</td>\n",
       "      <td>Managerial</td>\n",
       "    </tr>\n",
       "    <tr>\n",
       "      <th>686</th>\n",
       "      <td>Barcino</td>\n",
       "      <td>138.0</td>\n",
       "      <td>2.0</td>\n",
       "      <td>1</td>\n",
       "      <td>[0, 0, 0, 0, 0, 0, 0, 0, 0, 0, 0, 2, 0, 0, 0, ...</td>\n",
       "      <td>1.000000</td>\n",
       "      <td>Managerial</td>\n",
       "    </tr>\n",
       "    <tr>\n",
       "      <th>690</th>\n",
       "      <td>Caesaraugusta</td>\n",
       "      <td>57.0</td>\n",
       "      <td>1.0</td>\n",
       "      <td>1</td>\n",
       "      <td>[0, 0, 0, 0, 0, 0, 0, 0, 0, 0, 0, 1, 0, 0, 0, ...</td>\n",
       "      <td>1.000000</td>\n",
       "      <td>Managerial</td>\n",
       "    </tr>\n",
       "    <tr>\n",
       "      <th>...</th>\n",
       "      <td>...</td>\n",
       "      <td>...</td>\n",
       "      <td>...</td>\n",
       "      <td>...</td>\n",
       "      <td>...</td>\n",
       "      <td>...</td>\n",
       "      <td>...</td>\n",
       "    </tr>\n",
       "    <tr>\n",
       "      <th>1271</th>\n",
       "      <td>Mursa</td>\n",
       "      <td>191.0</td>\n",
       "      <td>6.0</td>\n",
       "      <td>6</td>\n",
       "      <td>[1, 1, 0, 0, 0, 0, 0, 0, 0, 0, 0, 1, 1, 0, 0, ...</td>\n",
       "      <td>0.166667</td>\n",
       "      <td>Food-Production</td>\n",
       "    </tr>\n",
       "    <tr>\n",
       "      <th>620</th>\n",
       "      <td>Lutetia</td>\n",
       "      <td>584.0</td>\n",
       "      <td>6.0</td>\n",
       "      <td>6</td>\n",
       "      <td>[0, 1, 1, 0, 0, 1, 1, 0, 0, 0, 0, 0, 0, 0, 0, ...</td>\n",
       "      <td>0.166667</td>\n",
       "      <td>Retail</td>\n",
       "    </tr>\n",
       "    <tr>\n",
       "      <th>226</th>\n",
       "      <td>Cemelenum</td>\n",
       "      <td>354.0</td>\n",
       "      <td>12.0</td>\n",
       "      <td>7</td>\n",
       "      <td>[0, 1, 0, 0, 0, 0, 2, 0, 0, 0, 0, 2, 2, 0, 0, ...</td>\n",
       "      <td>0.166667</td>\n",
       "      <td>Transport</td>\n",
       "    </tr>\n",
       "    <tr>\n",
       "      <th>1064</th>\n",
       "      <td>Verona</td>\n",
       "      <td>1284.0</td>\n",
       "      <td>43.0</td>\n",
       "      <td>13</td>\n",
       "      <td>[1, 4, 6, 0, 0, 1, 1, 3, 0, 0, 0, 7, 7, 0, 1, ...</td>\n",
       "      <td>0.162791</td>\n",
       "      <td>Managerial</td>\n",
       "    </tr>\n",
       "    <tr>\n",
       "      <th>787</th>\n",
       "      <td>Ostia</td>\n",
       "      <td>9044.0</td>\n",
       "      <td>443.0</td>\n",
       "      <td>16</td>\n",
       "      <td>[17, 44, 45, 0, 0, 13, 66, 1, 21, 0, 10, 72, 9...</td>\n",
       "      <td>0.162528</td>\n",
       "      <td>Managerial</td>\n",
       "    </tr>\n",
       "  </tbody>\n",
       "</table>\n",
       "<p>506 rows × 7 columns</p>\n",
       "</div>"
      ],
      "text/plain": [
       "     Ancient Toponym  inscr_N  occups_N  occups_cats_unique_N  \\\n",
       "156      Abbir Maius     12.0       1.0                     1   \n",
       "682    Aquae Flaviae    117.0       1.0                     1   \n",
       "685          Baetulo     51.0       1.0                     1   \n",
       "686          Barcino    138.0       2.0                     1   \n",
       "690    Caesaraugusta     57.0       1.0                     1   \n",
       "...              ...      ...       ...                   ...   \n",
       "1271           Mursa    191.0       6.0                     6   \n",
       "620          Lutetia    584.0       6.0                     6   \n",
       "226        Cemelenum    354.0      12.0                     7   \n",
       "1064          Verona   1284.0      43.0                    13   \n",
       "787            Ostia   9044.0     443.0                    16   \n",
       "\n",
       "                                        occups_cats_vec        ZI  \\\n",
       "156   [0, 0, 0, 0, 0, 0, 0, 0, 0, 0, 0, 1, 0, 0, 0, ...  1.000000   \n",
       "682   [0, 0, 0, 0, 0, 0, 0, 0, 0, 0, 0, 0, 0, 0, 1, ...  1.000000   \n",
       "685   [0, 0, 0, 0, 0, 0, 0, 0, 0, 0, 0, 1, 0, 0, 0, ...  1.000000   \n",
       "686   [0, 0, 0, 0, 0, 0, 0, 0, 0, 0, 0, 2, 0, 0, 0, ...  1.000000   \n",
       "690   [0, 0, 0, 0, 0, 0, 0, 0, 0, 0, 0, 1, 0, 0, 0, ...  1.000000   \n",
       "...                                                 ...       ...   \n",
       "1271  [1, 1, 0, 0, 0, 0, 0, 0, 0, 0, 0, 1, 1, 0, 0, ...  0.166667   \n",
       "620   [0, 1, 1, 0, 0, 1, 1, 0, 0, 0, 0, 0, 0, 0, 0, ...  0.166667   \n",
       "226   [0, 1, 0, 0, 0, 0, 2, 0, 0, 0, 0, 2, 2, 0, 0, ...  0.166667   \n",
       "1064  [1, 4, 6, 0, 0, 1, 1, 3, 0, 0, 0, 7, 7, 0, 1, ...  0.162791   \n",
       "787   [17, 44, 45, 0, 0, 13, 66, 1, 21, 0, 10, 72, 9...  0.162528   \n",
       "\n",
       "               ZI_cat  \n",
       "156        Managerial  \n",
       "682   Performing Arts  \n",
       "685        Managerial  \n",
       "686        Managerial  \n",
       "690        Managerial  \n",
       "...               ...  \n",
       "1271  Food-Production  \n",
       "620            Retail  \n",
       "226         Transport  \n",
       "1064       Managerial  \n",
       "787        Managerial  \n",
       "\n",
       "[506 rows x 7 columns]"
      ]
     },
     "execution_count": 80,
     "metadata": {},
     "output_type": "execute_result"
    }
   ],
   "source": [
    "roman_cities_wo.sort_values(\"ZI\", ascending=False)[[\"Ancient Toponym\", \"inscr_N\", \"occups_N\", \"occups_cats_unique_N\",\"occups_cats_vec\", \"ZI\", \"ZI_cat\"]]"
   ]
  },
  {
   "cell_type": "code",
   "execution_count": 81,
   "metadata": {
    "pycharm": {
     "name": "#%%\n"
    }
   },
   "outputs": [
    {
     "ename": "KeyError",
     "evalue": "'occups_N_log'",
     "output_type": "error",
     "traceback": [
      "\u001b[0;31m---------------------------------------------------------------------------\u001b[0m",
      "\u001b[0;31mKeyError\u001b[0m                                  Traceback (most recent call last)",
      "File \u001b[0;32m~/.local/lib/python3.10/site-packages/pandas/core/indexes/base.py:3790\u001b[0m, in \u001b[0;36mIndex.get_loc\u001b[0;34m(self, key)\u001b[0m\n\u001b[1;32m   3789\u001b[0m \u001b[38;5;28;01mtry\u001b[39;00m:\n\u001b[0;32m-> 3790\u001b[0m     \u001b[38;5;28;01mreturn\u001b[39;00m \u001b[38;5;28;43mself\u001b[39;49m\u001b[38;5;241;43m.\u001b[39;49m\u001b[43m_engine\u001b[49m\u001b[38;5;241;43m.\u001b[39;49m\u001b[43mget_loc\u001b[49m\u001b[43m(\u001b[49m\u001b[43mcasted_key\u001b[49m\u001b[43m)\u001b[49m\n\u001b[1;32m   3791\u001b[0m \u001b[38;5;28;01mexcept\u001b[39;00m \u001b[38;5;167;01mKeyError\u001b[39;00m \u001b[38;5;28;01mas\u001b[39;00m err:\n",
      "File \u001b[0;32mindex.pyx:152\u001b[0m, in \u001b[0;36mpandas._libs.index.IndexEngine.get_loc\u001b[0;34m()\u001b[0m\n",
      "File \u001b[0;32mindex.pyx:181\u001b[0m, in \u001b[0;36mpandas._libs.index.IndexEngine.get_loc\u001b[0;34m()\u001b[0m\n",
      "File \u001b[0;32mpandas/_libs/hashtable_class_helper.pxi:7080\u001b[0m, in \u001b[0;36mpandas._libs.hashtable.PyObjectHashTable.get_item\u001b[0;34m()\u001b[0m\n",
      "File \u001b[0;32mpandas/_libs/hashtable_class_helper.pxi:7088\u001b[0m, in \u001b[0;36mpandas._libs.hashtable.PyObjectHashTable.get_item\u001b[0;34m()\u001b[0m\n",
      "\u001b[0;31mKeyError\u001b[0m: 'occups_N_log'",
      "\nThe above exception was the direct cause of the following exception:\n",
      "\u001b[0;31mKeyError\u001b[0m                                  Traceback (most recent call last)",
      "Cell \u001b[0;32mIn[81], line 1\u001b[0m\n\u001b[0;32m----> 1\u001b[0m roman_cities_wo[\u001b[38;5;124m\"\u001b[39m\u001b[38;5;124mZIw\u001b[39m\u001b[38;5;124m\"\u001b[39m] \u001b[38;5;241m=\u001b[39m \u001b[43mroman_cities_wo\u001b[49m\u001b[38;5;241;43m.\u001b[39;49m\u001b[43mapply\u001b[49m\u001b[43m(\u001b[49m\u001b[38;5;28;43;01mlambda\u001b[39;49;00m\u001b[43m \u001b[49m\u001b[43mrow\u001b[49m\u001b[43m:\u001b[49m\u001b[43m \u001b[49m\u001b[43mrow\u001b[49m\u001b[43m[\u001b[49m\u001b[38;5;124;43m\"\u001b[39;49m\u001b[38;5;124;43mZI\u001b[39;49m\u001b[38;5;124;43m\"\u001b[39;49m\u001b[43m]\u001b[49m\u001b[43m \u001b[49m\u001b[38;5;241;43m*\u001b[39;49m\u001b[43m \u001b[49m\u001b[43mrow\u001b[49m\u001b[43m[\u001b[49m\u001b[38;5;124;43m\"\u001b[39;49m\u001b[38;5;124;43moccups_N_log\u001b[39;49m\u001b[38;5;124;43m\"\u001b[39;49m\u001b[43m]\u001b[49m\u001b[43m,\u001b[49m\u001b[43m \u001b[49m\u001b[43maxis\u001b[49m\u001b[38;5;241;43m=\u001b[39;49m\u001b[38;5;241;43m1\u001b[39;49m\u001b[43m)\u001b[49m\n\u001b[1;32m      2\u001b[0m roman_cities_wo\u001b[38;5;241m.\u001b[39msort_values(\u001b[38;5;124m\"\u001b[39m\u001b[38;5;124mZIw\u001b[39m\u001b[38;5;124m\"\u001b[39m, ascending\u001b[38;5;241m=\u001b[39m\u001b[38;5;28;01mFalse\u001b[39;00m)[[\u001b[38;5;124m\"\u001b[39m\u001b[38;5;124mAncient Toponym\u001b[39m\u001b[38;5;124m\"\u001b[39m, \u001b[38;5;124m\"\u001b[39m\u001b[38;5;124minscr_N\u001b[39m\u001b[38;5;124m\"\u001b[39m, \u001b[38;5;124m\"\u001b[39m\u001b[38;5;124moccups_N\u001b[39m\u001b[38;5;124m\"\u001b[39m, \u001b[38;5;124m\"\u001b[39m\u001b[38;5;124moccups_list\u001b[39m\u001b[38;5;124m\"\u001b[39m,\u001b[38;5;124m\"\u001b[39m\u001b[38;5;124moccups_cats_unique_N\u001b[39m\u001b[38;5;124m\"\u001b[39m, \u001b[38;5;124m\"\u001b[39m\u001b[38;5;124moccups_cats_vec\u001b[39m\u001b[38;5;124m\"\u001b[39m, \u001b[38;5;124m\"\u001b[39m\u001b[38;5;124mZI\u001b[39m\u001b[38;5;124m\"\u001b[39m, \u001b[38;5;124m\"\u001b[39m\u001b[38;5;124mZIw\u001b[39m\u001b[38;5;124m\"\u001b[39m, \u001b[38;5;124m\"\u001b[39m\u001b[38;5;124mZI_cat\u001b[39m\u001b[38;5;124m\"\u001b[39m]]\n",
      "File \u001b[0;32m~/.local/lib/python3.10/site-packages/geopandas/geodataframe.py:1586\u001b[0m, in \u001b[0;36mGeoDataFrame.apply\u001b[0;34m(self, func, axis, raw, result_type, args, **kwargs)\u001b[0m\n\u001b[1;32m   1584\u001b[0m \u001b[38;5;129m@doc\u001b[39m(pd\u001b[38;5;241m.\u001b[39mDataFrame)\n\u001b[1;32m   1585\u001b[0m \u001b[38;5;28;01mdef\u001b[39;00m \u001b[38;5;21mapply\u001b[39m(\u001b[38;5;28mself\u001b[39m, func, axis\u001b[38;5;241m=\u001b[39m\u001b[38;5;241m0\u001b[39m, raw\u001b[38;5;241m=\u001b[39m\u001b[38;5;28;01mFalse\u001b[39;00m, result_type\u001b[38;5;241m=\u001b[39m\u001b[38;5;28;01mNone\u001b[39;00m, args\u001b[38;5;241m=\u001b[39m(), \u001b[38;5;241m*\u001b[39m\u001b[38;5;241m*\u001b[39mkwargs):\n\u001b[0;32m-> 1586\u001b[0m     result \u001b[38;5;241m=\u001b[39m \u001b[38;5;28;43msuper\u001b[39;49m\u001b[43m(\u001b[49m\u001b[43m)\u001b[49m\u001b[38;5;241;43m.\u001b[39;49m\u001b[43mapply\u001b[49m\u001b[43m(\u001b[49m\n\u001b[1;32m   1587\u001b[0m \u001b[43m        \u001b[49m\u001b[43mfunc\u001b[49m\u001b[43m,\u001b[49m\u001b[43m \u001b[49m\u001b[43maxis\u001b[49m\u001b[38;5;241;43m=\u001b[39;49m\u001b[43maxis\u001b[49m\u001b[43m,\u001b[49m\u001b[43m \u001b[49m\u001b[43mraw\u001b[49m\u001b[38;5;241;43m=\u001b[39;49m\u001b[43mraw\u001b[49m\u001b[43m,\u001b[49m\u001b[43m \u001b[49m\u001b[43mresult_type\u001b[49m\u001b[38;5;241;43m=\u001b[39;49m\u001b[43mresult_type\u001b[49m\u001b[43m,\u001b[49m\u001b[43m \u001b[49m\u001b[43margs\u001b[49m\u001b[38;5;241;43m=\u001b[39;49m\u001b[43margs\u001b[49m\u001b[43m,\u001b[49m\u001b[43m \u001b[49m\u001b[38;5;241;43m*\u001b[39;49m\u001b[38;5;241;43m*\u001b[39;49m\u001b[43mkwargs\u001b[49m\n\u001b[1;32m   1588\u001b[0m \u001b[43m    \u001b[49m\u001b[43m)\u001b[49m\n\u001b[1;32m   1589\u001b[0m     \u001b[38;5;66;03m# pandas <1.4 re-attach last geometry col if lost\u001b[39;00m\n\u001b[1;32m   1590\u001b[0m     \u001b[38;5;28;01mif\u001b[39;00m (\n\u001b[1;32m   1591\u001b[0m         \u001b[38;5;129;01mnot\u001b[39;00m compat\u001b[38;5;241m.\u001b[39mPANDAS_GE_14\n\u001b[1;32m   1592\u001b[0m         \u001b[38;5;129;01mand\u001b[39;00m \u001b[38;5;28misinstance\u001b[39m(result, GeoDataFrame)\n\u001b[1;32m   1593\u001b[0m         \u001b[38;5;129;01mand\u001b[39;00m result\u001b[38;5;241m.\u001b[39m_geometry_column_name \u001b[38;5;129;01mis\u001b[39;00m \u001b[38;5;28;01mNone\u001b[39;00m\n\u001b[1;32m   1594\u001b[0m     ):\n",
      "File \u001b[0;32m~/.local/lib/python3.10/site-packages/pandas/core/frame.py:10037\u001b[0m, in \u001b[0;36mDataFrame.apply\u001b[0;34m(self, func, axis, raw, result_type, args, by_row, **kwargs)\u001b[0m\n\u001b[1;32m  10025\u001b[0m \u001b[38;5;28;01mfrom\u001b[39;00m \u001b[38;5;21;01mpandas\u001b[39;00m\u001b[38;5;21;01m.\u001b[39;00m\u001b[38;5;21;01mcore\u001b[39;00m\u001b[38;5;21;01m.\u001b[39;00m\u001b[38;5;21;01mapply\u001b[39;00m \u001b[38;5;28;01mimport\u001b[39;00m frame_apply\n\u001b[1;32m  10027\u001b[0m op \u001b[38;5;241m=\u001b[39m frame_apply(\n\u001b[1;32m  10028\u001b[0m     \u001b[38;5;28mself\u001b[39m,\n\u001b[1;32m  10029\u001b[0m     func\u001b[38;5;241m=\u001b[39mfunc,\n\u001b[0;32m   (...)\u001b[0m\n\u001b[1;32m  10035\u001b[0m     kwargs\u001b[38;5;241m=\u001b[39mkwargs,\n\u001b[1;32m  10036\u001b[0m )\n\u001b[0;32m> 10037\u001b[0m \u001b[38;5;28;01mreturn\u001b[39;00m \u001b[43mop\u001b[49m\u001b[38;5;241;43m.\u001b[39;49m\u001b[43mapply\u001b[49m\u001b[43m(\u001b[49m\u001b[43m)\u001b[49m\u001b[38;5;241m.\u001b[39m__finalize__(\u001b[38;5;28mself\u001b[39m, method\u001b[38;5;241m=\u001b[39m\u001b[38;5;124m\"\u001b[39m\u001b[38;5;124mapply\u001b[39m\u001b[38;5;124m\"\u001b[39m)\n",
      "File \u001b[0;32m~/.local/lib/python3.10/site-packages/pandas/core/apply.py:837\u001b[0m, in \u001b[0;36mFrameApply.apply\u001b[0;34m(self)\u001b[0m\n\u001b[1;32m    834\u001b[0m \u001b[38;5;28;01melif\u001b[39;00m \u001b[38;5;28mself\u001b[39m\u001b[38;5;241m.\u001b[39mraw:\n\u001b[1;32m    835\u001b[0m     \u001b[38;5;28;01mreturn\u001b[39;00m \u001b[38;5;28mself\u001b[39m\u001b[38;5;241m.\u001b[39mapply_raw()\n\u001b[0;32m--> 837\u001b[0m \u001b[38;5;28;01mreturn\u001b[39;00m \u001b[38;5;28;43mself\u001b[39;49m\u001b[38;5;241;43m.\u001b[39;49m\u001b[43mapply_standard\u001b[49m\u001b[43m(\u001b[49m\u001b[43m)\u001b[49m\n",
      "File \u001b[0;32m~/.local/lib/python3.10/site-packages/pandas/core/apply.py:963\u001b[0m, in \u001b[0;36mFrameApply.apply_standard\u001b[0;34m(self)\u001b[0m\n\u001b[1;32m    962\u001b[0m \u001b[38;5;28;01mdef\u001b[39;00m \u001b[38;5;21mapply_standard\u001b[39m(\u001b[38;5;28mself\u001b[39m):\n\u001b[0;32m--> 963\u001b[0m     results, res_index \u001b[38;5;241m=\u001b[39m \u001b[38;5;28;43mself\u001b[39;49m\u001b[38;5;241;43m.\u001b[39;49m\u001b[43mapply_series_generator\u001b[49m\u001b[43m(\u001b[49m\u001b[43m)\u001b[49m\n\u001b[1;32m    965\u001b[0m     \u001b[38;5;66;03m# wrap results\u001b[39;00m\n\u001b[1;32m    966\u001b[0m     \u001b[38;5;28;01mreturn\u001b[39;00m \u001b[38;5;28mself\u001b[39m\u001b[38;5;241m.\u001b[39mwrap_results(results, res_index)\n",
      "File \u001b[0;32m~/.local/lib/python3.10/site-packages/pandas/core/apply.py:979\u001b[0m, in \u001b[0;36mFrameApply.apply_series_generator\u001b[0;34m(self)\u001b[0m\n\u001b[1;32m    976\u001b[0m \u001b[38;5;28;01mwith\u001b[39;00m option_context(\u001b[38;5;124m\"\u001b[39m\u001b[38;5;124mmode.chained_assignment\u001b[39m\u001b[38;5;124m\"\u001b[39m, \u001b[38;5;28;01mNone\u001b[39;00m):\n\u001b[1;32m    977\u001b[0m     \u001b[38;5;28;01mfor\u001b[39;00m i, v \u001b[38;5;129;01min\u001b[39;00m \u001b[38;5;28menumerate\u001b[39m(series_gen):\n\u001b[1;32m    978\u001b[0m         \u001b[38;5;66;03m# ignore SettingWithCopy here in case the user mutates\u001b[39;00m\n\u001b[0;32m--> 979\u001b[0m         results[i] \u001b[38;5;241m=\u001b[39m \u001b[38;5;28;43mself\u001b[39;49m\u001b[38;5;241;43m.\u001b[39;49m\u001b[43mfunc\u001b[49m\u001b[43m(\u001b[49m\u001b[43mv\u001b[49m\u001b[43m,\u001b[49m\u001b[43m \u001b[49m\u001b[38;5;241;43m*\u001b[39;49m\u001b[38;5;28;43mself\u001b[39;49m\u001b[38;5;241;43m.\u001b[39;49m\u001b[43margs\u001b[49m\u001b[43m,\u001b[49m\u001b[43m \u001b[49m\u001b[38;5;241;43m*\u001b[39;49m\u001b[38;5;241;43m*\u001b[39;49m\u001b[38;5;28;43mself\u001b[39;49m\u001b[38;5;241;43m.\u001b[39;49m\u001b[43mkwargs\u001b[49m\u001b[43m)\u001b[49m\n\u001b[1;32m    980\u001b[0m         \u001b[38;5;28;01mif\u001b[39;00m \u001b[38;5;28misinstance\u001b[39m(results[i], ABCSeries):\n\u001b[1;32m    981\u001b[0m             \u001b[38;5;66;03m# If we have a view on v, we need to make a copy because\u001b[39;00m\n\u001b[1;32m    982\u001b[0m             \u001b[38;5;66;03m#  series_generator will swap out the underlying data\u001b[39;00m\n\u001b[1;32m    983\u001b[0m             results[i] \u001b[38;5;241m=\u001b[39m results[i]\u001b[38;5;241m.\u001b[39mcopy(deep\u001b[38;5;241m=\u001b[39m\u001b[38;5;28;01mFalse\u001b[39;00m)\n",
      "Cell \u001b[0;32mIn[81], line 1\u001b[0m, in \u001b[0;36m<lambda>\u001b[0;34m(row)\u001b[0m\n\u001b[0;32m----> 1\u001b[0m roman_cities_wo[\u001b[38;5;124m\"\u001b[39m\u001b[38;5;124mZIw\u001b[39m\u001b[38;5;124m\"\u001b[39m] \u001b[38;5;241m=\u001b[39m roman_cities_wo\u001b[38;5;241m.\u001b[39mapply(\u001b[38;5;28;01mlambda\u001b[39;00m row: row[\u001b[38;5;124m\"\u001b[39m\u001b[38;5;124mZI\u001b[39m\u001b[38;5;124m\"\u001b[39m] \u001b[38;5;241m*\u001b[39m \u001b[43mrow\u001b[49m\u001b[43m[\u001b[49m\u001b[38;5;124;43m\"\u001b[39;49m\u001b[38;5;124;43moccups_N_log\u001b[39;49m\u001b[38;5;124;43m\"\u001b[39;49m\u001b[43m]\u001b[49m, axis\u001b[38;5;241m=\u001b[39m\u001b[38;5;241m1\u001b[39m)\n\u001b[1;32m      2\u001b[0m roman_cities_wo\u001b[38;5;241m.\u001b[39msort_values(\u001b[38;5;124m\"\u001b[39m\u001b[38;5;124mZIw\u001b[39m\u001b[38;5;124m\"\u001b[39m, ascending\u001b[38;5;241m=\u001b[39m\u001b[38;5;28;01mFalse\u001b[39;00m)[[\u001b[38;5;124m\"\u001b[39m\u001b[38;5;124mAncient Toponym\u001b[39m\u001b[38;5;124m\"\u001b[39m, \u001b[38;5;124m\"\u001b[39m\u001b[38;5;124minscr_N\u001b[39m\u001b[38;5;124m\"\u001b[39m, \u001b[38;5;124m\"\u001b[39m\u001b[38;5;124moccups_N\u001b[39m\u001b[38;5;124m\"\u001b[39m, \u001b[38;5;124m\"\u001b[39m\u001b[38;5;124moccups_list\u001b[39m\u001b[38;5;124m\"\u001b[39m,\u001b[38;5;124m\"\u001b[39m\u001b[38;5;124moccups_cats_unique_N\u001b[39m\u001b[38;5;124m\"\u001b[39m, \u001b[38;5;124m\"\u001b[39m\u001b[38;5;124moccups_cats_vec\u001b[39m\u001b[38;5;124m\"\u001b[39m, \u001b[38;5;124m\"\u001b[39m\u001b[38;5;124mZI\u001b[39m\u001b[38;5;124m\"\u001b[39m, \u001b[38;5;124m\"\u001b[39m\u001b[38;5;124mZIw\u001b[39m\u001b[38;5;124m\"\u001b[39m, \u001b[38;5;124m\"\u001b[39m\u001b[38;5;124mZI_cat\u001b[39m\u001b[38;5;124m\"\u001b[39m]]\n",
      "File \u001b[0;32m~/.local/lib/python3.10/site-packages/pandas/core/series.py:1040\u001b[0m, in \u001b[0;36mSeries.__getitem__\u001b[0;34m(self, key)\u001b[0m\n\u001b[1;32m   1037\u001b[0m     \u001b[38;5;28;01mreturn\u001b[39;00m \u001b[38;5;28mself\u001b[39m\u001b[38;5;241m.\u001b[39m_values[key]\n\u001b[1;32m   1039\u001b[0m \u001b[38;5;28;01melif\u001b[39;00m key_is_scalar:\n\u001b[0;32m-> 1040\u001b[0m     \u001b[38;5;28;01mreturn\u001b[39;00m \u001b[38;5;28;43mself\u001b[39;49m\u001b[38;5;241;43m.\u001b[39;49m\u001b[43m_get_value\u001b[49m\u001b[43m(\u001b[49m\u001b[43mkey\u001b[49m\u001b[43m)\u001b[49m\n\u001b[1;32m   1042\u001b[0m \u001b[38;5;66;03m# Convert generator to list before going through hashable part\u001b[39;00m\n\u001b[1;32m   1043\u001b[0m \u001b[38;5;66;03m# (We will iterate through the generator there to check for slices)\u001b[39;00m\n\u001b[1;32m   1044\u001b[0m \u001b[38;5;28;01mif\u001b[39;00m is_iterator(key):\n",
      "File \u001b[0;32m~/.local/lib/python3.10/site-packages/pandas/core/series.py:1156\u001b[0m, in \u001b[0;36mSeries._get_value\u001b[0;34m(self, label, takeable)\u001b[0m\n\u001b[1;32m   1153\u001b[0m     \u001b[38;5;28;01mreturn\u001b[39;00m \u001b[38;5;28mself\u001b[39m\u001b[38;5;241m.\u001b[39m_values[label]\n\u001b[1;32m   1155\u001b[0m \u001b[38;5;66;03m# Similar to Index.get_value, but we do not fall back to positional\u001b[39;00m\n\u001b[0;32m-> 1156\u001b[0m loc \u001b[38;5;241m=\u001b[39m \u001b[38;5;28;43mself\u001b[39;49m\u001b[38;5;241;43m.\u001b[39;49m\u001b[43mindex\u001b[49m\u001b[38;5;241;43m.\u001b[39;49m\u001b[43mget_loc\u001b[49m\u001b[43m(\u001b[49m\u001b[43mlabel\u001b[49m\u001b[43m)\u001b[49m\n\u001b[1;32m   1158\u001b[0m \u001b[38;5;28;01mif\u001b[39;00m is_integer(loc):\n\u001b[1;32m   1159\u001b[0m     \u001b[38;5;28;01mreturn\u001b[39;00m \u001b[38;5;28mself\u001b[39m\u001b[38;5;241m.\u001b[39m_values[loc]\n",
      "File \u001b[0;32m~/.local/lib/python3.10/site-packages/pandas/core/indexes/base.py:3797\u001b[0m, in \u001b[0;36mIndex.get_loc\u001b[0;34m(self, key)\u001b[0m\n\u001b[1;32m   3792\u001b[0m     \u001b[38;5;28;01mif\u001b[39;00m \u001b[38;5;28misinstance\u001b[39m(casted_key, \u001b[38;5;28mslice\u001b[39m) \u001b[38;5;129;01mor\u001b[39;00m (\n\u001b[1;32m   3793\u001b[0m         \u001b[38;5;28misinstance\u001b[39m(casted_key, abc\u001b[38;5;241m.\u001b[39mIterable)\n\u001b[1;32m   3794\u001b[0m         \u001b[38;5;129;01mand\u001b[39;00m \u001b[38;5;28many\u001b[39m(\u001b[38;5;28misinstance\u001b[39m(x, \u001b[38;5;28mslice\u001b[39m) \u001b[38;5;28;01mfor\u001b[39;00m x \u001b[38;5;129;01min\u001b[39;00m casted_key)\n\u001b[1;32m   3795\u001b[0m     ):\n\u001b[1;32m   3796\u001b[0m         \u001b[38;5;28;01mraise\u001b[39;00m InvalidIndexError(key)\n\u001b[0;32m-> 3797\u001b[0m     \u001b[38;5;28;01mraise\u001b[39;00m \u001b[38;5;167;01mKeyError\u001b[39;00m(key) \u001b[38;5;28;01mfrom\u001b[39;00m \u001b[38;5;21;01merr\u001b[39;00m\n\u001b[1;32m   3798\u001b[0m \u001b[38;5;28;01mexcept\u001b[39;00m \u001b[38;5;167;01mTypeError\u001b[39;00m:\n\u001b[1;32m   3799\u001b[0m     \u001b[38;5;66;03m# If we have a listlike key, _check_indexing_error will raise\u001b[39;00m\n\u001b[1;32m   3800\u001b[0m     \u001b[38;5;66;03m#  InvalidIndexError. Otherwise we fall through and re-raise\u001b[39;00m\n\u001b[1;32m   3801\u001b[0m     \u001b[38;5;66;03m#  the TypeError.\u001b[39;00m\n\u001b[1;32m   3802\u001b[0m     \u001b[38;5;28mself\u001b[39m\u001b[38;5;241m.\u001b[39m_check_indexing_error(key)\n",
      "\u001b[0;31mKeyError\u001b[0m: 'occups_N_log'"
     ]
    }
   ],
   "source": [
    "roman_cities_wo[\"ZIw\"] = roman_cities_wo.apply(lambda row: row[\"ZI\"] * row[\"occups_N_log\"], axis=1)\n",
    "roman_cities_wo.sort_values(\"ZIw\", ascending=False)[[\"Ancient Toponym\", \"inscr_N\", \"occups_N\", \"occups_list\",\"occups_cats_unique_N\", \"occups_cats_vec\", \"ZI\", \"ZIw\", \"ZI_cat\"]]"
   ]
  },
  {
   "cell_type": "code",
   "execution_count": 82,
   "metadata": {
    "pycharm": {
     "name": "#%%\n"
    }
   },
   "outputs": [
    {
     "ename": "KeyError",
     "evalue": "'occups_N_log'",
     "output_type": "error",
     "traceback": [
      "\u001b[0;31m---------------------------------------------------------------------------\u001b[0m",
      "\u001b[0;31mKeyError\u001b[0m                                  Traceback (most recent call last)",
      "File \u001b[0;32m~/.local/lib/python3.10/site-packages/pandas/core/indexes/base.py:3790\u001b[0m, in \u001b[0;36mIndex.get_loc\u001b[0;34m(self, key)\u001b[0m\n\u001b[1;32m   3789\u001b[0m \u001b[38;5;28;01mtry\u001b[39;00m:\n\u001b[0;32m-> 3790\u001b[0m     \u001b[38;5;28;01mreturn\u001b[39;00m \u001b[38;5;28;43mself\u001b[39;49m\u001b[38;5;241;43m.\u001b[39;49m\u001b[43m_engine\u001b[49m\u001b[38;5;241;43m.\u001b[39;49m\u001b[43mget_loc\u001b[49m\u001b[43m(\u001b[49m\u001b[43mcasted_key\u001b[49m\u001b[43m)\u001b[49m\n\u001b[1;32m   3791\u001b[0m \u001b[38;5;28;01mexcept\u001b[39;00m \u001b[38;5;167;01mKeyError\u001b[39;00m \u001b[38;5;28;01mas\u001b[39;00m err:\n",
      "File \u001b[0;32mindex.pyx:152\u001b[0m, in \u001b[0;36mpandas._libs.index.IndexEngine.get_loc\u001b[0;34m()\u001b[0m\n",
      "File \u001b[0;32mindex.pyx:181\u001b[0m, in \u001b[0;36mpandas._libs.index.IndexEngine.get_loc\u001b[0;34m()\u001b[0m\n",
      "File \u001b[0;32mpandas/_libs/hashtable_class_helper.pxi:7080\u001b[0m, in \u001b[0;36mpandas._libs.hashtable.PyObjectHashTable.get_item\u001b[0;34m()\u001b[0m\n",
      "File \u001b[0;32mpandas/_libs/hashtable_class_helper.pxi:7088\u001b[0m, in \u001b[0;36mpandas._libs.hashtable.PyObjectHashTable.get_item\u001b[0;34m()\u001b[0m\n",
      "\u001b[0;31mKeyError\u001b[0m: 'occups_N_log'",
      "\nThe above exception was the direct cause of the following exception:\n",
      "\u001b[0;31mKeyError\u001b[0m                                  Traceback (most recent call last)",
      "Cell \u001b[0;32mIn[82], line 1\u001b[0m\n\u001b[0;32m----> 1\u001b[0m roman_cities_wo[\u001b[38;5;124m\"\u001b[39m\u001b[38;5;124mZIw\u001b[39m\u001b[38;5;124m\"\u001b[39m] \u001b[38;5;241m=\u001b[39m \u001b[43mroman_cities_wo\u001b[49m\u001b[38;5;241;43m.\u001b[39;49m\u001b[43mapply\u001b[49m\u001b[43m(\u001b[49m\u001b[38;5;28;43;01mlambda\u001b[39;49;00m\u001b[43m \u001b[49m\u001b[43mrow\u001b[49m\u001b[43m:\u001b[49m\u001b[43m \u001b[49m\u001b[43mrow\u001b[49m\u001b[43m[\u001b[49m\u001b[38;5;124;43m\"\u001b[39;49m\u001b[38;5;124;43mZI\u001b[39;49m\u001b[38;5;124;43m\"\u001b[39;49m\u001b[43m]\u001b[49m\u001b[43m \u001b[49m\u001b[38;5;241;43m*\u001b[39;49m\u001b[43m \u001b[49m\u001b[43mrow\u001b[49m\u001b[43m[\u001b[49m\u001b[38;5;124;43m\"\u001b[39;49m\u001b[38;5;124;43moccups_N_log\u001b[39;49m\u001b[38;5;124;43m\"\u001b[39;49m\u001b[43m]\u001b[49m\u001b[43m,\u001b[49m\u001b[43m \u001b[49m\u001b[43maxis\u001b[49m\u001b[38;5;241;43m=\u001b[39;49m\u001b[38;5;241;43m1\u001b[39;49m\u001b[43m)\u001b[49m\n\u001b[1;32m      2\u001b[0m roman_cities_wo\u001b[38;5;241m.\u001b[39msort_values(\u001b[38;5;124m\"\u001b[39m\u001b[38;5;124mZIw\u001b[39m\u001b[38;5;124m\"\u001b[39m, ascending\u001b[38;5;241m=\u001b[39m\u001b[38;5;28;01mFalse\u001b[39;00m)[[\u001b[38;5;124m\"\u001b[39m\u001b[38;5;124mAncient Toponym\u001b[39m\u001b[38;5;124m\"\u001b[39m, \u001b[38;5;124m\"\u001b[39m\u001b[38;5;124minscr_N\u001b[39m\u001b[38;5;124m\"\u001b[39m, \u001b[38;5;124m\"\u001b[39m\u001b[38;5;124moccups_N\u001b[39m\u001b[38;5;124m\"\u001b[39m, \u001b[38;5;124m\"\u001b[39m\u001b[38;5;124moccups_list\u001b[39m\u001b[38;5;124m\"\u001b[39m,\u001b[38;5;124m\"\u001b[39m\u001b[38;5;124moccups_cats_unique_N\u001b[39m\u001b[38;5;124m\"\u001b[39m, \u001b[38;5;124m\"\u001b[39m\u001b[38;5;124moccups_cats_vec\u001b[39m\u001b[38;5;124m\"\u001b[39m, \u001b[38;5;124m\"\u001b[39m\u001b[38;5;124mZI\u001b[39m\u001b[38;5;124m\"\u001b[39m, \u001b[38;5;124m\"\u001b[39m\u001b[38;5;124mZIw\u001b[39m\u001b[38;5;124m\"\u001b[39m, \u001b[38;5;124m\"\u001b[39m\u001b[38;5;124mZI_cat\u001b[39m\u001b[38;5;124m\"\u001b[39m]]\n",
      "File \u001b[0;32m~/.local/lib/python3.10/site-packages/geopandas/geodataframe.py:1586\u001b[0m, in \u001b[0;36mGeoDataFrame.apply\u001b[0;34m(self, func, axis, raw, result_type, args, **kwargs)\u001b[0m\n\u001b[1;32m   1584\u001b[0m \u001b[38;5;129m@doc\u001b[39m(pd\u001b[38;5;241m.\u001b[39mDataFrame)\n\u001b[1;32m   1585\u001b[0m \u001b[38;5;28;01mdef\u001b[39;00m \u001b[38;5;21mapply\u001b[39m(\u001b[38;5;28mself\u001b[39m, func, axis\u001b[38;5;241m=\u001b[39m\u001b[38;5;241m0\u001b[39m, raw\u001b[38;5;241m=\u001b[39m\u001b[38;5;28;01mFalse\u001b[39;00m, result_type\u001b[38;5;241m=\u001b[39m\u001b[38;5;28;01mNone\u001b[39;00m, args\u001b[38;5;241m=\u001b[39m(), \u001b[38;5;241m*\u001b[39m\u001b[38;5;241m*\u001b[39mkwargs):\n\u001b[0;32m-> 1586\u001b[0m     result \u001b[38;5;241m=\u001b[39m \u001b[38;5;28;43msuper\u001b[39;49m\u001b[43m(\u001b[49m\u001b[43m)\u001b[49m\u001b[38;5;241;43m.\u001b[39;49m\u001b[43mapply\u001b[49m\u001b[43m(\u001b[49m\n\u001b[1;32m   1587\u001b[0m \u001b[43m        \u001b[49m\u001b[43mfunc\u001b[49m\u001b[43m,\u001b[49m\u001b[43m \u001b[49m\u001b[43maxis\u001b[49m\u001b[38;5;241;43m=\u001b[39;49m\u001b[43maxis\u001b[49m\u001b[43m,\u001b[49m\u001b[43m \u001b[49m\u001b[43mraw\u001b[49m\u001b[38;5;241;43m=\u001b[39;49m\u001b[43mraw\u001b[49m\u001b[43m,\u001b[49m\u001b[43m \u001b[49m\u001b[43mresult_type\u001b[49m\u001b[38;5;241;43m=\u001b[39;49m\u001b[43mresult_type\u001b[49m\u001b[43m,\u001b[49m\u001b[43m \u001b[49m\u001b[43margs\u001b[49m\u001b[38;5;241;43m=\u001b[39;49m\u001b[43margs\u001b[49m\u001b[43m,\u001b[49m\u001b[43m \u001b[49m\u001b[38;5;241;43m*\u001b[39;49m\u001b[38;5;241;43m*\u001b[39;49m\u001b[43mkwargs\u001b[49m\n\u001b[1;32m   1588\u001b[0m \u001b[43m    \u001b[49m\u001b[43m)\u001b[49m\n\u001b[1;32m   1589\u001b[0m     \u001b[38;5;66;03m# pandas <1.4 re-attach last geometry col if lost\u001b[39;00m\n\u001b[1;32m   1590\u001b[0m     \u001b[38;5;28;01mif\u001b[39;00m (\n\u001b[1;32m   1591\u001b[0m         \u001b[38;5;129;01mnot\u001b[39;00m compat\u001b[38;5;241m.\u001b[39mPANDAS_GE_14\n\u001b[1;32m   1592\u001b[0m         \u001b[38;5;129;01mand\u001b[39;00m \u001b[38;5;28misinstance\u001b[39m(result, GeoDataFrame)\n\u001b[1;32m   1593\u001b[0m         \u001b[38;5;129;01mand\u001b[39;00m result\u001b[38;5;241m.\u001b[39m_geometry_column_name \u001b[38;5;129;01mis\u001b[39;00m \u001b[38;5;28;01mNone\u001b[39;00m\n\u001b[1;32m   1594\u001b[0m     ):\n",
      "File \u001b[0;32m~/.local/lib/python3.10/site-packages/pandas/core/frame.py:10037\u001b[0m, in \u001b[0;36mDataFrame.apply\u001b[0;34m(self, func, axis, raw, result_type, args, by_row, **kwargs)\u001b[0m\n\u001b[1;32m  10025\u001b[0m \u001b[38;5;28;01mfrom\u001b[39;00m \u001b[38;5;21;01mpandas\u001b[39;00m\u001b[38;5;21;01m.\u001b[39;00m\u001b[38;5;21;01mcore\u001b[39;00m\u001b[38;5;21;01m.\u001b[39;00m\u001b[38;5;21;01mapply\u001b[39;00m \u001b[38;5;28;01mimport\u001b[39;00m frame_apply\n\u001b[1;32m  10027\u001b[0m op \u001b[38;5;241m=\u001b[39m frame_apply(\n\u001b[1;32m  10028\u001b[0m     \u001b[38;5;28mself\u001b[39m,\n\u001b[1;32m  10029\u001b[0m     func\u001b[38;5;241m=\u001b[39mfunc,\n\u001b[0;32m   (...)\u001b[0m\n\u001b[1;32m  10035\u001b[0m     kwargs\u001b[38;5;241m=\u001b[39mkwargs,\n\u001b[1;32m  10036\u001b[0m )\n\u001b[0;32m> 10037\u001b[0m \u001b[38;5;28;01mreturn\u001b[39;00m \u001b[43mop\u001b[49m\u001b[38;5;241;43m.\u001b[39;49m\u001b[43mapply\u001b[49m\u001b[43m(\u001b[49m\u001b[43m)\u001b[49m\u001b[38;5;241m.\u001b[39m__finalize__(\u001b[38;5;28mself\u001b[39m, method\u001b[38;5;241m=\u001b[39m\u001b[38;5;124m\"\u001b[39m\u001b[38;5;124mapply\u001b[39m\u001b[38;5;124m\"\u001b[39m)\n",
      "File \u001b[0;32m~/.local/lib/python3.10/site-packages/pandas/core/apply.py:837\u001b[0m, in \u001b[0;36mFrameApply.apply\u001b[0;34m(self)\u001b[0m\n\u001b[1;32m    834\u001b[0m \u001b[38;5;28;01melif\u001b[39;00m \u001b[38;5;28mself\u001b[39m\u001b[38;5;241m.\u001b[39mraw:\n\u001b[1;32m    835\u001b[0m     \u001b[38;5;28;01mreturn\u001b[39;00m \u001b[38;5;28mself\u001b[39m\u001b[38;5;241m.\u001b[39mapply_raw()\n\u001b[0;32m--> 837\u001b[0m \u001b[38;5;28;01mreturn\u001b[39;00m \u001b[38;5;28;43mself\u001b[39;49m\u001b[38;5;241;43m.\u001b[39;49m\u001b[43mapply_standard\u001b[49m\u001b[43m(\u001b[49m\u001b[43m)\u001b[49m\n",
      "File \u001b[0;32m~/.local/lib/python3.10/site-packages/pandas/core/apply.py:963\u001b[0m, in \u001b[0;36mFrameApply.apply_standard\u001b[0;34m(self)\u001b[0m\n\u001b[1;32m    962\u001b[0m \u001b[38;5;28;01mdef\u001b[39;00m \u001b[38;5;21mapply_standard\u001b[39m(\u001b[38;5;28mself\u001b[39m):\n\u001b[0;32m--> 963\u001b[0m     results, res_index \u001b[38;5;241m=\u001b[39m \u001b[38;5;28;43mself\u001b[39;49m\u001b[38;5;241;43m.\u001b[39;49m\u001b[43mapply_series_generator\u001b[49m\u001b[43m(\u001b[49m\u001b[43m)\u001b[49m\n\u001b[1;32m    965\u001b[0m     \u001b[38;5;66;03m# wrap results\u001b[39;00m\n\u001b[1;32m    966\u001b[0m     \u001b[38;5;28;01mreturn\u001b[39;00m \u001b[38;5;28mself\u001b[39m\u001b[38;5;241m.\u001b[39mwrap_results(results, res_index)\n",
      "File \u001b[0;32m~/.local/lib/python3.10/site-packages/pandas/core/apply.py:979\u001b[0m, in \u001b[0;36mFrameApply.apply_series_generator\u001b[0;34m(self)\u001b[0m\n\u001b[1;32m    976\u001b[0m \u001b[38;5;28;01mwith\u001b[39;00m option_context(\u001b[38;5;124m\"\u001b[39m\u001b[38;5;124mmode.chained_assignment\u001b[39m\u001b[38;5;124m\"\u001b[39m, \u001b[38;5;28;01mNone\u001b[39;00m):\n\u001b[1;32m    977\u001b[0m     \u001b[38;5;28;01mfor\u001b[39;00m i, v \u001b[38;5;129;01min\u001b[39;00m \u001b[38;5;28menumerate\u001b[39m(series_gen):\n\u001b[1;32m    978\u001b[0m         \u001b[38;5;66;03m# ignore SettingWithCopy here in case the user mutates\u001b[39;00m\n\u001b[0;32m--> 979\u001b[0m         results[i] \u001b[38;5;241m=\u001b[39m \u001b[38;5;28;43mself\u001b[39;49m\u001b[38;5;241;43m.\u001b[39;49m\u001b[43mfunc\u001b[49m\u001b[43m(\u001b[49m\u001b[43mv\u001b[49m\u001b[43m,\u001b[49m\u001b[43m \u001b[49m\u001b[38;5;241;43m*\u001b[39;49m\u001b[38;5;28;43mself\u001b[39;49m\u001b[38;5;241;43m.\u001b[39;49m\u001b[43margs\u001b[49m\u001b[43m,\u001b[49m\u001b[43m \u001b[49m\u001b[38;5;241;43m*\u001b[39;49m\u001b[38;5;241;43m*\u001b[39;49m\u001b[38;5;28;43mself\u001b[39;49m\u001b[38;5;241;43m.\u001b[39;49m\u001b[43mkwargs\u001b[49m\u001b[43m)\u001b[49m\n\u001b[1;32m    980\u001b[0m         \u001b[38;5;28;01mif\u001b[39;00m \u001b[38;5;28misinstance\u001b[39m(results[i], ABCSeries):\n\u001b[1;32m    981\u001b[0m             \u001b[38;5;66;03m# If we have a view on v, we need to make a copy because\u001b[39;00m\n\u001b[1;32m    982\u001b[0m             \u001b[38;5;66;03m#  series_generator will swap out the underlying data\u001b[39;00m\n\u001b[1;32m    983\u001b[0m             results[i] \u001b[38;5;241m=\u001b[39m results[i]\u001b[38;5;241m.\u001b[39mcopy(deep\u001b[38;5;241m=\u001b[39m\u001b[38;5;28;01mFalse\u001b[39;00m)\n",
      "Cell \u001b[0;32mIn[82], line 1\u001b[0m, in \u001b[0;36m<lambda>\u001b[0;34m(row)\u001b[0m\n\u001b[0;32m----> 1\u001b[0m roman_cities_wo[\u001b[38;5;124m\"\u001b[39m\u001b[38;5;124mZIw\u001b[39m\u001b[38;5;124m\"\u001b[39m] \u001b[38;5;241m=\u001b[39m roman_cities_wo\u001b[38;5;241m.\u001b[39mapply(\u001b[38;5;28;01mlambda\u001b[39;00m row: row[\u001b[38;5;124m\"\u001b[39m\u001b[38;5;124mZI\u001b[39m\u001b[38;5;124m\"\u001b[39m] \u001b[38;5;241m*\u001b[39m \u001b[43mrow\u001b[49m\u001b[43m[\u001b[49m\u001b[38;5;124;43m\"\u001b[39;49m\u001b[38;5;124;43moccups_N_log\u001b[39;49m\u001b[38;5;124;43m\"\u001b[39;49m\u001b[43m]\u001b[49m, axis\u001b[38;5;241m=\u001b[39m\u001b[38;5;241m1\u001b[39m)\n\u001b[1;32m      2\u001b[0m roman_cities_wo\u001b[38;5;241m.\u001b[39msort_values(\u001b[38;5;124m\"\u001b[39m\u001b[38;5;124mZIw\u001b[39m\u001b[38;5;124m\"\u001b[39m, ascending\u001b[38;5;241m=\u001b[39m\u001b[38;5;28;01mFalse\u001b[39;00m)[[\u001b[38;5;124m\"\u001b[39m\u001b[38;5;124mAncient Toponym\u001b[39m\u001b[38;5;124m\"\u001b[39m, \u001b[38;5;124m\"\u001b[39m\u001b[38;5;124minscr_N\u001b[39m\u001b[38;5;124m\"\u001b[39m, \u001b[38;5;124m\"\u001b[39m\u001b[38;5;124moccups_N\u001b[39m\u001b[38;5;124m\"\u001b[39m, \u001b[38;5;124m\"\u001b[39m\u001b[38;5;124moccups_list\u001b[39m\u001b[38;5;124m\"\u001b[39m,\u001b[38;5;124m\"\u001b[39m\u001b[38;5;124moccups_cats_unique_N\u001b[39m\u001b[38;5;124m\"\u001b[39m, \u001b[38;5;124m\"\u001b[39m\u001b[38;5;124moccups_cats_vec\u001b[39m\u001b[38;5;124m\"\u001b[39m, \u001b[38;5;124m\"\u001b[39m\u001b[38;5;124mZI\u001b[39m\u001b[38;5;124m\"\u001b[39m, \u001b[38;5;124m\"\u001b[39m\u001b[38;5;124mZIw\u001b[39m\u001b[38;5;124m\"\u001b[39m, \u001b[38;5;124m\"\u001b[39m\u001b[38;5;124mZI_cat\u001b[39m\u001b[38;5;124m\"\u001b[39m]]\n",
      "File \u001b[0;32m~/.local/lib/python3.10/site-packages/pandas/core/series.py:1040\u001b[0m, in \u001b[0;36mSeries.__getitem__\u001b[0;34m(self, key)\u001b[0m\n\u001b[1;32m   1037\u001b[0m     \u001b[38;5;28;01mreturn\u001b[39;00m \u001b[38;5;28mself\u001b[39m\u001b[38;5;241m.\u001b[39m_values[key]\n\u001b[1;32m   1039\u001b[0m \u001b[38;5;28;01melif\u001b[39;00m key_is_scalar:\n\u001b[0;32m-> 1040\u001b[0m     \u001b[38;5;28;01mreturn\u001b[39;00m \u001b[38;5;28;43mself\u001b[39;49m\u001b[38;5;241;43m.\u001b[39;49m\u001b[43m_get_value\u001b[49m\u001b[43m(\u001b[49m\u001b[43mkey\u001b[49m\u001b[43m)\u001b[49m\n\u001b[1;32m   1042\u001b[0m \u001b[38;5;66;03m# Convert generator to list before going through hashable part\u001b[39;00m\n\u001b[1;32m   1043\u001b[0m \u001b[38;5;66;03m# (We will iterate through the generator there to check for slices)\u001b[39;00m\n\u001b[1;32m   1044\u001b[0m \u001b[38;5;28;01mif\u001b[39;00m is_iterator(key):\n",
      "File \u001b[0;32m~/.local/lib/python3.10/site-packages/pandas/core/series.py:1156\u001b[0m, in \u001b[0;36mSeries._get_value\u001b[0;34m(self, label, takeable)\u001b[0m\n\u001b[1;32m   1153\u001b[0m     \u001b[38;5;28;01mreturn\u001b[39;00m \u001b[38;5;28mself\u001b[39m\u001b[38;5;241m.\u001b[39m_values[label]\n\u001b[1;32m   1155\u001b[0m \u001b[38;5;66;03m# Similar to Index.get_value, but we do not fall back to positional\u001b[39;00m\n\u001b[0;32m-> 1156\u001b[0m loc \u001b[38;5;241m=\u001b[39m \u001b[38;5;28;43mself\u001b[39;49m\u001b[38;5;241;43m.\u001b[39;49m\u001b[43mindex\u001b[49m\u001b[38;5;241;43m.\u001b[39;49m\u001b[43mget_loc\u001b[49m\u001b[43m(\u001b[49m\u001b[43mlabel\u001b[49m\u001b[43m)\u001b[49m\n\u001b[1;32m   1158\u001b[0m \u001b[38;5;28;01mif\u001b[39;00m is_integer(loc):\n\u001b[1;32m   1159\u001b[0m     \u001b[38;5;28;01mreturn\u001b[39;00m \u001b[38;5;28mself\u001b[39m\u001b[38;5;241m.\u001b[39m_values[loc]\n",
      "File \u001b[0;32m~/.local/lib/python3.10/site-packages/pandas/core/indexes/base.py:3797\u001b[0m, in \u001b[0;36mIndex.get_loc\u001b[0;34m(self, key)\u001b[0m\n\u001b[1;32m   3792\u001b[0m     \u001b[38;5;28;01mif\u001b[39;00m \u001b[38;5;28misinstance\u001b[39m(casted_key, \u001b[38;5;28mslice\u001b[39m) \u001b[38;5;129;01mor\u001b[39;00m (\n\u001b[1;32m   3793\u001b[0m         \u001b[38;5;28misinstance\u001b[39m(casted_key, abc\u001b[38;5;241m.\u001b[39mIterable)\n\u001b[1;32m   3794\u001b[0m         \u001b[38;5;129;01mand\u001b[39;00m \u001b[38;5;28many\u001b[39m(\u001b[38;5;28misinstance\u001b[39m(x, \u001b[38;5;28mslice\u001b[39m) \u001b[38;5;28;01mfor\u001b[39;00m x \u001b[38;5;129;01min\u001b[39;00m casted_key)\n\u001b[1;32m   3795\u001b[0m     ):\n\u001b[1;32m   3796\u001b[0m         \u001b[38;5;28;01mraise\u001b[39;00m InvalidIndexError(key)\n\u001b[0;32m-> 3797\u001b[0m     \u001b[38;5;28;01mraise\u001b[39;00m \u001b[38;5;167;01mKeyError\u001b[39;00m(key) \u001b[38;5;28;01mfrom\u001b[39;00m \u001b[38;5;21;01merr\u001b[39;00m\n\u001b[1;32m   3798\u001b[0m \u001b[38;5;28;01mexcept\u001b[39;00m \u001b[38;5;167;01mTypeError\u001b[39;00m:\n\u001b[1;32m   3799\u001b[0m     \u001b[38;5;66;03m# If we have a listlike key, _check_indexing_error will raise\u001b[39;00m\n\u001b[1;32m   3800\u001b[0m     \u001b[38;5;66;03m#  InvalidIndexError. Otherwise we fall through and re-raise\u001b[39;00m\n\u001b[1;32m   3801\u001b[0m     \u001b[38;5;66;03m#  the TypeError.\u001b[39;00m\n\u001b[1;32m   3802\u001b[0m     \u001b[38;5;28mself\u001b[39m\u001b[38;5;241m.\u001b[39m_check_indexing_error(key)\n",
      "\u001b[0;31mKeyError\u001b[0m: 'occups_N_log'"
     ]
    }
   ],
   "source": [
    "roman_cities_wo[\"ZIw\"] = roman_cities_wo.apply(lambda row: row[\"ZI\"] * row[\"occups_N_log\"], axis=1)\n",
    "roman_cities_wo.sort_values(\"ZIw\", ascending=False)[[\"Ancient Toponym\", \"inscr_N\", \"occups_N\", \"occups_list\",\"occups_cats_unique_N\", \"occups_cats_vec\", \"ZI\", \"ZIw\", \"ZI_cat\"]]"
   ]
  },
  {
   "cell_type": "code",
   "execution_count": 83,
   "metadata": {
    "pycharm": {
     "name": "#%%\n"
    }
   },
   "outputs": [
    {
     "data": {
      "text/plain": [
       "{0: ['Food-Production', 467, 0.05608935863559933],\n",
       " 1: ['Retail', 675, 0.08107134278164785],\n",
       " 2: ['Metal-Working', 796, 0.09560413163583954],\n",
       " 3: ['Death-care sector', 7, 0.0008407398510689407],\n",
       " 4: ['Glass-Working', 23, 0.0027624309392265192],\n",
       " 5: ['Household Goods', 167, 0.020057650732644726],\n",
       " 6: ['Transport', 309, 0.03711265914004324],\n",
       " 7: ['Plastic Arts', 129, 0.015493634398270478],\n",
       " 8: ['Education', 402, 0.04828248858995916],\n",
       " 9: ['Fuel / Raw material', 9, 0.001080951237088638],\n",
       " 10: ['Food-Retail', 88, 0.010569300984866683],\n",
       " 11: ['Managerial', 1747, 0.2098246456882056],\n",
       " 12: ['Clothing', 507, 0.060893586355993276],\n",
       " 13: ['Water-Management', 33, 0.003963487869325006],\n",
       " 14: ['Performing Arts', 377, 0.045279846264712945],\n",
       " 15: ['Unclassified', 693, 0.08323324525582512],\n",
       " 16: ['Finance', 167, 0.020057650732644726],\n",
       " 17: ['Building', 623, 0.07482584674513572],\n",
       " 18: ['Miscellaneous Services', 1107, 0.13295700216190248]}"
      ]
     },
     "execution_count": 83,
     "metadata": {},
     "output_type": "execute_result"
    }
   ],
   "source": [
    "# Total shares\n",
    "all_occups_N = roman_cities_wo[\"occups_N\"].sum()\n",
    "index_label_sum_dict = {}\n",
    "for i, cat in zip(range(len(occups_cats_labels)), occups_cats_labels):\n",
    "    cat_sum = sum(roman_cities_wo[\"occups_cats_vec\"].apply(lambda vec: vec[i]))\n",
    "    cat_share = cat_sum / all_occups_N\n",
    "    index_label_sum_dict[i] = [cat, cat_sum, cat_share]\n",
    "index_label_sum_dict"
   ]
  },
  {
   "cell_type": "code",
   "execution_count": 84,
   "metadata": {
    "pycharm": {
     "name": "#%%\n"
    }
   },
   "outputs": [
    {
     "data": {
      "text/plain": [
       "array([0.05608936, 0.08107134, 0.09560413, 0.00084074, 0.00276243,\n",
       "       0.02005765, 0.03711266, 0.01549363, 0.04828249, 0.00108095,\n",
       "       0.0105693 , 0.20982465, 0.06089359, 0.00396349, 0.04527985,\n",
       "       0.08323325, 0.02005765, 0.07482585, 0.132957  ])"
      ]
     },
     "execution_count": 84,
     "metadata": {},
     "output_type": "execute_result"
    }
   ],
   "source": [
    "total_shares = np.array([val[2] for val in index_label_sum_dict.values()])\n",
    "total_shares"
   ]
  },
  {
   "cell_type": "code",
   "execution_count": 85,
   "metadata": {
    "pycharm": {
     "name": "#%%\n"
    }
   },
   "outputs": [
    {
     "data": {
      "text/plain": [
       "156     [0.0, 0.0, 0.0, 0.0, 0.0, 0.0, 0.0, 0.0, 0.0, ...\n",
       "158     [0.0, 0.0, 0.0, 0.0, 0.0, 0.0, 0.0, 0.0, 0.0, ...\n",
       "159     [0.0, 0.0, 0.0, 0.0, 0.0, 0.0, 0.0, 0.0, 0.0, ...\n",
       "160     [0.0, 0.0, 0.0, 0.0, 0.0, 0.0, 0.0, 32.2713178...\n",
       "162     [0.0, 0.0, 0.0, 0.0, 0.0, 0.0, 0.0, 0.0, 0.0, ...\n",
       "                              ...                        \n",
       "1311    [0.0, 0.0, 0.0, 0.0, 0.0, 0.0, 0.0, 0.0, 5.177...\n",
       "1315    [0.0, 4.111604938271605, 0.0, 0.0, 0.0, 0.0, 0...\n",
       "1317    [0.0, 0.0, 0.0, 0.0, 0.0, 0.0, 0.0, 0.0, 0.0, ...\n",
       "1319    [0.0, 0.0, 0.0, 0.0, 0.0, 0.0, 0.0, 0.0, 0.0, ...\n",
       "1321    [0.0, 0.0, 0.0, 0.0, 0.0, 0.0, 0.0, 0.0, 0.0, ...\n",
       "Name: shares_weighted_vec, Length: 506, dtype: object"
      ]
     },
     "execution_count": 85,
     "metadata": {},
     "output_type": "execute_result"
    }
   ],
   "source": [
    "def get_shares_weighted(vec):\n",
    "    a = np.array(vec, dtype=float)\n",
    "    b = total_shares\n",
    "    shares_weighted =  np.divide(a, b, out=np.zeros_like(a), where=b!=0)\n",
    "    return shares_weighted\n",
    "\n",
    "roman_cities_wo[\"shares_weighted_vec\"] = roman_cities_wo[\"shares_vec\"].apply(lambda vec: get_shares_weighted(vec))\n",
    "roman_cities_wo[\"shares_weighted_vec\"]"
   ]
  },
  {
   "cell_type": "code",
   "execution_count": 87,
   "metadata": {
    "pycharm": {
     "name": "#%%\n"
    }
   },
   "outputs": [
    {
     "data": {
      "text/plain": [
       "156      4.765884\n",
       "158      3.971570\n",
       "159      4.765884\n",
       "160     32.271318\n",
       "162      3.971570\n",
       "          ...    \n",
       "1311    12.464072\n",
       "1315     4.111605\n",
       "1317     4.765884\n",
       "1319    16.618762\n",
       "1321     4.765884\n",
       "Name: RZI, Length: 506, dtype: float64"
      ]
     },
     "execution_count": 87,
     "metadata": {},
     "output_type": "execute_result"
    }
   ],
   "source": [
    "roman_cities_wo[\"RZI\"] = roman_cities_wo[\"shares_weighted_vec\"].apply(max)\n",
    "roman_cities_wo[\"RZI\"]"
   ]
  },
  {
   "cell_type": "code",
   "execution_count": 88,
   "metadata": {
    "pycharm": {
     "name": "#%%\n"
    }
   },
   "outputs": [
    {
     "data": {
      "text/plain": [
       "156       Managerial\n",
       "158       Managerial\n",
       "159       Managerial\n",
       "160     Plastic Arts\n",
       "162       Managerial\n",
       "            ...     \n",
       "1311         Finance\n",
       "1315          Retail\n",
       "1317      Managerial\n",
       "1319         Finance\n",
       "1321      Managerial\n",
       "Name: RZI_cat, Length: 506, dtype: object"
      ]
     },
     "execution_count": 88,
     "metadata": {},
     "output_type": "execute_result"
    }
   ],
   "source": [
    "roman_cities_wo[\"RZI_cat\"] = roman_cities_wo[\"shares_weighted_vec\"].apply(lambda x: index_label_sum_dict[np.argmax(x)][0])\n",
    "roman_cities_wo[\"RZI_cat\"]"
   ]
  },
  {
   "cell_type": "code",
   "execution_count": 89,
   "metadata": {
    "pycharm": {
     "name": "#%%\n"
    }
   },
   "outputs": [
    {
     "ename": "KeyError",
     "evalue": "'occups_N_log'",
     "output_type": "error",
     "traceback": [
      "\u001b[0;31m---------------------------------------------------------------------------\u001b[0m",
      "\u001b[0;31mKeyError\u001b[0m                                  Traceback (most recent call last)",
      "File \u001b[0;32m~/.local/lib/python3.10/site-packages/pandas/core/indexes/base.py:3790\u001b[0m, in \u001b[0;36mIndex.get_loc\u001b[0;34m(self, key)\u001b[0m\n\u001b[1;32m   3789\u001b[0m \u001b[38;5;28;01mtry\u001b[39;00m:\n\u001b[0;32m-> 3790\u001b[0m     \u001b[38;5;28;01mreturn\u001b[39;00m \u001b[38;5;28;43mself\u001b[39;49m\u001b[38;5;241;43m.\u001b[39;49m\u001b[43m_engine\u001b[49m\u001b[38;5;241;43m.\u001b[39;49m\u001b[43mget_loc\u001b[49m\u001b[43m(\u001b[49m\u001b[43mcasted_key\u001b[49m\u001b[43m)\u001b[49m\n\u001b[1;32m   3791\u001b[0m \u001b[38;5;28;01mexcept\u001b[39;00m \u001b[38;5;167;01mKeyError\u001b[39;00m \u001b[38;5;28;01mas\u001b[39;00m err:\n",
      "File \u001b[0;32mindex.pyx:152\u001b[0m, in \u001b[0;36mpandas._libs.index.IndexEngine.get_loc\u001b[0;34m()\u001b[0m\n",
      "File \u001b[0;32mindex.pyx:181\u001b[0m, in \u001b[0;36mpandas._libs.index.IndexEngine.get_loc\u001b[0;34m()\u001b[0m\n",
      "File \u001b[0;32mpandas/_libs/hashtable_class_helper.pxi:7080\u001b[0m, in \u001b[0;36mpandas._libs.hashtable.PyObjectHashTable.get_item\u001b[0;34m()\u001b[0m\n",
      "File \u001b[0;32mpandas/_libs/hashtable_class_helper.pxi:7088\u001b[0m, in \u001b[0;36mpandas._libs.hashtable.PyObjectHashTable.get_item\u001b[0;34m()\u001b[0m\n",
      "\u001b[0;31mKeyError\u001b[0m: 'occups_N_log'",
      "\nThe above exception was the direct cause of the following exception:\n",
      "\u001b[0;31mKeyError\u001b[0m                                  Traceback (most recent call last)",
      "Cell \u001b[0;32mIn[89], line 1\u001b[0m\n\u001b[0;32m----> 1\u001b[0m roman_cities_wo[\u001b[38;5;124m\"\u001b[39m\u001b[38;5;124mRZIw\u001b[39m\u001b[38;5;124m\"\u001b[39m] \u001b[38;5;241m=\u001b[39m \u001b[43mroman_cities_wo\u001b[49m\u001b[38;5;241;43m.\u001b[39;49m\u001b[43mapply\u001b[49m\u001b[43m(\u001b[49m\u001b[38;5;28;43;01mlambda\u001b[39;49;00m\u001b[43m \u001b[49m\u001b[43mrow\u001b[49m\u001b[43m:\u001b[49m\u001b[43m \u001b[49m\u001b[43mrow\u001b[49m\u001b[43m[\u001b[49m\u001b[38;5;124;43m\"\u001b[39;49m\u001b[38;5;124;43mRZI\u001b[39;49m\u001b[38;5;124;43m\"\u001b[39;49m\u001b[43m]\u001b[49m\u001b[43m \u001b[49m\u001b[38;5;241;43m*\u001b[39;49m\u001b[43m \u001b[49m\u001b[43mrow\u001b[49m\u001b[43m[\u001b[49m\u001b[38;5;124;43m\"\u001b[39;49m\u001b[38;5;124;43moccups_N_log\u001b[39;49m\u001b[38;5;124;43m\"\u001b[39;49m\u001b[43m]\u001b[49m\u001b[43m,\u001b[49m\u001b[43m \u001b[49m\u001b[43maxis\u001b[49m\u001b[38;5;241;43m=\u001b[39;49m\u001b[38;5;241;43m1\u001b[39;49m\u001b[43m)\u001b[49m\n\u001b[1;32m      2\u001b[0m roman_cities_wo\u001b[38;5;241m.\u001b[39msort_values(\u001b[38;5;124m\"\u001b[39m\u001b[38;5;124mRZIw\u001b[39m\u001b[38;5;124m\"\u001b[39m, ascending\u001b[38;5;241m=\u001b[39m\u001b[38;5;28;01mFalse\u001b[39;00m)[[\u001b[38;5;124m\"\u001b[39m\u001b[38;5;124mAncient Toponym\u001b[39m\u001b[38;5;124m\"\u001b[39m, \u001b[38;5;124m\"\u001b[39m\u001b[38;5;124minscr_N\u001b[39m\u001b[38;5;124m\"\u001b[39m, \u001b[38;5;124m\"\u001b[39m\u001b[38;5;124moccups_N\u001b[39m\u001b[38;5;124m\"\u001b[39m, \u001b[38;5;124m\"\u001b[39m\u001b[38;5;124moccups_cats_unique_N\u001b[39m\u001b[38;5;124m\"\u001b[39m, \u001b[38;5;124m\"\u001b[39m\u001b[38;5;124moccups_cats_vec\u001b[39m\u001b[38;5;124m\"\u001b[39m, \u001b[38;5;124m\"\u001b[39m\u001b[38;5;124mZI\u001b[39m\u001b[38;5;124m\"\u001b[39m, \u001b[38;5;124m\"\u001b[39m\u001b[38;5;124mZIw\u001b[39m\u001b[38;5;124m\"\u001b[39m, \u001b[38;5;124m\"\u001b[39m\u001b[38;5;124mRZI_cat\u001b[39m\u001b[38;5;124m\"\u001b[39m, \u001b[38;5;124m\"\u001b[39m\u001b[38;5;124mRZI\u001b[39m\u001b[38;5;124m\"\u001b[39m, \u001b[38;5;124m\"\u001b[39m\u001b[38;5;124mRZIw\u001b[39m\u001b[38;5;124m\"\u001b[39m]]\n",
      "File \u001b[0;32m~/.local/lib/python3.10/site-packages/geopandas/geodataframe.py:1586\u001b[0m, in \u001b[0;36mGeoDataFrame.apply\u001b[0;34m(self, func, axis, raw, result_type, args, **kwargs)\u001b[0m\n\u001b[1;32m   1584\u001b[0m \u001b[38;5;129m@doc\u001b[39m(pd\u001b[38;5;241m.\u001b[39mDataFrame)\n\u001b[1;32m   1585\u001b[0m \u001b[38;5;28;01mdef\u001b[39;00m \u001b[38;5;21mapply\u001b[39m(\u001b[38;5;28mself\u001b[39m, func, axis\u001b[38;5;241m=\u001b[39m\u001b[38;5;241m0\u001b[39m, raw\u001b[38;5;241m=\u001b[39m\u001b[38;5;28;01mFalse\u001b[39;00m, result_type\u001b[38;5;241m=\u001b[39m\u001b[38;5;28;01mNone\u001b[39;00m, args\u001b[38;5;241m=\u001b[39m(), \u001b[38;5;241m*\u001b[39m\u001b[38;5;241m*\u001b[39mkwargs):\n\u001b[0;32m-> 1586\u001b[0m     result \u001b[38;5;241m=\u001b[39m \u001b[38;5;28;43msuper\u001b[39;49m\u001b[43m(\u001b[49m\u001b[43m)\u001b[49m\u001b[38;5;241;43m.\u001b[39;49m\u001b[43mapply\u001b[49m\u001b[43m(\u001b[49m\n\u001b[1;32m   1587\u001b[0m \u001b[43m        \u001b[49m\u001b[43mfunc\u001b[49m\u001b[43m,\u001b[49m\u001b[43m \u001b[49m\u001b[43maxis\u001b[49m\u001b[38;5;241;43m=\u001b[39;49m\u001b[43maxis\u001b[49m\u001b[43m,\u001b[49m\u001b[43m \u001b[49m\u001b[43mraw\u001b[49m\u001b[38;5;241;43m=\u001b[39;49m\u001b[43mraw\u001b[49m\u001b[43m,\u001b[49m\u001b[43m \u001b[49m\u001b[43mresult_type\u001b[49m\u001b[38;5;241;43m=\u001b[39;49m\u001b[43mresult_type\u001b[49m\u001b[43m,\u001b[49m\u001b[43m \u001b[49m\u001b[43margs\u001b[49m\u001b[38;5;241;43m=\u001b[39;49m\u001b[43margs\u001b[49m\u001b[43m,\u001b[49m\u001b[43m \u001b[49m\u001b[38;5;241;43m*\u001b[39;49m\u001b[38;5;241;43m*\u001b[39;49m\u001b[43mkwargs\u001b[49m\n\u001b[1;32m   1588\u001b[0m \u001b[43m    \u001b[49m\u001b[43m)\u001b[49m\n\u001b[1;32m   1589\u001b[0m     \u001b[38;5;66;03m# pandas <1.4 re-attach last geometry col if lost\u001b[39;00m\n\u001b[1;32m   1590\u001b[0m     \u001b[38;5;28;01mif\u001b[39;00m (\n\u001b[1;32m   1591\u001b[0m         \u001b[38;5;129;01mnot\u001b[39;00m compat\u001b[38;5;241m.\u001b[39mPANDAS_GE_14\n\u001b[1;32m   1592\u001b[0m         \u001b[38;5;129;01mand\u001b[39;00m \u001b[38;5;28misinstance\u001b[39m(result, GeoDataFrame)\n\u001b[1;32m   1593\u001b[0m         \u001b[38;5;129;01mand\u001b[39;00m result\u001b[38;5;241m.\u001b[39m_geometry_column_name \u001b[38;5;129;01mis\u001b[39;00m \u001b[38;5;28;01mNone\u001b[39;00m\n\u001b[1;32m   1594\u001b[0m     ):\n",
      "File \u001b[0;32m~/.local/lib/python3.10/site-packages/pandas/core/frame.py:10037\u001b[0m, in \u001b[0;36mDataFrame.apply\u001b[0;34m(self, func, axis, raw, result_type, args, by_row, **kwargs)\u001b[0m\n\u001b[1;32m  10025\u001b[0m \u001b[38;5;28;01mfrom\u001b[39;00m \u001b[38;5;21;01mpandas\u001b[39;00m\u001b[38;5;21;01m.\u001b[39;00m\u001b[38;5;21;01mcore\u001b[39;00m\u001b[38;5;21;01m.\u001b[39;00m\u001b[38;5;21;01mapply\u001b[39;00m \u001b[38;5;28;01mimport\u001b[39;00m frame_apply\n\u001b[1;32m  10027\u001b[0m op \u001b[38;5;241m=\u001b[39m frame_apply(\n\u001b[1;32m  10028\u001b[0m     \u001b[38;5;28mself\u001b[39m,\n\u001b[1;32m  10029\u001b[0m     func\u001b[38;5;241m=\u001b[39mfunc,\n\u001b[0;32m   (...)\u001b[0m\n\u001b[1;32m  10035\u001b[0m     kwargs\u001b[38;5;241m=\u001b[39mkwargs,\n\u001b[1;32m  10036\u001b[0m )\n\u001b[0;32m> 10037\u001b[0m \u001b[38;5;28;01mreturn\u001b[39;00m \u001b[43mop\u001b[49m\u001b[38;5;241;43m.\u001b[39;49m\u001b[43mapply\u001b[49m\u001b[43m(\u001b[49m\u001b[43m)\u001b[49m\u001b[38;5;241m.\u001b[39m__finalize__(\u001b[38;5;28mself\u001b[39m, method\u001b[38;5;241m=\u001b[39m\u001b[38;5;124m\"\u001b[39m\u001b[38;5;124mapply\u001b[39m\u001b[38;5;124m\"\u001b[39m)\n",
      "File \u001b[0;32m~/.local/lib/python3.10/site-packages/pandas/core/apply.py:837\u001b[0m, in \u001b[0;36mFrameApply.apply\u001b[0;34m(self)\u001b[0m\n\u001b[1;32m    834\u001b[0m \u001b[38;5;28;01melif\u001b[39;00m \u001b[38;5;28mself\u001b[39m\u001b[38;5;241m.\u001b[39mraw:\n\u001b[1;32m    835\u001b[0m     \u001b[38;5;28;01mreturn\u001b[39;00m \u001b[38;5;28mself\u001b[39m\u001b[38;5;241m.\u001b[39mapply_raw()\n\u001b[0;32m--> 837\u001b[0m \u001b[38;5;28;01mreturn\u001b[39;00m \u001b[38;5;28;43mself\u001b[39;49m\u001b[38;5;241;43m.\u001b[39;49m\u001b[43mapply_standard\u001b[49m\u001b[43m(\u001b[49m\u001b[43m)\u001b[49m\n",
      "File \u001b[0;32m~/.local/lib/python3.10/site-packages/pandas/core/apply.py:963\u001b[0m, in \u001b[0;36mFrameApply.apply_standard\u001b[0;34m(self)\u001b[0m\n\u001b[1;32m    962\u001b[0m \u001b[38;5;28;01mdef\u001b[39;00m \u001b[38;5;21mapply_standard\u001b[39m(\u001b[38;5;28mself\u001b[39m):\n\u001b[0;32m--> 963\u001b[0m     results, res_index \u001b[38;5;241m=\u001b[39m \u001b[38;5;28;43mself\u001b[39;49m\u001b[38;5;241;43m.\u001b[39;49m\u001b[43mapply_series_generator\u001b[49m\u001b[43m(\u001b[49m\u001b[43m)\u001b[49m\n\u001b[1;32m    965\u001b[0m     \u001b[38;5;66;03m# wrap results\u001b[39;00m\n\u001b[1;32m    966\u001b[0m     \u001b[38;5;28;01mreturn\u001b[39;00m \u001b[38;5;28mself\u001b[39m\u001b[38;5;241m.\u001b[39mwrap_results(results, res_index)\n",
      "File \u001b[0;32m~/.local/lib/python3.10/site-packages/pandas/core/apply.py:979\u001b[0m, in \u001b[0;36mFrameApply.apply_series_generator\u001b[0;34m(self)\u001b[0m\n\u001b[1;32m    976\u001b[0m \u001b[38;5;28;01mwith\u001b[39;00m option_context(\u001b[38;5;124m\"\u001b[39m\u001b[38;5;124mmode.chained_assignment\u001b[39m\u001b[38;5;124m\"\u001b[39m, \u001b[38;5;28;01mNone\u001b[39;00m):\n\u001b[1;32m    977\u001b[0m     \u001b[38;5;28;01mfor\u001b[39;00m i, v \u001b[38;5;129;01min\u001b[39;00m \u001b[38;5;28menumerate\u001b[39m(series_gen):\n\u001b[1;32m    978\u001b[0m         \u001b[38;5;66;03m# ignore SettingWithCopy here in case the user mutates\u001b[39;00m\n\u001b[0;32m--> 979\u001b[0m         results[i] \u001b[38;5;241m=\u001b[39m \u001b[38;5;28;43mself\u001b[39;49m\u001b[38;5;241;43m.\u001b[39;49m\u001b[43mfunc\u001b[49m\u001b[43m(\u001b[49m\u001b[43mv\u001b[49m\u001b[43m,\u001b[49m\u001b[43m \u001b[49m\u001b[38;5;241;43m*\u001b[39;49m\u001b[38;5;28;43mself\u001b[39;49m\u001b[38;5;241;43m.\u001b[39;49m\u001b[43margs\u001b[49m\u001b[43m,\u001b[49m\u001b[43m \u001b[49m\u001b[38;5;241;43m*\u001b[39;49m\u001b[38;5;241;43m*\u001b[39;49m\u001b[38;5;28;43mself\u001b[39;49m\u001b[38;5;241;43m.\u001b[39;49m\u001b[43mkwargs\u001b[49m\u001b[43m)\u001b[49m\n\u001b[1;32m    980\u001b[0m         \u001b[38;5;28;01mif\u001b[39;00m \u001b[38;5;28misinstance\u001b[39m(results[i], ABCSeries):\n\u001b[1;32m    981\u001b[0m             \u001b[38;5;66;03m# If we have a view on v, we need to make a copy because\u001b[39;00m\n\u001b[1;32m    982\u001b[0m             \u001b[38;5;66;03m#  series_generator will swap out the underlying data\u001b[39;00m\n\u001b[1;32m    983\u001b[0m             results[i] \u001b[38;5;241m=\u001b[39m results[i]\u001b[38;5;241m.\u001b[39mcopy(deep\u001b[38;5;241m=\u001b[39m\u001b[38;5;28;01mFalse\u001b[39;00m)\n",
      "Cell \u001b[0;32mIn[89], line 1\u001b[0m, in \u001b[0;36m<lambda>\u001b[0;34m(row)\u001b[0m\n\u001b[0;32m----> 1\u001b[0m roman_cities_wo[\u001b[38;5;124m\"\u001b[39m\u001b[38;5;124mRZIw\u001b[39m\u001b[38;5;124m\"\u001b[39m] \u001b[38;5;241m=\u001b[39m roman_cities_wo\u001b[38;5;241m.\u001b[39mapply(\u001b[38;5;28;01mlambda\u001b[39;00m row: row[\u001b[38;5;124m\"\u001b[39m\u001b[38;5;124mRZI\u001b[39m\u001b[38;5;124m\"\u001b[39m] \u001b[38;5;241m*\u001b[39m \u001b[43mrow\u001b[49m\u001b[43m[\u001b[49m\u001b[38;5;124;43m\"\u001b[39;49m\u001b[38;5;124;43moccups_N_log\u001b[39;49m\u001b[38;5;124;43m\"\u001b[39;49m\u001b[43m]\u001b[49m, axis\u001b[38;5;241m=\u001b[39m\u001b[38;5;241m1\u001b[39m)\n\u001b[1;32m      2\u001b[0m roman_cities_wo\u001b[38;5;241m.\u001b[39msort_values(\u001b[38;5;124m\"\u001b[39m\u001b[38;5;124mRZIw\u001b[39m\u001b[38;5;124m\"\u001b[39m, ascending\u001b[38;5;241m=\u001b[39m\u001b[38;5;28;01mFalse\u001b[39;00m)[[\u001b[38;5;124m\"\u001b[39m\u001b[38;5;124mAncient Toponym\u001b[39m\u001b[38;5;124m\"\u001b[39m, \u001b[38;5;124m\"\u001b[39m\u001b[38;5;124minscr_N\u001b[39m\u001b[38;5;124m\"\u001b[39m, \u001b[38;5;124m\"\u001b[39m\u001b[38;5;124moccups_N\u001b[39m\u001b[38;5;124m\"\u001b[39m, \u001b[38;5;124m\"\u001b[39m\u001b[38;5;124moccups_cats_unique_N\u001b[39m\u001b[38;5;124m\"\u001b[39m, \u001b[38;5;124m\"\u001b[39m\u001b[38;5;124moccups_cats_vec\u001b[39m\u001b[38;5;124m\"\u001b[39m, \u001b[38;5;124m\"\u001b[39m\u001b[38;5;124mZI\u001b[39m\u001b[38;5;124m\"\u001b[39m, \u001b[38;5;124m\"\u001b[39m\u001b[38;5;124mZIw\u001b[39m\u001b[38;5;124m\"\u001b[39m, \u001b[38;5;124m\"\u001b[39m\u001b[38;5;124mRZI_cat\u001b[39m\u001b[38;5;124m\"\u001b[39m, \u001b[38;5;124m\"\u001b[39m\u001b[38;5;124mRZI\u001b[39m\u001b[38;5;124m\"\u001b[39m, \u001b[38;5;124m\"\u001b[39m\u001b[38;5;124mRZIw\u001b[39m\u001b[38;5;124m\"\u001b[39m]]\n",
      "File \u001b[0;32m~/.local/lib/python3.10/site-packages/pandas/core/series.py:1040\u001b[0m, in \u001b[0;36mSeries.__getitem__\u001b[0;34m(self, key)\u001b[0m\n\u001b[1;32m   1037\u001b[0m     \u001b[38;5;28;01mreturn\u001b[39;00m \u001b[38;5;28mself\u001b[39m\u001b[38;5;241m.\u001b[39m_values[key]\n\u001b[1;32m   1039\u001b[0m \u001b[38;5;28;01melif\u001b[39;00m key_is_scalar:\n\u001b[0;32m-> 1040\u001b[0m     \u001b[38;5;28;01mreturn\u001b[39;00m \u001b[38;5;28;43mself\u001b[39;49m\u001b[38;5;241;43m.\u001b[39;49m\u001b[43m_get_value\u001b[49m\u001b[43m(\u001b[49m\u001b[43mkey\u001b[49m\u001b[43m)\u001b[49m\n\u001b[1;32m   1042\u001b[0m \u001b[38;5;66;03m# Convert generator to list before going through hashable part\u001b[39;00m\n\u001b[1;32m   1043\u001b[0m \u001b[38;5;66;03m# (We will iterate through the generator there to check for slices)\u001b[39;00m\n\u001b[1;32m   1044\u001b[0m \u001b[38;5;28;01mif\u001b[39;00m is_iterator(key):\n",
      "File \u001b[0;32m~/.local/lib/python3.10/site-packages/pandas/core/series.py:1156\u001b[0m, in \u001b[0;36mSeries._get_value\u001b[0;34m(self, label, takeable)\u001b[0m\n\u001b[1;32m   1153\u001b[0m     \u001b[38;5;28;01mreturn\u001b[39;00m \u001b[38;5;28mself\u001b[39m\u001b[38;5;241m.\u001b[39m_values[label]\n\u001b[1;32m   1155\u001b[0m \u001b[38;5;66;03m# Similar to Index.get_value, but we do not fall back to positional\u001b[39;00m\n\u001b[0;32m-> 1156\u001b[0m loc \u001b[38;5;241m=\u001b[39m \u001b[38;5;28;43mself\u001b[39;49m\u001b[38;5;241;43m.\u001b[39;49m\u001b[43mindex\u001b[49m\u001b[38;5;241;43m.\u001b[39;49m\u001b[43mget_loc\u001b[49m\u001b[43m(\u001b[49m\u001b[43mlabel\u001b[49m\u001b[43m)\u001b[49m\n\u001b[1;32m   1158\u001b[0m \u001b[38;5;28;01mif\u001b[39;00m is_integer(loc):\n\u001b[1;32m   1159\u001b[0m     \u001b[38;5;28;01mreturn\u001b[39;00m \u001b[38;5;28mself\u001b[39m\u001b[38;5;241m.\u001b[39m_values[loc]\n",
      "File \u001b[0;32m~/.local/lib/python3.10/site-packages/pandas/core/indexes/base.py:3797\u001b[0m, in \u001b[0;36mIndex.get_loc\u001b[0;34m(self, key)\u001b[0m\n\u001b[1;32m   3792\u001b[0m     \u001b[38;5;28;01mif\u001b[39;00m \u001b[38;5;28misinstance\u001b[39m(casted_key, \u001b[38;5;28mslice\u001b[39m) \u001b[38;5;129;01mor\u001b[39;00m (\n\u001b[1;32m   3793\u001b[0m         \u001b[38;5;28misinstance\u001b[39m(casted_key, abc\u001b[38;5;241m.\u001b[39mIterable)\n\u001b[1;32m   3794\u001b[0m         \u001b[38;5;129;01mand\u001b[39;00m \u001b[38;5;28many\u001b[39m(\u001b[38;5;28misinstance\u001b[39m(x, \u001b[38;5;28mslice\u001b[39m) \u001b[38;5;28;01mfor\u001b[39;00m x \u001b[38;5;129;01min\u001b[39;00m casted_key)\n\u001b[1;32m   3795\u001b[0m     ):\n\u001b[1;32m   3796\u001b[0m         \u001b[38;5;28;01mraise\u001b[39;00m InvalidIndexError(key)\n\u001b[0;32m-> 3797\u001b[0m     \u001b[38;5;28;01mraise\u001b[39;00m \u001b[38;5;167;01mKeyError\u001b[39;00m(key) \u001b[38;5;28;01mfrom\u001b[39;00m \u001b[38;5;21;01merr\u001b[39;00m\n\u001b[1;32m   3798\u001b[0m \u001b[38;5;28;01mexcept\u001b[39;00m \u001b[38;5;167;01mTypeError\u001b[39;00m:\n\u001b[1;32m   3799\u001b[0m     \u001b[38;5;66;03m# If we have a listlike key, _check_indexing_error will raise\u001b[39;00m\n\u001b[1;32m   3800\u001b[0m     \u001b[38;5;66;03m#  InvalidIndexError. Otherwise we fall through and re-raise\u001b[39;00m\n\u001b[1;32m   3801\u001b[0m     \u001b[38;5;66;03m#  the TypeError.\u001b[39;00m\n\u001b[1;32m   3802\u001b[0m     \u001b[38;5;28mself\u001b[39m\u001b[38;5;241m.\u001b[39m_check_indexing_error(key)\n",
      "\u001b[0;31mKeyError\u001b[0m: 'occups_N_log'"
     ]
    }
   ],
   "source": [
    "roman_cities_wo[\"RZIw\"] = roman_cities_wo.apply(lambda row: row[\"RZI\"] * row[\"occups_N_log\"], axis=1)\n",
    "roman_cities_wo.sort_values(\"RZIw\", ascending=False)[[\"Ancient Toponym\", \"inscr_N\", \"occups_N\", \"occups_cats_unique_N\", \"occups_cats_vec\", \"ZI\", \"ZIw\", \"RZI_cat\", \"RZI\", \"RZIw\"]]"
   ]
  },
  {
   "cell_type": "markdown",
   "metadata": {
    "pycharm": {
     "name": "#%% md\n"
    }
   },
   "source": [
    "# Diversity"
   ]
  },
  {
   "cell_type": "code",
   "execution_count": 90,
   "metadata": {
    "pycharm": {
     "name": "#%%\n"
    }
   },
   "outputs": [
    {
     "data": {
      "text/plain": [
       "156     [0.0, 0.0, 0.0, 0.0, 0.0, 0.0, 0.0, 0.0, 0.0, ...\n",
       "158     [0.0, 0.0, 0.0, 0.0, 0.0, 0.0, 0.0, 0.0, 0.0, ...\n",
       "159     [0.0, 0.0, 0.0, 0.0, 0.0, 0.0, 0.0, 0.0, 0.0, ...\n",
       "160     [0.0, 0.0, 0.0, 0.0, 0.0, 0.0, 0.0, 0.5, 0.0, ...\n",
       "162     [0.0, 0.0, 0.0, 0.0, 0.0, 0.0, 0.0, 0.0, 0.0, ...\n",
       "                              ...                        \n",
       "1311    [0.0, 0.0, 0.0, 0.0, 0.0, 0.0, 0.0, 0.0, 0.25,...\n",
       "1315    [0.0, 0.3333333333333333, 0.0, 0.0, 0.0, 0.0, ...\n",
       "1317    [0.0, 0.0, 0.0, 0.0, 0.0, 0.0, 0.0, 0.0, 0.0, ...\n",
       "1319    [0.0, 0.0, 0.0, 0.0, 0.0, 0.0, 0.0, 0.0, 0.0, ...\n",
       "1321    [0.0, 0.0, 0.0, 0.0, 0.0, 0.0, 0.0, 0.0, 0.0, ...\n",
       "Name: shares_vec, Length: 506, dtype: object"
      ]
     },
     "execution_count": 90,
     "metadata": {},
     "output_type": "execute_result"
    }
   ],
   "source": [
    "# again, the starting point are the shares:\n",
    "roman_cities_wo[\"shares_vec\"]"
   ]
  },
  {
   "cell_type": "code",
   "execution_count": 91,
   "metadata": {
    "pycharm": {
     "name": "#%%\n"
    }
   },
   "outputs": [],
   "source": [
    "def get_di(shares_vec):\n",
    "    a = np.array(shares_vec)\n",
    "    a = a**2\n",
    "    hh = sum(a) # Hirschman-Herfindahl index\n",
    "    ihh = 1 / hh # inverse Hirschman-Herfindahl index\n",
    "    return ihh\n",
    "roman_cities_wo[\"DI\"] = roman_cities_wo[\"shares_vec\"].apply(get_di)"
   ]
  },
  {
   "cell_type": "code",
   "execution_count": 93,
   "metadata": {
    "pycharm": {
     "name": "#%%\n"
    }
   },
   "outputs": [
    {
     "data": {
      "text/html": [
       "<div>\n",
       "<style scoped>\n",
       "    .dataframe tbody tr th:only-of-type {\n",
       "        vertical-align: middle;\n",
       "    }\n",
       "\n",
       "    .dataframe tbody tr th {\n",
       "        vertical-align: top;\n",
       "    }\n",
       "\n",
       "    .dataframe thead th {\n",
       "        text-align: right;\n",
       "    }\n",
       "</style>\n",
       "<table border=\"1\" class=\"dataframe\">\n",
       "  <thead>\n",
       "    <tr style=\"text-align: right;\">\n",
       "      <th></th>\n",
       "      <th>Ancient Toponym</th>\n",
       "      <th>inscr_N</th>\n",
       "      <th>occups_N</th>\n",
       "      <th>occups_cats_unique_N</th>\n",
       "      <th>occups_cats_vec</th>\n",
       "      <th>DI</th>\n",
       "    </tr>\n",
       "  </thead>\n",
       "  <tbody>\n",
       "    <tr>\n",
       "      <th>991</th>\n",
       "      <td>Roma</td>\n",
       "      <td>120768.0</td>\n",
       "      <td>3097.0</td>\n",
       "      <td>19</td>\n",
       "      <td>[268, 301, 346, 2, 11, 77, 41, 62, 203, 3, 43,...</td>\n",
       "      <td>9.412875</td>\n",
       "    </tr>\n",
       "    <tr>\n",
       "      <th>757</th>\n",
       "      <td>Capua</td>\n",
       "      <td>1304.0</td>\n",
       "      <td>67.0</td>\n",
       "      <td>13</td>\n",
       "      <td>[5, 7, 9, 0, 0, 1, 2, 0, 2, 0, 1, 12, 5, 0, 0,...</td>\n",
       "      <td>9.332640</td>\n",
       "    </tr>\n",
       "    <tr>\n",
       "      <th>650</th>\n",
       "      <td>Narbo Martius</td>\n",
       "      <td>2315.0</td>\n",
       "      <td>103.0</td>\n",
       "      <td>13</td>\n",
       "      <td>[8, 11, 14, 0, 0, 5, 9, 2, 0, 0, 0, 4, 13, 0, ...</td>\n",
       "      <td>9.217202</td>\n",
       "    </tr>\n",
       "    <tr>\n",
       "      <th>883</th>\n",
       "      <td>Corfinium</td>\n",
       "      <td>445.0</td>\n",
       "      <td>16.0</td>\n",
       "      <td>11</td>\n",
       "      <td>[1, 0, 2, 0, 0, 1, 1, 0, 0, 0, 1, 3, 0, 1, 1, ...</td>\n",
       "      <td>9.142857</td>\n",
       "    </tr>\n",
       "    <tr>\n",
       "      <th>986</th>\n",
       "      <td>Pisae</td>\n",
       "      <td>177.0</td>\n",
       "      <td>16.0</td>\n",
       "      <td>11</td>\n",
       "      <td>[0, 1, 1, 0, 0, 0, 3, 0, 1, 0, 1, 2, 1, 0, 1, ...</td>\n",
       "      <td>9.142857</td>\n",
       "    </tr>\n",
       "    <tr>\n",
       "      <th>...</th>\n",
       "      <td>...</td>\n",
       "      <td>...</td>\n",
       "      <td>...</td>\n",
       "      <td>...</td>\n",
       "      <td>...</td>\n",
       "      <td>...</td>\n",
       "    </tr>\n",
       "    <tr>\n",
       "      <th>690</th>\n",
       "      <td>Caesaraugusta</td>\n",
       "      <td>57.0</td>\n",
       "      <td>1.0</td>\n",
       "      <td>1</td>\n",
       "      <td>[0, 0, 0, 0, 0, 0, 0, 0, 0, 0, 0, 1, 0, 0, 0, ...</td>\n",
       "      <td>1.000000</td>\n",
       "    </tr>\n",
       "    <tr>\n",
       "      <th>707</th>\n",
       "      <td>Ilici</td>\n",
       "      <td>210.0</td>\n",
       "      <td>2.0</td>\n",
       "      <td>1</td>\n",
       "      <td>[0, 0, 2, 0, 0, 0, 0, 0, 0, 0, 0, 0, 0, 0, 0, ...</td>\n",
       "      <td>1.000000</td>\n",
       "    </tr>\n",
       "    <tr>\n",
       "      <th>732</th>\n",
       "      <td>Toletum</td>\n",
       "      <td>76.0</td>\n",
       "      <td>1.0</td>\n",
       "      <td>1</td>\n",
       "      <td>[0, 0, 0, 0, 0, 0, 0, 0, 0, 0, 0, 1, 0, 0, 0, ...</td>\n",
       "      <td>1.000000</td>\n",
       "    </tr>\n",
       "    <tr>\n",
       "      <th>734</th>\n",
       "      <td>Uxama</td>\n",
       "      <td>53.0</td>\n",
       "      <td>1.0</td>\n",
       "      <td>1</td>\n",
       "      <td>[0, 0, 0, 0, 0, 0, 0, 0, 0, 0, 0, 0, 1, 0, 0, ...</td>\n",
       "      <td>1.000000</td>\n",
       "    </tr>\n",
       "    <tr>\n",
       "      <th>1321</th>\n",
       "      <td>Tyndaris</td>\n",
       "      <td>66.0</td>\n",
       "      <td>2.0</td>\n",
       "      <td>1</td>\n",
       "      <td>[0, 0, 0, 0, 0, 0, 0, 0, 0, 0, 0, 2, 0, 0, 0, ...</td>\n",
       "      <td>1.000000</td>\n",
       "    </tr>\n",
       "  </tbody>\n",
       "</table>\n",
       "<p>506 rows × 6 columns</p>\n",
       "</div>"
      ],
      "text/plain": [
       "     Ancient Toponym   inscr_N  occups_N  occups_cats_unique_N  \\\n",
       "991             Roma  120768.0    3097.0                    19   \n",
       "757            Capua    1304.0      67.0                    13   \n",
       "650    Narbo Martius    2315.0     103.0                    13   \n",
       "883        Corfinium     445.0      16.0                    11   \n",
       "986            Pisae     177.0      16.0                    11   \n",
       "...              ...       ...       ...                   ...   \n",
       "690    Caesaraugusta      57.0       1.0                     1   \n",
       "707            Ilici     210.0       2.0                     1   \n",
       "732          Toletum      76.0       1.0                     1   \n",
       "734            Uxama      53.0       1.0                     1   \n",
       "1321        Tyndaris      66.0       2.0                     1   \n",
       "\n",
       "                                        occups_cats_vec        DI  \n",
       "991   [268, 301, 346, 2, 11, 77, 41, 62, 203, 3, 43,...  9.412875  \n",
       "757   [5, 7, 9, 0, 0, 1, 2, 0, 2, 0, 1, 12, 5, 0, 0,...  9.332640  \n",
       "650   [8, 11, 14, 0, 0, 5, 9, 2, 0, 0, 0, 4, 13, 0, ...  9.217202  \n",
       "883   [1, 0, 2, 0, 0, 1, 1, 0, 0, 0, 1, 3, 0, 1, 1, ...  9.142857  \n",
       "986   [0, 1, 1, 0, 0, 0, 3, 0, 1, 0, 1, 2, 1, 0, 1, ...  9.142857  \n",
       "...                                                 ...       ...  \n",
       "690   [0, 0, 0, 0, 0, 0, 0, 0, 0, 0, 0, 1, 0, 0, 0, ...  1.000000  \n",
       "707   [0, 0, 2, 0, 0, 0, 0, 0, 0, 0, 0, 0, 0, 0, 0, ...  1.000000  \n",
       "732   [0, 0, 0, 0, 0, 0, 0, 0, 0, 0, 0, 1, 0, 0, 0, ...  1.000000  \n",
       "734   [0, 0, 0, 0, 0, 0, 0, 0, 0, 0, 0, 0, 1, 0, 0, ...  1.000000  \n",
       "1321  [0, 0, 0, 0, 0, 0, 0, 0, 0, 0, 0, 2, 0, 0, 0, ...  1.000000  \n",
       "\n",
       "[506 rows x 6 columns]"
      ]
     },
     "execution_count": 93,
     "metadata": {},
     "output_type": "execute_result"
    }
   ],
   "source": [
    "roman_cities_wo.sort_values(\"DI\", ascending=False)[[\"Ancient Toponym\", \"inscr_N\", \"occups_N\", \"occups_cats_unique_N\", \"occups_cats_vec\", \"DI\"]]"
   ]
  },
  {
   "cell_type": "code",
   "execution_count": 94,
   "metadata": {
    "pycharm": {
     "name": "#%%\n"
    }
   },
   "outputs": [
    {
     "ename": "KeyError",
     "evalue": "'occups_N_log'",
     "output_type": "error",
     "traceback": [
      "\u001b[0;31m---------------------------------------------------------------------------\u001b[0m",
      "\u001b[0;31mKeyError\u001b[0m                                  Traceback (most recent call last)",
      "File \u001b[0;32m~/.local/lib/python3.10/site-packages/pandas/core/indexes/base.py:3790\u001b[0m, in \u001b[0;36mIndex.get_loc\u001b[0;34m(self, key)\u001b[0m\n\u001b[1;32m   3789\u001b[0m \u001b[38;5;28;01mtry\u001b[39;00m:\n\u001b[0;32m-> 3790\u001b[0m     \u001b[38;5;28;01mreturn\u001b[39;00m \u001b[38;5;28;43mself\u001b[39;49m\u001b[38;5;241;43m.\u001b[39;49m\u001b[43m_engine\u001b[49m\u001b[38;5;241;43m.\u001b[39;49m\u001b[43mget_loc\u001b[49m\u001b[43m(\u001b[49m\u001b[43mcasted_key\u001b[49m\u001b[43m)\u001b[49m\n\u001b[1;32m   3791\u001b[0m \u001b[38;5;28;01mexcept\u001b[39;00m \u001b[38;5;167;01mKeyError\u001b[39;00m \u001b[38;5;28;01mas\u001b[39;00m err:\n",
      "File \u001b[0;32mindex.pyx:152\u001b[0m, in \u001b[0;36mpandas._libs.index.IndexEngine.get_loc\u001b[0;34m()\u001b[0m\n",
      "File \u001b[0;32mindex.pyx:181\u001b[0m, in \u001b[0;36mpandas._libs.index.IndexEngine.get_loc\u001b[0;34m()\u001b[0m\n",
      "File \u001b[0;32mpandas/_libs/hashtable_class_helper.pxi:7080\u001b[0m, in \u001b[0;36mpandas._libs.hashtable.PyObjectHashTable.get_item\u001b[0;34m()\u001b[0m\n",
      "File \u001b[0;32mpandas/_libs/hashtable_class_helper.pxi:7088\u001b[0m, in \u001b[0;36mpandas._libs.hashtable.PyObjectHashTable.get_item\u001b[0;34m()\u001b[0m\n",
      "\u001b[0;31mKeyError\u001b[0m: 'occups_N_log'",
      "\nThe above exception was the direct cause of the following exception:\n",
      "\u001b[0;31mKeyError\u001b[0m                                  Traceback (most recent call last)",
      "Cell \u001b[0;32mIn[94], line 6\u001b[0m\n\u001b[1;32m      4\u001b[0m     \u001b[38;5;28;01melse\u001b[39;00m:\n\u001b[1;32m      5\u001b[0m         \u001b[38;5;28;01mreturn\u001b[39;00m a \u001b[38;5;241m/\u001b[39m b\n\u001b[0;32m----> 6\u001b[0m roman_cities_wo[\u001b[38;5;124m\"\u001b[39m\u001b[38;5;124mDIw\u001b[39m\u001b[38;5;124m\"\u001b[39m] \u001b[38;5;241m=\u001b[39m \u001b[43mroman_cities_wo\u001b[49m\u001b[38;5;241;43m.\u001b[39;49m\u001b[43mapply\u001b[49m\u001b[43m(\u001b[49m\u001b[38;5;28;43;01mlambda\u001b[39;49;00m\u001b[43m \u001b[49m\u001b[43mrow\u001b[49m\u001b[43m:\u001b[49m\u001b[43m \u001b[49m\u001b[43mget_diw\u001b[49m\u001b[43m(\u001b[49m\u001b[43mrow\u001b[49m\u001b[43m[\u001b[49m\u001b[38;5;124;43m\"\u001b[39;49m\u001b[38;5;124;43mDI\u001b[39;49m\u001b[38;5;124;43m\"\u001b[39;49m\u001b[43m]\u001b[49m\u001b[43m,\u001b[49m\u001b[43m \u001b[49m\u001b[43mrow\u001b[49m\u001b[43m[\u001b[49m\u001b[38;5;124;43m'\u001b[39;49m\u001b[38;5;124;43moccups_N_log\u001b[39;49m\u001b[38;5;124;43m'\u001b[39;49m\u001b[43m]\u001b[49m\u001b[43m)\u001b[49m\u001b[43m,\u001b[49m\u001b[43m \u001b[49m\u001b[43maxis\u001b[49m\u001b[38;5;241;43m=\u001b[39;49m\u001b[38;5;241;43m1\u001b[39;49m\u001b[43m)\u001b[49m\n\u001b[1;32m      7\u001b[0m roman_cities_wo\u001b[38;5;241m.\u001b[39msort_values(\u001b[38;5;124m\"\u001b[39m\u001b[38;5;124mDIw\u001b[39m\u001b[38;5;124m\"\u001b[39m, ascending\u001b[38;5;241m=\u001b[39m\u001b[38;5;28;01mFalse\u001b[39;00m)[[\u001b[38;5;124m\"\u001b[39m\u001b[38;5;124mAncient Toponym\u001b[39m\u001b[38;5;124m\"\u001b[39m, \u001b[38;5;124m\"\u001b[39m\u001b[38;5;124minscr_N\u001b[39m\u001b[38;5;124m\"\u001b[39m, \u001b[38;5;124m\"\u001b[39m\u001b[38;5;124moccups_N\u001b[39m\u001b[38;5;124m\"\u001b[39m, \u001b[38;5;124m\"\u001b[39m\u001b[38;5;124moccups_list\u001b[39m\u001b[38;5;124m\"\u001b[39m, \u001b[38;5;124m\"\u001b[39m\u001b[38;5;124moccups_cats_unique_N\u001b[39m\u001b[38;5;124m\"\u001b[39m, \u001b[38;5;124m\"\u001b[39m\u001b[38;5;124mDI\u001b[39m\u001b[38;5;124m\"\u001b[39m, \u001b[38;5;124m\"\u001b[39m\u001b[38;5;124mDIw\u001b[39m\u001b[38;5;124m\"\u001b[39m]]\n",
      "File \u001b[0;32m~/.local/lib/python3.10/site-packages/geopandas/geodataframe.py:1586\u001b[0m, in \u001b[0;36mGeoDataFrame.apply\u001b[0;34m(self, func, axis, raw, result_type, args, **kwargs)\u001b[0m\n\u001b[1;32m   1584\u001b[0m \u001b[38;5;129m@doc\u001b[39m(pd\u001b[38;5;241m.\u001b[39mDataFrame)\n\u001b[1;32m   1585\u001b[0m \u001b[38;5;28;01mdef\u001b[39;00m \u001b[38;5;21mapply\u001b[39m(\u001b[38;5;28mself\u001b[39m, func, axis\u001b[38;5;241m=\u001b[39m\u001b[38;5;241m0\u001b[39m, raw\u001b[38;5;241m=\u001b[39m\u001b[38;5;28;01mFalse\u001b[39;00m, result_type\u001b[38;5;241m=\u001b[39m\u001b[38;5;28;01mNone\u001b[39;00m, args\u001b[38;5;241m=\u001b[39m(), \u001b[38;5;241m*\u001b[39m\u001b[38;5;241m*\u001b[39mkwargs):\n\u001b[0;32m-> 1586\u001b[0m     result \u001b[38;5;241m=\u001b[39m \u001b[38;5;28;43msuper\u001b[39;49m\u001b[43m(\u001b[49m\u001b[43m)\u001b[49m\u001b[38;5;241;43m.\u001b[39;49m\u001b[43mapply\u001b[49m\u001b[43m(\u001b[49m\n\u001b[1;32m   1587\u001b[0m \u001b[43m        \u001b[49m\u001b[43mfunc\u001b[49m\u001b[43m,\u001b[49m\u001b[43m \u001b[49m\u001b[43maxis\u001b[49m\u001b[38;5;241;43m=\u001b[39;49m\u001b[43maxis\u001b[49m\u001b[43m,\u001b[49m\u001b[43m \u001b[49m\u001b[43mraw\u001b[49m\u001b[38;5;241;43m=\u001b[39;49m\u001b[43mraw\u001b[49m\u001b[43m,\u001b[49m\u001b[43m \u001b[49m\u001b[43mresult_type\u001b[49m\u001b[38;5;241;43m=\u001b[39;49m\u001b[43mresult_type\u001b[49m\u001b[43m,\u001b[49m\u001b[43m \u001b[49m\u001b[43margs\u001b[49m\u001b[38;5;241;43m=\u001b[39;49m\u001b[43margs\u001b[49m\u001b[43m,\u001b[49m\u001b[43m \u001b[49m\u001b[38;5;241;43m*\u001b[39;49m\u001b[38;5;241;43m*\u001b[39;49m\u001b[43mkwargs\u001b[49m\n\u001b[1;32m   1588\u001b[0m \u001b[43m    \u001b[49m\u001b[43m)\u001b[49m\n\u001b[1;32m   1589\u001b[0m     \u001b[38;5;66;03m# pandas <1.4 re-attach last geometry col if lost\u001b[39;00m\n\u001b[1;32m   1590\u001b[0m     \u001b[38;5;28;01mif\u001b[39;00m (\n\u001b[1;32m   1591\u001b[0m         \u001b[38;5;129;01mnot\u001b[39;00m compat\u001b[38;5;241m.\u001b[39mPANDAS_GE_14\n\u001b[1;32m   1592\u001b[0m         \u001b[38;5;129;01mand\u001b[39;00m \u001b[38;5;28misinstance\u001b[39m(result, GeoDataFrame)\n\u001b[1;32m   1593\u001b[0m         \u001b[38;5;129;01mand\u001b[39;00m result\u001b[38;5;241m.\u001b[39m_geometry_column_name \u001b[38;5;129;01mis\u001b[39;00m \u001b[38;5;28;01mNone\u001b[39;00m\n\u001b[1;32m   1594\u001b[0m     ):\n",
      "File \u001b[0;32m~/.local/lib/python3.10/site-packages/pandas/core/frame.py:10037\u001b[0m, in \u001b[0;36mDataFrame.apply\u001b[0;34m(self, func, axis, raw, result_type, args, by_row, **kwargs)\u001b[0m\n\u001b[1;32m  10025\u001b[0m \u001b[38;5;28;01mfrom\u001b[39;00m \u001b[38;5;21;01mpandas\u001b[39;00m\u001b[38;5;21;01m.\u001b[39;00m\u001b[38;5;21;01mcore\u001b[39;00m\u001b[38;5;21;01m.\u001b[39;00m\u001b[38;5;21;01mapply\u001b[39;00m \u001b[38;5;28;01mimport\u001b[39;00m frame_apply\n\u001b[1;32m  10027\u001b[0m op \u001b[38;5;241m=\u001b[39m frame_apply(\n\u001b[1;32m  10028\u001b[0m     \u001b[38;5;28mself\u001b[39m,\n\u001b[1;32m  10029\u001b[0m     func\u001b[38;5;241m=\u001b[39mfunc,\n\u001b[0;32m   (...)\u001b[0m\n\u001b[1;32m  10035\u001b[0m     kwargs\u001b[38;5;241m=\u001b[39mkwargs,\n\u001b[1;32m  10036\u001b[0m )\n\u001b[0;32m> 10037\u001b[0m \u001b[38;5;28;01mreturn\u001b[39;00m \u001b[43mop\u001b[49m\u001b[38;5;241;43m.\u001b[39;49m\u001b[43mapply\u001b[49m\u001b[43m(\u001b[49m\u001b[43m)\u001b[49m\u001b[38;5;241m.\u001b[39m__finalize__(\u001b[38;5;28mself\u001b[39m, method\u001b[38;5;241m=\u001b[39m\u001b[38;5;124m\"\u001b[39m\u001b[38;5;124mapply\u001b[39m\u001b[38;5;124m\"\u001b[39m)\n",
      "File \u001b[0;32m~/.local/lib/python3.10/site-packages/pandas/core/apply.py:837\u001b[0m, in \u001b[0;36mFrameApply.apply\u001b[0;34m(self)\u001b[0m\n\u001b[1;32m    834\u001b[0m \u001b[38;5;28;01melif\u001b[39;00m \u001b[38;5;28mself\u001b[39m\u001b[38;5;241m.\u001b[39mraw:\n\u001b[1;32m    835\u001b[0m     \u001b[38;5;28;01mreturn\u001b[39;00m \u001b[38;5;28mself\u001b[39m\u001b[38;5;241m.\u001b[39mapply_raw()\n\u001b[0;32m--> 837\u001b[0m \u001b[38;5;28;01mreturn\u001b[39;00m \u001b[38;5;28;43mself\u001b[39;49m\u001b[38;5;241;43m.\u001b[39;49m\u001b[43mapply_standard\u001b[49m\u001b[43m(\u001b[49m\u001b[43m)\u001b[49m\n",
      "File \u001b[0;32m~/.local/lib/python3.10/site-packages/pandas/core/apply.py:963\u001b[0m, in \u001b[0;36mFrameApply.apply_standard\u001b[0;34m(self)\u001b[0m\n\u001b[1;32m    962\u001b[0m \u001b[38;5;28;01mdef\u001b[39;00m \u001b[38;5;21mapply_standard\u001b[39m(\u001b[38;5;28mself\u001b[39m):\n\u001b[0;32m--> 963\u001b[0m     results, res_index \u001b[38;5;241m=\u001b[39m \u001b[38;5;28;43mself\u001b[39;49m\u001b[38;5;241;43m.\u001b[39;49m\u001b[43mapply_series_generator\u001b[49m\u001b[43m(\u001b[49m\u001b[43m)\u001b[49m\n\u001b[1;32m    965\u001b[0m     \u001b[38;5;66;03m# wrap results\u001b[39;00m\n\u001b[1;32m    966\u001b[0m     \u001b[38;5;28;01mreturn\u001b[39;00m \u001b[38;5;28mself\u001b[39m\u001b[38;5;241m.\u001b[39mwrap_results(results, res_index)\n",
      "File \u001b[0;32m~/.local/lib/python3.10/site-packages/pandas/core/apply.py:979\u001b[0m, in \u001b[0;36mFrameApply.apply_series_generator\u001b[0;34m(self)\u001b[0m\n\u001b[1;32m    976\u001b[0m \u001b[38;5;28;01mwith\u001b[39;00m option_context(\u001b[38;5;124m\"\u001b[39m\u001b[38;5;124mmode.chained_assignment\u001b[39m\u001b[38;5;124m\"\u001b[39m, \u001b[38;5;28;01mNone\u001b[39;00m):\n\u001b[1;32m    977\u001b[0m     \u001b[38;5;28;01mfor\u001b[39;00m i, v \u001b[38;5;129;01min\u001b[39;00m \u001b[38;5;28menumerate\u001b[39m(series_gen):\n\u001b[1;32m    978\u001b[0m         \u001b[38;5;66;03m# ignore SettingWithCopy here in case the user mutates\u001b[39;00m\n\u001b[0;32m--> 979\u001b[0m         results[i] \u001b[38;5;241m=\u001b[39m \u001b[38;5;28;43mself\u001b[39;49m\u001b[38;5;241;43m.\u001b[39;49m\u001b[43mfunc\u001b[49m\u001b[43m(\u001b[49m\u001b[43mv\u001b[49m\u001b[43m,\u001b[49m\u001b[43m \u001b[49m\u001b[38;5;241;43m*\u001b[39;49m\u001b[38;5;28;43mself\u001b[39;49m\u001b[38;5;241;43m.\u001b[39;49m\u001b[43margs\u001b[49m\u001b[43m,\u001b[49m\u001b[43m \u001b[49m\u001b[38;5;241;43m*\u001b[39;49m\u001b[38;5;241;43m*\u001b[39;49m\u001b[38;5;28;43mself\u001b[39;49m\u001b[38;5;241;43m.\u001b[39;49m\u001b[43mkwargs\u001b[49m\u001b[43m)\u001b[49m\n\u001b[1;32m    980\u001b[0m         \u001b[38;5;28;01mif\u001b[39;00m \u001b[38;5;28misinstance\u001b[39m(results[i], ABCSeries):\n\u001b[1;32m    981\u001b[0m             \u001b[38;5;66;03m# If we have a view on v, we need to make a copy because\u001b[39;00m\n\u001b[1;32m    982\u001b[0m             \u001b[38;5;66;03m#  series_generator will swap out the underlying data\u001b[39;00m\n\u001b[1;32m    983\u001b[0m             results[i] \u001b[38;5;241m=\u001b[39m results[i]\u001b[38;5;241m.\u001b[39mcopy(deep\u001b[38;5;241m=\u001b[39m\u001b[38;5;28;01mFalse\u001b[39;00m)\n",
      "Cell \u001b[0;32mIn[94], line 6\u001b[0m, in \u001b[0;36m<lambda>\u001b[0;34m(row)\u001b[0m\n\u001b[1;32m      4\u001b[0m     \u001b[38;5;28;01melse\u001b[39;00m:\n\u001b[1;32m      5\u001b[0m         \u001b[38;5;28;01mreturn\u001b[39;00m a \u001b[38;5;241m/\u001b[39m b\n\u001b[0;32m----> 6\u001b[0m roman_cities_wo[\u001b[38;5;124m\"\u001b[39m\u001b[38;5;124mDIw\u001b[39m\u001b[38;5;124m\"\u001b[39m] \u001b[38;5;241m=\u001b[39m roman_cities_wo\u001b[38;5;241m.\u001b[39mapply(\u001b[38;5;28;01mlambda\u001b[39;00m row: get_diw(row[\u001b[38;5;124m\"\u001b[39m\u001b[38;5;124mDI\u001b[39m\u001b[38;5;124m\"\u001b[39m], \u001b[43mrow\u001b[49m\u001b[43m[\u001b[49m\u001b[38;5;124;43m'\u001b[39;49m\u001b[38;5;124;43moccups_N_log\u001b[39;49m\u001b[38;5;124;43m'\u001b[39;49m\u001b[43m]\u001b[49m), axis\u001b[38;5;241m=\u001b[39m\u001b[38;5;241m1\u001b[39m)\n\u001b[1;32m      7\u001b[0m roman_cities_wo\u001b[38;5;241m.\u001b[39msort_values(\u001b[38;5;124m\"\u001b[39m\u001b[38;5;124mDIw\u001b[39m\u001b[38;5;124m\"\u001b[39m, ascending\u001b[38;5;241m=\u001b[39m\u001b[38;5;28;01mFalse\u001b[39;00m)[[\u001b[38;5;124m\"\u001b[39m\u001b[38;5;124mAncient Toponym\u001b[39m\u001b[38;5;124m\"\u001b[39m, \u001b[38;5;124m\"\u001b[39m\u001b[38;5;124minscr_N\u001b[39m\u001b[38;5;124m\"\u001b[39m, \u001b[38;5;124m\"\u001b[39m\u001b[38;5;124moccups_N\u001b[39m\u001b[38;5;124m\"\u001b[39m, \u001b[38;5;124m\"\u001b[39m\u001b[38;5;124moccups_list\u001b[39m\u001b[38;5;124m\"\u001b[39m, \u001b[38;5;124m\"\u001b[39m\u001b[38;5;124moccups_cats_unique_N\u001b[39m\u001b[38;5;124m\"\u001b[39m, \u001b[38;5;124m\"\u001b[39m\u001b[38;5;124mDI\u001b[39m\u001b[38;5;124m\"\u001b[39m, \u001b[38;5;124m\"\u001b[39m\u001b[38;5;124mDIw\u001b[39m\u001b[38;5;124m\"\u001b[39m]]\n",
      "File \u001b[0;32m~/.local/lib/python3.10/site-packages/pandas/core/series.py:1040\u001b[0m, in \u001b[0;36mSeries.__getitem__\u001b[0;34m(self, key)\u001b[0m\n\u001b[1;32m   1037\u001b[0m     \u001b[38;5;28;01mreturn\u001b[39;00m \u001b[38;5;28mself\u001b[39m\u001b[38;5;241m.\u001b[39m_values[key]\n\u001b[1;32m   1039\u001b[0m \u001b[38;5;28;01melif\u001b[39;00m key_is_scalar:\n\u001b[0;32m-> 1040\u001b[0m     \u001b[38;5;28;01mreturn\u001b[39;00m \u001b[38;5;28;43mself\u001b[39;49m\u001b[38;5;241;43m.\u001b[39;49m\u001b[43m_get_value\u001b[49m\u001b[43m(\u001b[49m\u001b[43mkey\u001b[49m\u001b[43m)\u001b[49m\n\u001b[1;32m   1042\u001b[0m \u001b[38;5;66;03m# Convert generator to list before going through hashable part\u001b[39;00m\n\u001b[1;32m   1043\u001b[0m \u001b[38;5;66;03m# (We will iterate through the generator there to check for slices)\u001b[39;00m\n\u001b[1;32m   1044\u001b[0m \u001b[38;5;28;01mif\u001b[39;00m is_iterator(key):\n",
      "File \u001b[0;32m~/.local/lib/python3.10/site-packages/pandas/core/series.py:1156\u001b[0m, in \u001b[0;36mSeries._get_value\u001b[0;34m(self, label, takeable)\u001b[0m\n\u001b[1;32m   1153\u001b[0m     \u001b[38;5;28;01mreturn\u001b[39;00m \u001b[38;5;28mself\u001b[39m\u001b[38;5;241m.\u001b[39m_values[label]\n\u001b[1;32m   1155\u001b[0m \u001b[38;5;66;03m# Similar to Index.get_value, but we do not fall back to positional\u001b[39;00m\n\u001b[0;32m-> 1156\u001b[0m loc \u001b[38;5;241m=\u001b[39m \u001b[38;5;28;43mself\u001b[39;49m\u001b[38;5;241;43m.\u001b[39;49m\u001b[43mindex\u001b[49m\u001b[38;5;241;43m.\u001b[39;49m\u001b[43mget_loc\u001b[49m\u001b[43m(\u001b[49m\u001b[43mlabel\u001b[49m\u001b[43m)\u001b[49m\n\u001b[1;32m   1158\u001b[0m \u001b[38;5;28;01mif\u001b[39;00m is_integer(loc):\n\u001b[1;32m   1159\u001b[0m     \u001b[38;5;28;01mreturn\u001b[39;00m \u001b[38;5;28mself\u001b[39m\u001b[38;5;241m.\u001b[39m_values[loc]\n",
      "File \u001b[0;32m~/.local/lib/python3.10/site-packages/pandas/core/indexes/base.py:3797\u001b[0m, in \u001b[0;36mIndex.get_loc\u001b[0;34m(self, key)\u001b[0m\n\u001b[1;32m   3792\u001b[0m     \u001b[38;5;28;01mif\u001b[39;00m \u001b[38;5;28misinstance\u001b[39m(casted_key, \u001b[38;5;28mslice\u001b[39m) \u001b[38;5;129;01mor\u001b[39;00m (\n\u001b[1;32m   3793\u001b[0m         \u001b[38;5;28misinstance\u001b[39m(casted_key, abc\u001b[38;5;241m.\u001b[39mIterable)\n\u001b[1;32m   3794\u001b[0m         \u001b[38;5;129;01mand\u001b[39;00m \u001b[38;5;28many\u001b[39m(\u001b[38;5;28misinstance\u001b[39m(x, \u001b[38;5;28mslice\u001b[39m) \u001b[38;5;28;01mfor\u001b[39;00m x \u001b[38;5;129;01min\u001b[39;00m casted_key)\n\u001b[1;32m   3795\u001b[0m     ):\n\u001b[1;32m   3796\u001b[0m         \u001b[38;5;28;01mraise\u001b[39;00m InvalidIndexError(key)\n\u001b[0;32m-> 3797\u001b[0m     \u001b[38;5;28;01mraise\u001b[39;00m \u001b[38;5;167;01mKeyError\u001b[39;00m(key) \u001b[38;5;28;01mfrom\u001b[39;00m \u001b[38;5;21;01merr\u001b[39;00m\n\u001b[1;32m   3798\u001b[0m \u001b[38;5;28;01mexcept\u001b[39;00m \u001b[38;5;167;01mTypeError\u001b[39;00m:\n\u001b[1;32m   3799\u001b[0m     \u001b[38;5;66;03m# If we have a listlike key, _check_indexing_error will raise\u001b[39;00m\n\u001b[1;32m   3800\u001b[0m     \u001b[38;5;66;03m#  InvalidIndexError. Otherwise we fall through and re-raise\u001b[39;00m\n\u001b[1;32m   3801\u001b[0m     \u001b[38;5;66;03m#  the TypeError.\u001b[39;00m\n\u001b[1;32m   3802\u001b[0m     \u001b[38;5;28mself\u001b[39m\u001b[38;5;241m.\u001b[39m_check_indexing_error(key)\n",
      "\u001b[0;31mKeyError\u001b[0m: 'occups_N_log'"
     ]
    }
   ],
   "source": [
    "def get_diw(a,b):\n",
    "    if b==0:\n",
    "        return 0\n",
    "    else:\n",
    "        return a / b\n",
    "roman_cities_wo[\"DIw\"] = roman_cities_wo.apply(lambda row: get_diw(row[\"DI\"], row['occups_N_log']), axis=1)\n",
    "roman_cities_wo.sort_values(\"DIw\", ascending=False)[[\"Ancient Toponym\", \"inscr_N\", \"occups_N\", \"occups_list\", \"occups_cats_unique_N\", \"DI\", \"DIw\"]]"
   ]
  },
  {
   "cell_type": "markdown",
   "metadata": {
    "pycharm": {
     "name": "#%% md\n"
    }
   },
   "source": [
    "# Overview tables"
   ]
  },
  {
   "cell_type": "markdown",
   "metadata": {},
   "source": [
    "### Trier"
   ]
  },
  {
   "cell_type": "code",
   "execution_count": 97,
   "metadata": {
    "pycharm": {
     "name": "#%%\n"
    }
   },
   "outputs": [
    {
     "data": {
      "text/html": [
       "<div>\n",
       "<style scoped>\n",
       "    .dataframe tbody tr th:only-of-type {\n",
       "        vertical-align: middle;\n",
       "    }\n",
       "\n",
       "    .dataframe tbody tr th {\n",
       "        vertical-align: top;\n",
       "    }\n",
       "\n",
       "    .dataframe thead th {\n",
       "        text-align: right;\n",
       "    }\n",
       "</style>\n",
       "<table border=\"1\" class=\"dataframe\">\n",
       "  <thead>\n",
       "    <tr style=\"text-align: right;\">\n",
       "      <th></th>\n",
       "      <th>Primary Key</th>\n",
       "      <th>Ancient Toponym</th>\n",
       "      <th>Modern Toponym</th>\n",
       "      <th>Province</th>\n",
       "      <th>Country</th>\n",
       "      <th>Barrington Atlas Rank</th>\n",
       "      <th>Barrington Atlas Reference</th>\n",
       "      <th>Start Date</th>\n",
       "      <th>End Date</th>\n",
       "      <th>Select Bibliography</th>\n",
       "      <th>...</th>\n",
       "      <th>occups_cats_unique_N</th>\n",
       "      <th>occups_cats_vec</th>\n",
       "      <th>shares_vec</th>\n",
       "      <th>ZI</th>\n",
       "      <th>largest_cat</th>\n",
       "      <th>ZI_cat</th>\n",
       "      <th>shares_weighted_vec</th>\n",
       "      <th>RZI</th>\n",
       "      <th>RZI_cat</th>\n",
       "      <th>DI</th>\n",
       "    </tr>\n",
       "  </thead>\n",
       "  <tbody>\n",
       "    <tr>\n",
       "      <th>586</th>\n",
       "      <td>Hanson2016_587</td>\n",
       "      <td>Colonia Augusta Treverorum</td>\n",
       "      <td>Trier</td>\n",
       "      <td>Gallia Belgica</td>\n",
       "      <td>Germany</td>\n",
       "      <td>2</td>\n",
       "      <td>11 G3</td>\n",
       "      <td>-27</td>\n",
       "      <td>NaN</td>\n",
       "      <td>Bedon 2001; Bedon et al 1988; Benario 1981; Go...</td>\n",
       "      <td>...</td>\n",
       "      <td>11</td>\n",
       "      <td>[4, 9, 4, 0, 3, 1, 1, 4, 0, 0, 0, 0, 0, 0, 1, ...</td>\n",
       "      <td>[0.125, 0.28125, 0.125, 0.0, 0.09375, 0.03125,...</td>\n",
       "      <td>0.28125</td>\n",
       "      <td>9</td>\n",
       "      <td>Retail</td>\n",
       "      <td>[2.2285867237687365, 3.4691666666666667, 1.307...</td>\n",
       "      <td>33.9375</td>\n",
       "      <td>Glass-Working</td>\n",
       "      <td>6.736842</td>\n",
       "    </tr>\n",
       "  </tbody>\n",
       "</table>\n",
       "<p>1 rows × 43 columns</p>\n",
       "</div>"
      ],
      "text/plain": [
       "        Primary Key             Ancient Toponym Modern Toponym  \\\n",
       "586  Hanson2016_587  Colonia Augusta Treverorum          Trier   \n",
       "\n",
       "           Province  Country Barrington Atlas Rank Barrington Atlas Reference  \\\n",
       "586  Gallia Belgica  Germany                     2                      11 G3   \n",
       "\n",
       "     Start Date  End Date                                Select Bibliography  \\\n",
       "586         -27       NaN  Bedon 2001; Bedon et al 1988; Benario 1981; Go...   \n",
       "\n",
       "     ...  occups_cats_unique_N  \\\n",
       "586  ...                    11   \n",
       "\n",
       "                                       occups_cats_vec  \\\n",
       "586  [4, 9, 4, 0, 3, 1, 1, 4, 0, 0, 0, 0, 0, 0, 1, ...   \n",
       "\n",
       "                                            shares_vec       ZI  largest_cat  \\\n",
       "586  [0.125, 0.28125, 0.125, 0.0, 0.09375, 0.03125,...  0.28125            9   \n",
       "\n",
       "     ZI_cat                                shares_weighted_vec      RZI  \\\n",
       "586  Retail  [2.2285867237687365, 3.4691666666666667, 1.307...  33.9375   \n",
       "\n",
       "           RZI_cat        DI  \n",
       "586  Glass-Working  6.736842  \n",
       "\n",
       "[1 rows x 43 columns]"
      ]
     },
     "execution_count": 97,
     "metadata": {},
     "output_type": "execute_result"
    }
   ],
   "source": [
    "roman_cities_wo[roman_cities_wo[\"Modern Toponym\"]==\"Trier\"]"
   ]
  },
  {
   "cell_type": "code",
   "execution_count": 98,
   "metadata": {
    "pycharm": {
     "name": "#%%\n"
    }
   },
   "outputs": [
    {
     "data": {
      "text/html": [
       "<div>\n",
       "<style scoped>\n",
       "    .dataframe tbody tr th:only-of-type {\n",
       "        vertical-align: middle;\n",
       "    }\n",
       "\n",
       "    .dataframe tbody tr th {\n",
       "        vertical-align: top;\n",
       "    }\n",
       "\n",
       "    .dataframe thead th {\n",
       "        text-align: right;\n",
       "    }\n",
       "</style>\n",
       "<table border=\"1\" class=\"dataframe\">\n",
       "  <thead>\n",
       "    <tr style=\"text-align: right;\">\n",
       "      <th></th>\n",
       "      <th>Primary Key</th>\n",
       "      <th>Ancient Toponym</th>\n",
       "      <th>Modern Toponym</th>\n",
       "      <th>Province</th>\n",
       "      <th>Country</th>\n",
       "      <th>Barrington Atlas Rank</th>\n",
       "      <th>Barrington Atlas Reference</th>\n",
       "      <th>Start Date</th>\n",
       "      <th>End Date</th>\n",
       "      <th>Select Bibliography</th>\n",
       "      <th>...</th>\n",
       "      <th>occups_cats_unique_N</th>\n",
       "      <th>occups_cats_vec</th>\n",
       "      <th>shares_vec</th>\n",
       "      <th>ZI</th>\n",
       "      <th>largest_cat</th>\n",
       "      <th>ZI_cat</th>\n",
       "      <th>shares_weighted_vec</th>\n",
       "      <th>RZI</th>\n",
       "      <th>RZI_cat</th>\n",
       "      <th>DI</th>\n",
       "    </tr>\n",
       "  </thead>\n",
       "  <tbody>\n",
       "    <tr>\n",
       "      <th>784</th>\n",
       "      <td>Hanson2016_785</td>\n",
       "      <td>Nola</td>\n",
       "      <td>Nola</td>\n",
       "      <td>Italia (I Latium and Campania)</td>\n",
       "      <td>Italy</td>\n",
       "      <td>2</td>\n",
       "      <td>44 G4</td>\n",
       "      <td>-600</td>\n",
       "      <td>NaN</td>\n",
       "      <td>Beloch 1880; Bispham 2007; Cornell and Mathews...</td>\n",
       "      <td>...</td>\n",
       "      <td>5</td>\n",
       "      <td>[0, 0, 0, 0, 0, 0, 0, 0, 1, 0, 0, 5, 1, 0, 1, ...</td>\n",
       "      <td>[0.0, 0.0, 0.0, 0.0, 0.0, 0.0, 0.0, 0.0, 0.083...</td>\n",
       "      <td>0.416667</td>\n",
       "      <td>5</td>\n",
       "      <td>Managerial</td>\n",
       "      <td>[0.0, 0.0, 0.0, 0.0, 0.0, 0.0, 0.0, 0.0, 1.725...</td>\n",
       "      <td>4.004810</td>\n",
       "      <td>Unclassified</td>\n",
       "      <td>3.272727</td>\n",
       "    </tr>\n",
       "    <tr>\n",
       "      <th>367</th>\n",
       "      <td>Hanson2016_368</td>\n",
       "      <td>Ucubi</td>\n",
       "      <td>Espejo</td>\n",
       "      <td>Baetica</td>\n",
       "      <td>Spain</td>\n",
       "      <td>3</td>\n",
       "      <td>27 A4</td>\n",
       "      <td>-49</td>\n",
       "      <td>NaN</td>\n",
       "      <td>Brunt 1971; Cornell and Mathews 1982; DGRG; Ke...</td>\n",
       "      <td>...</td>\n",
       "      <td>1</td>\n",
       "      <td>[0, 0, 0, 0, 0, 0, 0, 0, 0, 0, 0, 1, 0, 0, 0, ...</td>\n",
       "      <td>[0.0, 0.0, 0.0, 0.0, 0.0, 0.0, 0.0, 0.0, 0.0, ...</td>\n",
       "      <td>1.000000</td>\n",
       "      <td>1</td>\n",
       "      <td>Managerial</td>\n",
       "      <td>[0.0, 0.0, 0.0, 0.0, 0.0, 0.0, 0.0, 0.0, 0.0, ...</td>\n",
       "      <td>4.765884</td>\n",
       "      <td>Managerial</td>\n",
       "      <td>1.000000</td>\n",
       "    </tr>\n",
       "    <tr>\n",
       "      <th>1026</th>\n",
       "      <td>Hanson2016_1027</td>\n",
       "      <td>Albingaunum</td>\n",
       "      <td>Albenga</td>\n",
       "      <td>Italia (IX Liguria)</td>\n",
       "      <td>Italy</td>\n",
       "      <td>3</td>\n",
       "      <td>16 F1</td>\n",
       "      <td>-89</td>\n",
       "      <td>NaN</td>\n",
       "      <td>Beloch 1880; BNP; de Ligt 2012; DGRG; Golvin 1...</td>\n",
       "      <td>...</td>\n",
       "      <td>2</td>\n",
       "      <td>[1, 0, 0, 0, 0, 0, 0, 0, 0, 0, 0, 3, 0, 0, 0, ...</td>\n",
       "      <td>[0.25, 0.0, 0.0, 0.0, 0.0, 0.0, 0.0, 0.0, 0.0,...</td>\n",
       "      <td>0.750000</td>\n",
       "      <td>3</td>\n",
       "      <td>Managerial</td>\n",
       "      <td>[4.457173447537473, 0.0, 0.0, 0.0, 0.0, 0.0, 0...</td>\n",
       "      <td>4.457173</td>\n",
       "      <td>Food-Production</td>\n",
       "      <td>1.600000</td>\n",
       "    </tr>\n",
       "    <tr>\n",
       "      <th>1031</th>\n",
       "      <td>Hanson2016_1032</td>\n",
       "      <td>Dertona</td>\n",
       "      <td>Tortona</td>\n",
       "      <td>Italia (IX Liguria)</td>\n",
       "      <td>Italy</td>\n",
       "      <td>3</td>\n",
       "      <td>39 D4</td>\n",
       "      <td>-123</td>\n",
       "      <td>NaN</td>\n",
       "      <td>Beloch 1880; BNP; Cornell and Mathews 1982; de...</td>\n",
       "      <td>...</td>\n",
       "      <td>7</td>\n",
       "      <td>[1, 3, 1, 0, 0, 0, 0, 0, 0, 0, 0, 0, 0, 0, 2, ...</td>\n",
       "      <td>[0.07692307692307693, 0.23076923076923078, 0.0...</td>\n",
       "      <td>0.307692</td>\n",
       "      <td>4</td>\n",
       "      <td>Unclassified</td>\n",
       "      <td>[1.371437983857684, 2.8464957264957267, 0.8045...</td>\n",
       "      <td>3.696748</td>\n",
       "      <td>Unclassified</td>\n",
       "      <td>5.121212</td>\n",
       "    </tr>\n",
       "    <tr>\n",
       "      <th>991</th>\n",
       "      <td>Hanson2016_992</td>\n",
       "      <td>Roma</td>\n",
       "      <td>Rome</td>\n",
       "      <td>Italia (VII Etruria)</td>\n",
       "      <td>Italy</td>\n",
       "      <td>1</td>\n",
       "      <td>43 B2</td>\n",
       "      <td>-700</td>\n",
       "      <td>NaN</td>\n",
       "      <td>Beloch 1886; Benario 1981; de Ligt 2012; Golvi...</td>\n",
       "      <td>...</td>\n",
       "      <td>19</td>\n",
       "      <td>[268, 301, 346, 2, 11, 77, 41, 62, 203, 3, 43,...</td>\n",
       "      <td>[0.08653535679690022, 0.09719082983532451, 0.1...</td>\n",
       "      <td>0.174362</td>\n",
       "      <td>540</td>\n",
       "      <td>Miscellaneous Services</td>\n",
       "      <td>[1.5428123783533003, 1.1988308877169065, 1.168...</td>\n",
       "      <td>1.873739</td>\n",
       "      <td>Water-Management</td>\n",
       "      <td>9.412875</td>\n",
       "    </tr>\n",
       "    <tr>\n",
       "      <th>732</th>\n",
       "      <td>Hanson2016_733</td>\n",
       "      <td>Toletum</td>\n",
       "      <td>Toledo</td>\n",
       "      <td>Hispania Tarraconensis</td>\n",
       "      <td>Spain</td>\n",
       "      <td>3</td>\n",
       "      <td>27 A2</td>\n",
       "      <td>-50</td>\n",
       "      <td>NaN</td>\n",
       "      <td>BNP; Carreras Monfort 1995-1996; DGRG; Nelis-C...</td>\n",
       "      <td>...</td>\n",
       "      <td>1</td>\n",
       "      <td>[0, 0, 0, 0, 0, 0, 0, 0, 0, 0, 0, 1, 0, 0, 0, ...</td>\n",
       "      <td>[0.0, 0.0, 0.0, 0.0, 0.0, 0.0, 0.0, 0.0, 0.0, ...</td>\n",
       "      <td>1.000000</td>\n",
       "      <td>1</td>\n",
       "      <td>Managerial</td>\n",
       "      <td>[0.0, 0.0, 0.0, 0.0, 0.0, 0.0, 0.0, 0.0, 0.0, ...</td>\n",
       "      <td>4.765884</td>\n",
       "      <td>Managerial</td>\n",
       "      <td>1.000000</td>\n",
       "    </tr>\n",
       "    <tr>\n",
       "      <th>192</th>\n",
       "      <td>Hanson2016_193</td>\n",
       "      <td>Pupput</td>\n",
       "      <td>Henchir Souk el Abiod</td>\n",
       "      <td>Africa Proconsularis</td>\n",
       "      <td>Tunisia</td>\n",
       "      <td>3</td>\n",
       "      <td>32 G4</td>\n",
       "      <td>100</td>\n",
       "      <td>NaN</td>\n",
       "      <td>BNP; Bomgardner 2000; DGRG; Lepelley 1979-1981...</td>\n",
       "      <td>...</td>\n",
       "      <td>3</td>\n",
       "      <td>[0, 2, 2, 0, 0, 0, 0, 0, 0, 0, 0, 5, 0, 0, 0, ...</td>\n",
       "      <td>[0.0, 0.2222222222222222, 0.2222222222222222, ...</td>\n",
       "      <td>0.555556</td>\n",
       "      <td>5</td>\n",
       "      <td>Managerial</td>\n",
       "      <td>[0.0, 2.7410699588477367, 2.324399776661083, 0...</td>\n",
       "      <td>2.741070</td>\n",
       "      <td>Retail</td>\n",
       "      <td>2.454545</td>\n",
       "    </tr>\n",
       "    <tr>\n",
       "      <th>1274</th>\n",
       "      <td>Hanson2016_1275</td>\n",
       "      <td>Aquae Balissae</td>\n",
       "      <td>Daruvar</td>\n",
       "      <td>Pannonia Superior</td>\n",
       "      <td>Croatia</td>\n",
       "      <td>3</td>\n",
       "      <td>20 E4</td>\n",
       "      <td>100</td>\n",
       "      <td>NaN</td>\n",
       "      <td>BNP; DGRG; PECS; Wilkes 2003b.</td>\n",
       "      <td>...</td>\n",
       "      <td>1</td>\n",
       "      <td>[0, 0, 0, 0, 0, 0, 0, 0, 1, 0, 0, 0, 0, 0, 0, ...</td>\n",
       "      <td>[0.0, 0.0, 0.0, 0.0, 0.0, 0.0, 0.0, 0.0, 1.0, ...</td>\n",
       "      <td>1.000000</td>\n",
       "      <td>1</td>\n",
       "      <td>Education</td>\n",
       "      <td>[0.0, 0.0, 0.0, 0.0, 0.0, 0.0, 0.0, 0.0, 20.71...</td>\n",
       "      <td>20.711443</td>\n",
       "      <td>Education</td>\n",
       "      <td>1.000000</td>\n",
       "    </tr>\n",
       "    <tr>\n",
       "      <th>649</th>\n",
       "      <td>Hanson2016_650</td>\n",
       "      <td>Mauves</td>\n",
       "      <td>Mauves</td>\n",
       "      <td>Gallia Narbonensis</td>\n",
       "      <td>France</td>\n",
       "      <td>4 or 5</td>\n",
       "      <td>14 D1</td>\n",
       "      <td>-27</td>\n",
       "      <td>NaN</td>\n",
       "      <td>PECS; Sear 2006.</td>\n",
       "      <td>...</td>\n",
       "      <td>3</td>\n",
       "      <td>[0, 0, 1, 0, 0, 0, 1, 0, 0, 0, 0, 0, 0, 0, 0, ...</td>\n",
       "      <td>[0.0, 0.0, 0.3333333333333333, 0.0, 0.0, 0.0, ...</td>\n",
       "      <td>0.333333</td>\n",
       "      <td>1</td>\n",
       "      <td>Metal-Working</td>\n",
       "      <td>[0.0, 0.0, 3.4865996649916244, 0.0, 0.0, 0.0, ...</td>\n",
       "      <td>8.981661</td>\n",
       "      <td>Transport</td>\n",
       "      <td>3.000000</td>\n",
       "    </tr>\n",
       "    <tr>\n",
       "      <th>193</th>\n",
       "      <td>Hanson2016_194</td>\n",
       "      <td>Sabratha</td>\n",
       "      <td>Sabrata</td>\n",
       "      <td>Africa Proconsularis</td>\n",
       "      <td>Libya</td>\n",
       "      <td>2</td>\n",
       "      <td>35 E2</td>\n",
       "      <td>-200</td>\n",
       "      <td>NaN</td>\n",
       "      <td>BNP; Bomgardner 2000; Lepelley 1979-1981; PECS...</td>\n",
       "      <td>...</td>\n",
       "      <td>4</td>\n",
       "      <td>[0, 0, 1, 0, 0, 0, 0, 0, 1, 0, 0, 4, 0, 0, 1, ...</td>\n",
       "      <td>[0.0, 0.0, 0.14285714285714285, 0.0, 0.0, 0.0,...</td>\n",
       "      <td>0.571429</td>\n",
       "      <td>4</td>\n",
       "      <td>Managerial</td>\n",
       "      <td>[0.0, 0.0, 1.4942569992821249, 0.0, 0.0, 0.0, ...</td>\n",
       "      <td>3.154983</td>\n",
       "      <td>Performing Arts</td>\n",
       "      <td>2.578947</td>\n",
       "    </tr>\n",
       "    <tr>\n",
       "      <th>586</th>\n",
       "      <td>Hanson2016_587</td>\n",
       "      <td>Colonia Augusta Treverorum</td>\n",
       "      <td>Trier</td>\n",
       "      <td>Gallia Belgica</td>\n",
       "      <td>Germany</td>\n",
       "      <td>2</td>\n",
       "      <td>11 G3</td>\n",
       "      <td>-27</td>\n",
       "      <td>NaN</td>\n",
       "      <td>Bedon 2001; Bedon et al 1988; Benario 1981; Go...</td>\n",
       "      <td>...</td>\n",
       "      <td>11</td>\n",
       "      <td>[4, 9, 4, 0, 3, 1, 1, 4, 0, 0, 0, 0, 0, 0, 1, ...</td>\n",
       "      <td>[0.125, 0.28125, 0.125, 0.0, 0.09375, 0.03125,...</td>\n",
       "      <td>0.281250</td>\n",
       "      <td>9</td>\n",
       "      <td>Retail</td>\n",
       "      <td>[2.2285867237687365, 3.4691666666666667, 1.307...</td>\n",
       "      <td>33.937500</td>\n",
       "      <td>Glass-Working</td>\n",
       "      <td>6.736842</td>\n",
       "    </tr>\n",
       "    <tr>\n",
       "      <th>1272</th>\n",
       "      <td>Hanson2016_1273</td>\n",
       "      <td>Sirmium</td>\n",
       "      <td>Sremska Mitrovica</td>\n",
       "      <td>Pannonia Inferior</td>\n",
       "      <td>Serbia</td>\n",
       "      <td>2</td>\n",
       "      <td>21 B5</td>\n",
       "      <td>1</td>\n",
       "      <td>NaN</td>\n",
       "      <td>McEvedy 2011; PECS; Salmon 1969; Sear 2006; Wi...</td>\n",
       "      <td>...</td>\n",
       "      <td>4</td>\n",
       "      <td>[0, 3, 2, 0, 0, 0, 0, 2, 0, 0, 0, 0, 0, 0, 0, ...</td>\n",
       "      <td>[0.0, 0.3333333333333333, 0.2222222222222222, ...</td>\n",
       "      <td>0.333333</td>\n",
       "      <td>3</td>\n",
       "      <td>Retail</td>\n",
       "      <td>[0.0, 4.111604938271605, 2.324399776661083, 0....</td>\n",
       "      <td>14.342808</td>\n",
       "      <td>Plastic Arts</td>\n",
       "      <td>3.857143</td>\n",
       "    </tr>\n",
       "    <tr>\n",
       "      <th>1062</th>\n",
       "      <td>Hanson2016_1063</td>\n",
       "      <td>Tridentum</td>\n",
       "      <td>Trento</td>\n",
       "      <td>Italia (X Venetia et Histria)</td>\n",
       "      <td>Italy</td>\n",
       "      <td>3</td>\n",
       "      <td>39 I1</td>\n",
       "      <td>-23</td>\n",
       "      <td>NaN</td>\n",
       "      <td>Beloch 1880; de Ligt 2012; PECS; Salmon 1969; ...</td>\n",
       "      <td>...</td>\n",
       "      <td>3</td>\n",
       "      <td>[0, 0, 0, 0, 0, 0, 0, 0, 0, 0, 0, 1, 1, 0, 0, ...</td>\n",
       "      <td>[0.0, 0.0, 0.0, 0.0, 0.0, 0.0, 0.0, 0.0, 0.0, ...</td>\n",
       "      <td>0.333333</td>\n",
       "      <td>1</td>\n",
       "      <td>Managerial</td>\n",
       "      <td>[0.0, 0.0, 0.0, 0.0, 0.0, 0.0, 0.0, 0.0, 0.0, ...</td>\n",
       "      <td>5.474030</td>\n",
       "      <td>Clothing</td>\n",
       "      <td>3.000000</td>\n",
       "    </tr>\n",
       "    <tr>\n",
       "      <th>1073</th>\n",
       "      <td>Hanson2016_1074</td>\n",
       "      <td>Ticinum</td>\n",
       "      <td>Pavia</td>\n",
       "      <td>Italia (XI Transpadana)</td>\n",
       "      <td>Italy</td>\n",
       "      <td>4 or 5</td>\n",
       "      <td>39 E3</td>\n",
       "      <td>-50</td>\n",
       "      <td>NaN</td>\n",
       "      <td>Beloch 1880; de Ligt 2012; McEvedy 2011; PECS;...</td>\n",
       "      <td>...</td>\n",
       "      <td>7</td>\n",
       "      <td>[0, 0, 2, 0, 0, 0, 1, 1, 0, 0, 0, 1, 1, 0, 0, ...</td>\n",
       "      <td>[0.0, 0.0, 0.25, 0.0, 0.0, 0.0, 0.125, 0.125, ...</td>\n",
       "      <td>0.250000</td>\n",
       "      <td>2</td>\n",
       "      <td>Metal-Working</td>\n",
       "      <td>[0.0, 0.0, 2.6149497487437183, 0.0, 0.0, 0.0, ...</td>\n",
       "      <td>8.067829</td>\n",
       "      <td>Plastic Arts</td>\n",
       "      <td>6.400000</td>\n",
       "    </tr>\n",
       "    <tr>\n",
       "      <th>1074</th>\n",
       "      <td>Hanson2016_1075</td>\n",
       "      <td>Vercellae</td>\n",
       "      <td>Vercelli</td>\n",
       "      <td>Italia (XI Transpadana)</td>\n",
       "      <td>Italy</td>\n",
       "      <td>3</td>\n",
       "      <td>39 C3</td>\n",
       "      <td>-50</td>\n",
       "      <td>NaN</td>\n",
       "      <td>Beloch 1880; de Ligt 2012; Nelis-Clément and R...</td>\n",
       "      <td>...</td>\n",
       "      <td>6</td>\n",
       "      <td>[3, 1, 1, 0, 0, 0, 0, 0, 0, 0, 0, 1, 1, 0, 0, ...</td>\n",
       "      <td>[0.375, 0.125, 0.125, 0.0, 0.0, 0.0, 0.0, 0.0,...</td>\n",
       "      <td>0.375000</td>\n",
       "      <td>3</td>\n",
       "      <td>Food-Production</td>\n",
       "      <td>[6.685760171306209, 1.5418518518518518, 1.3074...</td>\n",
       "      <td>6.685760</td>\n",
       "      <td>Food-Production</td>\n",
       "      <td>4.571429</td>\n",
       "    </tr>\n",
       "    <tr>\n",
       "      <th>546</th>\n",
       "      <td>Hanson2016_547</td>\n",
       "      <td>Salona</td>\n",
       "      <td>Solin</td>\n",
       "      <td>Dalmatia</td>\n",
       "      <td>Croatia</td>\n",
       "      <td>2</td>\n",
       "      <td>20 D6</td>\n",
       "      <td>-78</td>\n",
       "      <td>NaN</td>\n",
       "      <td>BNP; Bomgardner 2000; Brunt 1971; Cornell and ...</td>\n",
       "      <td>...</td>\n",
       "      <td>15</td>\n",
       "      <td>[1, 13, 5, 0, 1, 1, 2, 0, 4, 0, 0, 9, 10, 1, 4...</td>\n",
       "      <td>[0.01098901098901099, 0.14285714285714285, 0.0...</td>\n",
       "      <td>0.263736</td>\n",
       "      <td>24</td>\n",
       "      <td>Unclassified</td>\n",
       "      <td>[0.19591971197966918, 1.762116402116402, 0.574...</td>\n",
       "      <td>3.978022</td>\n",
       "      <td>Glass-Working</td>\n",
       "      <td>7.360889</td>\n",
       "    </tr>\n",
       "    <tr>\n",
       "      <th>1071</th>\n",
       "      <td>Hanson2016_1072</td>\n",
       "      <td>Mediolanum (Italia (XI Transpadana))</td>\n",
       "      <td>Milan</td>\n",
       "      <td>Italia (XI Transpadana)</td>\n",
       "      <td>Italy</td>\n",
       "      <td>1</td>\n",
       "      <td>39 E3</td>\n",
       "      <td>-89</td>\n",
       "      <td>NaN</td>\n",
       "      <td>Beloch 1880; Beloch 1886; Benario 1981; de Lig...</td>\n",
       "      <td>...</td>\n",
       "      <td>13</td>\n",
       "      <td>[2, 9, 8, 0, 0, 0, 4, 0, 2, 0, 1, 14, 7, 0, 2,...</td>\n",
       "      <td>[0.03278688524590164, 0.14754098360655737, 0.1...</td>\n",
       "      <td>0.229508</td>\n",
       "      <td>14</td>\n",
       "      <td>Managerial</td>\n",
       "      <td>[0.5845473373819637, 1.8198907103825137, 1.371...</td>\n",
       "      <td>1.884502</td>\n",
       "      <td>Clothing</td>\n",
       "      <td>7.866808</td>\n",
       "    </tr>\n",
       "    <tr>\n",
       "      <th>1037</th>\n",
       "      <td>Hanson2016_1038</td>\n",
       "      <td>Vada Sabatia</td>\n",
       "      <td>Vado Ligure</td>\n",
       "      <td>Italia (IX Liguria)</td>\n",
       "      <td>Italy</td>\n",
       "      <td>4 or 5</td>\n",
       "      <td>39 C5</td>\n",
       "      <td>-89</td>\n",
       "      <td>NaN</td>\n",
       "      <td>de Ligt 2012; DGRG.</td>\n",
       "      <td>...</td>\n",
       "      <td>2</td>\n",
       "      <td>[0, 0, 0, 0, 0, 0, 0, 0, 0, 0, 0, 2, 1, 0, 0, ...</td>\n",
       "      <td>[0.0, 0.0, 0.0, 0.0, 0.0, 0.0, 0.0, 0.0, 0.0, ...</td>\n",
       "      <td>0.666667</td>\n",
       "      <td>2</td>\n",
       "      <td>Managerial</td>\n",
       "      <td>[0.0, 0.0, 0.0, 0.0, 0.0, 0.0, 0.0, 0.0, 0.0, ...</td>\n",
       "      <td>5.474030</td>\n",
       "      <td>Clothing</td>\n",
       "      <td>1.800000</td>\n",
       "    </tr>\n",
       "    <tr>\n",
       "      <th>824</th>\n",
       "      <td>Hanson2016_825</td>\n",
       "      <td>Cannae</td>\n",
       "      <td>Monte di Canne</td>\n",
       "      <td>Italia (II Apulia et Calabria)</td>\n",
       "      <td>Italy</td>\n",
       "      <td>4 or 5</td>\n",
       "      <td>45 D2</td>\n",
       "      <td>-400</td>\n",
       "      <td>NaN</td>\n",
       "      <td>Beloch 1880; BNP; de Ligt 2012; DGRG; PECS.</td>\n",
       "      <td>...</td>\n",
       "      <td>1</td>\n",
       "      <td>[0, 0, 0, 0, 0, 0, 0, 0, 0, 0, 0, 0, 1, 0, 0, ...</td>\n",
       "      <td>[0.0, 0.0, 0.0, 0.0, 0.0, 0.0, 0.0, 0.0, 0.0, ...</td>\n",
       "      <td>1.000000</td>\n",
       "      <td>1</td>\n",
       "      <td>Clothing</td>\n",
       "      <td>[0.0, 0.0, 0.0, 0.0, 0.0, 0.0, 0.0, 0.0, 0.0, ...</td>\n",
       "      <td>16.422091</td>\n",
       "      <td>Clothing</td>\n",
       "      <td>1.000000</td>\n",
       "    </tr>\n",
       "    <tr>\n",
       "      <th>1070</th>\n",
       "      <td>Hanson2016_1071</td>\n",
       "      <td>Laus Pompeia</td>\n",
       "      <td>Unknown</td>\n",
       "      <td>Italia (XI Transpadana)</td>\n",
       "      <td>Italy</td>\n",
       "      <td>4 or 5</td>\n",
       "      <td>39 E3</td>\n",
       "      <td>-510</td>\n",
       "      <td>NaN</td>\n",
       "      <td>Beloch 1880; BNP; de Ligt 2012; Hansen and Nie...</td>\n",
       "      <td>...</td>\n",
       "      <td>3</td>\n",
       "      <td>[0, 0, 1, 0, 0, 0, 0, 0, 0, 0, 0, 1, 0, 0, 0, ...</td>\n",
       "      <td>[0.0, 0.0, 0.3333333333333333, 0.0, 0.0, 0.0, ...</td>\n",
       "      <td>0.333333</td>\n",
       "      <td>1</td>\n",
       "      <td>Metal-Working</td>\n",
       "      <td>[0.0, 0.0, 3.4865996649916244, 0.0, 0.0, 0.0, ...</td>\n",
       "      <td>4.004810</td>\n",
       "      <td>Unclassified</td>\n",
       "      <td>3.000000</td>\n",
       "    </tr>\n",
       "  </tbody>\n",
       "</table>\n",
       "<p>20 rows × 43 columns</p>\n",
       "</div>"
      ],
      "text/plain": [
       "          Primary Key                       Ancient Toponym  \\\n",
       "784    Hanson2016_785                                  Nola   \n",
       "367    Hanson2016_368                                 Ucubi   \n",
       "1026  Hanson2016_1027                           Albingaunum   \n",
       "1031  Hanson2016_1032                               Dertona   \n",
       "991    Hanson2016_992                                  Roma   \n",
       "732    Hanson2016_733                               Toletum   \n",
       "192    Hanson2016_193                                Pupput   \n",
       "1274  Hanson2016_1275                        Aquae Balissae   \n",
       "649    Hanson2016_650                                Mauves   \n",
       "193    Hanson2016_194                              Sabratha   \n",
       "586    Hanson2016_587            Colonia Augusta Treverorum   \n",
       "1272  Hanson2016_1273                               Sirmium   \n",
       "1062  Hanson2016_1063                             Tridentum   \n",
       "1073  Hanson2016_1074                               Ticinum   \n",
       "1074  Hanson2016_1075                             Vercellae   \n",
       "546    Hanson2016_547                                Salona   \n",
       "1071  Hanson2016_1072  Mediolanum (Italia (XI Transpadana))   \n",
       "1037  Hanson2016_1038                          Vada Sabatia   \n",
       "824    Hanson2016_825                                Cannae   \n",
       "1070  Hanson2016_1071                          Laus Pompeia   \n",
       "\n",
       "             Modern Toponym                        Province  Country  \\\n",
       "784                    Nola  Italia (I Latium and Campania)    Italy   \n",
       "367                  Espejo                         Baetica    Spain   \n",
       "1026                Albenga             Italia (IX Liguria)    Italy   \n",
       "1031                Tortona             Italia (IX Liguria)    Italy   \n",
       "991                    Rome            Italia (VII Etruria)    Italy   \n",
       "732                  Toledo          Hispania Tarraconensis    Spain   \n",
       "192   Henchir Souk el Abiod            Africa Proconsularis  Tunisia   \n",
       "1274                Daruvar               Pannonia Superior  Croatia   \n",
       "649                  Mauves              Gallia Narbonensis   France   \n",
       "193                 Sabrata            Africa Proconsularis    Libya   \n",
       "586                   Trier                  Gallia Belgica  Germany   \n",
       "1272      Sremska Mitrovica               Pannonia Inferior   Serbia   \n",
       "1062                 Trento   Italia (X Venetia et Histria)    Italy   \n",
       "1073                  Pavia         Italia (XI Transpadana)    Italy   \n",
       "1074               Vercelli         Italia (XI Transpadana)    Italy   \n",
       "546                   Solin                        Dalmatia  Croatia   \n",
       "1071                  Milan         Italia (XI Transpadana)    Italy   \n",
       "1037            Vado Ligure             Italia (IX Liguria)    Italy   \n",
       "824          Monte di Canne  Italia (II Apulia et Calabria)    Italy   \n",
       "1070                Unknown         Italia (XI Transpadana)    Italy   \n",
       "\n",
       "     Barrington Atlas Rank Barrington Atlas Reference  Start Date  End Date  \\\n",
       "784                      2                      44 G4        -600       NaN   \n",
       "367                      3                      27 A4         -49       NaN   \n",
       "1026                     3                      16 F1         -89       NaN   \n",
       "1031                     3                      39 D4        -123       NaN   \n",
       "991                      1                      43 B2        -700       NaN   \n",
       "732                      3                      27 A2         -50       NaN   \n",
       "192                      3                      32 G4         100       NaN   \n",
       "1274                     3                      20 E4         100       NaN   \n",
       "649                 4 or 5                      14 D1         -27       NaN   \n",
       "193                      2                      35 E2        -200       NaN   \n",
       "586                      2                      11 G3         -27       NaN   \n",
       "1272                     2                      21 B5           1       NaN   \n",
       "1062                     3                      39 I1         -23       NaN   \n",
       "1073                4 or 5                      39 E3         -50       NaN   \n",
       "1074                     3                      39 C3         -50       NaN   \n",
       "546                      2                      20 D6         -78       NaN   \n",
       "1071                     1                      39 E3         -89       NaN   \n",
       "1037                4 or 5                      39 C5         -89       NaN   \n",
       "824                 4 or 5                      45 D2        -400       NaN   \n",
       "1070                4 or 5                      39 E3        -510       NaN   \n",
       "\n",
       "                                    Select Bibliography  ...  \\\n",
       "784   Beloch 1880; Bispham 2007; Cornell and Mathews...  ...   \n",
       "367   Brunt 1971; Cornell and Mathews 1982; DGRG; Ke...  ...   \n",
       "1026  Beloch 1880; BNP; de Ligt 2012; DGRG; Golvin 1...  ...   \n",
       "1031  Beloch 1880; BNP; Cornell and Mathews 1982; de...  ...   \n",
       "991   Beloch 1886; Benario 1981; de Ligt 2012; Golvi...  ...   \n",
       "732   BNP; Carreras Monfort 1995-1996; DGRG; Nelis-C...  ...   \n",
       "192   BNP; Bomgardner 2000; DGRG; Lepelley 1979-1981...  ...   \n",
       "1274                     BNP; DGRG; PECS; Wilkes 2003b.  ...   \n",
       "649                                    PECS; Sear 2006.  ...   \n",
       "193   BNP; Bomgardner 2000; Lepelley 1979-1981; PECS...  ...   \n",
       "586   Bedon 2001; Bedon et al 1988; Benario 1981; Go...  ...   \n",
       "1272  McEvedy 2011; PECS; Salmon 1969; Sear 2006; Wi...  ...   \n",
       "1062  Beloch 1880; de Ligt 2012; PECS; Salmon 1969; ...  ...   \n",
       "1073  Beloch 1880; de Ligt 2012; McEvedy 2011; PECS;...  ...   \n",
       "1074  Beloch 1880; de Ligt 2012; Nelis-Clément and R...  ...   \n",
       "546   BNP; Bomgardner 2000; Brunt 1971; Cornell and ...  ...   \n",
       "1071  Beloch 1880; Beloch 1886; Benario 1981; de Lig...  ...   \n",
       "1037                                de Ligt 2012; DGRG.  ...   \n",
       "824         Beloch 1880; BNP; de Ligt 2012; DGRG; PECS.  ...   \n",
       "1070  Beloch 1880; BNP; de Ligt 2012; Hansen and Nie...  ...   \n",
       "\n",
       "      occups_cats_unique_N                                    occups_cats_vec  \\\n",
       "784                      5  [0, 0, 0, 0, 0, 0, 0, 0, 1, 0, 0, 5, 1, 0, 1, ...   \n",
       "367                      1  [0, 0, 0, 0, 0, 0, 0, 0, 0, 0, 0, 1, 0, 0, 0, ...   \n",
       "1026                     2  [1, 0, 0, 0, 0, 0, 0, 0, 0, 0, 0, 3, 0, 0, 0, ...   \n",
       "1031                     7  [1, 3, 1, 0, 0, 0, 0, 0, 0, 0, 0, 0, 0, 0, 2, ...   \n",
       "991                     19  [268, 301, 346, 2, 11, 77, 41, 62, 203, 3, 43,...   \n",
       "732                      1  [0, 0, 0, 0, 0, 0, 0, 0, 0, 0, 0, 1, 0, 0, 0, ...   \n",
       "192                      3  [0, 2, 2, 0, 0, 0, 0, 0, 0, 0, 0, 5, 0, 0, 0, ...   \n",
       "1274                     1  [0, 0, 0, 0, 0, 0, 0, 0, 1, 0, 0, 0, 0, 0, 0, ...   \n",
       "649                      3  [0, 0, 1, 0, 0, 0, 1, 0, 0, 0, 0, 0, 0, 0, 0, ...   \n",
       "193                      4  [0, 0, 1, 0, 0, 0, 0, 0, 1, 0, 0, 4, 0, 0, 1, ...   \n",
       "586                     11  [4, 9, 4, 0, 3, 1, 1, 4, 0, 0, 0, 0, 0, 0, 1, ...   \n",
       "1272                     4  [0, 3, 2, 0, 0, 0, 0, 2, 0, 0, 0, 0, 0, 0, 0, ...   \n",
       "1062                     3  [0, 0, 0, 0, 0, 0, 0, 0, 0, 0, 0, 1, 1, 0, 0, ...   \n",
       "1073                     7  [0, 0, 2, 0, 0, 0, 1, 1, 0, 0, 0, 1, 1, 0, 0, ...   \n",
       "1074                     6  [3, 1, 1, 0, 0, 0, 0, 0, 0, 0, 0, 1, 1, 0, 0, ...   \n",
       "546                     15  [1, 13, 5, 0, 1, 1, 2, 0, 4, 0, 0, 9, 10, 1, 4...   \n",
       "1071                    13  [2, 9, 8, 0, 0, 0, 4, 0, 2, 0, 1, 14, 7, 0, 2,...   \n",
       "1037                     2  [0, 0, 0, 0, 0, 0, 0, 0, 0, 0, 0, 2, 1, 0, 0, ...   \n",
       "824                      1  [0, 0, 0, 0, 0, 0, 0, 0, 0, 0, 0, 0, 1, 0, 0, ...   \n",
       "1070                     3  [0, 0, 1, 0, 0, 0, 0, 0, 0, 0, 0, 1, 0, 0, 0, ...   \n",
       "\n",
       "                                             shares_vec        ZI  \\\n",
       "784   [0.0, 0.0, 0.0, 0.0, 0.0, 0.0, 0.0, 0.0, 0.083...  0.416667   \n",
       "367   [0.0, 0.0, 0.0, 0.0, 0.0, 0.0, 0.0, 0.0, 0.0, ...  1.000000   \n",
       "1026  [0.25, 0.0, 0.0, 0.0, 0.0, 0.0, 0.0, 0.0, 0.0,...  0.750000   \n",
       "1031  [0.07692307692307693, 0.23076923076923078, 0.0...  0.307692   \n",
       "991   [0.08653535679690022, 0.09719082983532451, 0.1...  0.174362   \n",
       "732   [0.0, 0.0, 0.0, 0.0, 0.0, 0.0, 0.0, 0.0, 0.0, ...  1.000000   \n",
       "192   [0.0, 0.2222222222222222, 0.2222222222222222, ...  0.555556   \n",
       "1274  [0.0, 0.0, 0.0, 0.0, 0.0, 0.0, 0.0, 0.0, 1.0, ...  1.000000   \n",
       "649   [0.0, 0.0, 0.3333333333333333, 0.0, 0.0, 0.0, ...  0.333333   \n",
       "193   [0.0, 0.0, 0.14285714285714285, 0.0, 0.0, 0.0,...  0.571429   \n",
       "586   [0.125, 0.28125, 0.125, 0.0, 0.09375, 0.03125,...  0.281250   \n",
       "1272  [0.0, 0.3333333333333333, 0.2222222222222222, ...  0.333333   \n",
       "1062  [0.0, 0.0, 0.0, 0.0, 0.0, 0.0, 0.0, 0.0, 0.0, ...  0.333333   \n",
       "1073  [0.0, 0.0, 0.25, 0.0, 0.0, 0.0, 0.125, 0.125, ...  0.250000   \n",
       "1074  [0.375, 0.125, 0.125, 0.0, 0.0, 0.0, 0.0, 0.0,...  0.375000   \n",
       "546   [0.01098901098901099, 0.14285714285714285, 0.0...  0.263736   \n",
       "1071  [0.03278688524590164, 0.14754098360655737, 0.1...  0.229508   \n",
       "1037  [0.0, 0.0, 0.0, 0.0, 0.0, 0.0, 0.0, 0.0, 0.0, ...  0.666667   \n",
       "824   [0.0, 0.0, 0.0, 0.0, 0.0, 0.0, 0.0, 0.0, 0.0, ...  1.000000   \n",
       "1070  [0.0, 0.0, 0.3333333333333333, 0.0, 0.0, 0.0, ...  0.333333   \n",
       "\n",
       "      largest_cat                  ZI_cat  \\\n",
       "784             5              Managerial   \n",
       "367             1              Managerial   \n",
       "1026            3              Managerial   \n",
       "1031            4            Unclassified   \n",
       "991           540  Miscellaneous Services   \n",
       "732             1              Managerial   \n",
       "192             5              Managerial   \n",
       "1274            1               Education   \n",
       "649             1           Metal-Working   \n",
       "193             4              Managerial   \n",
       "586             9                  Retail   \n",
       "1272            3                  Retail   \n",
       "1062            1              Managerial   \n",
       "1073            2           Metal-Working   \n",
       "1074            3         Food-Production   \n",
       "546            24            Unclassified   \n",
       "1071           14              Managerial   \n",
       "1037            2              Managerial   \n",
       "824             1                Clothing   \n",
       "1070            1           Metal-Working   \n",
       "\n",
       "                                    shares_weighted_vec        RZI  \\\n",
       "784   [0.0, 0.0, 0.0, 0.0, 0.0, 0.0, 0.0, 0.0, 1.725...   4.004810   \n",
       "367   [0.0, 0.0, 0.0, 0.0, 0.0, 0.0, 0.0, 0.0, 0.0, ...   4.765884   \n",
       "1026  [4.457173447537473, 0.0, 0.0, 0.0, 0.0, 0.0, 0...   4.457173   \n",
       "1031  [1.371437983857684, 2.8464957264957267, 0.8045...   3.696748   \n",
       "991   [1.5428123783533003, 1.1988308877169065, 1.168...   1.873739   \n",
       "732   [0.0, 0.0, 0.0, 0.0, 0.0, 0.0, 0.0, 0.0, 0.0, ...   4.765884   \n",
       "192   [0.0, 2.7410699588477367, 2.324399776661083, 0...   2.741070   \n",
       "1274  [0.0, 0.0, 0.0, 0.0, 0.0, 0.0, 0.0, 0.0, 20.71...  20.711443   \n",
       "649   [0.0, 0.0, 3.4865996649916244, 0.0, 0.0, 0.0, ...   8.981661   \n",
       "193   [0.0, 0.0, 1.4942569992821249, 0.0, 0.0, 0.0, ...   3.154983   \n",
       "586   [2.2285867237687365, 3.4691666666666667, 1.307...  33.937500   \n",
       "1272  [0.0, 4.111604938271605, 2.324399776661083, 0....  14.342808   \n",
       "1062  [0.0, 0.0, 0.0, 0.0, 0.0, 0.0, 0.0, 0.0, 0.0, ...   5.474030   \n",
       "1073  [0.0, 0.0, 2.6149497487437183, 0.0, 0.0, 0.0, ...   8.067829   \n",
       "1074  [6.685760171306209, 1.5418518518518518, 1.3074...   6.685760   \n",
       "546   [0.19591971197966918, 1.762116402116402, 0.574...   3.978022   \n",
       "1071  [0.5845473373819637, 1.8198907103825137, 1.371...   1.884502   \n",
       "1037  [0.0, 0.0, 0.0, 0.0, 0.0, 0.0, 0.0, 0.0, 0.0, ...   5.474030   \n",
       "824   [0.0, 0.0, 0.0, 0.0, 0.0, 0.0, 0.0, 0.0, 0.0, ...  16.422091   \n",
       "1070  [0.0, 0.0, 3.4865996649916244, 0.0, 0.0, 0.0, ...   4.004810   \n",
       "\n",
       "               RZI_cat        DI  \n",
       "784       Unclassified  3.272727  \n",
       "367         Managerial  1.000000  \n",
       "1026   Food-Production  1.600000  \n",
       "1031      Unclassified  5.121212  \n",
       "991   Water-Management  9.412875  \n",
       "732         Managerial  1.000000  \n",
       "192             Retail  2.454545  \n",
       "1274         Education  1.000000  \n",
       "649          Transport  3.000000  \n",
       "193    Performing Arts  2.578947  \n",
       "586      Glass-Working  6.736842  \n",
       "1272      Plastic Arts  3.857143  \n",
       "1062          Clothing  3.000000  \n",
       "1073      Plastic Arts  6.400000  \n",
       "1074   Food-Production  4.571429  \n",
       "546      Glass-Working  7.360889  \n",
       "1071          Clothing  7.866808  \n",
       "1037          Clothing  1.800000  \n",
       "824           Clothing  1.000000  \n",
       "1070      Unclassified  3.000000  \n",
       "\n",
       "[20 rows x 43 columns]"
      ]
     },
     "execution_count": 98,
     "metadata": {},
     "output_type": "execute_result"
    }
   ],
   "source": [
    "roman_cities_wo.sort_values(\"ratio_post235\", ascending=False).head(20)"
   ]
  },
  {
   "cell_type": "code",
   "execution_count": 99,
   "metadata": {
    "pycharm": {
     "name": "#%%\n"
    }
   },
   "outputs": [
    {
     "data": {
      "text/html": [
       "<div>\n",
       "<style scoped>\n",
       "    .dataframe tbody tr th:only-of-type {\n",
       "        vertical-align: middle;\n",
       "    }\n",
       "\n",
       "    .dataframe tbody tr th {\n",
       "        vertical-align: top;\n",
       "    }\n",
       "\n",
       "    .dataframe thead th {\n",
       "        text-align: right;\n",
       "    }\n",
       "</style>\n",
       "<table border=\"1\" class=\"dataframe\">\n",
       "  <thead>\n",
       "    <tr style=\"text-align: right;\">\n",
       "      <th></th>\n",
       "      <th>EDCS-ID</th>\n",
       "      <th>EDH-ID</th>\n",
       "      <th>type_of_inscription_auto</th>\n",
       "      <th>not_before</th>\n",
       "      <th>not_after</th>\n",
       "      <th>clean_text_interpretive_word</th>\n",
       "      <th>occups</th>\n",
       "      <th>occups_N</th>\n",
       "      <th>occups_cats_list</th>\n",
       "    </tr>\n",
       "  </thead>\n",
       "  <tbody>\n",
       "    <tr>\n",
       "      <th>12131</th>\n",
       "      <td>EDCS-16000492</td>\n",
       "      <td>HD027088</td>\n",
       "      <td>None</td>\n",
       "      <td>151.0</td>\n",
       "      <td>300.0</td>\n",
       "      <td>Deae Minervae Restitutus Gati filius Suessio a...</td>\n",
       "      <td>[aerarius]</td>\n",
       "      <td>1</td>\n",
       "      <td>[Metal-Working]</td>\n",
       "    </tr>\n",
       "    <tr>\n",
       "      <th>12175</th>\n",
       "      <td>EDCS-11801053</td>\n",
       "      <td>HD049050</td>\n",
       "      <td>epitaph</td>\n",
       "      <td>171.0</td>\n",
       "      <td>230.0</td>\n",
       "      <td>Fortunato negotiatori artis cervesariae ONT MN</td>\n",
       "      <td>[negotiator]</td>\n",
       "      <td>1</td>\n",
       "      <td>[Retail]</td>\n",
       "    </tr>\n",
       "    <tr>\n",
       "      <th>12177</th>\n",
       "      <td>EDCS-20500303</td>\n",
       "      <td>HD047724</td>\n",
       "      <td>epitaph</td>\n",
       "      <td>NaN</td>\n",
       "      <td>NaN</td>\n",
       "      <td>Dis Manibus SPER IIIIII vir negotiator CISAR</td>\n",
       "      <td>[negotiator]</td>\n",
       "      <td>1</td>\n",
       "      <td>[Retail]</td>\n",
       "    </tr>\n",
       "    <tr>\n",
       "      <th>12219</th>\n",
       "      <td>EDCS-10600409</td>\n",
       "      <td>HD076371</td>\n",
       "      <td>votive inscription</td>\n",
       "      <td>151.0</td>\n",
       "      <td>300.0</td>\n",
       "      <td>In honorem domus divinae Genio arenariorum con...</td>\n",
       "      <td>[arenarius]</td>\n",
       "      <td>1</td>\n",
       "      <td>[Performing Arts]</td>\n",
       "    </tr>\n",
       "    <tr>\n",
       "      <th>12244</th>\n",
       "      <td>EDCS-10600434</td>\n",
       "      <td>HD076429</td>\n",
       "      <td>votive inscription</td>\n",
       "      <td>1.0</td>\n",
       "      <td>300.0</td>\n",
       "      <td>In honorem domus divinae Moderatius Modestus u...</td>\n",
       "      <td>[negotiator]</td>\n",
       "      <td>1</td>\n",
       "      <td>[Retail]</td>\n",
       "    </tr>\n",
       "    <tr>\n",
       "      <th>12270</th>\n",
       "      <td>EDCS-10600461</td>\n",
       "      <td>HD078352</td>\n",
       "      <td>epitaph</td>\n",
       "      <td>1.0</td>\n",
       "      <td>300.0</td>\n",
       "      <td>Iustio Muciano decurioni civitatis Treverorum ...</td>\n",
       "      <td>[aerarius]</td>\n",
       "      <td>1</td>\n",
       "      <td>[Metal-Working]</td>\n",
       "    </tr>\n",
       "    <tr>\n",
       "      <th>12278</th>\n",
       "      <td>EDCS-10600469</td>\n",
       "      <td>HD078368</td>\n",
       "      <td>epitaph</td>\n",
       "      <td>101.0</td>\n",
       "      <td>300.0</td>\n",
       "      <td>Dis Manibus Eugeniae filiae defunctae Iulius V...</td>\n",
       "      <td>[saccarius, cuparius]</td>\n",
       "      <td>2</td>\n",
       "      <td>[Transport, Metal-Working]</td>\n",
       "    </tr>\n",
       "    <tr>\n",
       "      <th>12279</th>\n",
       "      <td>EDCS-10600470</td>\n",
       "      <td>HD078370</td>\n",
       "      <td>epitaph</td>\n",
       "      <td>101.0</td>\n",
       "      <td>300.0</td>\n",
       "      <td>Dis Manibus Secundiniae Tavenae coniugi defunc...</td>\n",
       "      <td>[faber]</td>\n",
       "      <td>1</td>\n",
       "      <td>[Unclassified]</td>\n",
       "    </tr>\n",
       "    <tr>\n",
       "      <th>12281</th>\n",
       "      <td>EDCS-10600472</td>\n",
       "      <td>HD078372</td>\n",
       "      <td>epitaph</td>\n",
       "      <td>1.0</td>\n",
       "      <td>300.0</td>\n",
       "      <td>coniugi negotiatori artis R sibi viva fecit</td>\n",
       "      <td>[negotiator]</td>\n",
       "      <td>1</td>\n",
       "      <td>[Retail]</td>\n",
       "    </tr>\n",
       "    <tr>\n",
       "      <th>12282</th>\n",
       "      <td>EDCS-10600473</td>\n",
       "      <td>HD077341</td>\n",
       "      <td>epitaph</td>\n",
       "      <td>351.0</td>\n",
       "      <td>400.0</td>\n",
       "      <td>Silvanus negotiator hic pausat in pace</td>\n",
       "      <td>[negotiator]</td>\n",
       "      <td>1</td>\n",
       "      <td>[Retail]</td>\n",
       "    </tr>\n",
       "    <tr>\n",
       "      <th>12535</th>\n",
       "      <td>EDCS-12000749</td>\n",
       "      <td>HD076322</td>\n",
       "      <td>votive inscription</td>\n",
       "      <td>268.0</td>\n",
       "      <td>300.0</td>\n",
       "      <td>In honorem domus divinae deae Dianae Numini Sa...</td>\n",
       "      <td>[nummularius]</td>\n",
       "      <td>1</td>\n",
       "      <td>[Finance]</td>\n",
       "    </tr>\n",
       "    <tr>\n",
       "      <th>12537</th>\n",
       "      <td>EDCS-12000751</td>\n",
       "      <td>HD020615</td>\n",
       "      <td>votive inscription</td>\n",
       "      <td>161.0</td>\n",
       "      <td>211.0</td>\n",
       "      <td>Numinibus Augustorum deo Intarabo et Genio col...</td>\n",
       "      <td>[faber dolabrarius]</td>\n",
       "      <td>1</td>\n",
       "      <td>[Metal-Working]</td>\n",
       "    </tr>\n",
       "    <tr>\n",
       "      <th>12541</th>\n",
       "      <td>EDCS-12000757</td>\n",
       "      <td>HD027465</td>\n",
       "      <td>None</td>\n",
       "      <td>NaN</td>\n",
       "      <td>NaN</td>\n",
       "      <td>Dis Manibus Antonius Capurillus cervesarius CIE</td>\n",
       "      <td>[cervesarius]</td>\n",
       "      <td>1</td>\n",
       "      <td>[Food-Production]</td>\n",
       "    </tr>\n",
       "    <tr>\n",
       "      <th>12552</th>\n",
       "      <td>EDCS-30100436</td>\n",
       "      <td>HD077031</td>\n",
       "      <td>epitaph</td>\n",
       "      <td>451.0</td>\n",
       "      <td>460.0</td>\n",
       "      <td>Quam bene concordes divina potentia iungit mem...</td>\n",
       "      <td>[metator]</td>\n",
       "      <td>1</td>\n",
       "      <td>[Miscellaneous Services]</td>\n",
       "    </tr>\n",
       "    <tr>\n",
       "      <th>12662</th>\n",
       "      <td>EDCS-11201764</td>\n",
       "      <td>HD023872</td>\n",
       "      <td>votive inscription</td>\n",
       "      <td>201.0</td>\n",
       "      <td>300.0</td>\n",
       "      <td>miles classis Germanicae Antoninianae piae fid...</td>\n",
       "      <td>[negotiator cervesarius]</td>\n",
       "      <td>1</td>\n",
       "      <td>[Retail]</td>\n",
       "    </tr>\n",
       "    <tr>\n",
       "      <th>12690</th>\n",
       "      <td>EDCS-10900237</td>\n",
       "      <td>HD076470</td>\n",
       "      <td>epitaph</td>\n",
       "      <td>201.0</td>\n",
       "      <td>300.0</td>\n",
       "      <td>Desideratio E ENICIO artis cretariae Ilixo fac...</td>\n",
       "      <td>[cretaria]</td>\n",
       "      <td>1</td>\n",
       "      <td>[Retail]</td>\n",
       "    </tr>\n",
       "    <tr>\n",
       "      <th>77709</th>\n",
       "      <td>None</td>\n",
       "      <td>HD078768</td>\n",
       "      <td>epitaph</td>\n",
       "      <td>651.0</td>\n",
       "      <td>750.0</td>\n",
       "      <td>In h lt o gt c loco recqui lt e gt sc lt i gt ...</td>\n",
       "      <td>[arcarius]</td>\n",
       "      <td>1</td>\n",
       "      <td>[Finance]</td>\n",
       "    </tr>\n",
       "    <tr>\n",
       "      <th>77927</th>\n",
       "      <td>None</td>\n",
       "      <td>HD078992</td>\n",
       "      <td>identification inscription</td>\n",
       "      <td>151.0</td>\n",
       "      <td>200.0</td>\n",
       "      <td>macellarii cauponem est</td>\n",
       "      <td>[macellarius, caupo]</td>\n",
       "      <td>2</td>\n",
       "      <td>[Food-Production, Retail]</td>\n",
       "    </tr>\n",
       "    <tr>\n",
       "      <th>156501</th>\n",
       "      <td>EDCS-30301494</td>\n",
       "      <td>None</td>\n",
       "      <td>None</td>\n",
       "      <td>NaN</td>\n",
       "      <td>NaN</td>\n",
       "      <td>Qui gradiens pelagi fluctus compressit amaros ...</td>\n",
       "      <td>[redemptor]</td>\n",
       "      <td>1</td>\n",
       "      <td>[Food-Production]</td>\n",
       "    </tr>\n",
       "    <tr>\n",
       "      <th>156950</th>\n",
       "      <td>EDCS-75000283</td>\n",
       "      <td>None</td>\n",
       "      <td>None</td>\n",
       "      <td>NaN</td>\n",
       "      <td>NaN</td>\n",
       "      <td>Cnaei A Ingenui V artificis vitriarii manu S</td>\n",
       "      <td>[vitriarius, artifex]</td>\n",
       "      <td>2</td>\n",
       "      <td>[Glass-Working, Plastic Arts]</td>\n",
       "    </tr>\n",
       "    <tr>\n",
       "      <th>156951</th>\n",
       "      <td>EDCS-75000284</td>\n",
       "      <td>None</td>\n",
       "      <td>None</td>\n",
       "      <td>NaN</td>\n",
       "      <td>NaN</td>\n",
       "      <td>Cnaei A Ingenui V artificis vitriarii manu S</td>\n",
       "      <td>[vitriarius, artifex]</td>\n",
       "      <td>2</td>\n",
       "      <td>[Glass-Working, Plastic Arts]</td>\n",
       "    </tr>\n",
       "    <tr>\n",
       "      <th>156952</th>\n",
       "      <td>EDCS-74900117</td>\n",
       "      <td>None</td>\n",
       "      <td>None</td>\n",
       "      <td>NaN</td>\n",
       "      <td>NaN</td>\n",
       "      <td>Cnaei A Ingenui V artificis vitriarii manu A</td>\n",
       "      <td>[vitriarius, artifex]</td>\n",
       "      <td>2</td>\n",
       "      <td>[Glass-Working, Plastic Arts]</td>\n",
       "    </tr>\n",
       "    <tr>\n",
       "      <th>157294</th>\n",
       "      <td>EDCS-48700048</td>\n",
       "      <td>None</td>\n",
       "      <td>identification inscription</td>\n",
       "      <td>NaN</td>\n",
       "      <td>NaN</td>\n",
       "      <td>cellarii ponem est</td>\n",
       "      <td>[cellarius]</td>\n",
       "      <td>1</td>\n",
       "      <td>[Household Goods]</td>\n",
       "    </tr>\n",
       "    <tr>\n",
       "      <th>157384</th>\n",
       "      <td>EDCS-73400019</td>\n",
       "      <td>None</td>\n",
       "      <td>epitaph</td>\n",
       "      <td>651.0</td>\n",
       "      <td>750.0</td>\n",
       "      <td>In hoc loco requiescit vir venerabiElis Rustec...</td>\n",
       "      <td>[arcarius, artifex]</td>\n",
       "      <td>2</td>\n",
       "      <td>[Finance, Plastic Arts]</td>\n",
       "    </tr>\n",
       "    <tr>\n",
       "      <th>157648</th>\n",
       "      <td>EDCS-73400286</td>\n",
       "      <td>None</td>\n",
       "      <td>None</td>\n",
       "      <td>151.0</td>\n",
       "      <td>200.0</td>\n",
       "      <td>macellarii cauponem est</td>\n",
       "      <td>[macellarius, caupo]</td>\n",
       "      <td>2</td>\n",
       "      <td>[Food-Production, Retail]</td>\n",
       "    </tr>\n",
       "  </tbody>\n",
       "</table>\n",
       "</div>"
      ],
      "text/plain": [
       "              EDCS-ID    EDH-ID    type_of_inscription_auto  not_before  \\\n",
       "12131   EDCS-16000492  HD027088                        None       151.0   \n",
       "12175   EDCS-11801053  HD049050                     epitaph       171.0   \n",
       "12177   EDCS-20500303  HD047724                     epitaph         NaN   \n",
       "12219   EDCS-10600409  HD076371          votive inscription       151.0   \n",
       "12244   EDCS-10600434  HD076429          votive inscription         1.0   \n",
       "12270   EDCS-10600461  HD078352                     epitaph         1.0   \n",
       "12278   EDCS-10600469  HD078368                     epitaph       101.0   \n",
       "12279   EDCS-10600470  HD078370                     epitaph       101.0   \n",
       "12281   EDCS-10600472  HD078372                     epitaph         1.0   \n",
       "12282   EDCS-10600473  HD077341                     epitaph       351.0   \n",
       "12535   EDCS-12000749  HD076322          votive inscription       268.0   \n",
       "12537   EDCS-12000751  HD020615          votive inscription       161.0   \n",
       "12541   EDCS-12000757  HD027465                        None         NaN   \n",
       "12552   EDCS-30100436  HD077031                     epitaph       451.0   \n",
       "12662   EDCS-11201764  HD023872          votive inscription       201.0   \n",
       "12690   EDCS-10900237  HD076470                     epitaph       201.0   \n",
       "77709            None  HD078768                     epitaph       651.0   \n",
       "77927            None  HD078992  identification inscription       151.0   \n",
       "156501  EDCS-30301494      None                        None         NaN   \n",
       "156950  EDCS-75000283      None                        None         NaN   \n",
       "156951  EDCS-75000284      None                        None         NaN   \n",
       "156952  EDCS-74900117      None                        None         NaN   \n",
       "157294  EDCS-48700048      None  identification inscription         NaN   \n",
       "157384  EDCS-73400019      None                     epitaph       651.0   \n",
       "157648  EDCS-73400286      None                        None       151.0   \n",
       "\n",
       "        not_after                       clean_text_interpretive_word  \\\n",
       "12131       300.0  Deae Minervae Restitutus Gati filius Suessio a...   \n",
       "12175       230.0     Fortunato negotiatori artis cervesariae ONT MN   \n",
       "12177         NaN       Dis Manibus SPER IIIIII vir negotiator CISAR   \n",
       "12219       300.0  In honorem domus divinae Genio arenariorum con...   \n",
       "12244       300.0  In honorem domus divinae Moderatius Modestus u...   \n",
       "12270       300.0  Iustio Muciano decurioni civitatis Treverorum ...   \n",
       "12278       300.0  Dis Manibus Eugeniae filiae defunctae Iulius V...   \n",
       "12279       300.0  Dis Manibus Secundiniae Tavenae coniugi defunc...   \n",
       "12281       300.0        coniugi negotiatori artis R sibi viva fecit   \n",
       "12282       400.0             Silvanus negotiator hic pausat in pace   \n",
       "12535       300.0  In honorem domus divinae deae Dianae Numini Sa...   \n",
       "12537       211.0  Numinibus Augustorum deo Intarabo et Genio col...   \n",
       "12541         NaN    Dis Manibus Antonius Capurillus cervesarius CIE   \n",
       "12552       460.0  Quam bene concordes divina potentia iungit mem...   \n",
       "12662       300.0  miles classis Germanicae Antoninianae piae fid...   \n",
       "12690       300.0  Desideratio E ENICIO artis cretariae Ilixo fac...   \n",
       "77709       750.0  In h lt o gt c loco recqui lt e gt sc lt i gt ...   \n",
       "77927       200.0                            macellarii cauponem est   \n",
       "156501        NaN  Qui gradiens pelagi fluctus compressit amaros ...   \n",
       "156950        NaN       Cnaei A Ingenui V artificis vitriarii manu S   \n",
       "156951        NaN       Cnaei A Ingenui V artificis vitriarii manu S   \n",
       "156952        NaN       Cnaei A Ingenui V artificis vitriarii manu A   \n",
       "157294        NaN                                 cellarii ponem est   \n",
       "157384      750.0  In hoc loco requiescit vir venerabiElis Rustec...   \n",
       "157648      200.0                            macellarii cauponem est   \n",
       "\n",
       "                          occups  occups_N               occups_cats_list  \n",
       "12131                 [aerarius]         1                [Metal-Working]  \n",
       "12175               [negotiator]         1                       [Retail]  \n",
       "12177               [negotiator]         1                       [Retail]  \n",
       "12219                [arenarius]         1              [Performing Arts]  \n",
       "12244               [negotiator]         1                       [Retail]  \n",
       "12270                 [aerarius]         1                [Metal-Working]  \n",
       "12278      [saccarius, cuparius]         2     [Transport, Metal-Working]  \n",
       "12279                    [faber]         1                 [Unclassified]  \n",
       "12281               [negotiator]         1                       [Retail]  \n",
       "12282               [negotiator]         1                       [Retail]  \n",
       "12535              [nummularius]         1                      [Finance]  \n",
       "12537        [faber dolabrarius]         1                [Metal-Working]  \n",
       "12541              [cervesarius]         1              [Food-Production]  \n",
       "12552                  [metator]         1       [Miscellaneous Services]  \n",
       "12662   [negotiator cervesarius]         1                       [Retail]  \n",
       "12690                 [cretaria]         1                       [Retail]  \n",
       "77709                 [arcarius]         1                      [Finance]  \n",
       "77927       [macellarius, caupo]         2      [Food-Production, Retail]  \n",
       "156501               [redemptor]         1              [Food-Production]  \n",
       "156950     [vitriarius, artifex]         2  [Glass-Working, Plastic Arts]  \n",
       "156951     [vitriarius, artifex]         2  [Glass-Working, Plastic Arts]  \n",
       "156952     [vitriarius, artifex]         2  [Glass-Working, Plastic Arts]  \n",
       "157294               [cellarius]         1              [Household Goods]  \n",
       "157384       [arcarius, artifex]         2        [Finance, Plastic Arts]  \n",
       "157648      [macellarius, caupo]         2      [Food-Production, Retail]  "
      ]
     },
     "execution_count": 99,
     "metadata": {},
     "output_type": "execute_result"
    }
   ],
   "source": [
    "LIST_sel_cols = [\"EDCS-ID\", \"EDH-ID\", \"type_of_inscription_auto\", \"not_before\", \"not_after\", \"clean_text_interpretive_word\", \"occups\", \"occups_N\", \"occups_cats_list\"]\n",
    "\n",
    "trier_occups = LIST[(LIST[\"city_ID\"]==\"587\") & (LIST[\"occups_N\"]>0)][LIST_sel_cols]\n",
    "trier_occups"
   ]
  },
  {
   "cell_type": "code",
   "execution_count": 103,
   "metadata": {
    "pycharm": {
     "name": "#%%\n"
    }
   },
   "outputs": [],
   "source": [
    "set_with_dataframe(socdiv_results.add_worksheet(\"trier_20231120\", 1,1), trier_occups)\n",
    "trier_occups.to_csv(\"../../data/LIST_occupational_inscriptions_trier.csv\", index=False)"
   ]
  },
  {
   "cell_type": "code",
   "execution_count": 104,
   "metadata": {
    "pycharm": {
     "name": "#%%\n"
    }
   },
   "outputs": [],
   "source": [
    "all_measures = [[\"ZIw\", \"ZI_cat\"], [\"RZIw\", \"RZI_cat\"], [\"DI\"], [\"DIw\"]]\n",
    "sel_cols = [\"Ancient Toponym\", \"Country\", \"pop_est\", \"inscr_N\", \"occups_N\", \"largest_cat\", \"occups_cats_unique_N\"]"
   ]
  },
  {
   "cell_type": "code",
   "execution_count": 105,
   "metadata": {
    "pycharm": {
     "name": "#%%\n"
    }
   },
   "outputs": [
    {
     "data": {
      "text/html": [
       "<div>\n",
       "<style scoped>\n",
       "    .dataframe tbody tr th:only-of-type {\n",
       "        vertical-align: middle;\n",
       "    }\n",
       "\n",
       "    .dataframe tbody tr th {\n",
       "        vertical-align: top;\n",
       "    }\n",
       "\n",
       "    .dataframe thead th {\n",
       "        text-align: right;\n",
       "    }\n",
       "</style>\n",
       "<table border=\"1\" class=\"dataframe\">\n",
       "  <thead>\n",
       "    <tr style=\"text-align: right;\">\n",
       "      <th></th>\n",
       "      <th>Primary Key</th>\n",
       "      <th>Ancient Toponym</th>\n",
       "      <th>Modern Toponym</th>\n",
       "      <th>Province</th>\n",
       "      <th>Country</th>\n",
       "      <th>Barrington Atlas Rank</th>\n",
       "      <th>Barrington Atlas Reference</th>\n",
       "      <th>Start Date</th>\n",
       "      <th>End Date</th>\n",
       "      <th>Select Bibliography</th>\n",
       "      <th>...</th>\n",
       "      <th>occups_cats_unique_N</th>\n",
       "      <th>occups_cats_vec</th>\n",
       "      <th>shares_vec</th>\n",
       "      <th>ZI</th>\n",
       "      <th>largest_cat</th>\n",
       "      <th>ZI_cat</th>\n",
       "      <th>shares_weighted_vec</th>\n",
       "      <th>RZI</th>\n",
       "      <th>RZI_cat</th>\n",
       "      <th>DI</th>\n",
       "    </tr>\n",
       "  </thead>\n",
       "  <tbody>\n",
       "    <tr>\n",
       "      <th>156</th>\n",
       "      <td>Hanson2016_157</td>\n",
       "      <td>Abbir Maius</td>\n",
       "      <td>Henchir en Naam</td>\n",
       "      <td>Africa Proconsularis</td>\n",
       "      <td>Tunisia</td>\n",
       "      <td>3</td>\n",
       "      <td>32 F4</td>\n",
       "      <td>100</td>\n",
       "      <td>NaN</td>\n",
       "      <td>BNP; Lepelley 1979-1981.</td>\n",
       "      <td>...</td>\n",
       "      <td>1</td>\n",
       "      <td>[0, 0, 0, 0, 0, 0, 0, 0, 0, 0, 0, 1, 0, 0, 0, ...</td>\n",
       "      <td>[0.0, 0.0, 0.0, 0.0, 0.0, 0.0, 0.0, 0.0, 0.0, ...</td>\n",
       "      <td>1.000000</td>\n",
       "      <td>1</td>\n",
       "      <td>Managerial</td>\n",
       "      <td>[0.0, 0.0, 0.0, 0.0, 0.0, 0.0, 0.0, 0.0, 0.0, ...</td>\n",
       "      <td>4.765884</td>\n",
       "      <td>Managerial</td>\n",
       "      <td>1.000000</td>\n",
       "    </tr>\n",
       "    <tr>\n",
       "      <th>158</th>\n",
       "      <td>Hanson2016_159</td>\n",
       "      <td>Abthungi</td>\n",
       "      <td>Henchir es Souar</td>\n",
       "      <td>Africa Proconsularis</td>\n",
       "      <td>Tunisia</td>\n",
       "      <td>3</td>\n",
       "      <td>32 E4</td>\n",
       "      <td>-50</td>\n",
       "      <td>NaN</td>\n",
       "      <td>Boatwright 2000; Lepelley 1979-1981; Quinn and...</td>\n",
       "      <td>...</td>\n",
       "      <td>2</td>\n",
       "      <td>[0, 0, 0, 0, 0, 0, 0, 0, 0, 0, 0, 5, 0, 0, 1, ...</td>\n",
       "      <td>[0.0, 0.0, 0.0, 0.0, 0.0, 0.0, 0.0, 0.0, 0.0, ...</td>\n",
       "      <td>0.833333</td>\n",
       "      <td>5</td>\n",
       "      <td>Managerial</td>\n",
       "      <td>[0.0, 0.0, 0.0, 0.0, 0.0, 0.0, 0.0, 0.0, 0.0, ...</td>\n",
       "      <td>3.971570</td>\n",
       "      <td>Managerial</td>\n",
       "      <td>1.384615</td>\n",
       "    </tr>\n",
       "    <tr>\n",
       "      <th>159</th>\n",
       "      <td>Hanson2016_160</td>\n",
       "      <td>Acholla</td>\n",
       "      <td>Henchir Bou Tria</td>\n",
       "      <td>Africa Proconsularis</td>\n",
       "      <td>Tunisia</td>\n",
       "      <td>4 or 5</td>\n",
       "      <td>33 H2</td>\n",
       "      <td>-200</td>\n",
       "      <td>NaN</td>\n",
       "      <td>BNP; Boatwright 2000; Bomgardner 2000; DGRG; G...</td>\n",
       "      <td>...</td>\n",
       "      <td>1</td>\n",
       "      <td>[0, 0, 0, 0, 0, 0, 0, 0, 0, 0, 0, 3, 0, 0, 0, ...</td>\n",
       "      <td>[0.0, 0.0, 0.0, 0.0, 0.0, 0.0, 0.0, 0.0, 0.0, ...</td>\n",
       "      <td>1.000000</td>\n",
       "      <td>3</td>\n",
       "      <td>Managerial</td>\n",
       "      <td>[0.0, 0.0, 0.0, 0.0, 0.0, 0.0, 0.0, 0.0, 0.0, ...</td>\n",
       "      <td>4.765884</td>\n",
       "      <td>Managerial</td>\n",
       "      <td>1.000000</td>\n",
       "    </tr>\n",
       "    <tr>\n",
       "      <th>160</th>\n",
       "      <td>Hanson2016_161</td>\n",
       "      <td>Agbia</td>\n",
       "      <td>Henchir Ain Hedja</td>\n",
       "      <td>Africa Proconsularis</td>\n",
       "      <td>Tunisia</td>\n",
       "      <td>3</td>\n",
       "      <td>32 D4</td>\n",
       "      <td>100</td>\n",
       "      <td>NaN</td>\n",
       "      <td>BNP; Bomgardner 2000; Lepelley 1979-1981; McEv...</td>\n",
       "      <td>...</td>\n",
       "      <td>2</td>\n",
       "      <td>[0, 0, 0, 0, 0, 0, 0, 1, 0, 0, 0, 1, 0, 0, 0, ...</td>\n",
       "      <td>[0.0, 0.0, 0.0, 0.0, 0.0, 0.0, 0.0, 0.5, 0.0, ...</td>\n",
       "      <td>0.500000</td>\n",
       "      <td>1</td>\n",
       "      <td>Plastic Arts</td>\n",
       "      <td>[0.0, 0.0, 0.0, 0.0, 0.0, 0.0, 0.0, 32.2713178...</td>\n",
       "      <td>32.271318</td>\n",
       "      <td>Plastic Arts</td>\n",
       "      <td>2.000000</td>\n",
       "    </tr>\n",
       "    <tr>\n",
       "      <th>162</th>\n",
       "      <td>Hanson2016_163</td>\n",
       "      <td>Apisa Maius</td>\n",
       "      <td>Tarf ech Chena</td>\n",
       "      <td>Africa Proconsularis</td>\n",
       "      <td>Tunisia</td>\n",
       "      <td>3</td>\n",
       "      <td>32 E4</td>\n",
       "      <td>200</td>\n",
       "      <td>NaN</td>\n",
       "      <td>BNP; Lepelley 1979-1981.</td>\n",
       "      <td>...</td>\n",
       "      <td>2</td>\n",
       "      <td>[0, 0, 0, 0, 0, 0, 0, 0, 0, 0, 0, 5, 0, 0, 0, ...</td>\n",
       "      <td>[0.0, 0.0, 0.0, 0.0, 0.0, 0.0, 0.0, 0.0, 0.0, ...</td>\n",
       "      <td>0.833333</td>\n",
       "      <td>5</td>\n",
       "      <td>Managerial</td>\n",
       "      <td>[0.0, 0.0, 0.0, 0.0, 0.0, 0.0, 0.0, 0.0, 0.0, ...</td>\n",
       "      <td>3.971570</td>\n",
       "      <td>Managerial</td>\n",
       "      <td>1.384615</td>\n",
       "    </tr>\n",
       "    <tr>\n",
       "      <th>...</th>\n",
       "      <td>...</td>\n",
       "      <td>...</td>\n",
       "      <td>...</td>\n",
       "      <td>...</td>\n",
       "      <td>...</td>\n",
       "      <td>...</td>\n",
       "      <td>...</td>\n",
       "      <td>...</td>\n",
       "      <td>...</td>\n",
       "      <td>...</td>\n",
       "      <td>...</td>\n",
       "      <td>...</td>\n",
       "      <td>...</td>\n",
       "      <td>...</td>\n",
       "      <td>...</td>\n",
       "      <td>...</td>\n",
       "      <td>...</td>\n",
       "      <td>...</td>\n",
       "      <td>...</td>\n",
       "      <td>...</td>\n",
       "      <td>...</td>\n",
       "    </tr>\n",
       "    <tr>\n",
       "      <th>1311</th>\n",
       "      <td>Hanson2016_1312</td>\n",
       "      <td>Messana</td>\n",
       "      <td>Messina</td>\n",
       "      <td>Sicilia</td>\n",
       "      <td>Italy</td>\n",
       "      <td>3</td>\n",
       "      <td>47 H2</td>\n",
       "      <td>-730</td>\n",
       "      <td>NaN</td>\n",
       "      <td>Brunt 1971; Cornell and Mathews 1982; Hansen 2...</td>\n",
       "      <td>...</td>\n",
       "      <td>4</td>\n",
       "      <td>[0, 0, 0, 0, 0, 0, 0, 0, 1, 0, 0, 0, 0, 0, 0, ...</td>\n",
       "      <td>[0.0, 0.0, 0.0, 0.0, 0.0, 0.0, 0.0, 0.0, 0.25,...</td>\n",
       "      <td>0.250000</td>\n",
       "      <td>1</td>\n",
       "      <td>Education</td>\n",
       "      <td>[0.0, 0.0, 0.0, 0.0, 0.0, 0.0, 0.0, 0.0, 5.177...</td>\n",
       "      <td>12.464072</td>\n",
       "      <td>Finance</td>\n",
       "      <td>4.000000</td>\n",
       "    </tr>\n",
       "    <tr>\n",
       "      <th>1315</th>\n",
       "      <td>Hanson2016_1316</td>\n",
       "      <td>Panormus</td>\n",
       "      <td>Palermo</td>\n",
       "      <td>Sicilia</td>\n",
       "      <td>Italy</td>\n",
       "      <td>2</td>\n",
       "      <td>47 C2</td>\n",
       "      <td>-700</td>\n",
       "      <td>NaN</td>\n",
       "      <td>Beloch 1886; BNP; Brunt 1971; Cornell and Math...</td>\n",
       "      <td>...</td>\n",
       "      <td>2</td>\n",
       "      <td>[0, 1, 0, 0, 0, 0, 0, 0, 0, 0, 0, 2, 0, 0, 0, ...</td>\n",
       "      <td>[0.0, 0.3333333333333333, 0.0, 0.0, 0.0, 0.0, ...</td>\n",
       "      <td>0.666667</td>\n",
       "      <td>2</td>\n",
       "      <td>Managerial</td>\n",
       "      <td>[0.0, 4.111604938271605, 0.0, 0.0, 0.0, 0.0, 0...</td>\n",
       "      <td>4.111605</td>\n",
       "      <td>Retail</td>\n",
       "      <td>1.800000</td>\n",
       "    </tr>\n",
       "    <tr>\n",
       "      <th>1317</th>\n",
       "      <td>Hanson2016_1318</td>\n",
       "      <td>Segesta</td>\n",
       "      <td>Segesta</td>\n",
       "      <td>Sicilia</td>\n",
       "      <td>Italy</td>\n",
       "      <td>3</td>\n",
       "      <td>47 B3</td>\n",
       "      <td>-600</td>\n",
       "      <td>NaN</td>\n",
       "      <td>McEvedy 2011; PECS; Sear 2006; Woloch 1983.</td>\n",
       "      <td>...</td>\n",
       "      <td>1</td>\n",
       "      <td>[0, 0, 0, 0, 0, 0, 0, 0, 0, 0, 0, 1, 0, 0, 0, ...</td>\n",
       "      <td>[0.0, 0.0, 0.0, 0.0, 0.0, 0.0, 0.0, 0.0, 0.0, ...</td>\n",
       "      <td>1.000000</td>\n",
       "      <td>1</td>\n",
       "      <td>Managerial</td>\n",
       "      <td>[0.0, 0.0, 0.0, 0.0, 0.0, 0.0, 0.0, 0.0, 0.0, ...</td>\n",
       "      <td>4.765884</td>\n",
       "      <td>Managerial</td>\n",
       "      <td>1.000000</td>\n",
       "    </tr>\n",
       "    <tr>\n",
       "      <th>1319</th>\n",
       "      <td>Hanson2016_1320</td>\n",
       "      <td>Syracusae</td>\n",
       "      <td>Syracuse</td>\n",
       "      <td>Sicilia</td>\n",
       "      <td>Italy</td>\n",
       "      <td>2</td>\n",
       "      <td>47 G4</td>\n",
       "      <td>-733</td>\n",
       "      <td>NaN</td>\n",
       "      <td>Beloch 1886; Benario 1981; Brunt 1971; Cornell...</td>\n",
       "      <td>...</td>\n",
       "      <td>3</td>\n",
       "      <td>[0, 0, 0, 0, 0, 0, 0, 0, 0, 0, 0, 0, 1, 0, 0, ...</td>\n",
       "      <td>[0.0, 0.0, 0.0, 0.0, 0.0, 0.0, 0.0, 0.0, 0.0, ...</td>\n",
       "      <td>0.333333</td>\n",
       "      <td>1</td>\n",
       "      <td>Clothing</td>\n",
       "      <td>[0.0, 0.0, 0.0, 0.0, 0.0, 0.0, 0.0, 0.0, 0.0, ...</td>\n",
       "      <td>16.618762</td>\n",
       "      <td>Finance</td>\n",
       "      <td>3.000000</td>\n",
       "    </tr>\n",
       "    <tr>\n",
       "      <th>1321</th>\n",
       "      <td>Hanson2016_1322</td>\n",
       "      <td>Tyndaris</td>\n",
       "      <td>Tindari</td>\n",
       "      <td>Sicilia</td>\n",
       "      <td>Italy</td>\n",
       "      <td>3</td>\n",
       "      <td>47 G2</td>\n",
       "      <td>-396</td>\n",
       "      <td>NaN</td>\n",
       "      <td>Brunt 1971; Cornell and Mathews 1982; Hansen 2...</td>\n",
       "      <td>...</td>\n",
       "      <td>1</td>\n",
       "      <td>[0, 0, 0, 0, 0, 0, 0, 0, 0, 0, 0, 2, 0, 0, 0, ...</td>\n",
       "      <td>[0.0, 0.0, 0.0, 0.0, 0.0, 0.0, 0.0, 0.0, 0.0, ...</td>\n",
       "      <td>1.000000</td>\n",
       "      <td>2</td>\n",
       "      <td>Managerial</td>\n",
       "      <td>[0.0, 0.0, 0.0, 0.0, 0.0, 0.0, 0.0, 0.0, 0.0, ...</td>\n",
       "      <td>4.765884</td>\n",
       "      <td>Managerial</td>\n",
       "      <td>1.000000</td>\n",
       "    </tr>\n",
       "  </tbody>\n",
       "</table>\n",
       "<p>506 rows × 43 columns</p>\n",
       "</div>"
      ],
      "text/plain": [
       "          Primary Key Ancient Toponym     Modern Toponym  \\\n",
       "156    Hanson2016_157     Abbir Maius    Henchir en Naam   \n",
       "158    Hanson2016_159        Abthungi   Henchir es Souar   \n",
       "159    Hanson2016_160         Acholla   Henchir Bou Tria   \n",
       "160    Hanson2016_161           Agbia  Henchir Ain Hedja   \n",
       "162    Hanson2016_163     Apisa Maius     Tarf ech Chena   \n",
       "...               ...             ...                ...   \n",
       "1311  Hanson2016_1312         Messana            Messina   \n",
       "1315  Hanson2016_1316        Panormus            Palermo   \n",
       "1317  Hanson2016_1318         Segesta            Segesta   \n",
       "1319  Hanson2016_1320       Syracusae           Syracuse   \n",
       "1321  Hanson2016_1322        Tyndaris            Tindari   \n",
       "\n",
       "                  Province  Country Barrington Atlas Rank  \\\n",
       "156   Africa Proconsularis  Tunisia                     3   \n",
       "158   Africa Proconsularis  Tunisia                     3   \n",
       "159   Africa Proconsularis  Tunisia                4 or 5   \n",
       "160   Africa Proconsularis  Tunisia                     3   \n",
       "162   Africa Proconsularis  Tunisia                     3   \n",
       "...                    ...      ...                   ...   \n",
       "1311               Sicilia    Italy                     3   \n",
       "1315               Sicilia    Italy                     2   \n",
       "1317               Sicilia    Italy                     3   \n",
       "1319               Sicilia    Italy                     2   \n",
       "1321               Sicilia    Italy                     3   \n",
       "\n",
       "     Barrington Atlas Reference  Start Date  End Date  \\\n",
       "156                       32 F4         100       NaN   \n",
       "158                       32 E4         -50       NaN   \n",
       "159                       33 H2        -200       NaN   \n",
       "160                       32 D4         100       NaN   \n",
       "162                       32 E4         200       NaN   \n",
       "...                         ...         ...       ...   \n",
       "1311                      47 H2        -730       NaN   \n",
       "1315                      47 C2        -700       NaN   \n",
       "1317                      47 B3        -600       NaN   \n",
       "1319                      47 G4        -733       NaN   \n",
       "1321                      47 G2        -396       NaN   \n",
       "\n",
       "                                    Select Bibliography  ...  \\\n",
       "156                            BNP; Lepelley 1979-1981.  ...   \n",
       "158   Boatwright 2000; Lepelley 1979-1981; Quinn and...  ...   \n",
       "159   BNP; Boatwright 2000; Bomgardner 2000; DGRG; G...  ...   \n",
       "160   BNP; Bomgardner 2000; Lepelley 1979-1981; McEv...  ...   \n",
       "162                            BNP; Lepelley 1979-1981.  ...   \n",
       "...                                                 ...  ...   \n",
       "1311  Brunt 1971; Cornell and Mathews 1982; Hansen 2...  ...   \n",
       "1315  Beloch 1886; BNP; Brunt 1971; Cornell and Math...  ...   \n",
       "1317        McEvedy 2011; PECS; Sear 2006; Woloch 1983.  ...   \n",
       "1319  Beloch 1886; Benario 1981; Brunt 1971; Cornell...  ...   \n",
       "1321  Brunt 1971; Cornell and Mathews 1982; Hansen 2...  ...   \n",
       "\n",
       "      occups_cats_unique_N                                    occups_cats_vec  \\\n",
       "156                      1  [0, 0, 0, 0, 0, 0, 0, 0, 0, 0, 0, 1, 0, 0, 0, ...   \n",
       "158                      2  [0, 0, 0, 0, 0, 0, 0, 0, 0, 0, 0, 5, 0, 0, 1, ...   \n",
       "159                      1  [0, 0, 0, 0, 0, 0, 0, 0, 0, 0, 0, 3, 0, 0, 0, ...   \n",
       "160                      2  [0, 0, 0, 0, 0, 0, 0, 1, 0, 0, 0, 1, 0, 0, 0, ...   \n",
       "162                      2  [0, 0, 0, 0, 0, 0, 0, 0, 0, 0, 0, 5, 0, 0, 0, ...   \n",
       "...                    ...                                                ...   \n",
       "1311                     4  [0, 0, 0, 0, 0, 0, 0, 0, 1, 0, 0, 0, 0, 0, 0, ...   \n",
       "1315                     2  [0, 1, 0, 0, 0, 0, 0, 0, 0, 0, 0, 2, 0, 0, 0, ...   \n",
       "1317                     1  [0, 0, 0, 0, 0, 0, 0, 0, 0, 0, 0, 1, 0, 0, 0, ...   \n",
       "1319                     3  [0, 0, 0, 0, 0, 0, 0, 0, 0, 0, 0, 0, 1, 0, 0, ...   \n",
       "1321                     1  [0, 0, 0, 0, 0, 0, 0, 0, 0, 0, 0, 2, 0, 0, 0, ...   \n",
       "\n",
       "                                             shares_vec        ZI  \\\n",
       "156   [0.0, 0.0, 0.0, 0.0, 0.0, 0.0, 0.0, 0.0, 0.0, ...  1.000000   \n",
       "158   [0.0, 0.0, 0.0, 0.0, 0.0, 0.0, 0.0, 0.0, 0.0, ...  0.833333   \n",
       "159   [0.0, 0.0, 0.0, 0.0, 0.0, 0.0, 0.0, 0.0, 0.0, ...  1.000000   \n",
       "160   [0.0, 0.0, 0.0, 0.0, 0.0, 0.0, 0.0, 0.5, 0.0, ...  0.500000   \n",
       "162   [0.0, 0.0, 0.0, 0.0, 0.0, 0.0, 0.0, 0.0, 0.0, ...  0.833333   \n",
       "...                                                 ...       ...   \n",
       "1311  [0.0, 0.0, 0.0, 0.0, 0.0, 0.0, 0.0, 0.0, 0.25,...  0.250000   \n",
       "1315  [0.0, 0.3333333333333333, 0.0, 0.0, 0.0, 0.0, ...  0.666667   \n",
       "1317  [0.0, 0.0, 0.0, 0.0, 0.0, 0.0, 0.0, 0.0, 0.0, ...  1.000000   \n",
       "1319  [0.0, 0.0, 0.0, 0.0, 0.0, 0.0, 0.0, 0.0, 0.0, ...  0.333333   \n",
       "1321  [0.0, 0.0, 0.0, 0.0, 0.0, 0.0, 0.0, 0.0, 0.0, ...  1.000000   \n",
       "\n",
       "      largest_cat        ZI_cat  \\\n",
       "156             1    Managerial   \n",
       "158             5    Managerial   \n",
       "159             3    Managerial   \n",
       "160             1  Plastic Arts   \n",
       "162             5    Managerial   \n",
       "...           ...           ...   \n",
       "1311            1     Education   \n",
       "1315            2    Managerial   \n",
       "1317            1    Managerial   \n",
       "1319            1      Clothing   \n",
       "1321            2    Managerial   \n",
       "\n",
       "                                    shares_weighted_vec        RZI  \\\n",
       "156   [0.0, 0.0, 0.0, 0.0, 0.0, 0.0, 0.0, 0.0, 0.0, ...   4.765884   \n",
       "158   [0.0, 0.0, 0.0, 0.0, 0.0, 0.0, 0.0, 0.0, 0.0, ...   3.971570   \n",
       "159   [0.0, 0.0, 0.0, 0.0, 0.0, 0.0, 0.0, 0.0, 0.0, ...   4.765884   \n",
       "160   [0.0, 0.0, 0.0, 0.0, 0.0, 0.0, 0.0, 32.2713178...  32.271318   \n",
       "162   [0.0, 0.0, 0.0, 0.0, 0.0, 0.0, 0.0, 0.0, 0.0, ...   3.971570   \n",
       "...                                                 ...        ...   \n",
       "1311  [0.0, 0.0, 0.0, 0.0, 0.0, 0.0, 0.0, 0.0, 5.177...  12.464072   \n",
       "1315  [0.0, 4.111604938271605, 0.0, 0.0, 0.0, 0.0, 0...   4.111605   \n",
       "1317  [0.0, 0.0, 0.0, 0.0, 0.0, 0.0, 0.0, 0.0, 0.0, ...   4.765884   \n",
       "1319  [0.0, 0.0, 0.0, 0.0, 0.0, 0.0, 0.0, 0.0, 0.0, ...  16.618762   \n",
       "1321  [0.0, 0.0, 0.0, 0.0, 0.0, 0.0, 0.0, 0.0, 0.0, ...   4.765884   \n",
       "\n",
       "           RZI_cat        DI  \n",
       "156     Managerial  1.000000  \n",
       "158     Managerial  1.384615  \n",
       "159     Managerial  1.000000  \n",
       "160   Plastic Arts  2.000000  \n",
       "162     Managerial  1.384615  \n",
       "...            ...       ...  \n",
       "1311       Finance  4.000000  \n",
       "1315        Retail  1.800000  \n",
       "1317    Managerial  1.000000  \n",
       "1319       Finance  3.000000  \n",
       "1321    Managerial  1.000000  \n",
       "\n",
       "[506 rows x 43 columns]"
      ]
     },
     "execution_count": 105,
     "metadata": {},
     "output_type": "execute_result"
    }
   ],
   "source": [
    "roman_cities_wo"
   ]
  },
  {
   "cell_type": "code",
   "execution_count": 106,
   "metadata": {
    "pycharm": {
     "name": "#%%\n"
    }
   },
   "outputs": [],
   "source": [
    "cols_renaming = {\"Ancient Toponym\" : \"city\",\n",
    "                 \"Country\" : \"country\",\n",
    "                 \"pop_est\" : \"pop. est.\",\n",
    "                 \"inscr_N\" : \"N inscriptions\",\n",
    "                 \"occups_N\" : \"N occupations\",\n",
    "                 \"occups_cats_unique_N\": \"N sectors\",\n",
    "                 \"ZI_cat\" : \"largest sector\",\n",
    "                 \"RZI_cat\" : \"largest sector\",\n",
    "                 \"largest_cat\" : \"N occ. in largest sector\"\n",
    "                 }"
   ]
  },
  {
   "cell_type": "code",
   "execution_count": 107,
   "metadata": {
    "pycharm": {
     "name": "#%%\n"
    }
   },
   "outputs": [],
   "source": [
    "def get_sorted_table(df, sel_cols, measures):\n",
    "    df = df[sel_cols + measures]\n",
    "    df_sorted = df.sort_values(measures[0], ascending=False)\n",
    "    for col in [\"inscr_N\", \"pop_est\", \"occups_N\", \"occups_cats_unique_N\"]:\n",
    "        df_sorted[col] = df_sorted[col].astype(int)\n",
    "    for val_col in [\"ZIw\", \"RZIw\", \"DI\", \"DIw\"]:\n",
    "        try:\n",
    "            df_sorted[val_col] = df_sorted[val_col].round(2)\n",
    "        except:\n",
    "            pass\n",
    "    df_sorted = df_sorted.rename(columns=cols_renaming)\n",
    "    return df_sorted.head(10) # .append(df_sorted.tail(3))"
   ]
  },
  {
   "cell_type": "code",
   "execution_count": 109,
   "metadata": {
    "pycharm": {
     "name": "#%%\n"
    }
   },
   "outputs": [
    {
     "ename": "KeyError",
     "evalue": "\"['ZIw'] not in index\"",
     "output_type": "error",
     "traceback": [
      "\u001b[0;31m---------------------------------------------------------------------------\u001b[0m",
      "\u001b[0;31mKeyError\u001b[0m                                  Traceback (most recent call last)",
      "Cell \u001b[0;32mIn[109], line 3\u001b[0m\n\u001b[1;32m      1\u001b[0m sorted_dfs \u001b[38;5;241m=\u001b[39m {}\n\u001b[1;32m      2\u001b[0m \u001b[38;5;28;01mfor\u001b[39;00m measure_cols \u001b[38;5;129;01min\u001b[39;00m all_measures:\n\u001b[0;32m----> 3\u001b[0m     sorted_dfs[\u001b[38;5;124m\"\u001b[39m\u001b[38;5;124msorted_by_\u001b[39m\u001b[38;5;124m\"\u001b[39m \u001b[38;5;241m+\u001b[39m measure_cols[\u001b[38;5;241m0\u001b[39m]] \u001b[38;5;241m=\u001b[39m \u001b[43mget_sorted_table\u001b[49m\u001b[43m(\u001b[49m\u001b[43mroman_cities_wo\u001b[49m\u001b[43m,\u001b[49m\u001b[43m \u001b[49m\u001b[43msel_cols\u001b[49m\u001b[43m,\u001b[49m\u001b[43m \u001b[49m\u001b[43mmeasure_cols\u001b[49m\u001b[43m)\u001b[49m\n",
      "Cell \u001b[0;32mIn[107], line 2\u001b[0m, in \u001b[0;36mget_sorted_table\u001b[0;34m(df, sel_cols, measures)\u001b[0m\n\u001b[1;32m      1\u001b[0m \u001b[38;5;28;01mdef\u001b[39;00m \u001b[38;5;21mget_sorted_table\u001b[39m(df, sel_cols, measures):\n\u001b[0;32m----> 2\u001b[0m     df \u001b[38;5;241m=\u001b[39m \u001b[43mdf\u001b[49m\u001b[43m[\u001b[49m\u001b[43msel_cols\u001b[49m\u001b[43m \u001b[49m\u001b[38;5;241;43m+\u001b[39;49m\u001b[43m \u001b[49m\u001b[43mmeasures\u001b[49m\u001b[43m]\u001b[49m\n\u001b[1;32m      3\u001b[0m     df_sorted \u001b[38;5;241m=\u001b[39m df\u001b[38;5;241m.\u001b[39msort_values(measures[\u001b[38;5;241m0\u001b[39m], ascending\u001b[38;5;241m=\u001b[39m\u001b[38;5;28;01mFalse\u001b[39;00m)\n\u001b[1;32m      4\u001b[0m     \u001b[38;5;28;01mfor\u001b[39;00m col \u001b[38;5;129;01min\u001b[39;00m [\u001b[38;5;124m\"\u001b[39m\u001b[38;5;124minscr_N\u001b[39m\u001b[38;5;124m\"\u001b[39m, \u001b[38;5;124m\"\u001b[39m\u001b[38;5;124mpop_est\u001b[39m\u001b[38;5;124m\"\u001b[39m, \u001b[38;5;124m\"\u001b[39m\u001b[38;5;124moccups_N\u001b[39m\u001b[38;5;124m\"\u001b[39m, \u001b[38;5;124m\"\u001b[39m\u001b[38;5;124moccups_cats_unique_N\u001b[39m\u001b[38;5;124m\"\u001b[39m]:\n",
      "File \u001b[0;32m~/.local/lib/python3.10/site-packages/geopandas/geodataframe.py:1474\u001b[0m, in \u001b[0;36mGeoDataFrame.__getitem__\u001b[0;34m(self, key)\u001b[0m\n\u001b[1;32m   1468\u001b[0m \u001b[38;5;28;01mdef\u001b[39;00m \u001b[38;5;21m__getitem__\u001b[39m(\u001b[38;5;28mself\u001b[39m, key):\n\u001b[1;32m   1469\u001b[0m \u001b[38;5;250m    \u001b[39m\u001b[38;5;124;03m\"\"\"\u001b[39;00m\n\u001b[1;32m   1470\u001b[0m \u001b[38;5;124;03m    If the result is a column containing only 'geometry', return a\u001b[39;00m\n\u001b[1;32m   1471\u001b[0m \u001b[38;5;124;03m    GeoSeries. If it's a DataFrame with any columns of GeometryDtype,\u001b[39;00m\n\u001b[1;32m   1472\u001b[0m \u001b[38;5;124;03m    return a GeoDataFrame.\u001b[39;00m\n\u001b[1;32m   1473\u001b[0m \u001b[38;5;124;03m    \"\"\"\u001b[39;00m\n\u001b[0;32m-> 1474\u001b[0m     result \u001b[38;5;241m=\u001b[39m \u001b[38;5;28;43msuper\u001b[39;49m\u001b[43m(\u001b[49m\u001b[43m)\u001b[49m\u001b[38;5;241;43m.\u001b[39;49m\u001b[38;5;21;43m__getitem__\u001b[39;49m\u001b[43m(\u001b[49m\u001b[43mkey\u001b[49m\u001b[43m)\u001b[49m\n\u001b[1;32m   1475\u001b[0m     \u001b[38;5;66;03m# Custom logic to avoid waiting for pandas GH51895\u001b[39;00m\n\u001b[1;32m   1476\u001b[0m     \u001b[38;5;66;03m# result is not geometry dtype for multi-indexes\u001b[39;00m\n\u001b[1;32m   1477\u001b[0m     \u001b[38;5;28;01mif\u001b[39;00m (\n\u001b[1;32m   1478\u001b[0m         pd\u001b[38;5;241m.\u001b[39mapi\u001b[38;5;241m.\u001b[39mtypes\u001b[38;5;241m.\u001b[39mis_scalar(key)\n\u001b[1;32m   1479\u001b[0m         \u001b[38;5;129;01mand\u001b[39;00m key \u001b[38;5;241m==\u001b[39m \u001b[38;5;124m\"\u001b[39m\u001b[38;5;124m\"\u001b[39m\n\u001b[0;32m   (...)\u001b[0m\n\u001b[1;32m   1482\u001b[0m         \u001b[38;5;129;01mand\u001b[39;00m \u001b[38;5;129;01mnot\u001b[39;00m is_geometry_type(result)\n\u001b[1;32m   1483\u001b[0m     ):\n",
      "File \u001b[0;32m~/.local/lib/python3.10/site-packages/pandas/core/frame.py:3902\u001b[0m, in \u001b[0;36mDataFrame.__getitem__\u001b[0;34m(self, key)\u001b[0m\n\u001b[1;32m   3900\u001b[0m     \u001b[38;5;28;01mif\u001b[39;00m is_iterator(key):\n\u001b[1;32m   3901\u001b[0m         key \u001b[38;5;241m=\u001b[39m \u001b[38;5;28mlist\u001b[39m(key)\n\u001b[0;32m-> 3902\u001b[0m     indexer \u001b[38;5;241m=\u001b[39m \u001b[38;5;28;43mself\u001b[39;49m\u001b[38;5;241;43m.\u001b[39;49m\u001b[43mcolumns\u001b[49m\u001b[38;5;241;43m.\u001b[39;49m\u001b[43m_get_indexer_strict\u001b[49m\u001b[43m(\u001b[49m\u001b[43mkey\u001b[49m\u001b[43m,\u001b[49m\u001b[43m \u001b[49m\u001b[38;5;124;43m\"\u001b[39;49m\u001b[38;5;124;43mcolumns\u001b[39;49m\u001b[38;5;124;43m\"\u001b[39;49m\u001b[43m)\u001b[49m[\u001b[38;5;241m1\u001b[39m]\n\u001b[1;32m   3904\u001b[0m \u001b[38;5;66;03m# take() does not accept boolean indexers\u001b[39;00m\n\u001b[1;32m   3905\u001b[0m \u001b[38;5;28;01mif\u001b[39;00m \u001b[38;5;28mgetattr\u001b[39m(indexer, \u001b[38;5;124m\"\u001b[39m\u001b[38;5;124mdtype\u001b[39m\u001b[38;5;124m\"\u001b[39m, \u001b[38;5;28;01mNone\u001b[39;00m) \u001b[38;5;241m==\u001b[39m \u001b[38;5;28mbool\u001b[39m:\n",
      "File \u001b[0;32m~/.local/lib/python3.10/site-packages/pandas/core/indexes/base.py:6114\u001b[0m, in \u001b[0;36mIndex._get_indexer_strict\u001b[0;34m(self, key, axis_name)\u001b[0m\n\u001b[1;32m   6111\u001b[0m \u001b[38;5;28;01melse\u001b[39;00m:\n\u001b[1;32m   6112\u001b[0m     keyarr, indexer, new_indexer \u001b[38;5;241m=\u001b[39m \u001b[38;5;28mself\u001b[39m\u001b[38;5;241m.\u001b[39m_reindex_non_unique(keyarr)\n\u001b[0;32m-> 6114\u001b[0m \u001b[38;5;28;43mself\u001b[39;49m\u001b[38;5;241;43m.\u001b[39;49m\u001b[43m_raise_if_missing\u001b[49m\u001b[43m(\u001b[49m\u001b[43mkeyarr\u001b[49m\u001b[43m,\u001b[49m\u001b[43m \u001b[49m\u001b[43mindexer\u001b[49m\u001b[43m,\u001b[49m\u001b[43m \u001b[49m\u001b[43maxis_name\u001b[49m\u001b[43m)\u001b[49m\n\u001b[1;32m   6116\u001b[0m keyarr \u001b[38;5;241m=\u001b[39m \u001b[38;5;28mself\u001b[39m\u001b[38;5;241m.\u001b[39mtake(indexer)\n\u001b[1;32m   6117\u001b[0m \u001b[38;5;28;01mif\u001b[39;00m \u001b[38;5;28misinstance\u001b[39m(key, Index):\n\u001b[1;32m   6118\u001b[0m     \u001b[38;5;66;03m# GH 42790 - Preserve name from an Index\u001b[39;00m\n",
      "File \u001b[0;32m~/.local/lib/python3.10/site-packages/pandas/core/indexes/base.py:6178\u001b[0m, in \u001b[0;36mIndex._raise_if_missing\u001b[0;34m(self, key, indexer, axis_name)\u001b[0m\n\u001b[1;32m   6175\u001b[0m     \u001b[38;5;28;01mraise\u001b[39;00m \u001b[38;5;167;01mKeyError\u001b[39;00m(\u001b[38;5;124mf\u001b[39m\u001b[38;5;124m\"\u001b[39m\u001b[38;5;124mNone of [\u001b[39m\u001b[38;5;132;01m{\u001b[39;00mkey\u001b[38;5;132;01m}\u001b[39;00m\u001b[38;5;124m] are in the [\u001b[39m\u001b[38;5;132;01m{\u001b[39;00maxis_name\u001b[38;5;132;01m}\u001b[39;00m\u001b[38;5;124m]\u001b[39m\u001b[38;5;124m\"\u001b[39m)\n\u001b[1;32m   6177\u001b[0m not_found \u001b[38;5;241m=\u001b[39m \u001b[38;5;28mlist\u001b[39m(ensure_index(key)[missing_mask\u001b[38;5;241m.\u001b[39mnonzero()[\u001b[38;5;241m0\u001b[39m]]\u001b[38;5;241m.\u001b[39munique())\n\u001b[0;32m-> 6178\u001b[0m \u001b[38;5;28;01mraise\u001b[39;00m \u001b[38;5;167;01mKeyError\u001b[39;00m(\u001b[38;5;124mf\u001b[39m\u001b[38;5;124m\"\u001b[39m\u001b[38;5;132;01m{\u001b[39;00mnot_found\u001b[38;5;132;01m}\u001b[39;00m\u001b[38;5;124m not in index\u001b[39m\u001b[38;5;124m\"\u001b[39m)\n",
      "\u001b[0;31mKeyError\u001b[0m: \"['ZIw'] not in index\""
     ]
    }
   ],
   "source": [
    "sorted_dfs = {}\n",
    "for measure_cols in all_measures:\n",
    "    sorted_dfs[\"sorted_by_\" + measure_cols[0]] = get_sorted_table(roman_cities_wo, sel_cols, measure_cols)"
   ]
  },
  {
   "cell_type": "code",
   "execution_count": 110,
   "metadata": {
    "pycharm": {
     "name": "#%%\n"
    }
   },
   "outputs": [
    {
     "ename": "KeyError",
     "evalue": "'sorted_by_ZIw'",
     "output_type": "error",
     "traceback": [
      "\u001b[0;31m---------------------------------------------------------------------------\u001b[0m",
      "\u001b[0;31mKeyError\u001b[0m                                  Traceback (most recent call last)",
      "Cell \u001b[0;32mIn[110], line 1\u001b[0m\n\u001b[0;32m----> 1\u001b[0m \u001b[43msorted_dfs\u001b[49m\u001b[43m[\u001b[49m\u001b[38;5;124;43m\"\u001b[39;49m\u001b[38;5;124;43msorted_by_ZIw\u001b[39;49m\u001b[38;5;124;43m\"\u001b[39;49m\u001b[43m]\u001b[49m\n",
      "\u001b[0;31mKeyError\u001b[0m: 'sorted_by_ZIw'"
     ]
    }
   ],
   "source": [
    "sorted_dfs[\"sorted_by_ZIw\"]"
   ]
  },
  {
   "cell_type": "code",
   "execution_count": null,
   "metadata": {
    "pycharm": {
     "name": "#%%\n"
    }
   },
   "outputs": [],
   "source": [
    "# export to gsheets\n",
    "set_with_dataframe(socdiv_results.add_worksheet(\"sorted_by_ZIw_10_jan31\", 1,1), sorted_dfs[\"sorted_by_ZIw\"])"
   ]
  },
  {
   "cell_type": "code",
   "execution_count": null,
   "metadata": {
    "pycharm": {
     "name": "#%%\n"
    }
   },
   "outputs": [],
   "source": [
    "# save to csv\n",
    "sorted_dfs[\"sorted_by_ZIw\"].to_csv(\"../../data/sorted_by_ZIw_10.csv\", index=None)"
   ]
  },
  {
   "cell_type": "code",
   "execution_count": null,
   "metadata": {
    "pycharm": {
     "name": "#%%\n"
    }
   },
   "outputs": [],
   "source": [
    "### latex version..."
   ]
  },
  {
   "cell_type": "code",
   "execution_count": null,
   "metadata": {
    "pycharm": {
     "name": "#%%\n"
    }
   },
   "outputs": [],
   "source": [
    "LIST_sel_cols = [\"EDCS-ID\", \"EDH-ID\", \"type_of_inscription_auto\", \"not_before\", \"not_after\", \"clean_text_interpretive_word\", \"occups\", \"occups_N\", \"occups_cats_list\"]"
   ]
  },
  {
   "cell_type": "markdown",
   "metadata": {
    "pycharm": {
     "name": "#%% md\n"
    }
   },
   "source": [
    "### Carmo"
   ]
  },
  {
   "cell_type": "code",
   "execution_count": null,
   "metadata": {
    "pycharm": {
     "name": "#%%\n"
    }
   },
   "outputs": [],
   "source": [
    "roman_cities_wo[roman_cities_wo[\"Ancient Toponym\"]==\"Carmo\"]"
   ]
  },
  {
   "cell_type": "code",
   "execution_count": null,
   "metadata": {
    "pycharm": {
     "name": "#%%\n"
    }
   },
   "outputs": [],
   "source": [
    "carmo_occups = LIST[(LIST[\"city_ID\"]==\"333\") & (LIST[\"occups_N\"]>0)][LIST_sel_cols][LIST_sel_cols]\n",
    "carmo_occups"
   ]
  },
  {
   "cell_type": "code",
   "execution_count": null,
   "metadata": {
    "pycharm": {
     "name": "#%%\n"
    }
   },
   "outputs": [],
   "source": [
    "set_with_dataframe(socdiv_results.add_worksheet(\"carmo_feb1\", 1,1), carmo_occups)"
   ]
  },
  {
   "cell_type": "code",
   "execution_count": null,
   "metadata": {
    "pycharm": {
     "name": "#%%\n"
    }
   },
   "outputs": [],
   "source": [
    "carmo_occups.to_csv(\"../../data/occupational_inscriptions_carmo.csv\", index=False)"
   ]
  },
  {
   "cell_type": "code",
   "execution_count": null,
   "metadata": {
    "pycharm": {
     "name": "#%%\n"
    }
   },
   "outputs": [],
   "source": [
    "roman_cities_wo[roman_cities_wo[\"Ancient Toponym\"]==\"Augusta Vindelicum\"]"
   ]
  },
  {
   "cell_type": "markdown",
   "metadata": {
    "pycharm": {
     "name": "#%% md\n"
    }
   },
   "source": [
    "### Augusta vindelicum"
   ]
  },
  {
   "cell_type": "code",
   "execution_count": null,
   "metadata": {
    "pycharm": {
     "name": "#%%\n"
    }
   },
   "outputs": [],
   "source": [
    "augusta_vindelica_occups = LIST[(LIST[\"city_ID\"]==\"1288\") & (LIST[\"occups_N\"]>0)][LIST_sel_cols]\n",
    "augusta_vindelica_occups"
   ]
  },
  {
   "cell_type": "code",
   "execution_count": null,
   "metadata": {
    "pycharm": {
     "name": "#%%\n"
    }
   },
   "outputs": [],
   "source": [
    "set_with_dataframe(socdiv_results.add_worksheet(\"augusta_vindelicum_feb1\", 1, 1), augusta_vindelica_occups)"
   ]
  },
  {
   "cell_type": "code",
   "execution_count": null,
   "metadata": {
    "pycharm": {
     "name": "#%%\n"
    }
   },
   "outputs": [],
   "source": [
    "augusta_vindelica_occups.to_csv(\"../../data/occupational_inscriptions_augista_vindelicum.csv\", index=False)"
   ]
  },
  {
   "cell_type": "code",
   "execution_count": null,
   "metadata": {
    "pycharm": {
     "name": "#%%\n"
    }
   },
   "outputs": [],
   "source": [
    "# Augusta Vindelicum ZIw score before correction\n",
    "9/10 * np.log(10)"
   ]
  },
  {
   "cell_type": "code",
   "execution_count": null,
   "metadata": {
    "pycharm": {
     "name": "#%%\n"
    }
   },
   "outputs": [],
   "source": [
    "# Augusta Vindelicum ZIw score after correction\n",
    "(8/9) * np.log(9)"
   ]
  },
  {
   "cell_type": "markdown",
   "metadata": {
    "pycharm": {
     "name": "#%% md\n"
    }
   },
   "source": [
    "### Tibur"
   ]
  },
  {
   "cell_type": "code",
   "execution_count": null,
   "metadata": {
    "pycharm": {
     "name": "#%%\n"
    }
   },
   "outputs": [],
   "source": [
    "##\n",
    "roman_cities_wo[roman_cities_wo[\"Ancient Toponym\"]==\"Tibur\"]\n"
   ]
  },
  {
   "cell_type": "code",
   "execution_count": null,
   "metadata": {
    "pycharm": {
     "name": "#%%\n"
    }
   },
   "outputs": [],
   "source": [
    "tibur_occups = LIST[(LIST[\"city_ID\"]==\"902\") & (LIST[\"occups_N\"]>0)][LIST_sel_cols]\n",
    "tibur_occups"
   ]
  },
  {
   "cell_type": "code",
   "execution_count": null,
   "metadata": {
    "pycharm": {
     "name": "#%%\n"
    }
   },
   "outputs": [],
   "source": [
    "set_with_dataframe(socdiv_results.add_worksheet(\"tibur_feb1\", 1,1), tibur_occups)"
   ]
  },
  {
   "cell_type": "code",
   "execution_count": null,
   "metadata": {
    "pycharm": {
     "name": "#%%\n"
    }
   },
   "outputs": [],
   "source": [
    "tibur_occups.to_csv(\"../../data/occupational_inscriptions_tibur.csv\", index=False)"
   ]
  },
  {
   "cell_type": "markdown",
   "metadata": {
    "pycharm": {
     "name": "#%% md\n"
    }
   },
   "source": [
    "### RZIw"
   ]
  },
  {
   "cell_type": "code",
   "execution_count": null,
   "metadata": {
    "pycharm": {
     "name": "#%%\n"
    }
   },
   "outputs": [],
   "source": [
    "sorted_dfs[\"sorted_by_RZIw\"]"
   ]
  },
  {
   "cell_type": "code",
   "execution_count": null,
   "metadata": {
    "pycharm": {
     "name": "#%%\n"
    }
   },
   "outputs": [],
   "source": [
    "sorted_dfs[\"sorted_by_RZIw\"].to_csv(\"../../data/sorted_by_RZIw_10.csv\", index=None)"
   ]
  },
  {
   "cell_type": "markdown",
   "metadata": {
    "pycharm": {
     "name": "#%% md\n"
    }
   },
   "source": [
    "### DI"
   ]
  },
  {
   "cell_type": "code",
   "execution_count": null,
   "metadata": {
    "pycharm": {
     "name": "#%%\n"
    }
   },
   "outputs": [],
   "source": [
    "sorted_dfs[\"sorted_by_DI\"]"
   ]
  },
  {
   "cell_type": "code",
   "execution_count": null,
   "metadata": {
    "pycharm": {
     "name": "#%%\n"
    }
   },
   "outputs": [],
   "source": [
    "### latex version..."
   ]
  },
  {
   "cell_type": "code",
   "execution_count": null,
   "metadata": {
    "pycharm": {
     "name": "#%%\n"
    }
   },
   "outputs": [],
   "source": [
    "# export to gsheets\n",
    "#set_with_dataframe(socdiv_results.add_worksheet(\"sorted_by_DI_10_jan31\", 1,1), sorted_dfs[\"sorted_by_DI\"])"
   ]
  },
  {
   "cell_type": "code",
   "execution_count": null,
   "metadata": {
    "pycharm": {
     "name": "#%%\n"
    }
   },
   "outputs": [],
   "source": [
    "sorted_dfs[\"sorted_by_DI\"].to_csv(\"../../data/sorted_by_DI_10.csv\", index=None)"
   ]
  },
  {
   "cell_type": "markdown",
   "metadata": {
    "pycharm": {
     "name": "#%% md\n"
    }
   },
   "source": [
    "### Capua"
   ]
  },
  {
   "cell_type": "code",
   "execution_count": null,
   "metadata": {
    "pycharm": {
     "name": "#%%\n"
    }
   },
   "outputs": [],
   "source": [
    "roman_cities_wo[roman_cities_wo[\"Ancient Toponym\"]==\"Capua\"]"
   ]
  },
  {
   "cell_type": "code",
   "execution_count": null,
   "metadata": {
    "pycharm": {
     "name": "#%%\n"
    }
   },
   "outputs": [],
   "source": [
    "capua_occups = LIST[(LIST[\"city_ID\"]==\"758\") & (LIST[\"occups_N\"]>0)][LIST_sel_cols]\n",
    "capua_occups"
   ]
  },
  {
   "cell_type": "code",
   "execution_count": null,
   "metadata": {
    "pycharm": {
     "name": "#%%\n"
    }
   },
   "outputs": [],
   "source": [
    "set_with_dataframe(socdiv_results.add_worksheet(\"capua_feb1\", 1,1), capua_occups)"
   ]
  },
  {
   "cell_type": "code",
   "execution_count": null,
   "metadata": {
    "pycharm": {
     "name": "#%%\n"
    }
   },
   "outputs": [],
   "source": [
    "capua_occups.to_csv(\"../../data/occupational_inscriptions_capua.csv\", index=False)"
   ]
  },
  {
   "cell_type": "markdown",
   "metadata": {
    "pycharm": {
     "name": "#%% md\n"
    }
   },
   "source": [
    "### Pisae"
   ]
  },
  {
   "cell_type": "code",
   "execution_count": null,
   "metadata": {
    "pycharm": {
     "name": "#%%\n"
    }
   },
   "outputs": [],
   "source": [
    "roman_cities_wo[roman_cities_wo[\"Ancient Toponym\"]==\"Pisae\"]"
   ]
  },
  {
   "cell_type": "code",
   "execution_count": null,
   "metadata": {
    "pycharm": {
     "name": "#%%\n"
    }
   },
   "outputs": [],
   "source": [
    "pisae_occups = LIST[(LIST[\"city_ID\"]==\"987\") & (LIST[\"occups_N\"]>0)][LIST_sel_cols]\n",
    "pisae_occups"
   ]
  },
  {
   "cell_type": "code",
   "execution_count": null,
   "metadata": {
    "pycharm": {
     "name": "#%%\n"
    }
   },
   "outputs": [],
   "source": [
    "set_with_dataframe(socdiv_results.add_worksheet(\"pisae_feb1\", 1,1), pisae_occups)\n",
    "pisae_occups.to_csv(\"../../data/occupational_inscriptions_pisae.csv\", index=False)"
   ]
  },
  {
   "cell_type": "markdown",
   "metadata": {
    "pycharm": {
     "name": "#%% md\n"
    }
   },
   "source": [
    "### DIw"
   ]
  },
  {
   "cell_type": "code",
   "execution_count": null,
   "metadata": {
    "pycharm": {
     "name": "#%%\n"
    }
   },
   "outputs": [],
   "source": [
    "sorted_dfs[\"sorted_by_DIw\"]"
   ]
  },
  {
   "cell_type": "code",
   "execution_count": null,
   "metadata": {
    "pycharm": {
     "name": "#%%\n"
    }
   },
   "outputs": [],
   "source": [
    "sorted_dfs[\"sorted_by_DIw\"].to_csv(\"../../data/sorted_by_DIw_10.csv\", index=False)"
   ]
  },
  {
   "cell_type": "code",
   "execution_count": null,
   "metadata": {
    "pycharm": {
     "name": "#%%\n"
    }
   },
   "outputs": [],
   "source": [
    "def get_dzi(row):\n",
    "    try:\n",
    "        dzi = row[\"DI\"] / row[\"ZIw\"]\n",
    "    except:\n",
    "        dzi = 0\n",
    "    return dzi\n",
    "\n",
    "\n",
    "roman_cities_wo[\"DI/ZIw\"] = roman_cities_wo.apply(lambda row: get_dzi(row), axis=1)"
   ]
  },
  {
   "cell_type": "code",
   "execution_count": null,
   "metadata": {
    "pycharm": {
     "name": "#%%\n"
    }
   },
   "outputs": [],
   "source": [
    "roman_cities_wo.head(5)"
   ]
  },
  {
   "cell_type": "markdown",
   "metadata": {
    "pycharm": {
     "name": "#%% md\n"
    }
   },
   "source": [
    "# Hanson 2017"
   ]
  },
  {
   "cell_type": "code",
   "execution_count": 111,
   "metadata": {
    "pycharm": {
     "name": "#%%\n"
    }
   },
   "outputs": [
    {
     "ename": "FileNotFoundError",
     "evalue": "[Errno 2] No such file or directory: '../../data/hanson2017_supplementary.xlsx'",
     "output_type": "error",
     "traceback": [
      "\u001b[0;31m---------------------------------------------------------------------------\u001b[0m",
      "\u001b[0;31mFileNotFoundError\u001b[0m                         Traceback (most recent call last)",
      "Cell \u001b[0;32mIn[111], line 2\u001b[0m\n\u001b[1;32m      1\u001b[0m \u001b[38;5;66;03m# Hanson et al. 2017 on associations\u001b[39;00m\n\u001b[0;32m----> 2\u001b[0m hanson_assoc \u001b[38;5;241m=\u001b[39m \u001b[43mpd\u001b[49m\u001b[38;5;241;43m.\u001b[39;49m\u001b[43mread_excel\u001b[49m\u001b[43m(\u001b[49m\u001b[38;5;124;43m\"\u001b[39;49m\u001b[38;5;124;43m../../data/hanson2017_supplementary.xlsx\u001b[39;49m\u001b[38;5;124;43m\"\u001b[39;49m\u001b[43m)\u001b[49m\n\u001b[1;32m      3\u001b[0m hanson_assoc\u001b[38;5;241m.\u001b[39mhead(\u001b[38;5;241m10\u001b[39m)\n",
      "File \u001b[0;32m~/.local/lib/python3.10/site-packages/pandas/io/excel/_base.py:504\u001b[0m, in \u001b[0;36mread_excel\u001b[0;34m(io, sheet_name, header, names, index_col, usecols, dtype, engine, converters, true_values, false_values, skiprows, nrows, na_values, keep_default_na, na_filter, verbose, parse_dates, date_parser, date_format, thousands, decimal, comment, skipfooter, storage_options, dtype_backend, engine_kwargs)\u001b[0m\n\u001b[1;32m    502\u001b[0m \u001b[38;5;28;01mif\u001b[39;00m \u001b[38;5;129;01mnot\u001b[39;00m \u001b[38;5;28misinstance\u001b[39m(io, ExcelFile):\n\u001b[1;32m    503\u001b[0m     should_close \u001b[38;5;241m=\u001b[39m \u001b[38;5;28;01mTrue\u001b[39;00m\n\u001b[0;32m--> 504\u001b[0m     io \u001b[38;5;241m=\u001b[39m \u001b[43mExcelFile\u001b[49m\u001b[43m(\u001b[49m\n\u001b[1;32m    505\u001b[0m \u001b[43m        \u001b[49m\u001b[43mio\u001b[49m\u001b[43m,\u001b[49m\n\u001b[1;32m    506\u001b[0m \u001b[43m        \u001b[49m\u001b[43mstorage_options\u001b[49m\u001b[38;5;241;43m=\u001b[39;49m\u001b[43mstorage_options\u001b[49m\u001b[43m,\u001b[49m\n\u001b[1;32m    507\u001b[0m \u001b[43m        \u001b[49m\u001b[43mengine\u001b[49m\u001b[38;5;241;43m=\u001b[39;49m\u001b[43mengine\u001b[49m\u001b[43m,\u001b[49m\n\u001b[1;32m    508\u001b[0m \u001b[43m        \u001b[49m\u001b[43mengine_kwargs\u001b[49m\u001b[38;5;241;43m=\u001b[39;49m\u001b[43mengine_kwargs\u001b[49m\u001b[43m,\u001b[49m\n\u001b[1;32m    509\u001b[0m \u001b[43m    \u001b[49m\u001b[43m)\u001b[49m\n\u001b[1;32m    510\u001b[0m \u001b[38;5;28;01melif\u001b[39;00m engine \u001b[38;5;129;01mand\u001b[39;00m engine \u001b[38;5;241m!=\u001b[39m io\u001b[38;5;241m.\u001b[39mengine:\n\u001b[1;32m    511\u001b[0m     \u001b[38;5;28;01mraise\u001b[39;00m \u001b[38;5;167;01mValueError\u001b[39;00m(\n\u001b[1;32m    512\u001b[0m         \u001b[38;5;124m\"\u001b[39m\u001b[38;5;124mEngine should not be specified when passing \u001b[39m\u001b[38;5;124m\"\u001b[39m\n\u001b[1;32m    513\u001b[0m         \u001b[38;5;124m\"\u001b[39m\u001b[38;5;124man ExcelFile - ExcelFile already has the engine set\u001b[39m\u001b[38;5;124m\"\u001b[39m\n\u001b[1;32m    514\u001b[0m     )\n",
      "File \u001b[0;32m~/.local/lib/python3.10/site-packages/pandas/io/excel/_base.py:1563\u001b[0m, in \u001b[0;36mExcelFile.__init__\u001b[0;34m(self, path_or_buffer, engine, storage_options, engine_kwargs)\u001b[0m\n\u001b[1;32m   1561\u001b[0m     ext \u001b[38;5;241m=\u001b[39m \u001b[38;5;124m\"\u001b[39m\u001b[38;5;124mxls\u001b[39m\u001b[38;5;124m\"\u001b[39m\n\u001b[1;32m   1562\u001b[0m \u001b[38;5;28;01melse\u001b[39;00m:\n\u001b[0;32m-> 1563\u001b[0m     ext \u001b[38;5;241m=\u001b[39m \u001b[43minspect_excel_format\u001b[49m\u001b[43m(\u001b[49m\n\u001b[1;32m   1564\u001b[0m \u001b[43m        \u001b[49m\u001b[43mcontent_or_path\u001b[49m\u001b[38;5;241;43m=\u001b[39;49m\u001b[43mpath_or_buffer\u001b[49m\u001b[43m,\u001b[49m\u001b[43m \u001b[49m\u001b[43mstorage_options\u001b[49m\u001b[38;5;241;43m=\u001b[39;49m\u001b[43mstorage_options\u001b[49m\n\u001b[1;32m   1565\u001b[0m \u001b[43m    \u001b[49m\u001b[43m)\u001b[49m\n\u001b[1;32m   1566\u001b[0m     \u001b[38;5;28;01mif\u001b[39;00m ext \u001b[38;5;129;01mis\u001b[39;00m \u001b[38;5;28;01mNone\u001b[39;00m:\n\u001b[1;32m   1567\u001b[0m         \u001b[38;5;28;01mraise\u001b[39;00m \u001b[38;5;167;01mValueError\u001b[39;00m(\n\u001b[1;32m   1568\u001b[0m             \u001b[38;5;124m\"\u001b[39m\u001b[38;5;124mExcel file format cannot be determined, you must specify \u001b[39m\u001b[38;5;124m\"\u001b[39m\n\u001b[1;32m   1569\u001b[0m             \u001b[38;5;124m\"\u001b[39m\u001b[38;5;124man engine manually.\u001b[39m\u001b[38;5;124m\"\u001b[39m\n\u001b[1;32m   1570\u001b[0m         )\n",
      "File \u001b[0;32m~/.local/lib/python3.10/site-packages/pandas/io/excel/_base.py:1419\u001b[0m, in \u001b[0;36minspect_excel_format\u001b[0;34m(content_or_path, storage_options)\u001b[0m\n\u001b[1;32m   1416\u001b[0m \u001b[38;5;28;01mif\u001b[39;00m \u001b[38;5;28misinstance\u001b[39m(content_or_path, \u001b[38;5;28mbytes\u001b[39m):\n\u001b[1;32m   1417\u001b[0m     content_or_path \u001b[38;5;241m=\u001b[39m BytesIO(content_or_path)\n\u001b[0;32m-> 1419\u001b[0m \u001b[38;5;28;01mwith\u001b[39;00m \u001b[43mget_handle\u001b[49m\u001b[43m(\u001b[49m\n\u001b[1;32m   1420\u001b[0m \u001b[43m    \u001b[49m\u001b[43mcontent_or_path\u001b[49m\u001b[43m,\u001b[49m\u001b[43m \u001b[49m\u001b[38;5;124;43m\"\u001b[39;49m\u001b[38;5;124;43mrb\u001b[39;49m\u001b[38;5;124;43m\"\u001b[39;49m\u001b[43m,\u001b[49m\u001b[43m \u001b[49m\u001b[43mstorage_options\u001b[49m\u001b[38;5;241;43m=\u001b[39;49m\u001b[43mstorage_options\u001b[49m\u001b[43m,\u001b[49m\u001b[43m \u001b[49m\u001b[43mis_text\u001b[49m\u001b[38;5;241;43m=\u001b[39;49m\u001b[38;5;28;43;01mFalse\u001b[39;49;00m\n\u001b[1;32m   1421\u001b[0m \u001b[43m\u001b[49m\u001b[43m)\u001b[49m \u001b[38;5;28;01mas\u001b[39;00m handle:\n\u001b[1;32m   1422\u001b[0m     stream \u001b[38;5;241m=\u001b[39m handle\u001b[38;5;241m.\u001b[39mhandle\n\u001b[1;32m   1423\u001b[0m     stream\u001b[38;5;241m.\u001b[39mseek(\u001b[38;5;241m0\u001b[39m)\n",
      "File \u001b[0;32m~/.local/lib/python3.10/site-packages/pandas/io/common.py:872\u001b[0m, in \u001b[0;36mget_handle\u001b[0;34m(path_or_buf, mode, encoding, compression, memory_map, is_text, errors, storage_options)\u001b[0m\n\u001b[1;32m    863\u001b[0m         handle \u001b[38;5;241m=\u001b[39m \u001b[38;5;28mopen\u001b[39m(\n\u001b[1;32m    864\u001b[0m             handle,\n\u001b[1;32m    865\u001b[0m             ioargs\u001b[38;5;241m.\u001b[39mmode,\n\u001b[0;32m   (...)\u001b[0m\n\u001b[1;32m    868\u001b[0m             newline\u001b[38;5;241m=\u001b[39m\u001b[38;5;124m\"\u001b[39m\u001b[38;5;124m\"\u001b[39m,\n\u001b[1;32m    869\u001b[0m         )\n\u001b[1;32m    870\u001b[0m     \u001b[38;5;28;01melse\u001b[39;00m:\n\u001b[1;32m    871\u001b[0m         \u001b[38;5;66;03m# Binary mode\u001b[39;00m\n\u001b[0;32m--> 872\u001b[0m         handle \u001b[38;5;241m=\u001b[39m \u001b[38;5;28;43mopen\u001b[39;49m\u001b[43m(\u001b[49m\u001b[43mhandle\u001b[49m\u001b[43m,\u001b[49m\u001b[43m \u001b[49m\u001b[43mioargs\u001b[49m\u001b[38;5;241;43m.\u001b[39;49m\u001b[43mmode\u001b[49m\u001b[43m)\u001b[49m\n\u001b[1;32m    873\u001b[0m     handles\u001b[38;5;241m.\u001b[39mappend(handle)\n\u001b[1;32m    875\u001b[0m \u001b[38;5;66;03m# Convert BytesIO or file objects passed with an encoding\u001b[39;00m\n",
      "\u001b[0;31mFileNotFoundError\u001b[0m: [Errno 2] No such file or directory: '../../data/hanson2017_supplementary.xlsx'"
     ]
    }
   ],
   "source": [
    "# Hanson et al. 2017 on associations\n",
    "hanson_assoc = pd.read_excel(\"../../data/hanson2017_supplementary.xlsx\")\n",
    "hanson_assoc.head(10)"
   ]
  },
  {
   "cell_type": "code",
   "execution_count": null,
   "metadata": {
    "pycharm": {
     "name": "#%%\n"
    }
   },
   "outputs": [],
   "source": [
    "hanson_assoc.drop([\"Province\"], axis=1, inplace=True)\n",
    "\n",
    "hanson_assoc[\"Primary key\"] = hanson_assoc[\"Primary key\"].apply(str)\n",
    "\n",
    "roman_cities_wo[\"Primary key\"] = roman_cities_wo[\"Primary Key\"].apply(lambda x: x.rpartition(\"_\")[2])"
   ]
  },
  {
   "cell_type": "code",
   "execution_count": null,
   "metadata": {
    "pycharm": {
     "name": "#%%\n"
    }
   },
   "outputs": [],
   "source": [
    "roman_cities_wo"
   ]
  },
  {
   "cell_type": "code",
   "execution_count": null,
   "metadata": {
    "pycharm": {
     "name": "#%%\n"
    }
   },
   "outputs": [],
   "source": [
    "roman_cities_wo = roman_cities_wo.merge(hanson_assoc, on=\"Primary key\", how=\"left\")\n",
    "roman_cities_wo"
   ]
  },
  {
   "cell_type": "markdown",
   "metadata": {
    "pycharm": {
     "name": "#%% md\n"
    }
   },
   "source": []
  },
  {
   "cell_type": "markdown",
   "metadata": {
    "pycharm": {
     "name": "#%% md\n"
    }
   },
   "source": [
    "# Export whole dataset"
   ]
  },
  {
   "cell_type": "code",
   "execution_count": 112,
   "metadata": {
    "pycharm": {
     "name": "#%%\n"
    }
   },
   "outputs": [],
   "source": [
    "roman_cities_wo.to_parquet(\"../../data/roman_cities_wo.parquet\")\n",
    "roman_cities_wo.to_csv(\"../../data/roman_cities_wo.csv\")\n",
    "#set_with_dataframe(socdiv_results.add_worksheet(\"roman_cities_wo_full_feb2\", 1,1), roman_cities_wo)"
   ]
  },
  {
   "cell_type": "markdown",
   "metadata": {
    "pycharm": {
     "name": "#%% md\n"
    }
   },
   "source": [
    "# Correlation matrix"
   ]
  },
  {
   "cell_type": "code",
   "execution_count": 113,
   "metadata": {
    "pycharm": {
     "name": "#%%\n"
    }
   },
   "outputs": [],
   "source": [
    "selected_cols = [\"ID\", \"Ancient Toponym\", \"pop_est\", \"Structure\", \"inscr_N\", \"occups_N\", \"occups_list\", \"occups_unique_N\", \"occups_cats_unique_N\", \"largest_cat\", \"ZIw\", \"ZI_cat\", \"RZIw\", \"RZI_cat\", \"DI\", \"DIw\", \"DI/ZIw\"]\n",
    "#set_with_dataframe(socdiv_results.add_worksheet(\"roman_cities_wo_sel_20211227\", 1,1), roman_cities_wo[selected_cols])"
   ]
  },
  {
   "cell_type": "code",
   "execution_count": 114,
   "metadata": {
    "pycharm": {
     "name": "#%%\n"
    }
   },
   "outputs": [
    {
     "ename": "KeyError",
     "evalue": "\"['pop_est_log', 'inscr_N_log', 'occups_N_log', 'ZIw', 'RZIw', 'DIw', 'DI/ZIw'] not in index\"",
     "output_type": "error",
     "traceback": [
      "\u001b[0;31m---------------------------------------------------------------------------\u001b[0m",
      "\u001b[0;31mKeyError\u001b[0m                                  Traceback (most recent call last)",
      "Cell \u001b[0;32mIn[114], line 1\u001b[0m\n\u001b[0;32m----> 1\u001b[0m roman_cities_wo_quant \u001b[38;5;241m=\u001b[39m \u001b[43mroman_cities_wo\u001b[49m\u001b[43m[\u001b[49m\n\u001b[1;32m      2\u001b[0m \u001b[43m    \u001b[49m\u001b[43m(\u001b[49m\u001b[43mroman_cities_wo\u001b[49m\u001b[43m[\u001b[49m\u001b[38;5;124;43m\"\u001b[39;49m\u001b[38;5;124;43mAncient Toponym\u001b[39;49m\u001b[38;5;124;43m\"\u001b[39;49m\u001b[43m]\u001b[49m\u001b[38;5;241;43m!=\u001b[39;49m\u001b[38;5;124;43m\"\u001b[39;49m\u001b[38;5;124;43mRoma\u001b[39;49m\u001b[38;5;124;43m\"\u001b[39;49m\u001b[43m)\u001b[49m\n\u001b[1;32m      3\u001b[0m \u001b[43m    \u001b[49m\u001b[38;5;241;43m&\u001b[39;49m\u001b[43m \u001b[49m\u001b[43m(\u001b[49m\u001b[43mroman_cities_wo\u001b[49m\u001b[43m[\u001b[49m\u001b[38;5;124;43m\"\u001b[39;49m\u001b[38;5;124;43moccups_N\u001b[39;49m\u001b[38;5;124;43m\"\u001b[39;49m\u001b[43m]\u001b[49m\u001b[38;5;241;43m>\u001b[39;49m\u001b[38;5;241;43m=\u001b[39;49m\u001b[38;5;241;43m2\u001b[39;49m\u001b[43m)\u001b[49m\u001b[43m]\u001b[49m\u001b[43m[\u001b[49m\u001b[43m[\u001b[49m\n\u001b[1;32m      4\u001b[0m \u001b[43m   \u001b[49m\u001b[38;5;124;43m'\u001b[39;49m\u001b[38;5;124;43mArea\u001b[39;49m\u001b[38;5;124;43m'\u001b[39;49m\u001b[43m,\u001b[49m\u001b[43m \u001b[49m\u001b[38;5;124;43m'\u001b[39;49m\u001b[38;5;124;43mnum_of_structures\u001b[39;49m\u001b[38;5;124;43m'\u001b[39;49m\u001b[43m,\u001b[49m\u001b[38;5;124;43m'\u001b[39;49m\u001b[38;5;124;43mpop_est\u001b[39;49m\u001b[38;5;124;43m'\u001b[39;49m\u001b[43m,\u001b[49m\u001b[43m \u001b[49m\u001b[38;5;124;43m'\u001b[39;49m\u001b[38;5;124;43mpop_est_log\u001b[39;49m\u001b[38;5;124;43m'\u001b[39;49m\u001b[43m,\u001b[49m\u001b[43m \u001b[49m\u001b[38;5;124;43m'\u001b[39;49m\u001b[38;5;124;43minscr_N\u001b[39;49m\u001b[38;5;124;43m'\u001b[39;49m\u001b[43m,\u001b[49m\u001b[43m  \u001b[49m\u001b[38;5;124;43m'\u001b[39;49m\u001b[38;5;124;43minscr_N_log\u001b[39;49m\u001b[38;5;124;43m'\u001b[39;49m\u001b[43m,\u001b[49m\u001b[43m \u001b[49m\u001b[38;5;124;43m'\u001b[39;49m\u001b[38;5;124;43moccups_N\u001b[39;49m\u001b[38;5;124;43m'\u001b[39;49m\u001b[43m,\u001b[49m\u001b[43m \u001b[49m\u001b[38;5;124;43m'\u001b[39;49m\u001b[38;5;124;43moccups_N_log\u001b[39;49m\u001b[38;5;124;43m'\u001b[39;49m\u001b[43m,\u001b[49m\u001b[43m \u001b[49m\u001b[38;5;124;43m'\u001b[39;49m\u001b[38;5;124;43mZIw\u001b[39;49m\u001b[38;5;124;43m'\u001b[39;49m\u001b[43m,\u001b[49m\u001b[43m \u001b[49m\u001b[38;5;124;43m\"\u001b[39;49m\u001b[38;5;124;43mRZIw\u001b[39;49m\u001b[38;5;124;43m\"\u001b[39;49m\u001b[43m,\u001b[49m\u001b[38;5;124;43m'\u001b[39;49m\u001b[38;5;124;43mDI\u001b[39;49m\u001b[38;5;124;43m'\u001b[39;49m\u001b[43m,\u001b[49m\u001b[38;5;124;43m\"\u001b[39;49m\u001b[38;5;124;43mDIw\u001b[39;49m\u001b[38;5;124;43m\"\u001b[39;49m\u001b[43m,\u001b[49m\u001b[43m \u001b[49m\u001b[38;5;124;43m\"\u001b[39;49m\u001b[38;5;124;43mDI/ZIw\u001b[39;49m\u001b[38;5;124;43m\"\u001b[39;49m\u001b[43m,\u001b[49m\u001b[43m \u001b[49m\u001b[38;5;124;43m\"\u001b[39;49m\u001b[38;5;124;43mratio_post235\u001b[39;49m\u001b[38;5;124;43m\"\u001b[39;49m\u001b[43m]\u001b[49m\u001b[43m]\u001b[49m\n",
      "File \u001b[0;32m~/.local/lib/python3.10/site-packages/geopandas/geodataframe.py:1474\u001b[0m, in \u001b[0;36mGeoDataFrame.__getitem__\u001b[0;34m(self, key)\u001b[0m\n\u001b[1;32m   1468\u001b[0m \u001b[38;5;28;01mdef\u001b[39;00m \u001b[38;5;21m__getitem__\u001b[39m(\u001b[38;5;28mself\u001b[39m, key):\n\u001b[1;32m   1469\u001b[0m \u001b[38;5;250m    \u001b[39m\u001b[38;5;124;03m\"\"\"\u001b[39;00m\n\u001b[1;32m   1470\u001b[0m \u001b[38;5;124;03m    If the result is a column containing only 'geometry', return a\u001b[39;00m\n\u001b[1;32m   1471\u001b[0m \u001b[38;5;124;03m    GeoSeries. If it's a DataFrame with any columns of GeometryDtype,\u001b[39;00m\n\u001b[1;32m   1472\u001b[0m \u001b[38;5;124;03m    return a GeoDataFrame.\u001b[39;00m\n\u001b[1;32m   1473\u001b[0m \u001b[38;5;124;03m    \"\"\"\u001b[39;00m\n\u001b[0;32m-> 1474\u001b[0m     result \u001b[38;5;241m=\u001b[39m \u001b[38;5;28;43msuper\u001b[39;49m\u001b[43m(\u001b[49m\u001b[43m)\u001b[49m\u001b[38;5;241;43m.\u001b[39;49m\u001b[38;5;21;43m__getitem__\u001b[39;49m\u001b[43m(\u001b[49m\u001b[43mkey\u001b[49m\u001b[43m)\u001b[49m\n\u001b[1;32m   1475\u001b[0m     \u001b[38;5;66;03m# Custom logic to avoid waiting for pandas GH51895\u001b[39;00m\n\u001b[1;32m   1476\u001b[0m     \u001b[38;5;66;03m# result is not geometry dtype for multi-indexes\u001b[39;00m\n\u001b[1;32m   1477\u001b[0m     \u001b[38;5;28;01mif\u001b[39;00m (\n\u001b[1;32m   1478\u001b[0m         pd\u001b[38;5;241m.\u001b[39mapi\u001b[38;5;241m.\u001b[39mtypes\u001b[38;5;241m.\u001b[39mis_scalar(key)\n\u001b[1;32m   1479\u001b[0m         \u001b[38;5;129;01mand\u001b[39;00m key \u001b[38;5;241m==\u001b[39m \u001b[38;5;124m\"\u001b[39m\u001b[38;5;124m\"\u001b[39m\n\u001b[0;32m   (...)\u001b[0m\n\u001b[1;32m   1482\u001b[0m         \u001b[38;5;129;01mand\u001b[39;00m \u001b[38;5;129;01mnot\u001b[39;00m is_geometry_type(result)\n\u001b[1;32m   1483\u001b[0m     ):\n",
      "File \u001b[0;32m~/.local/lib/python3.10/site-packages/pandas/core/frame.py:3902\u001b[0m, in \u001b[0;36mDataFrame.__getitem__\u001b[0;34m(self, key)\u001b[0m\n\u001b[1;32m   3900\u001b[0m     \u001b[38;5;28;01mif\u001b[39;00m is_iterator(key):\n\u001b[1;32m   3901\u001b[0m         key \u001b[38;5;241m=\u001b[39m \u001b[38;5;28mlist\u001b[39m(key)\n\u001b[0;32m-> 3902\u001b[0m     indexer \u001b[38;5;241m=\u001b[39m \u001b[38;5;28;43mself\u001b[39;49m\u001b[38;5;241;43m.\u001b[39;49m\u001b[43mcolumns\u001b[49m\u001b[38;5;241;43m.\u001b[39;49m\u001b[43m_get_indexer_strict\u001b[49m\u001b[43m(\u001b[49m\u001b[43mkey\u001b[49m\u001b[43m,\u001b[49m\u001b[43m \u001b[49m\u001b[38;5;124;43m\"\u001b[39;49m\u001b[38;5;124;43mcolumns\u001b[39;49m\u001b[38;5;124;43m\"\u001b[39;49m\u001b[43m)\u001b[49m[\u001b[38;5;241m1\u001b[39m]\n\u001b[1;32m   3904\u001b[0m \u001b[38;5;66;03m# take() does not accept boolean indexers\u001b[39;00m\n\u001b[1;32m   3905\u001b[0m \u001b[38;5;28;01mif\u001b[39;00m \u001b[38;5;28mgetattr\u001b[39m(indexer, \u001b[38;5;124m\"\u001b[39m\u001b[38;5;124mdtype\u001b[39m\u001b[38;5;124m\"\u001b[39m, \u001b[38;5;28;01mNone\u001b[39;00m) \u001b[38;5;241m==\u001b[39m \u001b[38;5;28mbool\u001b[39m:\n",
      "File \u001b[0;32m~/.local/lib/python3.10/site-packages/pandas/core/indexes/base.py:6114\u001b[0m, in \u001b[0;36mIndex._get_indexer_strict\u001b[0;34m(self, key, axis_name)\u001b[0m\n\u001b[1;32m   6111\u001b[0m \u001b[38;5;28;01melse\u001b[39;00m:\n\u001b[1;32m   6112\u001b[0m     keyarr, indexer, new_indexer \u001b[38;5;241m=\u001b[39m \u001b[38;5;28mself\u001b[39m\u001b[38;5;241m.\u001b[39m_reindex_non_unique(keyarr)\n\u001b[0;32m-> 6114\u001b[0m \u001b[38;5;28;43mself\u001b[39;49m\u001b[38;5;241;43m.\u001b[39;49m\u001b[43m_raise_if_missing\u001b[49m\u001b[43m(\u001b[49m\u001b[43mkeyarr\u001b[49m\u001b[43m,\u001b[49m\u001b[43m \u001b[49m\u001b[43mindexer\u001b[49m\u001b[43m,\u001b[49m\u001b[43m \u001b[49m\u001b[43maxis_name\u001b[49m\u001b[43m)\u001b[49m\n\u001b[1;32m   6116\u001b[0m keyarr \u001b[38;5;241m=\u001b[39m \u001b[38;5;28mself\u001b[39m\u001b[38;5;241m.\u001b[39mtake(indexer)\n\u001b[1;32m   6117\u001b[0m \u001b[38;5;28;01mif\u001b[39;00m \u001b[38;5;28misinstance\u001b[39m(key, Index):\n\u001b[1;32m   6118\u001b[0m     \u001b[38;5;66;03m# GH 42790 - Preserve name from an Index\u001b[39;00m\n",
      "File \u001b[0;32m~/.local/lib/python3.10/site-packages/pandas/core/indexes/base.py:6178\u001b[0m, in \u001b[0;36mIndex._raise_if_missing\u001b[0;34m(self, key, indexer, axis_name)\u001b[0m\n\u001b[1;32m   6175\u001b[0m     \u001b[38;5;28;01mraise\u001b[39;00m \u001b[38;5;167;01mKeyError\u001b[39;00m(\u001b[38;5;124mf\u001b[39m\u001b[38;5;124m\"\u001b[39m\u001b[38;5;124mNone of [\u001b[39m\u001b[38;5;132;01m{\u001b[39;00mkey\u001b[38;5;132;01m}\u001b[39;00m\u001b[38;5;124m] are in the [\u001b[39m\u001b[38;5;132;01m{\u001b[39;00maxis_name\u001b[38;5;132;01m}\u001b[39;00m\u001b[38;5;124m]\u001b[39m\u001b[38;5;124m\"\u001b[39m)\n\u001b[1;32m   6177\u001b[0m not_found \u001b[38;5;241m=\u001b[39m \u001b[38;5;28mlist\u001b[39m(ensure_index(key)[missing_mask\u001b[38;5;241m.\u001b[39mnonzero()[\u001b[38;5;241m0\u001b[39m]]\u001b[38;5;241m.\u001b[39munique())\n\u001b[0;32m-> 6178\u001b[0m \u001b[38;5;28;01mraise\u001b[39;00m \u001b[38;5;167;01mKeyError\u001b[39;00m(\u001b[38;5;124mf\u001b[39m\u001b[38;5;124m\"\u001b[39m\u001b[38;5;132;01m{\u001b[39;00mnot_found\u001b[38;5;132;01m}\u001b[39;00m\u001b[38;5;124m not in index\u001b[39m\u001b[38;5;124m\"\u001b[39m)\n",
      "\u001b[0;31mKeyError\u001b[0m: \"['pop_est_log', 'inscr_N_log', 'occups_N_log', 'ZIw', 'RZIw', 'DIw', 'DI/ZIw'] not in index\""
     ]
    }
   ],
   "source": [
    "roman_cities_wo_quant = roman_cities_wo[\n",
    "    (roman_cities_wo[\"Ancient Toponym\"]!=\"Roma\")\n",
    "    & (roman_cities_wo[\"occups_N\"]>=2)][[\n",
    "   'Area', 'num_of_structures','pop_est', 'pop_est_log', 'inscr_N',  'inscr_N_log', 'occups_N', 'occups_N_log', 'ZIw', \"RZIw\",'DI',\"DIw\", \"DI/ZIw\", \"ratio_post235\"]]"
   ]
  },
  {
   "cell_type": "code",
   "execution_count": null,
   "metadata": {
    "pycharm": {
     "name": "#%%\n"
    }
   },
   "outputs": [],
   "source": [
    "len(roman_cities_wo_quant)"
   ]
  },
  {
   "cell_type": "code",
   "execution_count": null,
   "metadata": {
    "pycharm": {
     "name": "#%%\n"
    }
   },
   "outputs": [],
   "source": [
    "corr_matrix = roman_cities_wo_quant.corr()\n",
    "corr_matrix = corr_matrix.round(2)\n",
    "corr_matrix"
   ]
  },
  {
   "cell_type": "code",
   "execution_count": null,
   "metadata": {
    "pycharm": {
     "name": "#%%\n"
    }
   },
   "outputs": [],
   "source": [
    "col_labels = [\"city area\", \"structures N\", \"pop.\", \"log(pop.)\", \"inscr. N\", \"log(inscr. N)\", \"occups. N\", \"log(occups. N)\", \"ZIw\", \"RZIw\", \"DI\", \"DIw\", \"DI/ZIw\", \"post 235 CE\"]\n",
    "fig,ax=plt.subplots(figsize=(5.2,3.2), tight_layout=True)\n",
    "sns.heatmap(corr_matrix, xticklabels=col_labels, yticklabels=col_labels, ax=ax,  cmap=\"RdYlGn\", vmin=-1, vmax=1, annot=True)"
   ]
  },
  {
   "cell_type": "code",
   "execution_count": null,
   "metadata": {
    "pycharm": {
     "name": "#%%\n"
    }
   },
   "outputs": [],
   "source": [
    "save_figure(fig, \"DI_ZI_corr_matrix\")"
   ]
  },
  {
   "cell_type": "code",
   "execution_count": null,
   "metadata": {
    "pycharm": {
     "name": "#%%\n"
    }
   },
   "outputs": [],
   "source": [
    "def get_pvalue_matrix(df):\n",
    "    df = df.dropna()._get_numeric_data()\n",
    "    listlist_pvalues = []\n",
    "    for r in df.columns:\n",
    "        row_pvalues = []\n",
    "        for c in df.columns:\n",
    "            try:\n",
    "                row_pvalues.append(round(pearsonr(df[r], df[c])[1], 5))\n",
    "            except:\n",
    "                row_pvalues.append(None)\n",
    "        listlist_pvalues.append(row_pvalues)\n",
    "    return pd.DataFrame(listlist_pvalues, columns=df.columns, index=df.columns)"
   ]
  },
  {
   "cell_type": "code",
   "execution_count": null,
   "metadata": {
    "pycharm": {
     "name": "#%%\n"
    }
   },
   "outputs": [],
   "source": [
    "pvalue_matrix = get_pvalue_matrix(roman_cities_wo_quant)\n",
    "pvalue_matrix"
   ]
  },
  {
   "cell_type": "code",
   "execution_count": null,
   "metadata": {
    "pycharm": {
     "name": "#%%\n"
    }
   },
   "outputs": [],
   "source": [
    "fig,ax=plt.subplots(tight_layout=True)\n",
    "sns.heatmap(pvalue_matrix, xticklabels=col_labels, yticklabels=col_labels, ax=ax, cmap=\"Reds\", annot=True)"
   ]
  },
  {
   "cell_type": "markdown",
   "metadata": {
    "pycharm": {
     "name": "#%% md\n"
    }
   },
   "source": [
    "selected_cols = [\"ID\", \"Ancient Toponym\", \"pop_est\", \"Structure\", \"inscr_N\", \"occups_N\", \"occups_list\", \"occups_unique_N\", \"occups_cats_unique_N\", \"largest_cat\", \"ZIw\", \"ZI_cat\", \"RZIw\", \"RZI_cat\", \"DI\", \"DIw\", \"DI/ZIw\"]\n",
    "#set_with_dataframe(socdiv_results.add_worksheet(\"roman_cities_wo_sel_20211227\", 1,1), roman_cities_wo[selected_cols])"
   ]
  },
  {
   "cell_type": "markdown",
   "metadata": {
    "pycharm": {
     "name": "#%% md\n"
    }
   },
   "source": [
    "# Comparison with Hanson et al. 2017 results"
   ]
  },
  {
   "cell_type": "code",
   "execution_count": 115,
   "metadata": {
    "pycharm": {
     "name": "#%%\n"
    }
   },
   "outputs": [
    {
     "ename": "KeyError",
     "evalue": "'D(N)'",
     "output_type": "error",
     "traceback": [
      "\u001b[0;31m---------------------------------------------------------------------------\u001b[0m",
      "\u001b[0;31mKeyError\u001b[0m                                  Traceback (most recent call last)",
      "File \u001b[0;32m~/.local/lib/python3.10/site-packages/pandas/core/indexes/base.py:3790\u001b[0m, in \u001b[0;36mIndex.get_loc\u001b[0;34m(self, key)\u001b[0m\n\u001b[1;32m   3789\u001b[0m \u001b[38;5;28;01mtry\u001b[39;00m:\n\u001b[0;32m-> 3790\u001b[0m     \u001b[38;5;28;01mreturn\u001b[39;00m \u001b[38;5;28;43mself\u001b[39;49m\u001b[38;5;241;43m.\u001b[39;49m\u001b[43m_engine\u001b[49m\u001b[38;5;241;43m.\u001b[39;49m\u001b[43mget_loc\u001b[49m\u001b[43m(\u001b[49m\u001b[43mcasted_key\u001b[49m\u001b[43m)\u001b[49m\n\u001b[1;32m   3791\u001b[0m \u001b[38;5;28;01mexcept\u001b[39;00m \u001b[38;5;167;01mKeyError\u001b[39;00m \u001b[38;5;28;01mas\u001b[39;00m err:\n",
      "File \u001b[0;32mindex.pyx:152\u001b[0m, in \u001b[0;36mpandas._libs.index.IndexEngine.get_loc\u001b[0;34m()\u001b[0m\n",
      "File \u001b[0;32mindex.pyx:181\u001b[0m, in \u001b[0;36mpandas._libs.index.IndexEngine.get_loc\u001b[0;34m()\u001b[0m\n",
      "File \u001b[0;32mpandas/_libs/hashtable_class_helper.pxi:7080\u001b[0m, in \u001b[0;36mpandas._libs.hashtable.PyObjectHashTable.get_item\u001b[0;34m()\u001b[0m\n",
      "File \u001b[0;32mpandas/_libs/hashtable_class_helper.pxi:7088\u001b[0m, in \u001b[0;36mpandas._libs.hashtable.PyObjectHashTable.get_item\u001b[0;34m()\u001b[0m\n",
      "\u001b[0;31mKeyError\u001b[0m: 'D(N)'",
      "\nThe above exception was the direct cause of the following exception:\n",
      "\u001b[0;31mKeyError\u001b[0m                                  Traceback (most recent call last)",
      "Cell \u001b[0;32mIn[115], line 1\u001b[0m\n\u001b[0;32m----> 1\u001b[0m roman_cities_wo[\u001b[43mroman_cities_wo\u001b[49m\u001b[43m[\u001b[49m\u001b[38;5;124;43m\"\u001b[39;49m\u001b[38;5;124;43mD(N)\u001b[39;49m\u001b[38;5;124;43m\"\u001b[39;49m\u001b[43m]\u001b[49m\u001b[38;5;241m.\u001b[39mnotnull()]\n",
      "File \u001b[0;32m~/.local/lib/python3.10/site-packages/geopandas/geodataframe.py:1474\u001b[0m, in \u001b[0;36mGeoDataFrame.__getitem__\u001b[0;34m(self, key)\u001b[0m\n\u001b[1;32m   1468\u001b[0m \u001b[38;5;28;01mdef\u001b[39;00m \u001b[38;5;21m__getitem__\u001b[39m(\u001b[38;5;28mself\u001b[39m, key):\n\u001b[1;32m   1469\u001b[0m \u001b[38;5;250m    \u001b[39m\u001b[38;5;124;03m\"\"\"\u001b[39;00m\n\u001b[1;32m   1470\u001b[0m \u001b[38;5;124;03m    If the result is a column containing only 'geometry', return a\u001b[39;00m\n\u001b[1;32m   1471\u001b[0m \u001b[38;5;124;03m    GeoSeries. If it's a DataFrame with any columns of GeometryDtype,\u001b[39;00m\n\u001b[1;32m   1472\u001b[0m \u001b[38;5;124;03m    return a GeoDataFrame.\u001b[39;00m\n\u001b[1;32m   1473\u001b[0m \u001b[38;5;124;03m    \"\"\"\u001b[39;00m\n\u001b[0;32m-> 1474\u001b[0m     result \u001b[38;5;241m=\u001b[39m \u001b[38;5;28;43msuper\u001b[39;49m\u001b[43m(\u001b[49m\u001b[43m)\u001b[49m\u001b[38;5;241;43m.\u001b[39;49m\u001b[38;5;21;43m__getitem__\u001b[39;49m\u001b[43m(\u001b[49m\u001b[43mkey\u001b[49m\u001b[43m)\u001b[49m\n\u001b[1;32m   1475\u001b[0m     \u001b[38;5;66;03m# Custom logic to avoid waiting for pandas GH51895\u001b[39;00m\n\u001b[1;32m   1476\u001b[0m     \u001b[38;5;66;03m# result is not geometry dtype for multi-indexes\u001b[39;00m\n\u001b[1;32m   1477\u001b[0m     \u001b[38;5;28;01mif\u001b[39;00m (\n\u001b[1;32m   1478\u001b[0m         pd\u001b[38;5;241m.\u001b[39mapi\u001b[38;5;241m.\u001b[39mtypes\u001b[38;5;241m.\u001b[39mis_scalar(key)\n\u001b[1;32m   1479\u001b[0m         \u001b[38;5;129;01mand\u001b[39;00m key \u001b[38;5;241m==\u001b[39m \u001b[38;5;124m\"\u001b[39m\u001b[38;5;124m\"\u001b[39m\n\u001b[0;32m   (...)\u001b[0m\n\u001b[1;32m   1482\u001b[0m         \u001b[38;5;129;01mand\u001b[39;00m \u001b[38;5;129;01mnot\u001b[39;00m is_geometry_type(result)\n\u001b[1;32m   1483\u001b[0m     ):\n",
      "File \u001b[0;32m~/.local/lib/python3.10/site-packages/pandas/core/frame.py:3896\u001b[0m, in \u001b[0;36mDataFrame.__getitem__\u001b[0;34m(self, key)\u001b[0m\n\u001b[1;32m   3894\u001b[0m \u001b[38;5;28;01mif\u001b[39;00m \u001b[38;5;28mself\u001b[39m\u001b[38;5;241m.\u001b[39mcolumns\u001b[38;5;241m.\u001b[39mnlevels \u001b[38;5;241m>\u001b[39m \u001b[38;5;241m1\u001b[39m:\n\u001b[1;32m   3895\u001b[0m     \u001b[38;5;28;01mreturn\u001b[39;00m \u001b[38;5;28mself\u001b[39m\u001b[38;5;241m.\u001b[39m_getitem_multilevel(key)\n\u001b[0;32m-> 3896\u001b[0m indexer \u001b[38;5;241m=\u001b[39m \u001b[38;5;28;43mself\u001b[39;49m\u001b[38;5;241;43m.\u001b[39;49m\u001b[43mcolumns\u001b[49m\u001b[38;5;241;43m.\u001b[39;49m\u001b[43mget_loc\u001b[49m\u001b[43m(\u001b[49m\u001b[43mkey\u001b[49m\u001b[43m)\u001b[49m\n\u001b[1;32m   3897\u001b[0m \u001b[38;5;28;01mif\u001b[39;00m is_integer(indexer):\n\u001b[1;32m   3898\u001b[0m     indexer \u001b[38;5;241m=\u001b[39m [indexer]\n",
      "File \u001b[0;32m~/.local/lib/python3.10/site-packages/pandas/core/indexes/base.py:3797\u001b[0m, in \u001b[0;36mIndex.get_loc\u001b[0;34m(self, key)\u001b[0m\n\u001b[1;32m   3792\u001b[0m     \u001b[38;5;28;01mif\u001b[39;00m \u001b[38;5;28misinstance\u001b[39m(casted_key, \u001b[38;5;28mslice\u001b[39m) \u001b[38;5;129;01mor\u001b[39;00m (\n\u001b[1;32m   3793\u001b[0m         \u001b[38;5;28misinstance\u001b[39m(casted_key, abc\u001b[38;5;241m.\u001b[39mIterable)\n\u001b[1;32m   3794\u001b[0m         \u001b[38;5;129;01mand\u001b[39;00m \u001b[38;5;28many\u001b[39m(\u001b[38;5;28misinstance\u001b[39m(x, \u001b[38;5;28mslice\u001b[39m) \u001b[38;5;28;01mfor\u001b[39;00m x \u001b[38;5;129;01min\u001b[39;00m casted_key)\n\u001b[1;32m   3795\u001b[0m     ):\n\u001b[1;32m   3796\u001b[0m         \u001b[38;5;28;01mraise\u001b[39;00m InvalidIndexError(key)\n\u001b[0;32m-> 3797\u001b[0m     \u001b[38;5;28;01mraise\u001b[39;00m \u001b[38;5;167;01mKeyError\u001b[39;00m(key) \u001b[38;5;28;01mfrom\u001b[39;00m \u001b[38;5;21;01merr\u001b[39;00m\n\u001b[1;32m   3798\u001b[0m \u001b[38;5;28;01mexcept\u001b[39;00m \u001b[38;5;167;01mTypeError\u001b[39;00m:\n\u001b[1;32m   3799\u001b[0m     \u001b[38;5;66;03m# If we have a listlike key, _check_indexing_error will raise\u001b[39;00m\n\u001b[1;32m   3800\u001b[0m     \u001b[38;5;66;03m#  InvalidIndexError. Otherwise we fall through and re-raise\u001b[39;00m\n\u001b[1;32m   3801\u001b[0m     \u001b[38;5;66;03m#  the TypeError.\u001b[39;00m\n\u001b[1;32m   3802\u001b[0m     \u001b[38;5;28mself\u001b[39m\u001b[38;5;241m.\u001b[39m_check_indexing_error(key)\n",
      "\u001b[0;31mKeyError\u001b[0m: 'D(N)'"
     ]
    }
   ],
   "source": [
    "roman_cities_wo[roman_cities_wo[\"D(N)\"].notnull()]"
   ]
  },
  {
   "cell_type": "code",
   "execution_count": null,
   "metadata": {
    "pycharm": {
     "name": "#%%\n"
    }
   },
   "outputs": [],
   "source": [
    "cities_merged_quant = roman_cities_wo[roman_cities_wo[\"Ancient Toponym\"]!=\"Roma\"][['inscr_N', 'pop_est', 'occups_N', \"DI\", \"DIw\", \"ZIw\", \"DI/ZIw\",\"Population\", \"associations\", \"inscriptions\", \"D(N)\"]]\n",
    "cities_merged_quant = cities_merged_quant[cities_merged_quant[\"D(N)\"].notnull()]"
   ]
  },
  {
   "cell_type": "code",
   "execution_count": null,
   "metadata": {
    "pycharm": {
     "name": "#%%\n"
    }
   },
   "outputs": [],
   "source": [
    "corr_matrix_hanson = cities_merged_quant.corr().round(2)\n",
    "corr_matrix_hanson"
   ]
  },
  {
   "cell_type": "code",
   "execution_count": null,
   "metadata": {
    "pycharm": {
     "name": "#%%\n"
    }
   },
   "outputs": [],
   "source": [
    "set_with_dataframe(socdiv_results.add_worksheet(\"corr_matrix_hanson_feb2\", 1,1), corr_matrix_hanson)"
   ]
  },
  {
   "cell_type": "code",
   "execution_count": null,
   "metadata": {
    "pycharm": {
     "name": "#%%\n"
    }
   },
   "outputs": [],
   "source": [
    "corr_matrix_hanson.to_csv(\"../data/corr_matrix_hanson.csv\")"
   ]
  },
  {
   "cell_type": "code",
   "execution_count": null,
   "metadata": {
    "pycharm": {
     "name": "#%%\n"
    }
   },
   "outputs": [],
   "source": [
    "pvalue_matrix = get_pvalue_matrix(cities_merged_quant)\n",
    "pvalue_matrix"
   ]
  },
  {
   "cell_type": "code",
   "execution_count": null,
   "metadata": {
    "pycharm": {
     "name": "#%%\n"
    }
   },
   "outputs": [],
   "source": []
  },
  {
   "cell_type": "markdown",
   "metadata": {
    "pycharm": {
     "name": "#%% md\n"
    }
   },
   "source": [
    "# Specialization and diversity across urban contexts"
   ]
  },
  {
   "cell_type": "code",
   "execution_count": 116,
   "metadata": {
    "pycharm": {
     "name": "#%%\n"
    }
   },
   "outputs": [
    {
     "data": {
      "text/plain": [
       "506"
      ]
     },
     "execution_count": 116,
     "metadata": {},
     "output_type": "execute_result"
    }
   ],
   "source": [
    "len(roman_cities_wo)"
   ]
  },
  {
   "cell_type": "code",
   "execution_count": 117,
   "metadata": {
    "pycharm": {
     "name": "#%%\n"
    }
   },
   "outputs": [
    {
     "ename": "KeyError",
     "evalue": "'ZIw'",
     "output_type": "error",
     "traceback": [
      "\u001b[0;31m---------------------------------------------------------------------------\u001b[0m",
      "\u001b[0;31mKeyError\u001b[0m                                  Traceback (most recent call last)",
      "File \u001b[0;32m~/.local/lib/python3.10/site-packages/pandas/core/indexes/base.py:3790\u001b[0m, in \u001b[0;36mIndex.get_loc\u001b[0;34m(self, key)\u001b[0m\n\u001b[1;32m   3789\u001b[0m \u001b[38;5;28;01mtry\u001b[39;00m:\n\u001b[0;32m-> 3790\u001b[0m     \u001b[38;5;28;01mreturn\u001b[39;00m \u001b[38;5;28;43mself\u001b[39;49m\u001b[38;5;241;43m.\u001b[39;49m\u001b[43m_engine\u001b[49m\u001b[38;5;241;43m.\u001b[39;49m\u001b[43mget_loc\u001b[49m\u001b[43m(\u001b[49m\u001b[43mcasted_key\u001b[49m\u001b[43m)\u001b[49m\n\u001b[1;32m   3791\u001b[0m \u001b[38;5;28;01mexcept\u001b[39;00m \u001b[38;5;167;01mKeyError\u001b[39;00m \u001b[38;5;28;01mas\u001b[39;00m err:\n",
      "File \u001b[0;32mindex.pyx:152\u001b[0m, in \u001b[0;36mpandas._libs.index.IndexEngine.get_loc\u001b[0;34m()\u001b[0m\n",
      "File \u001b[0;32mindex.pyx:181\u001b[0m, in \u001b[0;36mpandas._libs.index.IndexEngine.get_loc\u001b[0;34m()\u001b[0m\n",
      "File \u001b[0;32mpandas/_libs/hashtable_class_helper.pxi:7080\u001b[0m, in \u001b[0;36mpandas._libs.hashtable.PyObjectHashTable.get_item\u001b[0;34m()\u001b[0m\n",
      "File \u001b[0;32mpandas/_libs/hashtable_class_helper.pxi:7088\u001b[0m, in \u001b[0;36mpandas._libs.hashtable.PyObjectHashTable.get_item\u001b[0;34m()\u001b[0m\n",
      "\u001b[0;31mKeyError\u001b[0m: 'ZIw'",
      "\nThe above exception was the direct cause of the following exception:\n",
      "\u001b[0;31mKeyError\u001b[0m                                  Traceback (most recent call last)",
      "Cell \u001b[0;32mIn[117], line 7\u001b[0m\n\u001b[1;32m      3\u001b[0m cities_small \u001b[38;5;241m=\u001b[39m roman_cities_wo[roman_cities_wo[\u001b[38;5;124m\"\u001b[39m\u001b[38;5;124mpop_est\u001b[39m\u001b[38;5;124m\"\u001b[39m]\u001b[38;5;241m<\u001b[39m\u001b[38;5;241m5000\u001b[39m]\n\u001b[1;32m      5\u001b[0m fig, [ax1, ax2] \u001b[38;5;241m=\u001b[39m plt\u001b[38;5;241m.\u001b[39msubplots(\u001b[38;5;241m1\u001b[39m,\u001b[38;5;241m2\u001b[39m, figsize\u001b[38;5;241m=\u001b[39m[\u001b[38;5;241m5.2\u001b[39m, \u001b[38;5;241m2.6\u001b[39m], tight_layout\u001b[38;5;241m=\u001b[39m\u001b[38;5;28;01mTrue\u001b[39;00m)\n\u001b[0;32m----> 7\u001b[0m bplot1 \u001b[38;5;241m=\u001b[39m ax1\u001b[38;5;241m.\u001b[39mboxplot([\u001b[43mcities_large\u001b[49m\u001b[43m[\u001b[49m\u001b[38;5;124;43m\"\u001b[39;49m\u001b[38;5;124;43mZIw\u001b[39;49m\u001b[38;5;124;43m\"\u001b[39;49m\u001b[43m]\u001b[49m, cities_medium[\u001b[38;5;124m\"\u001b[39m\u001b[38;5;124mZIw\u001b[39m\u001b[38;5;124m\"\u001b[39m], cities_small[\u001b[38;5;124m\"\u001b[39m\u001b[38;5;124mZIw\u001b[39m\u001b[38;5;124m\"\u001b[39m]], whis\u001b[38;5;241m=\u001b[39m[\u001b[38;5;241m2.5\u001b[39m, \u001b[38;5;241m97.5\u001b[39m], labels\u001b[38;5;241m=\u001b[39m[\u001b[38;5;124m\"\u001b[39m\u001b[38;5;124mlarge\u001b[39m\u001b[38;5;124m\"\u001b[39m, \u001b[38;5;124m\"\u001b[39m\u001b[38;5;124mmedium\u001b[39m\u001b[38;5;124m\"\u001b[39m, \u001b[38;5;124m\"\u001b[39m\u001b[38;5;124msmall\u001b[39m\u001b[38;5;124m\"\u001b[39m],\n\u001b[1;32m      8\u001b[0m                      patch_artist\u001b[38;5;241m=\u001b[39m\u001b[38;5;28;01mTrue\u001b[39;00m)\n\u001b[1;32m      9\u001b[0m \u001b[38;5;66;03m#ax1.set_title(\"A\")\u001b[39;00m\n\u001b[1;32m     10\u001b[0m ax1\u001b[38;5;241m.\u001b[39mset_ylabel(\u001b[38;5;124m\"\u001b[39m\u001b[38;5;124mZIw\u001b[39m\u001b[38;5;124m\"\u001b[39m)\n",
      "File \u001b[0;32m~/.local/lib/python3.10/site-packages/geopandas/geodataframe.py:1474\u001b[0m, in \u001b[0;36mGeoDataFrame.__getitem__\u001b[0;34m(self, key)\u001b[0m\n\u001b[1;32m   1468\u001b[0m \u001b[38;5;28;01mdef\u001b[39;00m \u001b[38;5;21m__getitem__\u001b[39m(\u001b[38;5;28mself\u001b[39m, key):\n\u001b[1;32m   1469\u001b[0m \u001b[38;5;250m    \u001b[39m\u001b[38;5;124;03m\"\"\"\u001b[39;00m\n\u001b[1;32m   1470\u001b[0m \u001b[38;5;124;03m    If the result is a column containing only 'geometry', return a\u001b[39;00m\n\u001b[1;32m   1471\u001b[0m \u001b[38;5;124;03m    GeoSeries. If it's a DataFrame with any columns of GeometryDtype,\u001b[39;00m\n\u001b[1;32m   1472\u001b[0m \u001b[38;5;124;03m    return a GeoDataFrame.\u001b[39;00m\n\u001b[1;32m   1473\u001b[0m \u001b[38;5;124;03m    \"\"\"\u001b[39;00m\n\u001b[0;32m-> 1474\u001b[0m     result \u001b[38;5;241m=\u001b[39m \u001b[38;5;28;43msuper\u001b[39;49m\u001b[43m(\u001b[49m\u001b[43m)\u001b[49m\u001b[38;5;241;43m.\u001b[39;49m\u001b[38;5;21;43m__getitem__\u001b[39;49m\u001b[43m(\u001b[49m\u001b[43mkey\u001b[49m\u001b[43m)\u001b[49m\n\u001b[1;32m   1475\u001b[0m     \u001b[38;5;66;03m# Custom logic to avoid waiting for pandas GH51895\u001b[39;00m\n\u001b[1;32m   1476\u001b[0m     \u001b[38;5;66;03m# result is not geometry dtype for multi-indexes\u001b[39;00m\n\u001b[1;32m   1477\u001b[0m     \u001b[38;5;28;01mif\u001b[39;00m (\n\u001b[1;32m   1478\u001b[0m         pd\u001b[38;5;241m.\u001b[39mapi\u001b[38;5;241m.\u001b[39mtypes\u001b[38;5;241m.\u001b[39mis_scalar(key)\n\u001b[1;32m   1479\u001b[0m         \u001b[38;5;129;01mand\u001b[39;00m key \u001b[38;5;241m==\u001b[39m \u001b[38;5;124m\"\u001b[39m\u001b[38;5;124m\"\u001b[39m\n\u001b[0;32m   (...)\u001b[0m\n\u001b[1;32m   1482\u001b[0m         \u001b[38;5;129;01mand\u001b[39;00m \u001b[38;5;129;01mnot\u001b[39;00m is_geometry_type(result)\n\u001b[1;32m   1483\u001b[0m     ):\n",
      "File \u001b[0;32m~/.local/lib/python3.10/site-packages/pandas/core/frame.py:3896\u001b[0m, in \u001b[0;36mDataFrame.__getitem__\u001b[0;34m(self, key)\u001b[0m\n\u001b[1;32m   3894\u001b[0m \u001b[38;5;28;01mif\u001b[39;00m \u001b[38;5;28mself\u001b[39m\u001b[38;5;241m.\u001b[39mcolumns\u001b[38;5;241m.\u001b[39mnlevels \u001b[38;5;241m>\u001b[39m \u001b[38;5;241m1\u001b[39m:\n\u001b[1;32m   3895\u001b[0m     \u001b[38;5;28;01mreturn\u001b[39;00m \u001b[38;5;28mself\u001b[39m\u001b[38;5;241m.\u001b[39m_getitem_multilevel(key)\n\u001b[0;32m-> 3896\u001b[0m indexer \u001b[38;5;241m=\u001b[39m \u001b[38;5;28;43mself\u001b[39;49m\u001b[38;5;241;43m.\u001b[39;49m\u001b[43mcolumns\u001b[49m\u001b[38;5;241;43m.\u001b[39;49m\u001b[43mget_loc\u001b[49m\u001b[43m(\u001b[49m\u001b[43mkey\u001b[49m\u001b[43m)\u001b[49m\n\u001b[1;32m   3897\u001b[0m \u001b[38;5;28;01mif\u001b[39;00m is_integer(indexer):\n\u001b[1;32m   3898\u001b[0m     indexer \u001b[38;5;241m=\u001b[39m [indexer]\n",
      "File \u001b[0;32m~/.local/lib/python3.10/site-packages/pandas/core/indexes/base.py:3797\u001b[0m, in \u001b[0;36mIndex.get_loc\u001b[0;34m(self, key)\u001b[0m\n\u001b[1;32m   3792\u001b[0m     \u001b[38;5;28;01mif\u001b[39;00m \u001b[38;5;28misinstance\u001b[39m(casted_key, \u001b[38;5;28mslice\u001b[39m) \u001b[38;5;129;01mor\u001b[39;00m (\n\u001b[1;32m   3793\u001b[0m         \u001b[38;5;28misinstance\u001b[39m(casted_key, abc\u001b[38;5;241m.\u001b[39mIterable)\n\u001b[1;32m   3794\u001b[0m         \u001b[38;5;129;01mand\u001b[39;00m \u001b[38;5;28many\u001b[39m(\u001b[38;5;28misinstance\u001b[39m(x, \u001b[38;5;28mslice\u001b[39m) \u001b[38;5;28;01mfor\u001b[39;00m x \u001b[38;5;129;01min\u001b[39;00m casted_key)\n\u001b[1;32m   3795\u001b[0m     ):\n\u001b[1;32m   3796\u001b[0m         \u001b[38;5;28;01mraise\u001b[39;00m InvalidIndexError(key)\n\u001b[0;32m-> 3797\u001b[0m     \u001b[38;5;28;01mraise\u001b[39;00m \u001b[38;5;167;01mKeyError\u001b[39;00m(key) \u001b[38;5;28;01mfrom\u001b[39;00m \u001b[38;5;21;01merr\u001b[39;00m\n\u001b[1;32m   3798\u001b[0m \u001b[38;5;28;01mexcept\u001b[39;00m \u001b[38;5;167;01mTypeError\u001b[39;00m:\n\u001b[1;32m   3799\u001b[0m     \u001b[38;5;66;03m# If we have a listlike key, _check_indexing_error will raise\u001b[39;00m\n\u001b[1;32m   3800\u001b[0m     \u001b[38;5;66;03m#  InvalidIndexError. Otherwise we fall through and re-raise\u001b[39;00m\n\u001b[1;32m   3801\u001b[0m     \u001b[38;5;66;03m#  the TypeError.\u001b[39;00m\n\u001b[1;32m   3802\u001b[0m     \u001b[38;5;28mself\u001b[39m\u001b[38;5;241m.\u001b[39m_check_indexing_error(key)\n",
      "\u001b[0;31mKeyError\u001b[0m: 'ZIw'"
     ]
    },
    {
     "data": {
      "image/png": "[encoded data removed]",
      "text/plain": [
       "<Figure size 1560x780 with 2 Axes>"
      ]
     },
     "metadata": {},
     "output_type": "display_data"
    }
   ],
   "source": [
    "cities_large = roman_cities_wo[roman_cities_wo[\"pop_est\"]>=30000]\n",
    "cities_medium = roman_cities_wo[(roman_cities_wo[\"pop_est\"] >= 5000) & (roman_cities_wo[\"pop_est\"] < 30000)]\n",
    "cities_small = roman_cities_wo[roman_cities_wo[\"pop_est\"]<5000]\n",
    "\n",
    "fig, [ax1, ax2] = plt.subplots(1,2, figsize=[5.2, 2.6], tight_layout=True)\n",
    "\n",
    "bplot1 = ax1.boxplot([cities_large[\"ZIw\"], cities_medium[\"ZIw\"], cities_small[\"ZIw\"]], whis=[2.5, 97.5], labels=[\"large\", \"medium\", \"small\"],\n",
    "                     patch_artist=True)\n",
    "#ax1.set_title(\"A\")\n",
    "ax1.set_ylabel(\"ZIw\")\n",
    "ax1.tick_params(labelrotation=90)\n",
    "ax1.set_ylim(0, 2.5)\n",
    "#ax1.set_ylim(0, 5)\n",
    "\n",
    "bplot2 = ax2.boxplot([cities_large[\"DI\"], cities_medium[\"DI\"], cities_small[\"DI\"]], whis=[2.5, 97.5], labels=[\"large\", \"medium\", \"small\"],\n",
    "                     patch_artist=True)\n",
    "#ax1.set_title(\"A\")\n",
    "ax2.set_ylabel(\"DI\")\n",
    "ax2.tick_params(labelrotation=90)\n",
    "ax2.set_ylim(0, 10)\n",
    "\n",
    "# fill with colors\n",
    "colors = [\"darkred\", \"darkgreen\", \"darkblue\"]\n",
    "#for bplot in bplot1:\n",
    "for bplot in [bplot1, bplot2]:\n",
    "    for patch, color in zip(bplot['boxes'], colors):\n",
    "        patch.set_facecolor(color)"
   ]
  },
  {
   "cell_type": "code",
   "execution_count": null,
   "metadata": {
    "pycharm": {
     "name": "#%%\n"
    }
   },
   "outputs": [],
   "source": [
    "cities_large = roman_cities_wo[(roman_cities_wo[\"pop_est\"]>=30000) & (roman_cities_wo[\"Ancient Toponym\"]!=\"Roma\")]\n",
    "cities_large"
   ]
  },
  {
   "cell_type": "code",
   "execution_count": null,
   "metadata": {
    "pycharm": {
     "name": "#%%\n"
    }
   },
   "outputs": [],
   "source": [
    "fig, [ax1, ax2] = plt.subplots(1,2, figsize=[5.2, 2.6], tight_layout=True)\n",
    "\n",
    "bplot1 = ax1.boxplot([cities_large[\"ZIw\"], cities_medium[\"ZIw\"], cities_small[\"ZIw\"]], whis=[2.5, 97.5], labels=[\"large\", \"medium\", \"small\"],\n",
    "                     patch_artist=True)\n",
    "#ax1.set_title(\"A\")\n",
    "ax1.set_ylabel(\"ZIw\")\n",
    "ax1.tick_params(labelrotation=90)\n",
    "ax1.set_ylim(0, 2.5)\n",
    "\n",
    "bplot2 = ax2.boxplot([cities_large[\"DI\"], cities_medium[\"DI\"], cities_small[\"DI\"]], whis=[2.5, 97.5], labels=[\"large\", \"medium\", \"small\"],\n",
    "                     patch_artist=True)\n",
    "#ax1.set_title(\"A\")\n",
    "ax2.set_ylabel(\"DI\")\n",
    "ax2.tick_params(labelrotation=90)\n",
    "ax2.set_ylim(0, 10)\n",
    "\n",
    "# fill with colors\n",
    "colors = [\"darkred\", \"darkgreen\", \"darkblue\"]\n",
    "#for bplot in bplot1:\n",
    "for bplot in [bplot1, bplot2]:\n",
    "    for patch, color in zip(bplot['boxes'], colors):\n",
    "        patch.set_facecolor(color)"
   ]
  },
  {
   "cell_type": "code",
   "execution_count": null,
   "metadata": {
    "pycharm": {
     "name": "#%%\n"
    }
   },
   "outputs": [],
   "source": []
  }
 ],
 "metadata": {
  "kernelspec": {
   "display_name": "Python 3 (ipykernel)",
   "language": "python",
   "name": "python3"
  },
  "language_info": {
   "codemirror_mode": {
    "name": "ipython",
    "version": 3
   },
   "file_extension": ".py",
   "mimetype": "text/x-python",
   "name": "python",
   "nbconvert_exporter": "python",
   "pygments_lexer": "ipython3",
   "version": "3.10.12"
  }
 },
 "nbformat": 4,
 "nbformat_minor": 4
}

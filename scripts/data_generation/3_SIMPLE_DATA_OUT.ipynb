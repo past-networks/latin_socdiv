{
 "cells": [
  {
   "cell_type": "markdown",
   "metadata": {},
   "source": [
    "### X. Extraction of the dataset\n",
    "\n",
    "*AIM:* Exptraction of the data in multiple formats for external use.\n"
   ]
  },
  {
   "cell_type": "markdown",
   "metadata": {},
   "source": [
    "## Data:\n",
    "\n",
    "**IN**:\n",
    "\n",
    "1) Inscriptions with occupational data, urban contexts, industry types `LIST_occups.parquet`\n",
    "\n",
    "**OUT**: \n",
    "\n",
    "1) Simplified (only to necessary attributes) inscriptions with occupational data, urban contexts, industry types\n",
    "   * `LIST_occups_simple.parquet` with geometries\n",
    "   * `LIST_occups_simple.json` without geometries\n"
   ]
  },
  {
   "cell_type": "markdown",
   "metadata": {},
   "source": [
    "# Requirements"
   ]
  },
  {
   "cell_type": "code",
   "execution_count": null,
   "metadata": {},
   "outputs": [],
   "source": [
    "import pandas as pd\n",
    "pd.set_option('display.max_columns', 200)\n",
    "import numpy as np\n",
    "import fiona\n",
    "\n",
    "import geopandas as gpd\n",
    "\n",
    "import matplotlib as mpl\n",
    "import matplotlib.pyplot as plt\n",
    "import matplotlib.colors as mcolors\n",
    "import json\n",
    "\n",
    "from nltk import ngrams\n",
    "\n",
    "import seaborn as sns\n",
    "import geoplot as gplt\n",
    "\n",
    "import warnings\n",
    "warnings.filterwarnings('ignore')\n",
    "\n",
    "import sddk\n",
    "import tempun"
   ]
  },
  {
   "cell_type": "markdown",
   "metadata": {},
   "source": [
    "# Import the dataset"
   ]
  },
  {
   "cell_type": "code",
   "execution_count": null,
   "metadata": {},
   "outputs": [],
   "source": [
    "# get working directory\n",
    "os.getcwd()"
   ]
  },
  {
   "cell_type": "code",
   "execution_count": null,
   "metadata": {},
   "outputs": [],
   "source": [
    "LIST = gpd.read_parquet(\"../../data/large_data/LIST_occups.parquet\")\n",
    "LIST.head(3)"
   ]
  },
  {
   "cell_type": "markdown",
   "metadata": {},
   "source": [
    "# Simplify the dataset"
   ]
  },
  {
   "cell_type": "code",
   "execution_count": null,
   "metadata": {},
   "outputs": [],
   "source": [
    "# making sure the data exists and loaded properly, printing out all the attribute names\n",
    "print(LIST.columns.tolist())"
   ]
  },
  {
   "cell_type": "code",
   "execution_count": null,
   "metadata": {},
   "outputs": [],
   "source": [
    "LISTsimple = LIST[['LIST-ID', \n",
    "                       'Longitude', 'Latitude', \n",
    "                       'occups', 'occups_N','occups_cats',\n",
    "                       'clean_text_interpretive_word', 'type_of_inscription_auto']]"
   ]
  },
  {
   "cell_type": "code",
   "execution_count": null,
   "metadata": {},
   "outputs": [],
   "source": [
    "LISTsimple"
   ]
  },
  {
   "cell_type": "markdown",
   "metadata": {},
   "source": [
    "# Save the dataset in multiple formats"
   ]
  },
  {
   "cell_type": "markdown",
   "metadata": {},
   "source": [
    "## JSON "
   ]
  },
  {
   "cell_type": "code",
   "execution_count": null,
   "metadata": {},
   "outputs": [],
   "source": [
    "# write to json locally \n",
    "\n",
    "pd.DataFrame(LISTsimple).to_json('../../data/large_data/LIST_occups_simple.json')"
   ]
  },
  {
   "cell_type": "markdown",
   "metadata": {},
   "source": [
    "## GEOJSON - does not work currently"
   ]
  },
  {
   "cell_type": "code",
   "execution_count": null,
   "metadata": {},
   "outputs": [],
   "source": [
    "# to geojson locally - does not currently work\n",
    "\n",
    "#LISTsimple.to_file(\"../../data/large_data/LIST_occups_simple.geojson\", driver='GeoJSON')\n"
   ]
  },
  {
   "cell_type": "markdown",
   "metadata": {},
   "source": [
    "## Parquet "
   ]
  },
  {
   "cell_type": "code",
   "execution_count": null,
   "metadata": {},
   "outputs": [],
   "source": [
    "# locally to parquet\n",
    "\n",
    "LISTsimple.to_parquet(\"../../../data/large_data/LIST_occups_simple.parquet\")"
   ]
  },
  {
   "cell_type": "markdown",
   "metadata": {},
   "source": [
    "# Loading the data back to make sure it works"
   ]
  },
  {
   "cell_type": "code",
   "execution_count": null,
   "metadata": {},
   "outputs": [],
   "source": [
    "# from local version\n",
    "LISTjson = pd.read_json(\"../../data/large_data/LIST_occups_simple.json\")\n",
    "LISTjson.head(3)"
   ]
  },
  {
   "cell_type": "code",
   "execution_count": null,
   "metadata": {},
   "outputs": [],
   "source": [
    "#LISTgeojson = gpd.read_file(\"../../data/large_data/LIST_occupsorgs_industry_simple_20231206.geojson\", driver=\"GeoJSON\")\n",
    "#LISTgeojson.head(3)"
   ]
  },
  {
   "cell_type": "code",
   "execution_count": null,
   "metadata": {},
   "outputs": [],
   "source": [
    "LISTparquet = gpd.read_parquet(\"../../data/large_data/LIST_occups_simple.parquet\")\n",
    "LISTparquet.head(3)"
   ]
  }
 ],
 "metadata": {
  "colab": {
   "authorship_tag": "ABX9TyOKWnvxv3tTbNERCRAysPtc",
   "include_colab_link": true,
   "name": "WORKING_WITH_CLEANED_TEXTS.ipynb",
   "provenance": []
  },
  "kernelspec": {
   "display_name": "latinsocdiv_venv",
   "language": "python",
   "name": "latinsocdiv_venv"
  },
  "language_info": {
   "codemirror_mode": {
    "name": "ipython",
    "version": 3
   },
   "file_extension": ".py",
   "mimetype": "text/x-python",
   "name": "python",
   "nbconvert_exporter": "python",
   "pygments_lexer": "ipython3",
   "version": "3.10.12"
  }
 },
 "nbformat": 4,
 "nbformat_minor": 4
}
